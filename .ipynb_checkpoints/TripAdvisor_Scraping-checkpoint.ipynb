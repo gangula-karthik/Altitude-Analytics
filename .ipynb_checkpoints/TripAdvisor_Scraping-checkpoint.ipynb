{
 "cells": [
  {
   "cell_type": "markdown",
   "id": "966039bc-f952-4bb2-81e4-8d3c52216a78",
   "metadata": {
    "jp-MarkdownHeadingCollapsed": true,
    "tags": []
   },
   "source": [
    "## 1. Installing and Loading Packages"
   ]
  },
  {
   "cell_type": "code",
   "execution_count": 142,
   "id": "bd6de36d-c9d3-4815-96cb-2cde9c0de86e",
   "metadata": {
    "tags": []
   },
   "outputs": [],
   "source": [
    "# %pip install selenium\n",
    "# %pip install webdriver-manager\n",
    "# %pip install selenium-stealth\n",
    "# %pip install undetected-chromedriver\n",
    "# %pip install fake-useragent\n",
    "# %pip install free-proxy"
   ]
  },
  {
   "cell_type": "code",
   "execution_count": 163,
   "id": "d99200a0-8522-49e8-84ac-3ae17267ba77",
   "metadata": {
    "tags": []
   },
   "outputs": [],
   "source": [
    "import pickle\n",
    "from selenium import webdriver\n",
    "from selenium.webdriver.common.keys import Keys\n",
    "import pandas as pd\n",
    "import numpy as np\n",
    "import time\n",
    "from pprint import pprint\n",
    "import io\n",
    "from selenium import webdriver\n",
    "from webdriver_manager.chrome import ChromeDriverManager\n",
    "from selenium.webdriver.chrome.service import Service as ChromeService\n",
    "from selenium.webdriver.common.by import By\n",
    "from selenium.webdriver.support.ui import WebDriverWait\n",
    "from selenium.webdriver.support import expected_conditions as EC\n",
    "import time\n",
    "from selenium import webdriver\n",
    "from webdriver_manager.chrome import ChromeDriverManager\n",
    "from selenium.webdriver.chrome.service import Service as ChromeService\n",
    "from selenium.webdriver.common.by import By\n",
    "from selenium.webdriver.support.ui import WebDriverWait\n",
    "from selenium.webdriver.support import expected_conditions as EC\n",
    "from selenium.common.exceptions import NoSuchElementException, TimeoutException\n",
    "import random\n",
    "from selenium_stealth import stealth\n",
    "import undetected_chromedriver as uc\n",
    "from fake_useragent import UserAgent\n",
    "import pandas as pd\n",
    "import csv\n",
    "import os"
   ]
  },
  {
   "cell_type": "markdown",
   "id": "e87c9a42-072c-460c-93a9-e01c00e18455",
   "metadata": {
    "jp-MarkdownHeadingCollapsed": true,
    "tags": []
   },
   "source": [
    "## 2. Web Scraping Tripadvisor Reviews"
   ]
  },
  {
   "cell_type": "markdown",
   "id": "4061c880-7b09-480b-a503-e4bc14bc7301",
   "metadata": {
    "jp-MarkdownHeadingCollapsed": true,
    "tags": []
   },
   "source": [
    "### Setting up selenium + chrome drivers\n",
    "- prevent bot detection by: \n",
    "    1. cycling through list of user agents"
   ]
  },
  {
   "cell_type": "code",
   "execution_count": 105,
   "id": "ba634834-5935-455d-8263-b494583b9ebd",
   "metadata": {
    "tags": []
   },
   "outputs": [
    {
     "name": "stdout",
     "output_type": "stream",
     "text": [
      "Number of free proxies retrieved: 116\n",
      "5 sample proxy data:\n",
      "[{'Anonymity': 'anonymous',\n",
      "  'Code': 'SG',\n",
      "  'Country': 'Singapore',\n",
      "  'Google': 'no',\n",
      "  'Https': 'yes',\n",
      "  'IP Address': '178.128.113.118',\n",
      "  'Last Checked': '4 secs ago',\n",
      "  'Port': '23128'},\n",
      " {'Anonymity': 'anonymous',\n",
      "  'Code': 'US',\n",
      "  'Country': 'United States',\n",
      "  'Google': 'no',\n",
      "  'Https': 'yes',\n",
      "  'IP Address': '5.161.64.210',\n",
      "  'Last Checked': '4 secs ago',\n",
      "  'Port': '3128'},\n",
      " {'Anonymity': 'elite proxy',\n",
      "  'Code': 'FR',\n",
      "  'Country': 'France',\n",
      "  'Google': 'no',\n",
      "  'Https': 'yes',\n",
      "  'IP Address': '51.159.0.236',\n",
      "  'Last Checked': '4 secs ago',\n",
      "  'Port': '2020'},\n",
      " {'Anonymity': 'elite proxy',\n",
      "  'Code': 'IN',\n",
      "  'Country': 'India',\n",
      "  'Google': 'no',\n",
      "  'Https': 'yes',\n",
      "  'IP Address': '115.96.208.124',\n",
      "  'Last Checked': '4 secs ago',\n",
      "  'Port': '8080'},\n",
      " {'Anonymity': 'anonymous',\n",
      "  'Code': 'SG',\n",
      "  'Country': 'Singapore',\n",
      "  'Google': 'no',\n",
      "  'Https': 'yes',\n",
      "  'IP Address': '8.219.97.248',\n",
      "  'Last Checked': '4 secs ago',\n",
      "  'Port': '80'}]\n"
     ]
    }
   ],
   "source": [
    "def get_free_proxies(driver):\n",
    "    driver.get('https://sslproxies.org')\n",
    "    headers = [header.text.strip() for header in driver.find_elements(By.XPATH, '//table/thead/tr/th')]\n",
    "    rows = driver.find_elements(By.XPATH, '//table/tbody/tr')\n",
    "    \n",
    "    proxies = []\n",
    "    for row in rows:\n",
    "        proxy_data = dict(zip(headers, [td.text.strip() for td in row.find_elements(By.TAG_NAME, 'td')]))\n",
    "        proxies.append(proxy_data)\n",
    "        \n",
    "    driver.quit()\n",
    "    return proxies\n",
    "\n",
    "service = Service(ChromeDriverManager().install())\n",
    "driver = webdriver.Chrome(service=service)\n",
    "\n",
    "free_proxies = get_free_proxies(driver)\n",
    "print(\"Number of free proxies retrieved:\", len(free_proxies))\n",
    "print(\"5 sample proxy data:\")\n",
    "pprint(free_proxies[:5])"
   ]
  },
  {
   "cell_type": "code",
   "execution_count": 18,
   "id": "771a5a1d-2a5e-4a7a-b90c-ee07c2877ae1",
   "metadata": {
    "tags": []
   },
   "outputs": [],
   "source": [
    "user_agents = ['Mozilla/5.0 (Windows NT 10.0; Win64; x64) AppleWebKit/537.36 (KHTML, like Gecko) Chrome/110.0.0.0 Safari/537.36',\n",
    "'Mozilla/5.0 (Macintosh; Intel Mac OS X 10_15_7) AppleWebKit/537.36 (KHTML, like Gecko) Chrome/110.0.0.0 Safari/537.36',\n",
    "'Mozilla/5.0 (Windows NT 10.0; Win64; x64) AppleWebKit/537.36 (KHTML, like Gecko) Chrome/109.0.0.0 Edge/18.0.0.0',\n",
    "'Mozilla/5.0 (Macintosh; Intel Mac OS X 10_15_7) AppleWebKit/537.36 (KHTML, like Gecko) Chrome/109.0.0.0 Edge/18.0.0.0',\n",
    "'Mozilla/5.0 (Windows NT 10.0; Win64; x64) AppleWebKit/537.36 (KHTML, like Gecko) Firefox/98.0.0.0',\n",
    "'Mozilla/5.0 (Macintosh; Intel Mac OS X 10_15_7) AppleWebKit/537.36 (KHTML, like Gecko) Firefox/98.0.0.0',\n",
    "'Mozilla/5.0 (Windows NT 10.0; Win64; x64) AppleWebKit/537.36 (KHTML, like Gecko) Safari/609.1.15',\n",
    "'Mozilla/5.0 (Macintosh; Intel Mac OS X 10_15_7) AppleWebKit/537.36 (KHTML, like Gecko) Safari/609.1.15',\n",
    "'Mozilla/5.0 (X11; Linux x86_64) AppleWebKit/537.36 (KHTML, like Gecko) Firefox/98.0.0.0',\n",
    "'Mozilla/5.0 (X11; Linux x86_64) AppleWebKit/537.36 (KHTML, like Gecko) Chrome/110.0.0.0 Safari/537.36',\n",
    "'Mozilla/5.0 (Windows NT 10.0; Win64; x64) AppleWebKit/537.36 (KHTML, like Gecko) Chrome/110.0.0.0 Edge/18.0.0.0',\n",
    "'Mozilla/5.0 (Macintosh; Intel Mac OS X 10_15_7) AppleWebKit/537.36 (KHTML, like Gecko) Chrome/110.0.0.0 Edge/18.0.0.0',\n",
    "'Mozilla/5.0 (X11; Linux x86_64) AppleWebKit/537.36 (KHTML, like Gecko) Safari/609.1.15',\n",
    "'Mozilla/5.0 (X11; Linux x86_64) AppleWebKit/537.36 (KHTML, like Gecko) Chrome/109.0.0.0 Safari/537.36',\n",
    "'Mozilla/5.0 (Windows NT 10.0; Win64; x64) AppleWebKit/537.36 (KHTML, like Gecko) Firefox/97.0.0.0',\n",
    "'Mozilla/5.0 (Macintosh; Intel Mac OS X 10_15_7) AppleWebKit/537.36 (KHTML, like Gecko) Firefox/97.0.0.0',\n",
    "'Mozilla/5.0 (X11; Linux x86_64) AppleWebKit/537.36 (KHTML, like Gecko) Firefox/97.0.0.0',\n",
    "'Mozilla/5.0 (Windows NT 10.0; Win64; x64) AppleWebKit/537.36 (KHTML, like Gecko) Chrome/108.0.0.0 Safari/537.36',\n",
    "'Mozilla/5.0 (X11; Linux x86_64) AppleWebKit/537.36 (KHTML, like Gecko) Chrome/108.0.0.0 Safari/537.36',\n",
    "'Mozilla/5.0 (Windows NT 10.0; Win64; x64) AppleWebKit/537.36 (KHTML, like Gecko) Edge/17.0.0.0',\n",
    "'Mozilla/5.0 (Macintosh; Intel Mac OS X 10_15_7) AppleWebKit/537.36 (KHTML, like Gecko) Edge/17.0.0.0',\n",
    "'Mozilla/5.0 (X11; Linux x86_64) AppleWebKit/537.36 (KHTML, like Gecko) Edge/17.0.0.0',\n",
    "]"
   ]
  },
  {
   "cell_type": "code",
   "execution_count": 121,
   "id": "31302f9f-0142-4d05-9769-6e0d9d82de44",
   "metadata": {
    "tags": []
   },
   "outputs": [],
   "source": [
    "url = 'https://www.tripadvisor.com/Airlines'\n",
    "service = ChromeService(ChromeDriverManager().install())\n",
    "user_agent = random.choice(user_agents)\n",
    "chrome_options = webdriver.ChromeOptions()\n",
    "chrome_options.add_argument(f'user-agent={user_agent}')\n",
    "chrome_options.add_argument('--disable-blink-features=AutomationControlled')\n",
    "chrome_options.add_argument(\"start-maximized\")\n",
    "chrome_options.add_argument('--disable-dev-shm-usage')\n",
    "chrome_options.add_argument('--no-sandbox')\n",
    "chrome_options.add_experimental_option(\"excludeSwitches\", [\"enable-automation\"])\n",
    "chrome_options.add_experimental_option('useAutomationExtension', False)\n",
    "driver = webdriver.Chrome(service=service, options=chrome_options)\n",
    "driver.get(url)\n",
    "time.sleep(3)\n",
    "pickle.dump(driver.get_cookies(), open('cookies.pkl', 'wb'))"
   ]
  },
  {
   "cell_type": "code",
   "execution_count": 26,
   "id": "dac87815-dbf7-4040-81f9-c10c882a84b6",
   "metadata": {
    "tags": []
   },
   "outputs": [],
   "source": [
    "def setup_webdriver():\n",
    "    while True:\n",
    "        user_agent = random.choice(user_agents)\n",
    "        print(f\"Using user agent: {user_agent}\")\n",
    "        \n",
    "        proxy_choice = random.choice(free_proxies)\n",
    "        proxy_ip_port = f\"{proxy_choice['IP Address']}:{proxy_choice['Port']}\"\n",
    "        print(f\"Using proxy: {proxy_ip_port}\")\n",
    "\n",
    "        service = Service(ChromeDriverManager().install())\n",
    "        chrome_options = webdriver.ChromeOptions()\n",
    "        chrome_options.add_argument(f'user-agent={user_agent}')\n",
    "        chrome_options.add_argument('--disable-blink-features=AutomationControlled')\n",
    "        chrome_options.add_argument(\"start-maximized\")\n",
    "        chrome_options.add_argument('--disable-dev-shm-usage')\n",
    "        chrome_options.add_argument('--no-sandbox')\n",
    "        chrome_options.add_experimental_option(\"excludeSwitches\", [\"enable-automation\"])\n",
    "        chrome_options.add_experimental_option('useAutomationExtension', False)\n",
    "        chrome_options.add_argument(f'--proxy-server={proxy_ip_port}')\n",
    "\n",
    "        try:\n",
    "            driver = webdriver.Chrome(service=service, options=chrome_options)\n",
    "            time.sleep(1)\n",
    "            driver.quit()\n",
    "            return driver\n",
    "        except Exception as e:\n",
    "            print(f\"Error setting up WebDriver: {e}\")\n",
    "            continue"
   ]
  },
  {
   "cell_type": "markdown",
   "id": "08c491c2-e878-4ef8-ab56-6caf8063eadb",
   "metadata": {
    "jp-MarkdownHeadingCollapsed": true,
    "tags": []
   },
   "source": [
    "### List of airline reviews in tripadvisor"
   ]
  },
  {
   "cell_type": "code",
   "execution_count": 63,
   "id": "065f2d2c-97e1-4845-be1f-e72050d438d5",
   "metadata": {
    "tags": []
   },
   "outputs": [],
   "source": [
    "def scrape_page(driver, csv_writer):\n",
    "    try:\n",
    "        airlines = WebDriverWait(driver, 10).until(\n",
    "            EC.presence_of_all_elements_located((By.CSS_SELECTOR, \".prw_rup.prw_airlines_airline_lander_card\"))\n",
    "        )\n",
    "        for airline in airlines:\n",
    "            name = airline.find_element(By.CSS_SELECTOR, \".airlineName\").text\n",
    "            review_link_element = airline.find_element(By.CSS_SELECTOR, \"a.review_button.ui_button.secondary.small\")\n",
    "            review_link = review_link_element.get_attribute(\"href\")\n",
    "            num_reviews = airline.find_element(By.CSS_SELECTOR, \".airlineReviews\").text\n",
    "            csv_writer.writerow([name, review_link, num_reviews])\n",
    "\n",
    "    except (NoSuchElementException, TimeoutException):\n",
    "        print(\"Error occurred while scraping.\")"
   ]
  },
  {
   "cell_type": "code",
   "execution_count": 64,
   "id": "560d34f2-1580-45ba-81d4-9a5c7cadd2e0",
   "metadata": {
    "tags": []
   },
   "outputs": [],
   "source": [
    "def main1():\n",
    "    driver = setup_webdriver()\n",
    "    driver.get(\"https://www.tripadvisor.com/Airlines\")\n",
    "    \n",
    "    with open('scraped_data.csv', 'w', newline='', encoding='utf-8') as csv_file:\n",
    "        csv_writer = csv.writer(csv_file)\n",
    "        csv_writer.writerow(['Airline Name', 'Review Link', 'Number of Reviews'])\n",
    "\n",
    "        page_number = 1\n",
    "        while True:\n",
    "            print(f\"Scraping page {page_number}...\")\n",
    "            scrape_page(driver, csv_writer)\n",
    "\n",
    "            try:\n",
    "                next_button = WebDriverWait(driver, 10).until(\n",
    "                    EC.element_to_be_clickable((By.CSS_SELECTOR, \"span.nav.next.ui_button.primary\"))\n",
    "                )\n",
    "                if \"disabled\" in next_button.get_attribute(\"class\"):\n",
    "                    print(\"Reached the last page.\")\n",
    "                    break\n",
    "\n",
    "                next_button.click()\n",
    "                WebDriverWait(driver, 10).until(EC.staleness_of(next_button))\n",
    "                page_number += 1\n",
    "                time.sleep(3)\n",
    "\n",
    "            except (NoSuchElementException, TimeoutException):\n",
    "                print(\"Reached the end of the pages or encountered an error.\")\n",
    "                break\n",
    "\n",
    "    driver.quit()"
   ]
  },
  {
   "cell_type": "code",
   "execution_count": 47,
   "id": "862746fe-9e0a-4f37-9568-60e0cda42cb2",
   "metadata": {
    "tags": []
   },
   "outputs": [
    {
     "name": "stdout",
     "output_type": "stream",
     "text": [
      "Scraping page 1...\n",
      "Scraping page 2...\n",
      "Scraping page 3...\n",
      "Scraping page 4...\n",
      "Scraping page 5...\n",
      "Scraping page 6...\n",
      "Scraping page 7...\n",
      "Scraping page 8...\n",
      "Scraping page 9...\n",
      "Scraping page 10...\n",
      "Scraping page 11...\n",
      "Scraping page 12...\n",
      "Scraping page 13...\n",
      "Error occurred while scraping.\n",
      "Scraping page 14...\n",
      "Scraping page 15...\n",
      "Scraping page 16...\n",
      "Scraping page 17...\n",
      "Scraping page 18...\n",
      "Scraping page 19...\n",
      "Scraping page 20...\n",
      "Error occurred while scraping.\n",
      "Scraping page 21...\n",
      "Scraping page 22...\n",
      "Scraping page 23...\n",
      "Scraping page 24...\n",
      "Scraping page 25...\n",
      "Scraping page 26...\n",
      "Scraping page 27...\n",
      "Error occurred while scraping.\n",
      "Scraping page 28...\n",
      "Scraping page 29...\n",
      "Scraping page 30...\n",
      "Scraping page 31...\n",
      "Scraping page 32...\n",
      "Error occurred while scraping.\n",
      "Scraping page 33...\n",
      "Scraping page 34...\n",
      "Scraping page 35...\n",
      "Scraping page 36...\n",
      "Scraping page 37...\n",
      "Scraping page 38...\n",
      "Scraping page 39...\n",
      "Scraping page 40...\n",
      "Error occurred while scraping.\n",
      "Scraping page 41...\n",
      "Scraping page 42...\n",
      "Error occurred while scraping.\n",
      "Scraping page 43...\n",
      "Scraping page 44...\n",
      "Scraping page 45...\n",
      "Scraping page 46...\n",
      "Scraping page 47...\n",
      "Scraping page 48...\n",
      "Scraping page 49...\n",
      "Scraping page 50...\n",
      "Scraping page 51...\n",
      "Scraping page 52...\n",
      "Scraping page 53...\n",
      "Scraping page 54...\n",
      "Scraping page 55...\n",
      "Scraping page 56...\n",
      "Scraping page 57...\n",
      "Scraping page 58...\n",
      "Scraping page 59...\n",
      "Scraping page 60...\n",
      "Scraping page 61...\n",
      "Scraping page 62...\n",
      "Scraping page 63...\n",
      "Reached the last page.\n"
     ]
    }
   ],
   "source": [
    "main1()"
   ]
  },
  {
   "cell_type": "markdown",
   "id": "f2c22b0f-d0c5-479b-8707-934358db7119",
   "metadata": {
    "jp-MarkdownHeadingCollapsed": true,
    "tags": []
   },
   "source": [
    "### ⚠️ Gather reviews for each airline (deprecated) [v1]"
   ]
  },
  {
   "cell_type": "code",
   "execution_count": 79,
   "id": "7cd36ea6-bae4-4ac4-b828-932231f775d8",
   "metadata": {
    "tags": []
   },
   "outputs": [],
   "source": [
    "def setup_webdriver():\n",
    "    while True:\n",
    "        user_agent = random.choice(user_agents)\n",
    "        print(f\"Using user agent: {user_agent}\")\n",
    "\n",
    "        proxy_choice = random.choice(free_proxies)\n",
    "        proxy_ip_port = f\"{proxy_choice['IP Address']}:{proxy_choice['Port']}\"\n",
    "        print(f\"Using proxy: {proxy_ip_port}\")\n",
    "\n",
    "        try:\n",
    "            chrome_options = uc.ChromeOptions()\n",
    "            chrome_options.add_argument(f'user-agent={user_agent}')\n",
    "            chrome_options.add_argument('--disable-blink-features=AutomationControlled')\n",
    "            chrome_options.add_argument(\"start-maximized\")\n",
    "            chrome_options.add_argument('--disable-dev-shm-usage')\n",
    "            chrome_options.add_argument('--no-sandbox')\n",
    "            # chrome_options.add_experimental_option(\"excludeSwitches\", [\"enable-automation\"])\n",
    "            # chrome_options.add_experimental_option('useAutomationExtension', False)\n",
    "            chrome_options.add_argument(f'--proxy-server={proxy_ip_port}')\n",
    "\n",
    "            driver = uc.Chrome(options=chrome_options)\n",
    "            time.sleep(1)\n",
    "            # driver.quit()\n",
    "            return driver\n",
    "        except Exception as e:\n",
    "            print(f\"Error setting up WebDriver: {e}\")\n",
    "            continue"
   ]
  },
  {
   "cell_type": "code",
   "execution_count": 80,
   "id": "6a8a33bf-885d-4f0a-8d0a-43c55ce228ba",
   "metadata": {
    "tags": []
   },
   "outputs": [],
   "source": [
    "review_elem_selector = 'lgfjP.Gi.z.pBVnE.MD.bZHZM'\n",
    "rating_elem_selector = 'div.WAllg._T > div.IkECb.f.O > div.Hlmiy.F1 > span'\n",
    "name_elem_selector = 'div.cRVSd > span > a'\n",
    "review_title_selector = 'div.WAllg._T > div.KgQgP.MC._S.b.S6.H5._a > a > span > span'\n",
    "review_tags_1_selector = 'div.WAllg._T > div.IkECb.f.O > div.tNvbV.f.Ng > div:nth-child(1)'\n",
    "review_tags_2_selector = 'div.WAllg._T > div.IkECb.f.O > div.tNvbV.f.Ng > div:nth-child(2)'\n",
    "review_tags_3_selector = 'div.WAllg._T > div.IkECb.f.O > div.tNvbV.f.Ng > div:nth-child(3)'\n",
    "review_text_selector = 'div.WAllg._T > div.vTVDc > div._T.FKffI.bmUTE > div.fIrGe._T > span'\n",
    "review_travel_date_selector = 'div.WAllg._T > div.vTVDc > div.Pq > span'"
   ]
  },
  {
   "cell_type": "code",
   "execution_count": 86,
   "id": "9c39af5e-653b-40f0-b18f-bb35f8f6df4e",
   "metadata": {
    "tags": []
   },
   "outputs": [],
   "source": [
    "def scrape_reviews(driver, url):\n",
    "    driver.get(url)\n",
    "    print(\"the url has been opened\")\n",
    "    time.sleep(5)\n",
    "\n",
    "    reviews = []\n",
    "    \n",
    "    review_elements = driver.find_elements(By.CLASS_NAME, review_elem_selector)\n",
    "    print(\"review elements found\")\n",
    "    print(review_elements)\n",
    "    for review_element in review_elements:\n",
    "        try:\n",
    "            rating = review_element.find_element(By.CSS_SELECTOR, rating_elem_selector).text\n",
    "            name = review_element.find_element(By.CSS_SELECTOR, name_elem_selector).text\n",
    "            review_title = review_element.find_element(By.CSS_SELECTOR, review_title_selector).text\n",
    "            tags_1 = review_element.find_element(By.CSS_SELECTOR, review_tags_1_selector).text\n",
    "            tags_2 = review_element.find_element(By.CSS_SELECTOR, review_tags_2_selector).text\n",
    "            tags_3 = review_element.find_element(By.CSS_SELECTOR, review_tags_3_selector).text\n",
    "            review_text = review_element.find_element(By.CSS_SELECTOR, review_text_selector).text\n",
    "            travel_date = review_element.find_element(By.CSS_SELECTOR, review_travel_date_selector).text\n",
    "\n",
    "            reviews.append({\n",
    "                \"rating\": rating,\n",
    "                \"name\": name,\n",
    "                \"review_title\": review_title,\n",
    "                \"tags_1\": tags_1,\n",
    "                \"tags_2\": tags_2,\n",
    "                \"tags_3\": tags_3,\n",
    "                \"review_text\": review_text,\n",
    "                \"travel_date\": travel_date\n",
    "            })\n",
    "        except Exception as e:\n",
    "            print(f\"Error: {e}\")\n",
    "\n",
    "    return reviews"
   ]
  },
  {
   "cell_type": "code",
   "execution_count": 87,
   "id": "6ce411e5-e3ab-4d82-b497-29a5859d95ce",
   "metadata": {
    "tags": []
   },
   "outputs": [],
   "source": [
    "\n",
    "def main2(url):\n",
    "    driver = setup_webdriver()\n",
    "    print(url)\n",
    "    \n",
    "    try:\n",
    "        print(\"started scraping reviews\")\n",
    "        reviews = scrape_reviews(driver, url)\n",
    "        with open('reviews.csv', 'w', newline='', encoding='utf-8') as file:\n",
    "            writer = csv.DictWriter(file, fieldnames = [\"rating\", \"name\", \"review_title\", \"tags\", \"tags_1\", \"tags_2\", \"tags_3\", \"review_text\", \"travel_date\"]\n",
    ")\n",
    "            writer.writeheader()\n",
    "            writer.writerows(reviews)\n",
    "\n",
    "    finally:\n",
    "        print(\"failed to open\")\n",
    "        driver.quit()"
   ]
  },
  {
   "cell_type": "code",
   "execution_count": 88,
   "id": "4f3d68a3-18b4-43da-b5fc-c2773825136c",
   "metadata": {
    "tags": []
   },
   "outputs": [
    {
     "name": "stdout",
     "output_type": "stream",
     "text": [
      "Using user agent: Mozilla/5.0 (Windows NT 10.0; Win64; x64) AppleWebKit/537.36 (KHTML, like Gecko) Chrome/108.0.0.0 Safari/537.36\n",
      "Using proxy: 167.172.238.15:10004\n",
      "https://www.tripadvisor.com/Airline_Review-d17550095-Reviews-Advanced-Air\n",
      "started scraping reviews\n",
      "the url has been opened\n",
      "review elements found\n",
      "[]\n",
      "failed to open\n"
     ]
    }
   ],
   "source": [
    "test_url = \"https://www.tripadvisor.com/Airline_Review-d17550095-Reviews-Advanced-Air\"\n",
    "main2(test_url)"
   ]
  },
  {
   "cell_type": "code",
   "execution_count": 78,
   "id": "cadfdbfa-61bf-42c1-9070-f449b8f29a3c",
   "metadata": {
    "tags": []
   },
   "outputs": [],
   "source": [
    "# test_url = \"https://www.tripadvisor.com/Airline_Review-d17550095-Reviews-Advanced-Air\"\n",
    "# service = ChromeService(ChromeDriverManager().install())\n",
    "# user_agent = random.choice(user_agents)\n",
    "# chrome_options = webdriver.ChromeOptions()\n",
    "# proxy_choice = random.choice(free_proxies)\n",
    "# proxy_ip_port = f\"{proxy_choice['IP Address']}:{proxy_choice['Port']}\"\n",
    "# print(f\"Using proxy: {proxy_ip_port}\")\n",
    "# chrome_options.add_argument(f'--proxy-server={proxy_ip_port}')\n",
    "# chrome_options.add_argument(f'user-agent={user_agent}')\n",
    "# chrome_options.add_argument('--disable-blink-features=AutomationControlled')\n",
    "# chrome_options.add_argument(\"start-maximized\")\n",
    "# chrome_options.add_argument('--disable-dev-shm-usage')\n",
    "# # chrome_options.add_argument('--no-sandbox')\n",
    "# chrome_options.add_experimental_option(\"excludeSwitches\", [\"enable-automation\"])\n",
    "# chrome_options.add_experimental_option('useAutomationExtension', False)\n",
    "# driver = webdriver.Chrome(service=service, options=chrome_options)\n",
    "# driver.get(test_url)\n",
    "# time.sleep(3)\n",
    "# # main2(test_url)\n",
    "# driver.quit()"
   ]
  },
  {
   "cell_type": "markdown",
   "id": "6645989f-2eb7-4e3d-a133-14560461ae30",
   "metadata": {
    "jp-MarkdownHeadingCollapsed": true,
    "tags": []
   },
   "source": [
    "### ⚠️ Gather each airline reviews  [v2]"
   ]
  },
  {
   "cell_type": "code",
   "execution_count": 113,
   "id": "3b4b5bb4-9e84-4396-856d-3128be4573c4",
   "metadata": {
    "tags": []
   },
   "outputs": [
    {
     "data": {
      "text/plain": [
       "['<div class=\"lgfjP Gi z pBVnE MD bZHZM\"><div class=\"sCZGP\"><a href=\"/Profile/750annerisg\" target=\"_self\" class=\"kjIqZ I ui_social_avatar inline\"><img src=\"https://media-cdn.tripadvisor.com/media/photo-t/1a/f6/e8/24/default-avatar-2020-60.jpg\" alt=\"avatar-image\" loading=\"lazy\"></a><div class=\"IHLTq _Z o\"><div class=\"jXhbq f _Y _m\"><div class=\"overflow \"><span class=\"GXoUa NF S8 _S MVUuZ\"><svg viewBox=\"0 0 24 24\" width=\"1em\" height=\"1em\" class=\"d Vb UmNoP\"><path d=\"M5 14a2 2 0 100-4 2 2 0 000 4zM19 14a2 2 0 100-4 2 2 0 000 4zM12 14a2 2 0 100-4 2 2 0 000 4z\"></path></svg></span></div><span class=\"_m\"></span></div><div class=\"cRVSd\"><span><a class=\"ui_header_link uyyBf\" href=\"/Profile/750annerisg\">Anneris g</a> wrote a review Yesterday</span></div><div class=\"MziKN\"><span class=\"RdTWF\"><span class=\"default LXUOn small\"><span class=\"ui_icon map-pin-fill fXexN\"></span>Nutley, New Jersey</span></span><span class=\"phMBo\"><span><span class=\"yRNgz\">1</span> contribution</span></span></div></div></div><div class=\"pDrIj f z\"><div class=\"MtByY _T PNjsP\"><div class=\"BSBvb GA\" style=\"height: 128px; width: 100%; position: relative;\"><img class=\"_Q t _U s l KSVvt\" src=\"https://dynamic-media-cdn.tripadvisor.com/media/photo-o/2b/46/c8/76/caption.jpg?w=1200&amp;h=200&amp;s=1\" alt=\"\" style=\"height: 100%; width: 100%; object-fit: cover;\"></div></div></div><div class=\"WAllg _T\" data-reviewid=\"935061198\"><div class=\"IkECb f O\"><div class=\"Hlmiy F1\" data-test-target=\"review-rating\"><span class=\"ui_bubble_rating bubble_50\"></span></div><div class=\"tNvbV f Ng\"><div class=\"dmRSR n R2 S2\">Fort Lauderdale - Newark</div><div class=\"dmRSR n R2 S2\">Domestic</div></div></div><div class=\"KgQgP MC _S b S6 H5 _a\" dir=\"ltr\" data-test-target=\"review-title\"><a rel=\"noopener\" href=\"/ShowUserReviews-g1-d8729157-r935061198-Spirit_Airlines-World.html\" target=\"_blank\" class=\"Qwuub\"><span><span>Efficient</span></span></a></div><div class=\"vTVDc\"><div class=\"_T FKffI bmUTE\"><div class=\"fIrGe _T\" style=\"max-height: initial; line-break: normal; cursor: auto;\"><span class=\"QewHA H4 _a\" data-test-target=\"review-text\"><span>The plane was clean comfy and in good condition. The staff made it very easy to board and exit the plane. They were very friendly and helpful</span></span></div><div class=\"lszDU\" style=\"line-height: 20px;\"><div class=\"TnInx\" data-test-target=\"expand-review\"><span class=\"Ignyf _S Z\">Read more</span><span class=\"ui_icon caret-down Lvqmo\"></span></div></div></div><div class=\"Pq\"><span class=\"teHYY _R Me S4 H3\"><span class=\"usajM\">Date of travel:</span> January 2024</span><div class=\"XCJRC S2 Me MD i\">This review is the subjective opinion of a Tripadvisor member and not of Tripadvisor LLC. Tripadvisor performs checks on reviews.</div></div><div class=\"YnxVY\"><span class=\"wpsrP f _T Xd Y\"></span><div class=\"qIICj f _T Me z\"><span class=\"zMxkM f _T M _S\"><span class=\"ui_icon thumbs-up bohqm\"></span><span class=\"ui_link RAPNy\">Helpful</span></span><span class=\"CXSid f\"><div><span><div class=\"mGZLW f _T M _S qNoXj\"><span><span class=\"ui_icon share AWqKr\"></span><span class=\"ui_link duDPx socialCTA\">Share<!-- --> </span></span></div></span></div></span></div></div></div></div></div>',\n",
       " '<div class=\"lgfjP Gi z pBVnE MD bZHZM\"><div class=\"sCZGP\"><a href=\"/Profile/Quest15166945187\" target=\"_self\" class=\"kjIqZ I ui_social_avatar inline\"><img src=\"https://media-cdn.tripadvisor.com/media/photo-t/1a/f6/eb/a3/default-avatar-2020-38.jpg\" alt=\"avatar-image\" loading=\"lazy\"></a><div class=\"IHLTq _Z o\"><div class=\"jXhbq f _Y _m\"><div class=\"overflow \"><span class=\"GXoUa NF S8 _S MVUuZ\"><svg viewBox=\"0 0 24 24\" width=\"1em\" height=\"1em\" class=\"d Vb UmNoP\"><path d=\"M5 14a2 2 0 100-4 2 2 0 000 4zM19 14a2 2 0 100-4 2 2 0 000 4zM12 14a2 2 0 100-4 2 2 0 000 4z\"></path></svg></span></div><span class=\"_m\"></span></div><div class=\"cRVSd\"><span><a class=\"ui_header_link uyyBf\" href=\"/Profile/Quest15166945187\">Quest15166945187</a> wrote a review Yesterday</span></div><div class=\"MziKN\"><span class=\"phMBo\"><span><span class=\"yRNgz\">1</span> contribution</span></span></div></div></div><div class=\"pDrIj f z\"><div class=\"MtByY _T wfskf\"><div class=\"BSBvb GA\" style=\"background-size:cover;height:128px;width:100%;background-image:none\"></div></div><div class=\"MtByY _T wfskf\"><div class=\"BSBvb GA\" style=\"background-size:cover;height:128px;width:100%;background-image:none\"></div></div></div><div class=\"WAllg _T\" data-reviewid=\"935058146\"><div class=\"IkECb f O\"><div class=\"Hlmiy F1\" data-test-target=\"review-rating\"><span class=\"ui_bubble_rating bubble_10\"></span></div><div class=\"tNvbV f Ng\"><div class=\"dmRSR n R2 S2\">San Diego - Los Angeles</div><div class=\"dmRSR n R2 S2\">Domestic</div></div></div><div class=\"KgQgP MC _S b S6 H5 _a\" dir=\"ltr\" data-test-target=\"review-title\"><a rel=\"noopener\" href=\"/ShowUserReviews-g1-d8729157-r935058146-Spirit_Airlines-World.html\" target=\"_blank\" class=\"Qwuub\"><span><span>Today they earned 300USD but lost customer for 25 years</span></span></a></div><div class=\"vTVDc\"><div class=\"_T FKffI bmUTE\"><div class=\"fIrGe _T\" style=\"max-height: initial; line-break: normal; cursor: auto;\"><span class=\"QewHA H4 _a\" data-test-target=\"review-text\"><span>Their baggage policy is worst.   Today they earned 300 dollars from me but the lost a customer for next 25 years.   I paid for ticket 134 dollars and paid for baggage 230 us dollors.   I have travelled to more than 2500 flieghts in my life time. This is the worst experience.  </span><span class=\"_\"> They just put lowest pricings to attract customers and the they charge like hails for the each additional service u do.  Also staff is non co operative.   I paid for 3 bags to travel for 2. They are not willing to listen simple calculations.   If I have option to give minus ratings I would do that.</span>…</span></div><div class=\"lszDU\" style=\"line-height: 20px;\"><div class=\"TnInx\" data-test-target=\"expand-review\"><span class=\"Ignyf _S Z\">Read more</span><span class=\"ui_icon caret-down Lvqmo\"></span></div></div></div><div class=\"Pq\"><span class=\"teHYY _R Me S4 H3\"><span class=\"usajM\">Date of travel:</span> January 2024</span><div class=\"XCJRC S2 Me MD i\">This review is the subjective opinion of a Tripadvisor member and not of Tripadvisor LLC. Tripadvisor performs checks on reviews.</div></div><div class=\"YnxVY\"><span class=\"wpsrP f _T Xd Y\"></span><div class=\"qIICj f _T Me z\"><span class=\"zMxkM f _T M _S\"><span class=\"ui_icon thumbs-up bohqm\"></span><span class=\"ui_link RAPNy\">Helpful</span></span><span class=\"CXSid f\"><div><span><div class=\"mGZLW f _T M _S qNoXj\"><span><span class=\"ui_icon share AWqKr\"></span><span class=\"ui_link duDPx socialCTA\">Share<!-- --> </span></span></div></span></div></span></div></div></div></div></div>',\n",
       " '<div class=\"lgfjP Gi z pBVnE MD bZHZM\"><div class=\"sCZGP\"><a href=\"/Profile/Daydream49774414576\" target=\"_self\" class=\"kjIqZ I ui_social_avatar inline\"><img src=\"https://media-cdn.tripadvisor.com/media/photo-t/1a/f6/f0/d5/default-avatar-2020-17.jpg\" alt=\"avatar-image\" loading=\"lazy\"></a><div class=\"IHLTq _Z o\"><div class=\"jXhbq f _Y _m\"><div class=\"overflow \"><span class=\"GXoUa NF S8 _S MVUuZ\"><svg viewBox=\"0 0 24 24\" width=\"1em\" height=\"1em\" class=\"d Vb UmNoP\"><path d=\"M5 14a2 2 0 100-4 2 2 0 000 4zM19 14a2 2 0 100-4 2 2 0 000 4zM12 14a2 2 0 100-4 2 2 0 000 4z\"></path></svg></span></div><span class=\"_m\"></span></div><div class=\"cRVSd\"><span><a class=\"ui_header_link uyyBf\" href=\"/Profile/Daydream49774414576\">Daydream49774414576</a> wrote a review Yesterday</span></div><div class=\"MziKN\"><span class=\"phMBo\"><span><span class=\"yRNgz\">1</span> contribution</span></span></div></div></div><div class=\"WAllg _T\" data-reviewid=\"935028734\"><div class=\"IkECb f O\"><div class=\"Hlmiy F1\" data-test-target=\"review-rating\"><span class=\"ui_bubble_rating bubble_10\"></span></div><div class=\"tNvbV f Ng\"><div class=\"dmRSR n R2 S2\">Boise - Las Vegas</div><div class=\"dmRSR n R2 S2\">Domestic</div></div></div><div class=\"KgQgP MC _S b S6 H5 _a\" dir=\"ltr\" data-test-target=\"review-title\"><a rel=\"noopener\" href=\"/ShowUserReviews-g1-d8729157-r935028734-Spirit_Airlines-World.html\" target=\"_blank\" class=\"Qwuub\"><span><span>Worse airline experience ever</span></span></a></div><div class=\"vTVDc\"><div class=\"_T FKffI bmUTE\"><div class=\"fIrGe _T\" style=\"max-height: initial; line-break: normal; cursor: auto;\"><span class=\"QewHA H4 _a\" data-test-target=\"review-text\"><span>I’m not even on the plane, and I already regret flying for the first time with Spirit Airlines.   First, I was told that TSA pre-check numbers are not printing on boarding passes - but not to worry, the TSA security agent would have it when I got there. LIE!! Security told me</span><span class=\"_\"> that I need to go back to Spirit to get that printing issue rectified. Well, no, I no longer had time!!!  Next, my flight was originally supposed to depart at 10:52am. But early this morning, I received an email (no text!) stating that my flight was delayed to 12:20pm. So naturally when I got my boarding pass at 10:30am, I was expecting to see the revised time on the pass. When I asked the agent about it, she casually said, “oh yah, don’t worry. We just didn’t update the boarding passes. But the flight will actually leave earlier than 12:20pm.” Huh??? Horrible.   Now I’m at the gate, and I’m hearing an agent tell a large group (who was traveling with lots of kids) that their flight is actually tomorrow, even though their passes state the flight was today.   In summary, if I could reschedule this flight with a different airline right now, I would. I suggest you do the same!</span>…</span></div><div class=\"lszDU\" style=\"line-height: 20px;\"><div class=\"TnInx\" data-test-target=\"expand-review\"><span class=\"Ignyf _S Z\">Read more</span><span class=\"ui_icon caret-down Lvqmo\"></span></div></div></div><div class=\"Pq\"><span class=\"teHYY _R Me S4 H3\"><span class=\"usajM\">Date of travel:</span> January 2024</span><div class=\"XCJRC S2 Me MD i\">This review is the subjective opinion of a Tripadvisor member and not of Tripadvisor LLC. Tripadvisor performs checks on reviews.</div></div><div class=\"YnxVY\"><span class=\"wpsrP f _T Xd Y\"></span><div class=\"qIICj f _T Me z\"><span class=\"zMxkM f _T M _S\"><span class=\"ui_icon thumbs-up bohqm\"></span><span class=\"ui_link RAPNy\">Helpful</span></span><span class=\"CXSid f\"><div><span><div class=\"mGZLW f _T M _S qNoXj\"><span><span class=\"ui_icon share AWqKr\"></span><span class=\"ui_link duDPx socialCTA\">Share<!-- --> </span></span></div></span></div></span></div></div></div></div></div>',\n",
       " '<div class=\"lgfjP Gi z pBVnE MD bZHZM\"><div class=\"sCZGP\"><a href=\"/Profile/118masumab\" target=\"_self\" class=\"kjIqZ I ui_social_avatar inline\"><img src=\"https://media-cdn.tripadvisor.com/media/photo-t/1a/f6/7c/01/default-avatar-2020-5.jpg\" alt=\"avatar-image\" loading=\"lazy\"></a><div class=\"IHLTq _Z o\"><div class=\"jXhbq f _Y _m\"><div class=\"overflow \"><span class=\"GXoUa NF S8 _S MVUuZ\"><svg viewBox=\"0 0 24 24\" width=\"1em\" height=\"1em\" class=\"d Vb UmNoP\"><path d=\"M5 14a2 2 0 100-4 2 2 0 000 4zM19 14a2 2 0 100-4 2 2 0 000 4zM12 14a2 2 0 100-4 2 2 0 000 4z\"></path></svg></span></div><span class=\"_m\"></span></div><div class=\"cRVSd\"><span><a class=\"ui_header_link uyyBf\" href=\"/Profile/118masumab\">Masuma B</a> wrote a review Yesterday</span></div><div class=\"MziKN\"><span class=\"phMBo\"><span><span class=\"yRNgz\">1</span> contribution</span></span></div></div></div><div class=\"WAllg _T\" data-reviewid=\"935009803\"><div class=\"IkECb f O\"><div class=\"Hlmiy F1\" data-test-target=\"review-rating\"><span class=\"ui_bubble_rating bubble_10\"></span></div><div class=\"tNvbV f Ng\"><div class=\"dmRSR n R2 S2\">Detroit - Punta Cana</div><div class=\"dmRSR n R2 S2\">Caribbean</div></div></div><div class=\"KgQgP MC _S b S6 H5 _a\" dir=\"ltr\" data-test-target=\"review-title\"><a rel=\"noopener\" href=\"/ShowUserReviews-g1-d8729157-r935009803-Spirit_Airlines-World.html\" target=\"_blank\" class=\"Qwuub\"><span><span>Ruined my experience</span></span></a></div><div class=\"vTVDc\"><div class=\"_T FKffI bmUTE\"><div class=\"fIrGe _T\" style=\"max-height: initial; line-break: normal; cursor: auto;\"><span class=\"QewHA H4 _a\" data-test-target=\"review-text\"><span>Horrible experience. I paid to check in my bags and it’s been 3 days since I have not received it yet. Mind you, im pregnant</span></span></div><div class=\"lszDU\" style=\"line-height: 20px;\"><div class=\"TnInx\" data-test-target=\"expand-review\"><span class=\"Ignyf _S Z\">Read more</span><span class=\"ui_icon caret-down Lvqmo\"></span></div></div></div><div class=\"Pq\"><span class=\"teHYY _R Me S4 H3\"><span class=\"usajM\">Date of travel:</span> January 2024</span><div class=\"XCJRC S2 Me MD i\">This review is the subjective opinion of a Tripadvisor member and not of Tripadvisor LLC. Tripadvisor performs checks on reviews.</div></div><div class=\"YnxVY\"><span class=\"wpsrP f _T Xd Y\"></span><div class=\"qIICj f _T Me z\"><span class=\"zMxkM f _T M _S\"><span class=\"ui_icon thumbs-up bohqm\"></span><span class=\"ui_link RAPNy\">Helpful</span></span><span class=\"CXSid f\"><div><span><div class=\"mGZLW f _T M _S qNoXj\"><span><span class=\"ui_icon share AWqKr\"></span><span class=\"ui_link duDPx socialCTA\">Share<!-- --> </span></span></div></span></div></span></div></div></div></div></div>',\n",
       " '<div class=\"lgfjP Gi z pBVnE MD bZHZM\"><div class=\"sCZGP\"><a href=\"/Profile/Titch66\" target=\"_self\" class=\"kjIqZ I ui_social_avatar inline\"><img src=\"https://media-cdn.tripadvisor.com/media/photo-t/1a/f6/e5/66/default-avatar-2020-53.jpg\" alt=\"avatar-image\" loading=\"lazy\"></a><div class=\"IHLTq _Z o\"><div class=\"jXhbq f _Y _m\"><div class=\"overflow \"><span class=\"GXoUa NF S8 _S MVUuZ\"><svg viewBox=\"0 0 24 24\" width=\"1em\" height=\"1em\" class=\"d Vb UmNoP\"><path d=\"M5 14a2 2 0 100-4 2 2 0 000 4zM19 14a2 2 0 100-4 2 2 0 000 4zM12 14a2 2 0 100-4 2 2 0 000 4z\"></path></svg></span></div><span class=\"_m\"></span></div><div class=\"cRVSd\"><span><a class=\"ui_header_link uyyBf\" href=\"/Profile/Titch66\">Denise M</a> wrote a review Yesterday</span></div><div class=\"MziKN\"><span class=\"RdTWF\"><span class=\"default LXUOn small\"><span class=\"ui_icon map-pin-fill fXexN\"></span>San Jose, California</span></span><span class=\"phMBo\"><span><span class=\"yRNgz\">10</span> contributions</span></span><span class=\"phMBo\"><span><span class=\"yRNgz\">6</span> helpful votes</span></span></div></div></div><div class=\"WAllg _T\" data-reviewid=\"935005864\"><div class=\"IkECb f O\"><div class=\"Hlmiy F1\" data-test-target=\"review-rating\"><span class=\"ui_bubble_rating bubble_50\"></span></div><div class=\"tNvbV f Ng\"><div class=\"dmRSR n R2 S2\">San Jose - Miami</div><div class=\"dmRSR n R2 S2\">Domestic</div></div></div><div class=\"KgQgP MC _S b S6 H5 _a\" dir=\"ltr\" data-test-target=\"review-title\"><a rel=\"noopener\" href=\"/ShowUserReviews-g1-d8729157-r935005864-Spirit_Airlines-World.html\" target=\"_blank\" class=\"Qwuub\"><span><span>So far, so good. I am a happy camper.</span></span></a></div><div class=\"vTVDc\"><div class=\"_T FKffI bmUTE\"><div class=\"fIrGe _T\" style=\"max-height: initial; line-break: normal; cursor: auto;\"><span class=\"QewHA H4 _a\" data-test-target=\"review-text\"><span>Jumped from first class travel on a major airline to Spirit about 5 years ago now.  I came upon the airline while shopping for a last minute fare for my  son to travel with me. I loved the price and I booked only to get negative after negative feedback about Spirit. One</span><span class=\"_\"> colleague said she \"would rather walk than fly Spirit.\" I thought something was fishy.  How can an airline remain in business and be sooo bad? I then decided to poll 13 people. 12 had a similar response except my Sister-in-law who I decided not to count as she loved a bargain like me. I decided to call Spirit and ask what I had to do to ensure a great flight.  They gave me all the rules and I have been flying ever since - no problem.  I must say, I almost always fly the \"Big Front Seat\".  If I am not in the Big Front Seat, I am in the exit row.   I am retired so seldom in a hurry to get any place.   And just a reminder to those who say Spirit charges for everything.  They do the same on all the major airlines.  They bundle it.  At least on Spirit, it is like going grocery shopping.  Pick and pay for what you want. The only time I am NOT on Spirit now, Spirit is not going where I want to go.</span>…</span></div><div class=\"lszDU\" style=\"line-height: 20px;\"><div class=\"TnInx\" data-test-target=\"expand-review\"><span class=\"Ignyf _S Z\">Read more</span><span class=\"ui_icon caret-down Lvqmo\"></span></div></div></div><div class=\"Pq\"><span class=\"teHYY _R Me S4 H3\"><span class=\"usajM\">Date of travel:</span> January 2024</span><div class=\"XCJRC S2 Me MD i\">This review is the subjective opinion of a Tripadvisor member and not of Tripadvisor LLC. Tripadvisor performs checks on reviews.</div></div><div class=\"YnxVY\"><span class=\"wpsrP f _T Xd Y\"></span><div class=\"qIICj f _T Me z\"><span class=\"zMxkM f _T M _S\"><span class=\"ui_icon thumbs-up bohqm\"></span><span class=\"ui_link RAPNy\">Helpful</span></span><span class=\"CXSid f\"><div><span><div class=\"mGZLW f _T M _S qNoXj\"><span><span class=\"ui_icon share AWqKr\"></span><span class=\"ui_link duDPx socialCTA\">Share<!-- --> </span></span></div></span></div></span></div></div></div></div></div>',\n",
       " '<div class=\"lgfjP Gi z pBVnE MD bZHZM\"><div class=\"sCZGP\"><a href=\"/Profile/eddyk371\" target=\"_self\" class=\"kjIqZ I ui_social_avatar inline\"><img alt=\"avatar-image\"></a><div class=\"IHLTq _Z o\"><div class=\"jXhbq f _Y _m\"></div><div class=\"cRVSd\"><span></span></div><div class=\"MziKN\"></div></div></div><div class=\"oqErg\"><div class=\"MBufR\"><div class=\"BSBvb GA\" style=\"background-size:cover;height:300px;width:100%;background-image:none\"></div></div></div><span class=\"wpsrP f _T Xd Y\"></span></div>',\n",
       " '<div class=\"lgfjP Gi z pBVnE MD bZHZM\"><div class=\"sCZGP\"><a href=\"/Profile/750annerisg\" target=\"_self\" class=\"kjIqZ I ui_social_avatar inline\"><img alt=\"avatar-image\"></a><div class=\"IHLTq _Z o\"><div class=\"jXhbq f _Y _m\"></div><div class=\"cRVSd\"><span></span></div><div class=\"MziKN\"></div></div></div><div class=\"oqErg\"><div class=\"MBufR\"><div class=\"BSBvb GA\" style=\"background-size:cover;height:300px;width:100%;background-image:none\"></div></div></div><span class=\"wpsrP f _T Xd Y\"></span></div>',\n",
       " '<div class=\"lgfjP Gi z pBVnE MD bZHZM\"><div class=\"sCZGP\"><a href=\"/Profile/Quest15166945187\" target=\"_self\" class=\"kjIqZ I ui_social_avatar inline\"><img alt=\"avatar-image\"></a><div class=\"IHLTq _Z o\"><div class=\"jXhbq f _Y _m\"></div><div class=\"cRVSd\"><span></span></div><div class=\"MziKN\"></div></div></div><div class=\"oqErg\"><div class=\"MBufR\"><div class=\"BSBvb GA\" style=\"background-size:cover;height:300px;width:100%;background-image:none\"></div></div></div><span class=\"wpsrP f _T Xd Y\"></span></div>',\n",
       " '<div class=\"lgfjP Gi z pBVnE MD bZHZM\"><div class=\"sCZGP\"><a href=\"/Profile/Quest15166945187\" target=\"_self\" class=\"kjIqZ I ui_social_avatar inline\"><img alt=\"avatar-image\"></a><div class=\"IHLTq _Z o\"><div class=\"jXhbq f _Y _m\"></div><div class=\"cRVSd\"><span></span></div><div class=\"MziKN\"></div></div></div><div class=\"oqErg\"><div class=\"MBufR\"><div class=\"BSBvb GA\" style=\"background-size:cover;height:300px;width:100%;background-image:none\"></div></div></div><span class=\"wpsrP f _T Xd Y\"></span></div>',\n",
       " '<div class=\"lgfjP Gi z pBVnE MD bZHZM\"><div class=\"sCZGP\"><a href=\"/Profile/746kristyo\" target=\"_self\" class=\"kjIqZ I ui_social_avatar inline\"><img alt=\"avatar-image\"></a><div class=\"IHLTq _Z o\"><div class=\"jXhbq f _Y _m\"></div><div class=\"cRVSd\"><span></span></div><div class=\"MziKN\"></div></div></div><div class=\"oqErg\"><div class=\"MBufR\"><div class=\"BSBvb GA\" style=\"background-size:cover;height:300px;width:100%;background-image:none\"></div></div><div class=\"rIWcK S4 H3\">No room with the upgrade!! </div></div><span class=\"wpsrP f _T Xd Y\"></span></div>',\n",
       " '<div class=\"lgfjP Gi z pBVnE MD bZHZM\"><div class=\"sCZGP\"><a href=\"/Profile/Quest15166945187\" target=\"_self\" class=\"kjIqZ I ui_social_avatar inline\"><img alt=\"avatar-image\"></a><div class=\"IHLTq _Z o\"><div class=\"jXhbq f _Y _m\"></div><div class=\"cRVSd\"><span><a class=\"ui_header_link uyyBf\" href=\"/Profile/Quest15166945187\">Quest15166945187</a> wrote a tip Yesterday</span></div><div class=\"MziKN\"></div></div></div><a href=\"/ShowUserReviews-g1-d8729157-r935058146-Spirit_Airlines-World.html\" class=\"taDzF _R\" target=\"_blank\"><span class=\"ui_bubble_rating bubble_10\"></span></a><blockquote data=\"tip_text\">\"<span>If you are travelling to USA, Never book Spirit airlines </span>\"</blockquote><div><a href=\"/ShowUserReviews-g1-d8729157-r935058146-Spirit_Airlines-World.html\" class=\"UGlEC _R b\" target=\"_blank\" data=\"tip_link\">Read full review</a></div></div>',\n",
       " '<div class=\"lgfjP Gi z pBVnE MD bZHZM\"><div class=\"sCZGP\"><a href=\"/Profile/118masumab\" target=\"_self\" class=\"kjIqZ I ui_social_avatar inline\"><img alt=\"avatar-image\"></a><div class=\"IHLTq _Z o\"><div class=\"jXhbq f _Y _m\"></div><div class=\"cRVSd\"><span><a class=\"ui_header_link uyyBf\" href=\"/Profile/118masumab\">Masuma B</a> wrote a tip Yesterday</span></div><div class=\"MziKN\"></div></div></div><a href=\"/ShowUserReviews-g1-d8729157-r935009803-Spirit_Airlines-World.html\" class=\"taDzF _R\" target=\"_blank\"><span class=\"ui_bubble_rating bubble_10\"></span></a><blockquote data=\"tip_text\">\"<span>Don’t fly with spirit </span>\"</blockquote><div><a href=\"/ShowUserReviews-g1-d8729157-r935009803-Spirit_Airlines-World.html\" class=\"UGlEC _R b\" target=\"_blank\" data=\"tip_link\">Read full review</a></div></div>',\n",
       " '<div class=\"lgfjP Gi z pBVnE MD bZHZM\"><div class=\"sCZGP\"><a href=\"/Profile/Titch66\" target=\"_self\" class=\"kjIqZ I ui_social_avatar inline\"><img alt=\"avatar-image\"></a><div class=\"IHLTq _Z o\"><div class=\"jXhbq f _Y _m\"></div><div class=\"cRVSd\"><span><a class=\"ui_header_link uyyBf\" href=\"/Profile/Titch66\">Denise M</a> wrote a tip Yesterday</span></div><div class=\"MziKN\"></div></div></div><a href=\"/ShowUserReviews-g1-d8729157-r935005864-Spirit_Airlines-World.html\" class=\"taDzF _R\" target=\"_blank\"><span class=\"ui_bubble_rating bubble_50\"></span></a><blockquote data=\"tip_text\">\"<span>The regular seats don\\'t recline.  I am guessing that is why the fares are low.  On a long trip I think that could become a problem for most.</span>\"</blockquote><div><a href=\"/ShowUserReviews-g1-d8729157-r935005864-Spirit_Airlines-World.html\" class=\"UGlEC _R b\" target=\"_blank\" data=\"tip_link\">Read full review</a></div></div>',\n",
       " '<div class=\"lgfjP Gi z pBVnE MD bZHZM\"><div class=\"sCZGP\"><a href=\"/Profile/montgomeryj2024\" target=\"_self\" class=\"kjIqZ I ui_social_avatar inline\"><img alt=\"avatar-image\"></a><div class=\"IHLTq _Z o\"><div class=\"jXhbq f _Y _m\"></div><div class=\"cRVSd\"><span><a class=\"ui_header_link uyyBf\" href=\"/Profile/montgomeryj2024\">Montgomery J</a> wrote a tip Yesterday</span></div><div class=\"MziKN\"></div></div></div><a href=\"/ShowUserReviews-g1-d8729157-r934991996-Spirit_Airlines-World.html\" class=\"taDzF _R\" target=\"_blank\"><span class=\"ui_bubble_rating bubble_10\"></span></a><blockquote data=\"tip_text\">\"<span>Arrive 2 hours early to check your bags because even at an hour early they will cancel your ticket. Even if the airport isn\\'t busy</span>\"</blockquote><div><a href=\"/ShowUserReviews-g1-d8729157-r934991996-Spirit_Airlines-World.html\" class=\"UGlEC _R b\" target=\"_blank\" data=\"tip_link\">Read full review</a></div></div>',\n",
       " '<div class=\"lgfjP Gi z pBVnE MD bZHZM\"><div class=\"sCZGP\"><a href=\"/Profile/stacylewis019\" target=\"_self\" class=\"kjIqZ I ui_social_avatar inline\"><img alt=\"avatar-image\"></a><div class=\"IHLTq _Z o\"><div class=\"jXhbq f _Y _m\"></div><div class=\"cRVSd\"><span><a class=\"ui_header_link uyyBf\" href=\"/Profile/stacylewis019\">slewis</a> wrote a tip Jan 21</span></div><div class=\"MziKN\"></div></div></div><a href=\"/ShowUserReviews-g1-d8729157-r934955282-Spirit_Airlines-World.html\" class=\"taDzF _R\" target=\"_blank\"><span class=\"ui_bubble_rating bubble_40\"></span></a><blockquote data=\"tip_text\">\"<span>Honestly, fly American. The “price savings” after paying for alll that should be included increase the price almost double. </span>\"</blockquote><div><a href=\"/ShowUserReviews-g1-d8729157-r934955282-Spirit_Airlines-World.html\" class=\"UGlEC _R b\" target=\"_blank\" data=\"tip_link\">Read full review</a></div></div>']"
      ]
     },
     "execution_count": 113,
     "metadata": {},
     "output_type": "execute_result"
    }
   ],
   "source": [
    "def airline_review_collection(url):\n",
    "    ua = UserAgent()\n",
    "    my_user_agent = ua.chrome\n",
    "\n",
    "    options = webdriver.ChromeOptions()\n",
    "    options.add_argument('--ignore-certificate-errors')\n",
    "    options.add_argument('--incognito')\n",
    "    options.add_argument(f\"user-agent={my_user_agent}\")\n",
    "\n",
    "    service = Service(ChromeDriverManager().install())\n",
    "    driver = uc.Chrome(service=service, options=options)\n",
    "\n",
    "    driver.get(url)\n",
    "    time.sleep(3)\n",
    "    driver.save_screenshot(\"testing123.png\")\n",
    "\n",
    "    try:\n",
    "        class_name = \"lgfjP.Gi.z.pBVnE.MD.bZHZM\"\n",
    "        div_elements = driver.find_elements(By.CLASS_NAME, class_name)\n",
    "        divs_data = [div.get_attribute('outerHTML') for div in div_elements]\n",
    "    \n",
    "    except:\n",
    "        print(\"failed\")\n",
    "        \n",
    "    else: \n",
    "        return divs_data\n",
    "    \n",
    "    finally:\n",
    "        driver.quit()\n",
    "\n",
    "url = \"https://www.tripadvisor.com/Airline_Review-d8729157-Reviews-Spirit-Airlines#REVIEWS\"\n",
    "res = airline_review_collection(url)\n",
    "res"
   ]
  },
  {
   "cell_type": "code",
   "execution_count": 126,
   "id": "71dd09f4-59a4-4914-aa53-89c07f85193e",
   "metadata": {
    "tags": []
   },
   "outputs": [],
   "source": [
    "# import csv\n",
    "# from selenium import webdriver\n",
    "# from selenium.webdriver.common.by import By\n",
    "# from selenium.webdriver.chrome.service import Service\n",
    "# from webdriver_manager.chrome import ChromeDriverManager\n",
    "# from fake_useragent import UserAgent\n",
    "# import undetected_chromedriver as uc\n",
    "# import time\n",
    "# from pprint import pprint\n",
    "# from datetime import date\n",
    "\n",
    "\n",
    "# def scrape_tripadvisor_reviews(url):\n",
    "#     ua = UserAgent()\n",
    "#     my_user_agent = ua.chrome\n",
    "\n",
    "#     options = webdriver.ChromeOptions()\n",
    "#     options.add_argument('--ignore-certificate-errors')\n",
    "#     options.add_argument('--incognito')\n",
    "#     options.add_argument(f\"user-agent={my_user_agent}\")\n",
    "\n",
    "#     service = Service(ChromeDriverManager().install())\n",
    "#     driver = uc.Chrome(service=service, options=options)\n",
    "\n",
    "#     driver.get(url)\n",
    "#     time.sleep(3)\n",
    "\n",
    "#     reviews = []\n",
    "#     categories = [\"Legroom\", \"Seat comfort\", \"In-flight Entertainment\", \"Customer service\", \"Value for money\", \"Cleanliness\", \"Check-in and boarding\", \"Food and Beverage\"]\n",
    "\n",
    "#     while True:\n",
    "#         review_divs = driver.find_elements(By.CSS_SELECTOR, 'div.lgfjP.Gi.z.pBVnE.MD.bZHZM')\n",
    "#         for div in review_divs:\n",
    "#             try:\n",
    "#                 reviewer_name = div.find_element(By.CSS_SELECTOR, 'a.ui_header_link.uyyBf').text.strip()\n",
    "#                 review_date = div.find_element(By.CSS_SELECTOR, 'div.cRVSd').text.strip()\n",
    "#                 review_title = div.find_element(By.CSS_SELECTOR, 'div.KgQgP.MC._S.b.S6.H5._a a.Qwuub').text.strip()\n",
    "#                 review_text = div.find_element(By.CSS_SELECTOR, 'span.QewHA.H4._a').text.strip()\n",
    "#                 travel_date = div.find_element(By.CSS_SELECTOR, 'span.teHYY._R.Me.S4.H3').text.strip()\n",
    "\n",
    "#                 rating = div.find_element(By.CSS_SELECTOR, 'span.ui_bubble_rating').get_attribute('class')\n",
    "#                 rating = rating.split('_')[-1]\n",
    "\n",
    "#                 reviews.append({\n",
    "#                     'Reviewer Name': reviewer_name,\n",
    "#                     'Review Date': review_date,\n",
    "#                     'Scraped Date': date.today(),\n",
    "#                     'Review Title': review_title,\n",
    "#                     'Review Text': review_text,\n",
    "#                     'Travel Date': travel_date,\n",
    "#                     'Overall Rating': int(rating)/10\n",
    "#                 })\n",
    "\n",
    "#                 ratings_categories = {category: None for category in categories}\n",
    "\n",
    "#                 for category in categories:\n",
    "#                     category_div = div.find_elements(By.XPATH, f\".//div[span[text()='{category}']]\")\n",
    "#                     if category_div:\n",
    "#                         rating_class = category_div[0].find_element(By.CSS_SELECTOR, 'span.ui_bubble_rating').get_attribute('class')\n",
    "#                         ratings_categories[category] = rating_class.split('_')[-1]\n",
    "\n",
    "#                 review.update(ratings_categories)\n",
    "\n",
    "#             except Exception as e:\n",
    "#                 print(f\"Error in extracting data: {e}\")\n",
    "\n",
    "#         try:\n",
    "#             next_button = WebDriverWait(driver, 10).until(\n",
    "#                 EC.element_to_be_clickable((By.CSS_SELECTOR, \"a.nav.next.ui_button.primary\"))\n",
    "#             )\n",
    "#             if \"disabled\" in next_button.get_attribute(\"class\"):\n",
    "#                 print(\"Reached the last page.\")\n",
    "#                 break\n",
    "\n",
    "#             next_button.click()\n",
    "#             WebDriverWait(driver, 10).until(EC.staleness_of(next_button))\n",
    "#             page_number += 1\n",
    "#             time.sleep(3)\n",
    "\n",
    "#         except (NoSuchElementException, TimeoutException):\n",
    "#             print(\"Reached the end of the pages or encountered an error.\")\n",
    "#             break\n",
    "    \n",
    "#     pprint(reviews)\n",
    "#     driver.quit()\n",
    "#     return reviews\n",
    "\n",
    "#     # Write data to CSV\n",
    "#     # with open('tripadvisor_reviews.csv', 'w', newline='', encoding='utf-8') as file:\n",
    "#     #     writer = csv.DictWriter(file, fieldnames=['Reviewer Name', 'Review Date', 'Location', 'Review Title', 'Review Text', 'Travel Date', 'Rating'])\n",
    "#     #     writer.writeheader()\n",
    "#     #     writer.writerows(reviews)\n",
    "\n",
    "# url = \"https://www.tripadvisor.com/Airline_Review-d8729151-Reviews-or35-Singapore-Airlines.html#REVIEWS\"\n",
    "# res = scrape_tripadvisor_reviews(url)\n",
    "# res"
   ]
  },
  {
   "cell_type": "code",
   "execution_count": 122,
   "id": "1252198d-77b2-48f1-88b7-1c56979b3165",
   "metadata": {
    "tags": []
   },
   "outputs": [
    {
     "data": {
      "text/plain": [
       "[{'Reviewer Name': 'Anneris g',\n",
       "  'Review Date': 'Anneris g wrote a review Yesterday',\n",
       "  'Review Title': 'Efficient',\n",
       "  'Review Text': 'The plane was clean comfy and in good condition. The staff made it very easy to board and exit the plane. They were very friendly and helpful',\n",
       "  'Travel Date': 'Date of travel: January 2024',\n",
       "  'Rating': '50'},\n",
       " {'Reviewer Name': 'Quest15166945187',\n",
       "  'Review Date': 'Quest15166945187 wrote a review Yesterday',\n",
       "  'Review Title': 'Today they earned 300USD but lost customer for 25 years',\n",
       "  'Review Text': 'Their baggage policy is worst. Today they earned 300 dollars from me but the lost a customer for next 25 years. I paid for ticket 134 dollars and paid for baggage 230 us dollors. I have travelled to more than 2500 flieghts in my life time. This is the worst experience. …',\n",
       "  'Travel Date': 'Date of travel: January 2024',\n",
       "  'Rating': '10'},\n",
       " {'Reviewer Name': 'Daydream49774414576',\n",
       "  'Review Date': 'Daydream49774414576 wrote a review Yesterday',\n",
       "  'Review Title': 'Worse airline experience ever',\n",
       "  'Review Text': 'I’m not even on the plane, and I already regret flying for the first time with Spirit Airlines. First, I was told that TSA pre-check numbers are not printing on boarding passes - but not to worry, the TSA security agent would have it when I got there. LIE!! Security told me…',\n",
       "  'Travel Date': 'Date of travel: January 2024',\n",
       "  'Rating': '10'},\n",
       " {'Reviewer Name': 'Masuma B',\n",
       "  'Review Date': 'Masuma B wrote a review Yesterday',\n",
       "  'Review Title': 'Ruined my experience',\n",
       "  'Review Text': 'Horrible experience. I paid to check in my bags and it’s been 3 days since I have not received it yet. Mind you, im pregnant',\n",
       "  'Travel Date': 'Date of travel: January 2024',\n",
       "  'Rating': '10'},\n",
       " {'Reviewer Name': 'Denise M',\n",
       "  'Review Date': 'Denise M wrote a review Yesterday',\n",
       "  'Review Title': 'So far, so good. I am a happy camper.',\n",
       "  'Review Text': 'Jumped from first class travel on a major airline to Spirit about 5 years ago now. I came upon the airline while shopping for a last minute fare for my son to travel with me. I loved the price and I booked only to get negative after negative feedback about Spirit. One…',\n",
       "  'Travel Date': 'Date of travel: January 2024',\n",
       "  'Rating': '50'}]"
      ]
     },
     "execution_count": 122,
     "metadata": {},
     "output_type": "execute_result"
    }
   ],
   "source": [
    "# res"
   ]
  },
  {
   "cell_type": "markdown",
   "id": "60531de4-433d-4cc2-a5ab-430af5e58cf3",
   "metadata": {
    "jp-MarkdownHeadingCollapsed": true,
    "tags": []
   },
   "source": [
    "### Gather each airline reviews [v3]"
   ]
  },
  {
   "cell_type": "markdown",
   "id": "a93f079e-7048-4623-96b6-a97331d579a7",
   "metadata": {
    "jp-MarkdownHeadingCollapsed": true,
    "tags": []
   },
   "source": [
    "#### Creating the basic scraping functions"
   ]
  },
  {
   "cell_type": "code",
   "execution_count": 228,
   "id": "04ba03ca-0021-4da9-8192-1c0065156bec",
   "metadata": {
    "tags": []
   },
   "outputs": [],
   "source": [
    "def init_driver():\n",
    "    ua = UserAgent()\n",
    "    my_user_agent = ua.chrome\n",
    "\n",
    "    options = webdriver.ChromeOptions()\n",
    "    options.add_argument('--ignore-certificate-errors')\n",
    "    options.add_argument('--incognito')\n",
    "    options.add_argument(f\"user-agent={my_user_agent}\")\n",
    "    options.add_argument(\"--disable-blink-features=AutomationControlled\")\n",
    "    options.add_argument(\"--disable-dev-shm-usage\")\n",
    "    options.add_argument(\"--no-sandbox\")\n",
    "\n",
    "    # try:\n",
    "    #     proxy = FreeProxy().get()\n",
    "    #     countries = ['US', 'AU', 'JP', 'BR', 'DE']\n",
    "    #     random_country = random.choice(countries)\n",
    "    #     options.add_argument(f'--proxy-server={proxy}')\n",
    "    #     print(f\"Using proxy from {random_country}: {proxy}\")\n",
    "    # except FreeProxyException:\n",
    "    #     print(\"No working proxies found, try again later !\")\n",
    "\n",
    "    service = Service(ChromeDriverManager().install())\n",
    "    return uc.Chrome(service=service, options=options)"
   ]
  },
  {
   "cell_type": "code",
   "execution_count": 233,
   "id": "b0c90ba3-856a-474b-b9c1-4d92274619e2",
   "metadata": {
    "tags": []
   },
   "outputs": [],
   "source": [
    "def scrape_review(div):\n",
    "    \n",
    "    try:\n",
    "        reviewer_name = div.find_element(By.CSS_SELECTOR, 'a.ui_header_link.uyyBf').text.strip()\n",
    "        review_date = div.find_element(By.CSS_SELECTOR, 'div.cRVSd').text.strip()\n",
    "        review_title = div.find_element(By.CSS_SELECTOR, 'div.KgQgP.MC._S.b.S6.H5._a a.Qwuub').text.strip()\n",
    "        spans = div.find_elements(By.CSS_SELECTOR, 'span.QewHA.H4._a > span')\n",
    "        review_text = ' '.join(span.text.strip() for span in spans)\n",
    "        travel_date = div.find_element(By.CSS_SELECTOR, 'span.teHYY._R.Me.S4.H3').text.strip()\n",
    "\n",
    "        rating = div.find_element(By.CSS_SELECTOR, 'span.ui_bubble_rating').get_attribute('class')\n",
    "        overall_rating = int(rating.split('_')[-1]) / 10\n",
    "\n",
    "        review = {\n",
    "            'Reviewer Name': reviewer_name,\n",
    "            'Review Date': review_date,\n",
    "            'Scraped Date': date.today().strftime('%Y-%m-%d'),\n",
    "            'Review Title': review_title,\n",
    "            'Review Text': review_text,\n",
    "            'Travel Date': travel_date,\n",
    "            'Overall Rating': overall_rating\n",
    "        }\n",
    "        \n",
    "        categories = [\"Legroom\", \"Seat comfort\", \"In-flight Entertainment\", \"Customer service\", \"Value for money\", \"Cleanliness\", \"Check-in and boarding\", \"Food and Beverage\"]\n",
    "\n",
    "        # category_review = {category: None for category in categories}\n",
    "\n",
    "        categories_container = div.find_elements(By.CSS_SELECTOR, 'div.hemdC.S2.H2')\n",
    "        print(categories_container)\n",
    "\n",
    "        for category_element in categories_container:\n",
    "            category_name_span = category_element.find_element(By.CSS_SELECTOR, 'span:nth-last-child(1)') \n",
    "            category_name = category_name_span.text.strip()\n",
    "            print(category_name)\n",
    "\n",
    "            if category_name in categories:\n",
    "                rating_span = category_element.find_element(By.CSS_SELECTOR, 'span.ui_bubble_rating')\n",
    "                rating_class = rating_span.get_attribute('class')\n",
    "                print(rating_class)\n",
    "                review[category_name] = int(rating_class.split('_')[-1]) // 10 \n",
    "                \n",
    "        flight_details = div.find_elements(By.CSS_SELECTOR, 'div.tNvbV.f div.dmRSR.n.R2.S2')\n",
    "        if flight_details:\n",
    "            flight_route = flight_details[0].text if len(flight_details) > 0 else None\n",
    "            flight_type = flight_details[1].text if len(flight_details) > 1 else None\n",
    "            flight_class = flight_details[2].text if len(flight_details) > 2 else None\n",
    "\n",
    "            review['Flight Route'] = flight_route\n",
    "            review['Flight Type'] = flight_type\n",
    "            review['Flight Class'] = flight_class\n",
    "\n",
    "        return review\n",
    "    except Exception as e:\n",
    "        return None"
   ]
  },
  {
   "cell_type": "code",
   "execution_count": 237,
   "id": "08a6504b-95ff-4156-bfef-5d8746504cb3",
   "metadata": {
    "tags": []
   },
   "outputs": [],
   "source": [
    "def page_has_loaded(driver):\n",
    "    return driver.execute_script(\"return document.readyState\") == \"complete\"\n",
    "\n",
    "def go_to_next_page(driver):\n",
    "    try:\n",
    "        next_button = WebDriverWait(driver, 10).until(\n",
    "            EC.element_to_be_clickable((By.CSS_SELECTOR, \"a.ui_button.nav.next.primary\"))\n",
    "        )\n",
    "        \n",
    "        if \"disabled\" in next_button.get_attribute(\"class\"):\n",
    "            print(\"log: Reached the last page.\")\n",
    "            return False\n",
    "        \n",
    "        next_button.click()\n",
    "        WebDriverWait(driver, 10).until(EC.staleness_of(next_button))\n",
    "        WebDriverWait(driver, 10).until(page_has_loaded)\n",
    "\n",
    "        return True\n",
    "\n",
    "    except (NoSuchElementException, TimeoutException):\n",
    "        print(\"log: Reached the end of the pages or encountered an error.\")\n",
    "        return False"
   ]
  },
  {
   "cell_type": "code",
   "execution_count": 238,
   "id": "39341821-cbff-4f3e-9244-39058ab1b047",
   "metadata": {
    "tags": []
   },
   "outputs": [],
   "source": [
    "def scrape_tripadvisor_reviews(url):\n",
    "    driver = init_driver()\n",
    "    driver.get(url)\n",
    "    time.sleep(3)\n",
    "\n",
    "    reviews = []\n",
    "\n",
    "    while True:\n",
    "        review_divs = driver.find_elements(By.CSS_SELECTOR, 'div.lgfjP.Gi.z.pBVnE.MD.bZHZM')\n",
    "        for div in review_divs:\n",
    "            review = scrape_review(div)\n",
    "            if review:\n",
    "                reviews.append(review)\n",
    "\n",
    "        if not go_to_next_page(driver):\n",
    "            break\n",
    "\n",
    "    driver.quit()\n",
    "    return reviews"
   ]
  },
  {
   "cell_type": "code",
   "execution_count": 239,
   "id": "75518c02-6649-4fe9-a111-9ec7d836f5d4",
   "metadata": {
    "tags": []
   },
   "outputs": [
    {
     "name": "stdout",
     "output_type": "stream",
     "text": [
      "log: Reached the end of the pages or encountered an error.\n",
      "[]\n"
     ]
    }
   ],
   "source": [
    "url = \"https://www.tripadvisor.com/Airline_Review-d11831129-Reviews-Aerolinea-De-Antioquia\"\n",
    "res = scrape_tripadvisor_reviews(url)\n",
    "pprint(res)"
   ]
  },
  {
   "cell_type": "markdown",
   "id": "a108302f-035c-4d66-9e47-c25134a21687",
   "metadata": {
    "jp-MarkdownHeadingCollapsed": true,
    "tags": []
   },
   "source": [
    "#### Processing as a batch"
   ]
  },
  {
   "cell_type": "code",
   "execution_count": 177,
   "id": "977b59df-54f0-4d12-9194-e2219b67bc03",
   "metadata": {
    "tags": []
   },
   "outputs": [],
   "source": [
    "def save_checkpoint(index, checkpoint_file='checkpoint.txt'):\n",
    "    with open(checkpoint_file, 'w') as file:\n",
    "        file.write(str(index))\n",
    "\n",
    "def load_checkpoint(checkpoint_file='checkpoint.txt'):\n",
    "    if os.path.exists(checkpoint_file):\n",
    "        with open(checkpoint_file, 'r') as file:\n",
    "            return int(file.read().strip())\n",
    "    return 0\n",
    "\n",
    "def process_batch(urls):\n",
    "    all_reviews = []\n",
    "    for url in urls:\n",
    "        reviews = scrape_tripadvisor_reviews(url)\n",
    "        all_reviews.extend(reviews)\n",
    "    return all_reviews\n",
    "\n",
    "def write_to_csv(reviews, filename):\n",
    "    if not reviews:\n",
    "        return\n",
    "\n",
    "    with open(filename, 'a', newline='', encoding='utf-8') as file:\n",
    "        writer = csv.DictWriter(file, fieldnames=reviews[0].keys())\n",
    "        if file.tell() == 0:\n",
    "            writer.writeheader()\n",
    "        writer.writerows(reviews)"
   ]
  },
  {
   "cell_type": "code",
   "execution_count": 178,
   "id": "a9fbfa98-1843-45cd-b29c-b393d80dc807",
   "metadata": {
    "tags": []
   },
   "outputs": [
    {
     "name": "stdout",
     "output_type": "stream",
     "text": [
      "log: No data found or There is an Error\n",
      "log: No data found or There is an Error\n",
      "log: No data found or There is an Error\n",
      "log: No data found or There is an Error\n",
      "log: No data found or There is an Error\n",
      "log: No data found or There is an Error\n",
      "log: No data found or There is an Error\n",
      "log: No data found or There is an Error\n",
      "log: No data found or There is an Error\n",
      "log: Reached the end of the pages or encountered an error.\n",
      "log: No data found or There is an Error\n",
      "log: No data found or There is an Error\n",
      "log: No data found or There is an Error\n",
      "log: No data found or There is an Error\n",
      "log: No data found or There is an Error\n",
      "log: No data found or There is an Error\n",
      "log: No data found or There is an Error\n",
      "log: No data found or There is an Error\n",
      "log: No data found or There is an Error\n",
      "log: No data found or There is an Error\n",
      "log: Reached the end of the pages or encountered an error.\n"
     ]
    },
    {
     "ename": "KeyboardInterrupt",
     "evalue": "",
     "output_type": "error",
     "traceback": [
      "\u001b[0;31m---------------------------------------------------------------------------\u001b[0m",
      "\u001b[0;31mKeyboardInterrupt\u001b[0m                         Traceback (most recent call last)",
      "Cell \u001b[0;32mIn[178], line 10\u001b[0m\n\u001b[1;32m      8\u001b[0m \u001b[38;5;28;01mfor\u001b[39;00m i \u001b[38;5;129;01min\u001b[39;00m \u001b[38;5;28mrange\u001b[39m(start_index, \u001b[38;5;28mlen\u001b[39m(df[\u001b[38;5;124m'\u001b[39m\u001b[38;5;124mReview Link\u001b[39m\u001b[38;5;124m'\u001b[39m]), batch_size):\n\u001b[1;32m      9\u001b[0m     batch_urls \u001b[38;5;241m=\u001b[39m df[\u001b[38;5;124m'\u001b[39m\u001b[38;5;124mReview Link\u001b[39m\u001b[38;5;124m'\u001b[39m][i:i \u001b[38;5;241m+\u001b[39m batch_size]\u001b[38;5;241m.\u001b[39mtolist()\n\u001b[0;32m---> 10\u001b[0m     batch_reviews \u001b[38;5;241m=\u001b[39m \u001b[43mprocess_batch\u001b[49m\u001b[43m(\u001b[49m\u001b[43mbatch_urls\u001b[49m\u001b[43m)\u001b[49m\n\u001b[1;32m     11\u001b[0m     write_to_csv(batch_reviews, filename)\n\u001b[1;32m     12\u001b[0m     save_checkpoint(i \u001b[38;5;241m+\u001b[39m batch_size, checkpoint_file)\n",
      "Cell \u001b[0;32mIn[177], line 14\u001b[0m, in \u001b[0;36mprocess_batch\u001b[0;34m(urls)\u001b[0m\n\u001b[1;32m     12\u001b[0m all_reviews \u001b[38;5;241m=\u001b[39m []\n\u001b[1;32m     13\u001b[0m \u001b[38;5;28;01mfor\u001b[39;00m url \u001b[38;5;129;01min\u001b[39;00m urls:\n\u001b[0;32m---> 14\u001b[0m     reviews \u001b[38;5;241m=\u001b[39m \u001b[43mscrape_tripadvisor_reviews\u001b[49m\u001b[43m(\u001b[49m\u001b[43murl\u001b[49m\u001b[43m)\u001b[49m\n\u001b[1;32m     15\u001b[0m     all_reviews\u001b[38;5;241m.\u001b[39mextend(reviews)\n\u001b[1;32m     16\u001b[0m \u001b[38;5;28;01mreturn\u001b[39;00m all_reviews\n",
      "Cell \u001b[0;32mIn[172], line 2\u001b[0m, in \u001b[0;36mscrape_tripadvisor_reviews\u001b[0;34m(url)\u001b[0m\n\u001b[1;32m      1\u001b[0m \u001b[38;5;28;01mdef\u001b[39;00m \u001b[38;5;21mscrape_tripadvisor_reviews\u001b[39m(url):\n\u001b[0;32m----> 2\u001b[0m     driver \u001b[38;5;241m=\u001b[39m \u001b[43minit_driver\u001b[49m\u001b[43m(\u001b[49m\u001b[43m)\u001b[49m\n\u001b[1;32m      3\u001b[0m     driver\u001b[38;5;241m.\u001b[39mget(url)\n\u001b[1;32m      4\u001b[0m     time\u001b[38;5;241m.\u001b[39msleep(\u001b[38;5;241m3\u001b[39m)\n",
      "Cell \u001b[0;32mIn[156], line 23\u001b[0m, in \u001b[0;36minit_driver\u001b[0;34m()\u001b[0m\n\u001b[1;32m     13\u001b[0m \u001b[38;5;66;03m# try:\u001b[39;00m\n\u001b[1;32m     14\u001b[0m \u001b[38;5;66;03m#     proxy = FreeProxy().get()\u001b[39;00m\n\u001b[1;32m     15\u001b[0m \u001b[38;5;66;03m#     countries = ['US', 'AU', 'JP', 'BR', 'DE']\u001b[39;00m\n\u001b[0;32m   (...)\u001b[0m\n\u001b[1;32m     19\u001b[0m \u001b[38;5;66;03m# except FreeProxyException:\u001b[39;00m\n\u001b[1;32m     20\u001b[0m \u001b[38;5;66;03m#     print(\"No working proxies found, try again later !\")\u001b[39;00m\n\u001b[1;32m     22\u001b[0m service \u001b[38;5;241m=\u001b[39m Service(ChromeDriverManager()\u001b[38;5;241m.\u001b[39minstall())\n\u001b[0;32m---> 23\u001b[0m \u001b[38;5;28;01mreturn\u001b[39;00m \u001b[43muc\u001b[49m\u001b[38;5;241;43m.\u001b[39;49m\u001b[43mChrome\u001b[49m\u001b[43m(\u001b[49m\u001b[43mservice\u001b[49m\u001b[38;5;241;43m=\u001b[39;49m\u001b[43mservice\u001b[49m\u001b[43m,\u001b[49m\u001b[43m \u001b[49m\u001b[43moptions\u001b[49m\u001b[38;5;241;43m=\u001b[39;49m\u001b[43moptions\u001b[49m\u001b[43m)\u001b[49m\n",
      "File \u001b[0;32m~/opt/miniconda3/envs/torchenv/lib/python3.9/site-packages/undetected_chromedriver/__init__.py:466\u001b[0m, in \u001b[0;36mChrome.__init__\u001b[0;34m(self, options, user_data_dir, driver_executable_path, browser_executable_path, port, enable_cdp_events, desired_capabilities, advanced_elements, keep_alive, log_level, headless, version_main, patcher_force_close, suppress_welcome, use_subprocess, debug, no_sandbox, user_multi_procs, **kw)\u001b[0m\n\u001b[1;32m    459\u001b[0m     \u001b[38;5;28mself\u001b[39m\u001b[38;5;241m.\u001b[39mbrowser_pid \u001b[38;5;241m=\u001b[39m browser\u001b[38;5;241m.\u001b[39mpid\n\u001b[1;32m    462\u001b[0m service \u001b[38;5;241m=\u001b[39m selenium\u001b[38;5;241m.\u001b[39mwebdriver\u001b[38;5;241m.\u001b[39mchromium\u001b[38;5;241m.\u001b[39mservice\u001b[38;5;241m.\u001b[39mChromiumService(\n\u001b[1;32m    463\u001b[0m     \u001b[38;5;28mself\u001b[39m\u001b[38;5;241m.\u001b[39mpatcher\u001b[38;5;241m.\u001b[39mexecutable_path\n\u001b[1;32m    464\u001b[0m )\n\u001b[0;32m--> 466\u001b[0m \u001b[38;5;28;43msuper\u001b[39;49m\u001b[43m(\u001b[49m\u001b[43mChrome\u001b[49m\u001b[43m,\u001b[49m\u001b[43m \u001b[49m\u001b[38;5;28;43mself\u001b[39;49m\u001b[43m)\u001b[49m\u001b[38;5;241;43m.\u001b[39;49m\u001b[38;5;21;43m__init__\u001b[39;49m\u001b[43m(\u001b[49m\n\u001b[1;32m    467\u001b[0m \u001b[43m    \u001b[49m\u001b[43mservice\u001b[49m\u001b[38;5;241;43m=\u001b[39;49m\u001b[43mservice\u001b[49m\u001b[43m,\u001b[49m\n\u001b[1;32m    468\u001b[0m \u001b[43m    \u001b[49m\u001b[43moptions\u001b[49m\u001b[38;5;241;43m=\u001b[39;49m\u001b[43moptions\u001b[49m\u001b[43m,\u001b[49m\n\u001b[1;32m    469\u001b[0m \u001b[43m    \u001b[49m\u001b[43mkeep_alive\u001b[49m\u001b[38;5;241;43m=\u001b[39;49m\u001b[43mkeep_alive\u001b[49m\u001b[43m,\u001b[49m\n\u001b[1;32m    470\u001b[0m \u001b[43m\u001b[49m\u001b[43m)\u001b[49m\n\u001b[1;32m    472\u001b[0m \u001b[38;5;28mself\u001b[39m\u001b[38;5;241m.\u001b[39mreactor \u001b[38;5;241m=\u001b[39m \u001b[38;5;28;01mNone\u001b[39;00m\n\u001b[1;32m    474\u001b[0m \u001b[38;5;28;01mif\u001b[39;00m enable_cdp_events:\n",
      "File \u001b[0;32m~/opt/miniconda3/envs/torchenv/lib/python3.9/site-packages/selenium/webdriver/chrome/webdriver.py:45\u001b[0m, in \u001b[0;36mWebDriver.__init__\u001b[0;34m(self, options, service, keep_alive)\u001b[0m\n\u001b[1;32m     42\u001b[0m service \u001b[38;5;241m=\u001b[39m service \u001b[38;5;28;01mif\u001b[39;00m service \u001b[38;5;28;01melse\u001b[39;00m Service()\n\u001b[1;32m     43\u001b[0m options \u001b[38;5;241m=\u001b[39m options \u001b[38;5;28;01mif\u001b[39;00m options \u001b[38;5;28;01melse\u001b[39;00m Options()\n\u001b[0;32m---> 45\u001b[0m \u001b[38;5;28;43msuper\u001b[39;49m\u001b[43m(\u001b[49m\u001b[43m)\u001b[49m\u001b[38;5;241;43m.\u001b[39;49m\u001b[38;5;21;43m__init__\u001b[39;49m\u001b[43m(\u001b[49m\n\u001b[1;32m     46\u001b[0m \u001b[43m    \u001b[49m\u001b[43mbrowser_name\u001b[49m\u001b[38;5;241;43m=\u001b[39;49m\u001b[43mDesiredCapabilities\u001b[49m\u001b[38;5;241;43m.\u001b[39;49m\u001b[43mCHROME\u001b[49m\u001b[43m[\u001b[49m\u001b[38;5;124;43m\"\u001b[39;49m\u001b[38;5;124;43mbrowserName\u001b[39;49m\u001b[38;5;124;43m\"\u001b[39;49m\u001b[43m]\u001b[49m\u001b[43m,\u001b[49m\n\u001b[1;32m     47\u001b[0m \u001b[43m    \u001b[49m\u001b[43mvendor_prefix\u001b[49m\u001b[38;5;241;43m=\u001b[39;49m\u001b[38;5;124;43m\"\u001b[39;49m\u001b[38;5;124;43mgoog\u001b[39;49m\u001b[38;5;124;43m\"\u001b[39;49m\u001b[43m,\u001b[49m\n\u001b[1;32m     48\u001b[0m \u001b[43m    \u001b[49m\u001b[43moptions\u001b[49m\u001b[38;5;241;43m=\u001b[39;49m\u001b[43moptions\u001b[49m\u001b[43m,\u001b[49m\n\u001b[1;32m     49\u001b[0m \u001b[43m    \u001b[49m\u001b[43mservice\u001b[49m\u001b[38;5;241;43m=\u001b[39;49m\u001b[43mservice\u001b[49m\u001b[43m,\u001b[49m\n\u001b[1;32m     50\u001b[0m \u001b[43m    \u001b[49m\u001b[43mkeep_alive\u001b[49m\u001b[38;5;241;43m=\u001b[39;49m\u001b[43mkeep_alive\u001b[49m\u001b[43m,\u001b[49m\n\u001b[1;32m     51\u001b[0m \u001b[43m\u001b[49m\u001b[43m)\u001b[49m\n",
      "File \u001b[0;32m~/opt/miniconda3/envs/torchenv/lib/python3.9/site-packages/selenium/webdriver/chromium/webdriver.py:61\u001b[0m, in \u001b[0;36mChromiumDriver.__init__\u001b[0;34m(self, browser_name, vendor_prefix, options, service, keep_alive)\u001b[0m\n\u001b[1;32m     52\u001b[0m executor \u001b[38;5;241m=\u001b[39m ChromiumRemoteConnection(\n\u001b[1;32m     53\u001b[0m     remote_server_addr\u001b[38;5;241m=\u001b[39m\u001b[38;5;28mself\u001b[39m\u001b[38;5;241m.\u001b[39mservice\u001b[38;5;241m.\u001b[39mservice_url,\n\u001b[1;32m     54\u001b[0m     browser_name\u001b[38;5;241m=\u001b[39mbrowser_name,\n\u001b[0;32m   (...)\u001b[0m\n\u001b[1;32m     57\u001b[0m     ignore_proxy\u001b[38;5;241m=\u001b[39moptions\u001b[38;5;241m.\u001b[39m_ignore_local_proxy,\n\u001b[1;32m     58\u001b[0m )\n\u001b[1;32m     60\u001b[0m \u001b[38;5;28;01mtry\u001b[39;00m:\n\u001b[0;32m---> 61\u001b[0m     \u001b[38;5;28;43msuper\u001b[39;49m\u001b[43m(\u001b[49m\u001b[43m)\u001b[49m\u001b[38;5;241;43m.\u001b[39;49m\u001b[38;5;21;43m__init__\u001b[39;49m\u001b[43m(\u001b[49m\u001b[43mcommand_executor\u001b[49m\u001b[38;5;241;43m=\u001b[39;49m\u001b[43mexecutor\u001b[49m\u001b[43m,\u001b[49m\u001b[43m \u001b[49m\u001b[43moptions\u001b[49m\u001b[38;5;241;43m=\u001b[39;49m\u001b[43moptions\u001b[49m\u001b[43m)\u001b[49m\n\u001b[1;32m     62\u001b[0m \u001b[38;5;28;01mexcept\u001b[39;00m \u001b[38;5;167;01mException\u001b[39;00m:\n\u001b[1;32m     63\u001b[0m     \u001b[38;5;28mself\u001b[39m\u001b[38;5;241m.\u001b[39mquit()\n",
      "File \u001b[0;32m~/opt/miniconda3/envs/torchenv/lib/python3.9/site-packages/selenium/webdriver/remote/webdriver.py:209\u001b[0m, in \u001b[0;36mWebDriver.__init__\u001b[0;34m(self, command_executor, keep_alive, file_detector, options)\u001b[0m\n\u001b[1;32m    207\u001b[0m \u001b[38;5;28mself\u001b[39m\u001b[38;5;241m.\u001b[39m_authenticator_id \u001b[38;5;241m=\u001b[39m \u001b[38;5;28;01mNone\u001b[39;00m\n\u001b[1;32m    208\u001b[0m \u001b[38;5;28mself\u001b[39m\u001b[38;5;241m.\u001b[39mstart_client()\n\u001b[0;32m--> 209\u001b[0m \u001b[38;5;28;43mself\u001b[39;49m\u001b[38;5;241;43m.\u001b[39;49m\u001b[43mstart_session\u001b[49m\u001b[43m(\u001b[49m\u001b[43mcapabilities\u001b[49m\u001b[43m)\u001b[49m\n",
      "File \u001b[0;32m~/opt/miniconda3/envs/torchenv/lib/python3.9/site-packages/undetected_chromedriver/__init__.py:724\u001b[0m, in \u001b[0;36mChrome.start_session\u001b[0;34m(self, capabilities, browser_profile)\u001b[0m\n\u001b[1;32m    722\u001b[0m \u001b[38;5;28;01mif\u001b[39;00m \u001b[38;5;129;01mnot\u001b[39;00m capabilities:\n\u001b[1;32m    723\u001b[0m     capabilities \u001b[38;5;241m=\u001b[39m \u001b[38;5;28mself\u001b[39m\u001b[38;5;241m.\u001b[39moptions\u001b[38;5;241m.\u001b[39mto_capabilities()\n\u001b[0;32m--> 724\u001b[0m \u001b[38;5;28;43msuper\u001b[39;49m\u001b[43m(\u001b[49m\u001b[43mselenium\u001b[49m\u001b[38;5;241;43m.\u001b[39;49m\u001b[43mwebdriver\u001b[49m\u001b[38;5;241;43m.\u001b[39;49m\u001b[43mchrome\u001b[49m\u001b[38;5;241;43m.\u001b[39;49m\u001b[43mwebdriver\u001b[49m\u001b[38;5;241;43m.\u001b[39;49m\u001b[43mWebDriver\u001b[49m\u001b[43m,\u001b[49m\u001b[43m \u001b[49m\u001b[38;5;28;43mself\u001b[39;49m\u001b[43m)\u001b[49m\u001b[38;5;241;43m.\u001b[39;49m\u001b[43mstart_session\u001b[49m\u001b[43m(\u001b[49m\n\u001b[1;32m    725\u001b[0m \u001b[43m    \u001b[49m\u001b[43mcapabilities\u001b[49m\n\u001b[1;32m    726\u001b[0m \u001b[43m\u001b[49m\u001b[43m)\u001b[49m\n",
      "File \u001b[0;32m~/opt/miniconda3/envs/torchenv/lib/python3.9/site-packages/selenium/webdriver/remote/webdriver.py:293\u001b[0m, in \u001b[0;36mWebDriver.start_session\u001b[0;34m(self, capabilities)\u001b[0m\n\u001b[1;32m    286\u001b[0m \u001b[38;5;250m\u001b[39m\u001b[38;5;124;03m\"\"\"Creates a new session with the desired capabilities.\u001b[39;00m\n\u001b[1;32m    287\u001b[0m \n\u001b[1;32m    288\u001b[0m \u001b[38;5;124;03m:Args:\u001b[39;00m\n\u001b[1;32m    289\u001b[0m \u001b[38;5;124;03m - capabilities - a capabilities dict to start the session with.\u001b[39;00m\n\u001b[1;32m    290\u001b[0m \u001b[38;5;124;03m\"\"\"\u001b[39;00m\n\u001b[1;32m    292\u001b[0m caps \u001b[38;5;241m=\u001b[39m _create_caps(capabilities)\n\u001b[0;32m--> 293\u001b[0m response \u001b[38;5;241m=\u001b[39m \u001b[38;5;28;43mself\u001b[39;49m\u001b[38;5;241;43m.\u001b[39;49m\u001b[43mexecute\u001b[49m\u001b[43m(\u001b[49m\u001b[43mCommand\u001b[49m\u001b[38;5;241;43m.\u001b[39;49m\u001b[43mNEW_SESSION\u001b[49m\u001b[43m,\u001b[49m\u001b[43m \u001b[49m\u001b[43mcaps\u001b[49m\u001b[43m)\u001b[49m[\u001b[38;5;124m\"\u001b[39m\u001b[38;5;124mvalue\u001b[39m\u001b[38;5;124m\"\u001b[39m]\n\u001b[1;32m    294\u001b[0m \u001b[38;5;28mself\u001b[39m\u001b[38;5;241m.\u001b[39msession_id \u001b[38;5;241m=\u001b[39m response\u001b[38;5;241m.\u001b[39mget(\u001b[38;5;124m\"\u001b[39m\u001b[38;5;124msessionId\u001b[39m\u001b[38;5;124m\"\u001b[39m)\n\u001b[1;32m    295\u001b[0m \u001b[38;5;28mself\u001b[39m\u001b[38;5;241m.\u001b[39mcaps \u001b[38;5;241m=\u001b[39m response\u001b[38;5;241m.\u001b[39mget(\u001b[38;5;124m\"\u001b[39m\u001b[38;5;124mcapabilities\u001b[39m\u001b[38;5;124m\"\u001b[39m)\n",
      "File \u001b[0;32m~/opt/miniconda3/envs/torchenv/lib/python3.9/site-packages/selenium/webdriver/remote/webdriver.py:346\u001b[0m, in \u001b[0;36mWebDriver.execute\u001b[0;34m(self, driver_command, params)\u001b[0m\n\u001b[1;32m    343\u001b[0m     \u001b[38;5;28;01melif\u001b[39;00m \u001b[38;5;124m\"\u001b[39m\u001b[38;5;124msessionId\u001b[39m\u001b[38;5;124m\"\u001b[39m \u001b[38;5;129;01mnot\u001b[39;00m \u001b[38;5;129;01min\u001b[39;00m params:\n\u001b[1;32m    344\u001b[0m         params[\u001b[38;5;124m\"\u001b[39m\u001b[38;5;124msessionId\u001b[39m\u001b[38;5;124m\"\u001b[39m] \u001b[38;5;241m=\u001b[39m \u001b[38;5;28mself\u001b[39m\u001b[38;5;241m.\u001b[39msession_id\n\u001b[0;32m--> 346\u001b[0m response \u001b[38;5;241m=\u001b[39m \u001b[38;5;28;43mself\u001b[39;49m\u001b[38;5;241;43m.\u001b[39;49m\u001b[43mcommand_executor\u001b[49m\u001b[38;5;241;43m.\u001b[39;49m\u001b[43mexecute\u001b[49m\u001b[43m(\u001b[49m\u001b[43mdriver_command\u001b[49m\u001b[43m,\u001b[49m\u001b[43m \u001b[49m\u001b[43mparams\u001b[49m\u001b[43m)\u001b[49m\n\u001b[1;32m    347\u001b[0m \u001b[38;5;28;01mif\u001b[39;00m response:\n\u001b[1;32m    348\u001b[0m     \u001b[38;5;28mself\u001b[39m\u001b[38;5;241m.\u001b[39merror_handler\u001b[38;5;241m.\u001b[39mcheck_response(response)\n",
      "File \u001b[0;32m~/opt/miniconda3/envs/torchenv/lib/python3.9/site-packages/selenium/webdriver/remote/remote_connection.py:300\u001b[0m, in \u001b[0;36mRemoteConnection.execute\u001b[0;34m(self, command, params)\u001b[0m\n\u001b[1;32m    298\u001b[0m data \u001b[38;5;241m=\u001b[39m utils\u001b[38;5;241m.\u001b[39mdump_json(params)\n\u001b[1;32m    299\u001b[0m url \u001b[38;5;241m=\u001b[39m \u001b[38;5;124mf\u001b[39m\u001b[38;5;124m\"\u001b[39m\u001b[38;5;132;01m{\u001b[39;00m\u001b[38;5;28mself\u001b[39m\u001b[38;5;241m.\u001b[39m_url\u001b[38;5;132;01m}\u001b[39;00m\u001b[38;5;132;01m{\u001b[39;00mpath\u001b[38;5;132;01m}\u001b[39;00m\u001b[38;5;124m\"\u001b[39m\n\u001b[0;32m--> 300\u001b[0m \u001b[38;5;28;01mreturn\u001b[39;00m \u001b[38;5;28;43mself\u001b[39;49m\u001b[38;5;241;43m.\u001b[39;49m\u001b[43m_request\u001b[49m\u001b[43m(\u001b[49m\u001b[43mcommand_info\u001b[49m\u001b[43m[\u001b[49m\u001b[38;5;241;43m0\u001b[39;49m\u001b[43m]\u001b[49m\u001b[43m,\u001b[49m\u001b[43m \u001b[49m\u001b[43murl\u001b[49m\u001b[43m,\u001b[49m\u001b[43m \u001b[49m\u001b[43mbody\u001b[49m\u001b[38;5;241;43m=\u001b[39;49m\u001b[43mdata\u001b[49m\u001b[43m)\u001b[49m\n",
      "File \u001b[0;32m~/opt/miniconda3/envs/torchenv/lib/python3.9/site-packages/selenium/webdriver/remote/remote_connection.py:321\u001b[0m, in \u001b[0;36mRemoteConnection._request\u001b[0;34m(self, method, url, body)\u001b[0m\n\u001b[1;32m    318\u001b[0m     body \u001b[38;5;241m=\u001b[39m \u001b[38;5;28;01mNone\u001b[39;00m\n\u001b[1;32m    320\u001b[0m \u001b[38;5;28;01mif\u001b[39;00m \u001b[38;5;28mself\u001b[39m\u001b[38;5;241m.\u001b[39mkeep_alive:\n\u001b[0;32m--> 321\u001b[0m     response \u001b[38;5;241m=\u001b[39m \u001b[38;5;28;43mself\u001b[39;49m\u001b[38;5;241;43m.\u001b[39;49m\u001b[43m_conn\u001b[49m\u001b[38;5;241;43m.\u001b[39;49m\u001b[43mrequest\u001b[49m\u001b[43m(\u001b[49m\u001b[43mmethod\u001b[49m\u001b[43m,\u001b[49m\u001b[43m \u001b[49m\u001b[43murl\u001b[49m\u001b[43m,\u001b[49m\u001b[43m \u001b[49m\u001b[43mbody\u001b[49m\u001b[38;5;241;43m=\u001b[39;49m\u001b[43mbody\u001b[49m\u001b[43m,\u001b[49m\u001b[43m \u001b[49m\u001b[43mheaders\u001b[49m\u001b[38;5;241;43m=\u001b[39;49m\u001b[43mheaders\u001b[49m\u001b[43m)\u001b[49m\n\u001b[1;32m    322\u001b[0m     statuscode \u001b[38;5;241m=\u001b[39m response\u001b[38;5;241m.\u001b[39mstatus\n\u001b[1;32m    323\u001b[0m \u001b[38;5;28;01melse\u001b[39;00m:\n",
      "File \u001b[0;32m~/opt/miniconda3/envs/torchenv/lib/python3.9/site-packages/urllib3/request.py:78\u001b[0m, in \u001b[0;36mRequestMethods.request\u001b[0;34m(self, method, url, fields, headers, **urlopen_kw)\u001b[0m\n\u001b[1;32m     74\u001b[0m     \u001b[38;5;28;01mreturn\u001b[39;00m \u001b[38;5;28mself\u001b[39m\u001b[38;5;241m.\u001b[39mrequest_encode_url(\n\u001b[1;32m     75\u001b[0m         method, url, fields\u001b[38;5;241m=\u001b[39mfields, headers\u001b[38;5;241m=\u001b[39mheaders, \u001b[38;5;241m*\u001b[39m\u001b[38;5;241m*\u001b[39murlopen_kw\n\u001b[1;32m     76\u001b[0m     )\n\u001b[1;32m     77\u001b[0m \u001b[38;5;28;01melse\u001b[39;00m:\n\u001b[0;32m---> 78\u001b[0m     \u001b[38;5;28;01mreturn\u001b[39;00m \u001b[38;5;28;43mself\u001b[39;49m\u001b[38;5;241;43m.\u001b[39;49m\u001b[43mrequest_encode_body\u001b[49m\u001b[43m(\u001b[49m\n\u001b[1;32m     79\u001b[0m \u001b[43m        \u001b[49m\u001b[43mmethod\u001b[49m\u001b[43m,\u001b[49m\u001b[43m \u001b[49m\u001b[43murl\u001b[49m\u001b[43m,\u001b[49m\u001b[43m \u001b[49m\u001b[43mfields\u001b[49m\u001b[38;5;241;43m=\u001b[39;49m\u001b[43mfields\u001b[49m\u001b[43m,\u001b[49m\u001b[43m \u001b[49m\u001b[43mheaders\u001b[49m\u001b[38;5;241;43m=\u001b[39;49m\u001b[43mheaders\u001b[49m\u001b[43m,\u001b[49m\u001b[43m \u001b[49m\u001b[38;5;241;43m*\u001b[39;49m\u001b[38;5;241;43m*\u001b[39;49m\u001b[43murlopen_kw\u001b[49m\n\u001b[1;32m     80\u001b[0m \u001b[43m    \u001b[49m\u001b[43m)\u001b[49m\n",
      "File \u001b[0;32m~/opt/miniconda3/envs/torchenv/lib/python3.9/site-packages/urllib3/request.py:170\u001b[0m, in \u001b[0;36mRequestMethods.request_encode_body\u001b[0;34m(self, method, url, fields, headers, encode_multipart, multipart_boundary, **urlopen_kw)\u001b[0m\n\u001b[1;32m    167\u001b[0m extra_kw[\u001b[38;5;124m\"\u001b[39m\u001b[38;5;124mheaders\u001b[39m\u001b[38;5;124m\"\u001b[39m]\u001b[38;5;241m.\u001b[39mupdate(headers)\n\u001b[1;32m    168\u001b[0m extra_kw\u001b[38;5;241m.\u001b[39mupdate(urlopen_kw)\n\u001b[0;32m--> 170\u001b[0m \u001b[38;5;28;01mreturn\u001b[39;00m \u001b[38;5;28;43mself\u001b[39;49m\u001b[38;5;241;43m.\u001b[39;49m\u001b[43murlopen\u001b[49m\u001b[43m(\u001b[49m\u001b[43mmethod\u001b[49m\u001b[43m,\u001b[49m\u001b[43m \u001b[49m\u001b[43murl\u001b[49m\u001b[43m,\u001b[49m\u001b[43m \u001b[49m\u001b[38;5;241;43m*\u001b[39;49m\u001b[38;5;241;43m*\u001b[39;49m\u001b[43mextra_kw\u001b[49m\u001b[43m)\u001b[49m\n",
      "File \u001b[0;32m~/opt/miniconda3/envs/torchenv/lib/python3.9/site-packages/urllib3/poolmanager.py:376\u001b[0m, in \u001b[0;36mPoolManager.urlopen\u001b[0;34m(self, method, url, redirect, **kw)\u001b[0m\n\u001b[1;32m    374\u001b[0m     response \u001b[38;5;241m=\u001b[39m conn\u001b[38;5;241m.\u001b[39murlopen(method, url, \u001b[38;5;241m*\u001b[39m\u001b[38;5;241m*\u001b[39mkw)\n\u001b[1;32m    375\u001b[0m \u001b[38;5;28;01melse\u001b[39;00m:\n\u001b[0;32m--> 376\u001b[0m     response \u001b[38;5;241m=\u001b[39m \u001b[43mconn\u001b[49m\u001b[38;5;241;43m.\u001b[39;49m\u001b[43murlopen\u001b[49m\u001b[43m(\u001b[49m\u001b[43mmethod\u001b[49m\u001b[43m,\u001b[49m\u001b[43m \u001b[49m\u001b[43mu\u001b[49m\u001b[38;5;241;43m.\u001b[39;49m\u001b[43mrequest_uri\u001b[49m\u001b[43m,\u001b[49m\u001b[43m \u001b[49m\u001b[38;5;241;43m*\u001b[39;49m\u001b[38;5;241;43m*\u001b[39;49m\u001b[43mkw\u001b[49m\u001b[43m)\u001b[49m\n\u001b[1;32m    378\u001b[0m redirect_location \u001b[38;5;241m=\u001b[39m redirect \u001b[38;5;129;01mand\u001b[39;00m response\u001b[38;5;241m.\u001b[39mget_redirect_location()\n\u001b[1;32m    379\u001b[0m \u001b[38;5;28;01mif\u001b[39;00m \u001b[38;5;129;01mnot\u001b[39;00m redirect_location:\n",
      "File \u001b[0;32m~/opt/miniconda3/envs/torchenv/lib/python3.9/site-packages/urllib3/connectionpool.py:714\u001b[0m, in \u001b[0;36mHTTPConnectionPool.urlopen\u001b[0;34m(self, method, url, body, headers, retries, redirect, assert_same_host, timeout, pool_timeout, release_conn, chunked, body_pos, **response_kw)\u001b[0m\n\u001b[1;32m    711\u001b[0m     \u001b[38;5;28mself\u001b[39m\u001b[38;5;241m.\u001b[39m_prepare_proxy(conn)\n\u001b[1;32m    713\u001b[0m \u001b[38;5;66;03m# Make the request on the httplib connection object.\u001b[39;00m\n\u001b[0;32m--> 714\u001b[0m httplib_response \u001b[38;5;241m=\u001b[39m \u001b[38;5;28;43mself\u001b[39;49m\u001b[38;5;241;43m.\u001b[39;49m\u001b[43m_make_request\u001b[49m\u001b[43m(\u001b[49m\n\u001b[1;32m    715\u001b[0m \u001b[43m    \u001b[49m\u001b[43mconn\u001b[49m\u001b[43m,\u001b[49m\n\u001b[1;32m    716\u001b[0m \u001b[43m    \u001b[49m\u001b[43mmethod\u001b[49m\u001b[43m,\u001b[49m\n\u001b[1;32m    717\u001b[0m \u001b[43m    \u001b[49m\u001b[43murl\u001b[49m\u001b[43m,\u001b[49m\n\u001b[1;32m    718\u001b[0m \u001b[43m    \u001b[49m\u001b[43mtimeout\u001b[49m\u001b[38;5;241;43m=\u001b[39;49m\u001b[43mtimeout_obj\u001b[49m\u001b[43m,\u001b[49m\n\u001b[1;32m    719\u001b[0m \u001b[43m    \u001b[49m\u001b[43mbody\u001b[49m\u001b[38;5;241;43m=\u001b[39;49m\u001b[43mbody\u001b[49m\u001b[43m,\u001b[49m\n\u001b[1;32m    720\u001b[0m \u001b[43m    \u001b[49m\u001b[43mheaders\u001b[49m\u001b[38;5;241;43m=\u001b[39;49m\u001b[43mheaders\u001b[49m\u001b[43m,\u001b[49m\n\u001b[1;32m    721\u001b[0m \u001b[43m    \u001b[49m\u001b[43mchunked\u001b[49m\u001b[38;5;241;43m=\u001b[39;49m\u001b[43mchunked\u001b[49m\u001b[43m,\u001b[49m\n\u001b[1;32m    722\u001b[0m \u001b[43m\u001b[49m\u001b[43m)\u001b[49m\n\u001b[1;32m    724\u001b[0m \u001b[38;5;66;03m# If we're going to release the connection in ``finally:``, then\u001b[39;00m\n\u001b[1;32m    725\u001b[0m \u001b[38;5;66;03m# the response doesn't need to know about the connection. Otherwise\u001b[39;00m\n\u001b[1;32m    726\u001b[0m \u001b[38;5;66;03m# it will also try to release it and we'll have a double-release\u001b[39;00m\n\u001b[1;32m    727\u001b[0m \u001b[38;5;66;03m# mess.\u001b[39;00m\n\u001b[1;32m    728\u001b[0m response_conn \u001b[38;5;241m=\u001b[39m conn \u001b[38;5;28;01mif\u001b[39;00m \u001b[38;5;129;01mnot\u001b[39;00m release_conn \u001b[38;5;28;01melse\u001b[39;00m \u001b[38;5;28;01mNone\u001b[39;00m\n",
      "File \u001b[0;32m~/opt/miniconda3/envs/torchenv/lib/python3.9/site-packages/urllib3/connectionpool.py:466\u001b[0m, in \u001b[0;36mHTTPConnectionPool._make_request\u001b[0;34m(self, conn, method, url, timeout, chunked, **httplib_request_kw)\u001b[0m\n\u001b[1;32m    461\u001b[0m             httplib_response \u001b[38;5;241m=\u001b[39m conn\u001b[38;5;241m.\u001b[39mgetresponse()\n\u001b[1;32m    462\u001b[0m         \u001b[38;5;28;01mexcept\u001b[39;00m \u001b[38;5;167;01mBaseException\u001b[39;00m \u001b[38;5;28;01mas\u001b[39;00m e:\n\u001b[1;32m    463\u001b[0m             \u001b[38;5;66;03m# Remove the TypeError from the exception chain in\u001b[39;00m\n\u001b[1;32m    464\u001b[0m             \u001b[38;5;66;03m# Python 3 (including for exceptions like SystemExit).\u001b[39;00m\n\u001b[1;32m    465\u001b[0m             \u001b[38;5;66;03m# Otherwise it looks like a bug in the code.\u001b[39;00m\n\u001b[0;32m--> 466\u001b[0m             \u001b[43msix\u001b[49m\u001b[38;5;241;43m.\u001b[39;49m\u001b[43mraise_from\u001b[49m\u001b[43m(\u001b[49m\u001b[43me\u001b[49m\u001b[43m,\u001b[49m\u001b[43m \u001b[49m\u001b[38;5;28;43;01mNone\u001b[39;49;00m\u001b[43m)\u001b[49m\n\u001b[1;32m    467\u001b[0m \u001b[38;5;28;01mexcept\u001b[39;00m (SocketTimeout, BaseSSLError, SocketError) \u001b[38;5;28;01mas\u001b[39;00m e:\n\u001b[1;32m    468\u001b[0m     \u001b[38;5;28mself\u001b[39m\u001b[38;5;241m.\u001b[39m_raise_timeout(err\u001b[38;5;241m=\u001b[39me, url\u001b[38;5;241m=\u001b[39murl, timeout_value\u001b[38;5;241m=\u001b[39mread_timeout)\n",
      "File \u001b[0;32m<string>:3\u001b[0m, in \u001b[0;36mraise_from\u001b[0;34m(value, from_value)\u001b[0m\n",
      "File \u001b[0;32m~/opt/miniconda3/envs/torchenv/lib/python3.9/site-packages/urllib3/connectionpool.py:461\u001b[0m, in \u001b[0;36mHTTPConnectionPool._make_request\u001b[0;34m(self, conn, method, url, timeout, chunked, **httplib_request_kw)\u001b[0m\n\u001b[1;32m    458\u001b[0m \u001b[38;5;28;01mexcept\u001b[39;00m \u001b[38;5;167;01mTypeError\u001b[39;00m:\n\u001b[1;32m    459\u001b[0m     \u001b[38;5;66;03m# Python 3\u001b[39;00m\n\u001b[1;32m    460\u001b[0m     \u001b[38;5;28;01mtry\u001b[39;00m:\n\u001b[0;32m--> 461\u001b[0m         httplib_response \u001b[38;5;241m=\u001b[39m \u001b[43mconn\u001b[49m\u001b[38;5;241;43m.\u001b[39;49m\u001b[43mgetresponse\u001b[49m\u001b[43m(\u001b[49m\u001b[43m)\u001b[49m\n\u001b[1;32m    462\u001b[0m     \u001b[38;5;28;01mexcept\u001b[39;00m \u001b[38;5;167;01mBaseException\u001b[39;00m \u001b[38;5;28;01mas\u001b[39;00m e:\n\u001b[1;32m    463\u001b[0m         \u001b[38;5;66;03m# Remove the TypeError from the exception chain in\u001b[39;00m\n\u001b[1;32m    464\u001b[0m         \u001b[38;5;66;03m# Python 3 (including for exceptions like SystemExit).\u001b[39;00m\n\u001b[1;32m    465\u001b[0m         \u001b[38;5;66;03m# Otherwise it looks like a bug in the code.\u001b[39;00m\n\u001b[1;32m    466\u001b[0m         six\u001b[38;5;241m.\u001b[39mraise_from(e, \u001b[38;5;28;01mNone\u001b[39;00m)\n",
      "File \u001b[0;32m~/opt/miniconda3/envs/torchenv/lib/python3.9/http/client.py:1377\u001b[0m, in \u001b[0;36mHTTPConnection.getresponse\u001b[0;34m(self)\u001b[0m\n\u001b[1;32m   1375\u001b[0m \u001b[38;5;28;01mtry\u001b[39;00m:\n\u001b[1;32m   1376\u001b[0m     \u001b[38;5;28;01mtry\u001b[39;00m:\n\u001b[0;32m-> 1377\u001b[0m         \u001b[43mresponse\u001b[49m\u001b[38;5;241;43m.\u001b[39;49m\u001b[43mbegin\u001b[49m\u001b[43m(\u001b[49m\u001b[43m)\u001b[49m\n\u001b[1;32m   1378\u001b[0m     \u001b[38;5;28;01mexcept\u001b[39;00m \u001b[38;5;167;01mConnectionError\u001b[39;00m:\n\u001b[1;32m   1379\u001b[0m         \u001b[38;5;28mself\u001b[39m\u001b[38;5;241m.\u001b[39mclose()\n",
      "File \u001b[0;32m~/opt/miniconda3/envs/torchenv/lib/python3.9/http/client.py:320\u001b[0m, in \u001b[0;36mHTTPResponse.begin\u001b[0;34m(self)\u001b[0m\n\u001b[1;32m    318\u001b[0m \u001b[38;5;66;03m# read until we get a non-100 response\u001b[39;00m\n\u001b[1;32m    319\u001b[0m \u001b[38;5;28;01mwhile\u001b[39;00m \u001b[38;5;28;01mTrue\u001b[39;00m:\n\u001b[0;32m--> 320\u001b[0m     version, status, reason \u001b[38;5;241m=\u001b[39m \u001b[38;5;28;43mself\u001b[39;49m\u001b[38;5;241;43m.\u001b[39;49m\u001b[43m_read_status\u001b[49m\u001b[43m(\u001b[49m\u001b[43m)\u001b[49m\n\u001b[1;32m    321\u001b[0m     \u001b[38;5;28;01mif\u001b[39;00m status \u001b[38;5;241m!=\u001b[39m CONTINUE:\n\u001b[1;32m    322\u001b[0m         \u001b[38;5;28;01mbreak\u001b[39;00m\n",
      "File \u001b[0;32m~/opt/miniconda3/envs/torchenv/lib/python3.9/http/client.py:281\u001b[0m, in \u001b[0;36mHTTPResponse._read_status\u001b[0;34m(self)\u001b[0m\n\u001b[1;32m    280\u001b[0m \u001b[38;5;28;01mdef\u001b[39;00m \u001b[38;5;21m_read_status\u001b[39m(\u001b[38;5;28mself\u001b[39m):\n\u001b[0;32m--> 281\u001b[0m     line \u001b[38;5;241m=\u001b[39m \u001b[38;5;28mstr\u001b[39m(\u001b[38;5;28;43mself\u001b[39;49m\u001b[38;5;241;43m.\u001b[39;49m\u001b[43mfp\u001b[49m\u001b[38;5;241;43m.\u001b[39;49m\u001b[43mreadline\u001b[49m\u001b[43m(\u001b[49m\u001b[43m_MAXLINE\u001b[49m\u001b[43m \u001b[49m\u001b[38;5;241;43m+\u001b[39;49m\u001b[43m \u001b[49m\u001b[38;5;241;43m1\u001b[39;49m\u001b[43m)\u001b[49m, \u001b[38;5;124m\"\u001b[39m\u001b[38;5;124miso-8859-1\u001b[39m\u001b[38;5;124m\"\u001b[39m)\n\u001b[1;32m    282\u001b[0m     \u001b[38;5;28;01mif\u001b[39;00m \u001b[38;5;28mlen\u001b[39m(line) \u001b[38;5;241m>\u001b[39m _MAXLINE:\n\u001b[1;32m    283\u001b[0m         \u001b[38;5;28;01mraise\u001b[39;00m LineTooLong(\u001b[38;5;124m\"\u001b[39m\u001b[38;5;124mstatus line\u001b[39m\u001b[38;5;124m\"\u001b[39m)\n",
      "File \u001b[0;32m~/opt/miniconda3/envs/torchenv/lib/python3.9/socket.py:704\u001b[0m, in \u001b[0;36mSocketIO.readinto\u001b[0;34m(self, b)\u001b[0m\n\u001b[1;32m    702\u001b[0m \u001b[38;5;28;01mwhile\u001b[39;00m \u001b[38;5;28;01mTrue\u001b[39;00m:\n\u001b[1;32m    703\u001b[0m     \u001b[38;5;28;01mtry\u001b[39;00m:\n\u001b[0;32m--> 704\u001b[0m         \u001b[38;5;28;01mreturn\u001b[39;00m \u001b[38;5;28;43mself\u001b[39;49m\u001b[38;5;241;43m.\u001b[39;49m\u001b[43m_sock\u001b[49m\u001b[38;5;241;43m.\u001b[39;49m\u001b[43mrecv_into\u001b[49m\u001b[43m(\u001b[49m\u001b[43mb\u001b[49m\u001b[43m)\u001b[49m\n\u001b[1;32m    705\u001b[0m     \u001b[38;5;28;01mexcept\u001b[39;00m timeout:\n\u001b[1;32m    706\u001b[0m         \u001b[38;5;28mself\u001b[39m\u001b[38;5;241m.\u001b[39m_timeout_occurred \u001b[38;5;241m=\u001b[39m \u001b[38;5;28;01mTrue\u001b[39;00m\n",
      "\u001b[0;31mKeyboardInterrupt\u001b[0m: "
     ]
    }
   ],
   "source": [
    "batch_size = 1\n",
    "filename = 'tripadvisor_reviews.csv'\n",
    "checkpoint_file = 'checkpoint.txt'\n",
    "\n",
    "df = pd.read_csv('./scraped_data.csv')\n",
    "\n",
    "start_index = load_checkpoint(checkpoint_file)\n",
    "for i in range(start_index, len(df['Review Link']), batch_size):\n",
    "    batch_urls = df['Review Link'][i:i + batch_size].tolist()\n",
    "    batch_reviews = process_batch(batch_urls)\n",
    "    write_to_csv(batch_reviews, filename)\n",
    "    save_checkpoint(i + batch_size, checkpoint_file)\n",
    "\n",
    "print(\"Data collection complete. Check the CSV file.\")"
   ]
  }
 ],
 "metadata": {
  "kernelspec": {
   "display_name": "torchenv",
   "language": "python",
   "name": "torchenv"
  },
  "language_info": {
   "codemirror_mode": {
    "name": "ipython",
    "version": 3
   },
   "file_extension": ".py",
   "mimetype": "text/x-python",
   "name": "python",
   "nbconvert_exporter": "python",
   "pygments_lexer": "ipython3",
   "version": "3.9.18"
  }
 },
 "nbformat": 4,
 "nbformat_minor": 5
}
