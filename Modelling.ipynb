{
 "cells": [
  {
   "cell_type": "code",
   "execution_count": 1,
   "id": "58788d42",
   "metadata": {
    "execution": {
     "iopub.execute_input": "2024-02-04T05:07:31.406737Z",
     "iopub.status.busy": "2024-02-04T05:07:31.406063Z",
     "iopub.status.idle": "2024-02-04T05:07:32.417690Z",
     "shell.execute_reply": "2024-02-04T05:07:32.416661Z"
    },
    "papermill": {
     "duration": 1.024904,
     "end_time": "2024-02-04T05:07:32.420511",
     "exception": false,
     "start_time": "2024-02-04T05:07:31.395607",
     "status": "completed"
    },
    "tags": []
   },
   "outputs": [
    {
     "name": "stdout",
     "output_type": "stream",
     "text": [
      "Sun Feb  4 05:07:32 2024       \r\n",
      "+---------------------------------------------------------------------------------------+\r\n",
      "| NVIDIA-SMI 535.129.03             Driver Version: 535.129.03   CUDA Version: 12.2     |\r\n",
      "|-----------------------------------------+----------------------+----------------------+\r\n",
      "| GPU  Name                 Persistence-M | Bus-Id        Disp.A | Volatile Uncorr. ECC |\r\n",
      "| Fan  Temp   Perf          Pwr:Usage/Cap |         Memory-Usage | GPU-Util  Compute M. |\r\n",
      "|                                         |                      |               MIG M. |\r\n",
      "|=========================================+======================+======================|\r\n",
      "|   0  Tesla P100-PCIE-16GB           Off | 00000000:00:04.0 Off |                    0 |\r\n",
      "| N/A   33C    P0              24W / 250W |      0MiB / 16384MiB |      0%      Default |\r\n",
      "|                                         |                      |                  N/A |\r\n",
      "+-----------------------------------------+----------------------+----------------------+\r\n",
      "                                                                                         \r\n",
      "+---------------------------------------------------------------------------------------+\r\n",
      "| Processes:                                                                            |\r\n",
      "|  GPU   GI   CI        PID   Type   Process name                            GPU Memory |\r\n",
      "|        ID   ID                                                             Usage      |\r\n",
      "|=======================================================================================|\r\n",
      "|  No running processes found                                                           |\r\n",
      "+---------------------------------------------------------------------------------------+\r\n"
     ]
    }
   ],
   "source": [
    "!nvidia-smi # checking for GPU ver."
   ]
  },
  {
   "cell_type": "code",
   "execution_count": 2,
   "id": "6bfb95ba",
   "metadata": {
    "execution": {
     "iopub.execute_input": "2024-02-04T05:07:32.440443Z",
     "iopub.status.busy": "2024-02-04T05:07:32.439578Z",
     "iopub.status.idle": "2024-02-04T05:07:32.444220Z",
     "shell.execute_reply": "2024-02-04T05:07:32.443345Z"
    },
    "papermill": {
     "duration": 0.016602,
     "end_time": "2024-02-04T05:07:32.446174",
     "exception": false,
     "start_time": "2024-02-04T05:07:32.429572",
     "status": "completed"
    },
    "tags": []
   },
   "outputs": [],
   "source": [
    "# %pip install imbalanced-learn\n",
    "# %pip install lightgbm\n",
    "# %pip install cuml\n",
    "# %pip show cuml\n",
    "# export LDFLAGS=\"-L/opt/homebrew/opt/libomp/lib\"\n",
    "# export CPPFLAGS=\"-I/opt/homebrew/opt/libomp/include\"\n"
   ]
  },
  {
   "cell_type": "code",
   "execution_count": 3,
   "id": "599c05db",
   "metadata": {
    "execution": {
     "iopub.execute_input": "2024-02-04T05:07:32.463934Z",
     "iopub.status.busy": "2024-02-04T05:07:32.463633Z",
     "iopub.status.idle": "2024-02-04T05:07:38.815650Z",
     "shell.execute_reply": "2024-02-04T05:07:38.814868Z"
    },
    "papermill": {
     "duration": 6.363541,
     "end_time": "2024-02-04T05:07:38.818098",
     "exception": false,
     "start_time": "2024-02-04T05:07:32.454557",
     "status": "completed"
    },
    "tags": []
   },
   "outputs": [
    {
     "name": "stderr",
     "output_type": "stream",
     "text": [
      "/opt/conda/lib/python3.10/site-packages/dask/dataframe/_pyarrow_compat.py:23: UserWarning: You are using pyarrow version 11.0.0 which is known to be insecure. See https://www.cve.org/CVERecord?id=CVE-2023-47248 for further details. Please upgrade to pyarrow>=14.0.1 or install pyarrow-hotfix to patch your current version.\n",
      "  warnings.warn(\n"
     ]
    }
   ],
   "source": [
    "import pandas as pd\n",
    "import numpy as np\n",
    "import warnings\n",
    "from scipy.sparse import vstack\n",
    "from sklearn.model_selection import train_test_split\n",
    "from sklearn.naive_bayes import MultinomialNB\n",
    "from sklearn.metrics import classification_report\n",
    "from sklearn.feature_extraction.text import CountVectorizer\n",
    "from sklearn.feature_extraction.text import TfidfVectorizer\n",
    "from sklearn.model_selection import train_test_split\n",
    "from sklearn.linear_model import LogisticRegression\n",
    "from sklearn.metrics import classification_report\n",
    "from sklearn.model_selection import train_test_split\n",
    "from sklearn.feature_extraction.text import TfidfVectorizer\n",
    "from sklearn.ensemble import RandomForestClassifier\n",
    "from sklearn.metrics import classification_report\n",
    "from sklearn.pipeline import Pipeline\n",
    "from sklearn.naive_bayes import ComplementNB\n",
    "from sklearn.model_selection import train_test_split\n",
    "from sklearn.feature_extraction.text import CountVectorizer\n",
    "from sklearn.naive_bayes import MultinomialNB\n",
    "from imblearn.over_sampling import RandomOverSampler\n",
    "from imblearn.over_sampling import SMOTE\n",
    "from sklearn.model_selection import train_test_split\n",
    "from sklearn.feature_extraction.text import CountVectorizer\n",
    "from sklearn.naive_bayes import MultinomialNB\n",
    "from imblearn.over_sampling import ADASYN\n",
    "from sklearn.model_selection import train_test_split\n",
    "from sklearn.feature_extraction.text import CountVectorizer\n",
    "from sklearn.naive_bayes import MultinomialNB\n",
    "from sklearn.datasets import make_classification\n",
    "from sklearn.model_selection import train_test_split\n",
    "from sklearn.linear_model import LogisticRegression\n",
    "from sklearn.svm import SVC\n",
    "from sklearn.ensemble import RandomForestClassifier\n",
    "from xgboost import XGBClassifier\n",
    "from lightgbm import LGBMClassifier\n",
    "from sklearn.metrics import accuracy_score, precision_score, f1_score, recall_score\n",
    "from sklearn.preprocessing import LabelEncoder\n",
    "from tqdm import tqdm\n",
    "from collections import Counter"
   ]
  },
  {
   "cell_type": "code",
   "execution_count": 4,
   "id": "d5b7f808",
   "metadata": {
    "execution": {
     "iopub.execute_input": "2024-02-04T05:07:38.836273Z",
     "iopub.status.busy": "2024-02-04T05:07:38.835954Z",
     "iopub.status.idle": "2024-02-04T05:07:38.840190Z",
     "shell.execute_reply": "2024-02-04T05:07:38.839344Z"
    },
    "papermill": {
     "duration": 0.015104,
     "end_time": "2024-02-04T05:07:38.842091",
     "exception": false,
     "start_time": "2024-02-04T05:07:38.826987",
     "status": "completed"
    },
    "tags": []
   },
   "outputs": [],
   "source": [
    "warnings.filterwarnings(\"ignore\", category=DeprecationWarning)\n",
    "warnings.filterwarnings(\"ignore\", category=FutureWarning)"
   ]
  },
  {
   "cell_type": "markdown",
   "id": "9c2fb168",
   "metadata": {
    "papermill": {
     "duration": 0.009061,
     "end_time": "2024-02-04T05:07:38.859254",
     "exception": false,
     "start_time": "2024-02-04T05:07:38.850193",
     "status": "completed"
    },
    "tags": []
   },
   "source": [
    "## Data Preparation"
   ]
  },
  {
   "cell_type": "code",
   "execution_count": 5,
   "id": "c3d9bb6c",
   "metadata": {
    "execution": {
     "iopub.execute_input": "2024-02-04T05:07:38.876385Z",
     "iopub.status.busy": "2024-02-04T05:07:38.876062Z",
     "iopub.status.idle": "2024-02-04T05:07:40.243486Z",
     "shell.execute_reply": "2024-02-04T05:07:40.242547Z"
    },
    "papermill": {
     "duration": 1.378337,
     "end_time": "2024-02-04T05:07:40.245575",
     "exception": false,
     "start_time": "2024-02-04T05:07:38.867238",
     "status": "completed"
    },
    "tags": []
   },
   "outputs": [
    {
     "data": {
      "text/html": [
       "<div>\n",
       "<style scoped>\n",
       "    .dataframe tbody tr th:only-of-type {\n",
       "        vertical-align: middle;\n",
       "    }\n",
       "\n",
       "    .dataframe tbody tr th {\n",
       "        vertical-align: top;\n",
       "    }\n",
       "\n",
       "    .dataframe thead th {\n",
       "        text-align: right;\n",
       "    }\n",
       "</style>\n",
       "<table border=\"1\" class=\"dataframe\">\n",
       "  <thead>\n",
       "    <tr style=\"text-align: right;\">\n",
       "      <th></th>\n",
       "      <th>overall_rating</th>\n",
       "      <th>review_date</th>\n",
       "      <th>review_text</th>\n",
       "      <th>airline_name</th>\n",
       "      <th>NPS_category</th>\n",
       "      <th>NPS</th>\n",
       "      <th>language_info</th>\n",
       "      <th>clean_text</th>\n",
       "      <th>text_length</th>\n",
       "      <th>word_count</th>\n",
       "      <th>unique_word_count</th>\n",
       "      <th>word_density</th>\n",
       "      <th>uppercase_words</th>\n",
       "      <th>comma_count</th>\n",
       "      <th>exclamation_count</th>\n",
       "      <th>question_mark_count</th>\n",
       "      <th>avg_sentence_length</th>\n",
       "      <th>flesch_reading_score</th>\n",
       "      <th>gunning_fog_index</th>\n",
       "    </tr>\n",
       "  </thead>\n",
       "  <tbody>\n",
       "    <tr>\n",
       "      <th>0</th>\n",
       "      <td>Rated 1 out of 5 stars</td>\n",
       "      <td>2023-09-18 03:29:15</td>\n",
       "      <td>EasyJet sent text at 4.00 am day of flight hom...</td>\n",
       "      <td>easyjet</td>\n",
       "      <td>Detractor</td>\n",
       "      <td>-1</td>\n",
       "      <td>en</td>\n",
       "      <td>text rush organise transport effort implicatio...</td>\n",
       "      <td>194</td>\n",
       "      <td>32</td>\n",
       "      <td>29</td>\n",
       "      <td>5.878788</td>\n",
       "      <td>0</td>\n",
       "      <td>1</td>\n",
       "      <td>0</td>\n",
       "      <td>0</td>\n",
       "      <td>6.600000</td>\n",
       "      <td>81.90</td>\n",
       "      <td>5.06</td>\n",
       "    </tr>\n",
       "    <tr>\n",
       "      <th>1</th>\n",
       "      <td>9</td>\n",
       "      <td>2023-12-01 00:00:00</td>\n",
       "      <td>Its been a few years when I flew a lot in A...</td>\n",
       "      <td>Vistara</td>\n",
       "      <td>Promoter</td>\n",
       "      <td>1</td>\n",
       "      <td>en</td>\n",
       "      <td>asia vistara surprise swift immaculate steward...</td>\n",
       "      <td>608</td>\n",
       "      <td>109</td>\n",
       "      <td>74</td>\n",
       "      <td>5.527273</td>\n",
       "      <td>3</td>\n",
       "      <td>7</td>\n",
       "      <td>0</td>\n",
       "      <td>0</td>\n",
       "      <td>27.250000</td>\n",
       "      <td>61.19</td>\n",
       "      <td>14.08</td>\n",
       "    </tr>\n",
       "    <tr>\n",
       "      <th>3</th>\n",
       "      <td>Rated 1 out of 5 stars</td>\n",
       "      <td>2018-09-09 20:37:11</td>\n",
       "      <td>one of the worst experiences with Air France e...</td>\n",
       "      <td>air france</td>\n",
       "      <td>Detractor</td>\n",
       "      <td>-1</td>\n",
       "      <td>en</td>\n",
       "      <td>ever bore carry duty inbound</td>\n",
       "      <td>204</td>\n",
       "      <td>30</td>\n",
       "      <td>30</td>\n",
       "      <td>6.580645</td>\n",
       "      <td>0</td>\n",
       "      <td>2</td>\n",
       "      <td>0</td>\n",
       "      <td>0</td>\n",
       "      <td>10.000000</td>\n",
       "      <td>61.33</td>\n",
       "      <td>8.00</td>\n",
       "    </tr>\n",
       "    <tr>\n",
       "      <th>4</th>\n",
       "      <td>Rated 1 out of 5 stars</td>\n",
       "      <td>2019-12-23 14:00:19</td>\n",
       "      <td>Not a single star this airlines deserves .I lo...</td>\n",
       "      <td>egyptair</td>\n",
       "      <td>Detractor</td>\n",
       "      <td>-1</td>\n",
       "      <td>en</td>\n",
       "      <td>deserves last block respond mail operator harr...</td>\n",
       "      <td>464</td>\n",
       "      <td>87</td>\n",
       "      <td>64</td>\n",
       "      <td>5.272727</td>\n",
       "      <td>4</td>\n",
       "      <td>2</td>\n",
       "      <td>0</td>\n",
       "      <td>0</td>\n",
       "      <td>14.833333</td>\n",
       "      <td>74.39</td>\n",
       "      <td>7.45</td>\n",
       "    </tr>\n",
       "    <tr>\n",
       "      <th>5</th>\n",
       "      <td>Rated 1 out of 5 stars</td>\n",
       "      <td>2023-12-29 06:42:56</td>\n",
       "      <td>I was forced to pay 150-euro worth penalty for...</td>\n",
       "      <td>ryanair</td>\n",
       "      <td>Detractor</td>\n",
       "      <td>-1</td>\n",
       "      <td>en</td>\n",
       "      <td>penalty fail earth would dare season arrogant ...</td>\n",
       "      <td>240</td>\n",
       "      <td>38</td>\n",
       "      <td>35</td>\n",
       "      <td>6.153846</td>\n",
       "      <td>1</td>\n",
       "      <td>1</td>\n",
       "      <td>0</td>\n",
       "      <td>1</td>\n",
       "      <td>12.666667</td>\n",
       "      <td>58.58</td>\n",
       "      <td>10.34</td>\n",
       "    </tr>\n",
       "  </tbody>\n",
       "</table>\n",
       "</div>"
      ],
      "text/plain": [
       "           overall_rating          review_date  \\\n",
       "0  Rated 1 out of 5 stars  2023-09-18 03:29:15   \n",
       "1                       9  2023-12-01 00:00:00   \n",
       "3  Rated 1 out of 5 stars  2018-09-09 20:37:11   \n",
       "4  Rated 1 out of 5 stars  2019-12-23 14:00:19   \n",
       "5  Rated 1 out of 5 stars  2023-12-29 06:42:56   \n",
       "\n",
       "                                         review_text airline_name  \\\n",
       "0  EasyJet sent text at 4.00 am day of flight hom...      easyjet   \n",
       "1     Its been a few years when I flew a lot in A...      Vistara   \n",
       "3  one of the worst experiences with Air France e...   air france   \n",
       "4  Not a single star this airlines deserves .I lo...     egyptair   \n",
       "5  I was forced to pay 150-euro worth penalty for...      ryanair   \n",
       "\n",
       "  NPS_category  NPS language_info  \\\n",
       "0    Detractor   -1            en   \n",
       "1     Promoter    1            en   \n",
       "3    Detractor   -1            en   \n",
       "4    Detractor   -1            en   \n",
       "5    Detractor   -1            en   \n",
       "\n",
       "                                          clean_text  text_length  word_count  \\\n",
       "0  text rush organise transport effort implicatio...          194          32   \n",
       "1  asia vistara surprise swift immaculate steward...          608         109   \n",
       "3                       ever bore carry duty inbound          204          30   \n",
       "4  deserves last block respond mail operator harr...          464          87   \n",
       "5  penalty fail earth would dare season arrogant ...          240          38   \n",
       "\n",
       "   unique_word_count  word_density  uppercase_words  comma_count  \\\n",
       "0                 29      5.878788                0            1   \n",
       "1                 74      5.527273                3            7   \n",
       "3                 30      6.580645                0            2   \n",
       "4                 64      5.272727                4            2   \n",
       "5                 35      6.153846                1            1   \n",
       "\n",
       "   exclamation_count  question_mark_count  avg_sentence_length  \\\n",
       "0                  0                    0             6.600000   \n",
       "1                  0                    0            27.250000   \n",
       "3                  0                    0            10.000000   \n",
       "4                  0                    0            14.833333   \n",
       "5                  0                    1            12.666667   \n",
       "\n",
       "   flesch_reading_score  gunning_fog_index  \n",
       "0                 81.90               5.06  \n",
       "1                 61.19              14.08  \n",
       "3                 61.33               8.00  \n",
       "4                 74.39               7.45  \n",
       "5                 58.58              10.34  "
      ]
     },
     "execution_count": 5,
     "metadata": {},
     "output_type": "execute_result"
    }
   ],
   "source": [
    "df = pd.read_csv(\"/kaggle/input/training-data/karthik_cleaned_data.csv\", index_col=[0])\n",
    "df.head()"
   ]
  },
  {
   "cell_type": "code",
   "execution_count": 6,
   "id": "8181c186",
   "metadata": {
    "execution": {
     "iopub.execute_input": "2024-02-04T05:07:40.265632Z",
     "iopub.status.busy": "2024-02-04T05:07:40.265317Z",
     "iopub.status.idle": "2024-02-04T05:07:40.315053Z",
     "shell.execute_reply": "2024-02-04T05:07:40.314043Z"
    },
    "papermill": {
     "duration": 0.061181,
     "end_time": "2024-02-04T05:07:40.316992",
     "exception": false,
     "start_time": "2024-02-04T05:07:40.255811",
     "status": "completed"
    },
    "tags": []
   },
   "outputs": [
    {
     "data": {
      "text/plain": [
       "overall_rating            0\n",
       "review_date               0\n",
       "review_text               0\n",
       "airline_name              0\n",
       "NPS_category              0\n",
       "NPS                       0\n",
       "language_info             0\n",
       "clean_text              719\n",
       "text_length               0\n",
       "word_count                0\n",
       "unique_word_count         0\n",
       "word_density              0\n",
       "uppercase_words           0\n",
       "comma_count               0\n",
       "exclamation_count         0\n",
       "question_mark_count       0\n",
       "avg_sentence_length       0\n",
       "flesch_reading_score      0\n",
       "gunning_fog_index         0\n",
       "dtype: int64"
      ]
     },
     "execution_count": 6,
     "metadata": {},
     "output_type": "execute_result"
    }
   ],
   "source": [
    "df.isna().sum()"
   ]
  },
  {
   "cell_type": "code",
   "execution_count": 7,
   "id": "757ab13b",
   "metadata": {
    "execution": {
     "iopub.execute_input": "2024-02-04T05:07:40.335762Z",
     "iopub.status.busy": "2024-02-04T05:07:40.335455Z",
     "iopub.status.idle": "2024-02-04T05:07:40.393059Z",
     "shell.execute_reply": "2024-02-04T05:07:40.392074Z"
    },
    "papermill": {
     "duration": 0.069554,
     "end_time": "2024-02-04T05:07:40.395409",
     "exception": false,
     "start_time": "2024-02-04T05:07:40.325855",
     "status": "completed"
    },
    "tags": []
   },
   "outputs": [],
   "source": [
    "df.dropna(inplace=True)"
   ]
  },
  {
   "cell_type": "code",
   "execution_count": 8,
   "id": "9f957c1a",
   "metadata": {
    "execution": {
     "iopub.execute_input": "2024-02-04T05:07:40.414866Z",
     "iopub.status.busy": "2024-02-04T05:07:40.414318Z",
     "iopub.status.idle": "2024-02-04T05:07:40.426741Z",
     "shell.execute_reply": "2024-02-04T05:07:40.425879Z"
    },
    "papermill": {
     "duration": 0.024095,
     "end_time": "2024-02-04T05:07:40.428679",
     "exception": false,
     "start_time": "2024-02-04T05:07:40.404584",
     "status": "completed"
    },
    "tags": []
   },
   "outputs": [],
   "source": [
    "df[\"NPS_category\"] = df[\"NPS_category\"].map({\"Detractor\": 0, \"Neutral\": 1, \"Promoter\": 2})"
   ]
  },
  {
   "cell_type": "markdown",
   "id": "6f17fbe4",
   "metadata": {
    "papermill": {
     "duration": 0.008485,
     "end_time": "2024-02-04T05:07:40.445769",
     "exception": false,
     "start_time": "2024-02-04T05:07:40.437284",
     "status": "completed"
    },
    "tags": []
   },
   "source": [
    "### Bag of words"
   ]
  },
  {
   "cell_type": "code",
   "execution_count": 9,
   "id": "f277366c",
   "metadata": {
    "execution": {
     "iopub.execute_input": "2024-02-04T05:07:40.464067Z",
     "iopub.status.busy": "2024-02-04T05:07:40.463736Z",
     "iopub.status.idle": "2024-02-04T05:07:42.231071Z",
     "shell.execute_reply": "2024-02-04T05:07:42.229854Z"
    },
    "papermill": {
     "duration": 1.779263,
     "end_time": "2024-02-04T05:07:42.233541",
     "exception": false,
     "start_time": "2024-02-04T05:07:40.454278",
     "status": "completed"
    },
    "tags": []
   },
   "outputs": [
    {
     "name": "stdout",
     "output_type": "stream",
     "text": [
      "BoW Classification Report:\n",
      "               precision    recall  f1-score   support\n",
      "\n",
      "           0       0.90      0.98      0.94     11894\n",
      "           1       0.07      0.01      0.01       338\n",
      "           2       0.78      0.47      0.58      1920\n",
      "\n",
      "    accuracy                           0.89     14152\n",
      "   macro avg       0.58      0.48      0.51     14152\n",
      "weighted avg       0.86      0.89      0.87     14152\n",
      "\n"
     ]
    }
   ],
   "source": [
    "# creating bag of words representation\n",
    "\n",
    "count_vectorizer = CountVectorizer()\n",
    "bow_matrix = count_vectorizer.fit_transform(df[\"clean_text\"])\n",
    "\n",
    "X_train_bow, X_test_bow, y_train_bow, y_test_bow = train_test_split(\n",
    "    bow_matrix, df[\"NPS_category\"], test_size=0.25, random_state=42)\n",
    "\n",
    "clf_bow = MultinomialNB()\n",
    "clf_bow.fit(X_train_bow, y_train_bow)\n",
    "y_pred_bow = clf_bow.predict(X_test_bow)\n",
    "print(\"BoW Classification Report:\\n\", classification_report(y_test_bow, y_pred_bow))"
   ]
  },
  {
   "cell_type": "markdown",
   "id": "9859d05d",
   "metadata": {
    "papermill": {
     "duration": 0.009197,
     "end_time": "2024-02-04T05:07:42.252612",
     "exception": false,
     "start_time": "2024-02-04T05:07:42.243415",
     "status": "completed"
    },
    "tags": []
   },
   "source": [
    "### TFIDF\n"
   ]
  },
  {
   "cell_type": "code",
   "execution_count": 10,
   "id": "8fa7d7ec",
   "metadata": {
    "execution": {
     "iopub.execute_input": "2024-02-04T05:07:42.273403Z",
     "iopub.status.busy": "2024-02-04T05:07:42.272591Z",
     "iopub.status.idle": "2024-02-04T05:07:44.159964Z",
     "shell.execute_reply": "2024-02-04T05:07:44.158725Z"
    },
    "papermill": {
     "duration": 1.900414,
     "end_time": "2024-02-04T05:07:44.162477",
     "exception": false,
     "start_time": "2024-02-04T05:07:42.262063",
     "status": "completed"
    },
    "tags": []
   },
   "outputs": [
    {
     "name": "stdout",
     "output_type": "stream",
     "text": [
      "TF-IDF Classification Report:\n",
      "               precision    recall  f1-score   support\n",
      "\n",
      "           0       0.85      1.00      0.92     11894\n",
      "           1       0.00      0.00      0.00       338\n",
      "           2       0.91      0.08      0.14      1920\n",
      "\n",
      "    accuracy                           0.85     14152\n",
      "   macro avg       0.59      0.36      0.35     14152\n",
      "weighted avg       0.84      0.85      0.79     14152\n",
      "\n"
     ]
    },
    {
     "name": "stderr",
     "output_type": "stream",
     "text": [
      "/opt/conda/lib/python3.10/site-packages/sklearn/metrics/_classification.py:1344: UndefinedMetricWarning: Precision and F-score are ill-defined and being set to 0.0 in labels with no predicted samples. Use `zero_division` parameter to control this behavior.\n",
      "  _warn_prf(average, modifier, msg_start, len(result))\n",
      "/opt/conda/lib/python3.10/site-packages/sklearn/metrics/_classification.py:1344: UndefinedMetricWarning: Precision and F-score are ill-defined and being set to 0.0 in labels with no predicted samples. Use `zero_division` parameter to control this behavior.\n",
      "  _warn_prf(average, modifier, msg_start, len(result))\n",
      "/opt/conda/lib/python3.10/site-packages/sklearn/metrics/_classification.py:1344: UndefinedMetricWarning: Precision and F-score are ill-defined and being set to 0.0 in labels with no predicted samples. Use `zero_division` parameter to control this behavior.\n",
      "  _warn_prf(average, modifier, msg_start, len(result))\n"
     ]
    }
   ],
   "source": [
    "# creating a TF-IDF text representation\n",
    "\n",
    "tfidf_vectorizer = TfidfVectorizer()\n",
    "\n",
    "tfidf_matrix = tfidf_vectorizer.fit_transform(df[\"clean_text\"])\n",
    "\n",
    "X_train_tfidf, X_test_tfidf, y_train_tfidf, y_test_tfidf = train_test_split(\n",
    "    tfidf_matrix, df[\"NPS_category\"], test_size=0.25, random_state=42)\n",
    "\n",
    "clf_tfidf = MultinomialNB()\n",
    "clf_tfidf.fit(X_train_tfidf, y_train_tfidf)\n",
    "y_pred_tfidf = clf_tfidf.predict(X_test_tfidf)\n",
    "print(\"TF-IDF Classification Report:\\n\", classification_report(y_test_tfidf, y_pred_tfidf))"
   ]
  },
  {
   "cell_type": "markdown",
   "id": "1a6f2c9e",
   "metadata": {
    "papermill": {
     "duration": 0.008863,
     "end_time": "2024-02-04T05:07:44.180535",
     "exception": false,
     "start_time": "2024-02-04T05:07:44.171672",
     "status": "completed"
    },
    "tags": []
   },
   "source": [
    "### Delta Tfidf"
   ]
  },
  {
   "cell_type": "code",
   "execution_count": 11,
   "id": "80c11d7e",
   "metadata": {
    "execution": {
     "iopub.execute_input": "2024-02-04T05:07:44.200179Z",
     "iopub.status.busy": "2024-02-04T05:07:44.199423Z",
     "iopub.status.idle": "2024-02-04T05:08:06.386635Z",
     "shell.execute_reply": "2024-02-04T05:08:06.385279Z"
    },
    "papermill": {
     "duration": 22.201472,
     "end_time": "2024-02-04T05:08:06.390942",
     "exception": false,
     "start_time": "2024-02-04T05:07:44.189470",
     "status": "completed"
    },
    "tags": []
   },
   "outputs": [
    {
     "name": "stderr",
     "output_type": "stream",
     "text": [
      "/opt/conda/lib/python3.10/site-packages/sklearn/feature_extraction/text.py:1380: UserWarning: Upper case characters found in vocabulary while 'lowercase' is True. These entries will not be matched with any documents\n",
      "  warnings.warn(\n"
     ]
    },
    {
     "name": "stdout",
     "output_type": "stream",
     "text": [
      "              precision    recall  f1-score   support\n",
      "\n",
      "           0       0.96      1.00      0.98     11894\n",
      "           1       1.00      0.12      0.22       338\n",
      "           2       0.98      0.88      0.93      1920\n",
      "\n",
      "    accuracy                           0.96     14152\n",
      "   macro avg       0.98      0.67      0.71     14152\n",
      "weighted avg       0.96      0.96      0.95     14152\n",
      "\n"
     ]
    }
   ],
   "source": [
    "X_train, X_test, y_train, y_test = train_test_split(df['clean_text'], df['NPS_category'], test_size=0.25, random_state=42)\n",
    "\n",
    "tfidf_vectorizer = TfidfVectorizer()\n",
    "X_train_tfidf = tfidf_vectorizer.fit_transform(X_train)\n",
    "\n",
    "class_idfs = []\n",
    "unique_classes = np.unique(y_train)\n",
    "for class_idx in unique_classes:\n",
    "    class_mask = (y_train == class_idx)\n",
    "    class_docs = X_train[class_mask]\n",
    "    class_vectorizer = TfidfVectorizer(vocabulary=tfidf_vectorizer.vocabulary_)\n",
    "    class_tfidf = class_vectorizer.fit_transform(class_docs)\n",
    "    class_idf = class_vectorizer.idf_\n",
    "    class_idfs.append(class_idf)\n",
    "\n",
    "mean_idf = np.mean(class_idfs, axis=0)\n",
    "\n",
    "delta_idfs = [class_idf - mean_idf for class_idf in class_idfs]\n",
    "\n",
    "class_to_index = {label: index for index, label in enumerate(unique_classes)}\n",
    "\n",
    "X_train_delta_tfidf = []\n",
    "for i, doc in enumerate(X_train_tfidf):\n",
    "    class_idx = class_to_index[y_train.iloc[i]]\n",
    "    delta_idf = delta_idfs[class_idx]\n",
    "    X_train_delta_tfidf.append(doc.multiply(delta_idf))\n",
    "\n",
    "X_train_delta_tfidf = vstack(X_train_delta_tfidf)\n",
    "\n",
    "X_test_tfidf = tfidf_vectorizer.transform(X_test)\n",
    "X_test_delta_tfidf = []\n",
    "for i, doc in enumerate(X_test_tfidf):\n",
    "    class_idx = class_to_index[y_test.iloc[i]]\n",
    "    delta_idf = delta_idfs[class_idx]\n",
    "    X_test_delta_tfidf.append(doc.multiply(delta_idf))\n",
    "\n",
    "X_test_delta_tfidf = vstack(X_test_delta_tfidf)\n",
    "\n",
    "clf = LogisticRegression()\n",
    "clf.fit(X_train_delta_tfidf, y_train)\n",
    "\n",
    "y_pred = clf.predict(X_test_delta_tfidf)\n",
    "print(classification_report(y_test, y_pred))"
   ]
  },
  {
   "cell_type": "markdown",
   "id": "f52c1a0c",
   "metadata": {
    "papermill": {
     "duration": 0.016499,
     "end_time": "2024-02-04T05:08:06.427896",
     "exception": false,
     "start_time": "2024-02-04T05:08:06.411397",
     "status": "completed"
    },
    "tags": []
   },
   "source": [
    "### Delta Tfidf + class weights (Balancing Technique)"
   ]
  },
  {
   "cell_type": "code",
   "execution_count": 12,
   "id": "d9520e31",
   "metadata": {
    "execution": {
     "iopub.execute_input": "2024-02-04T05:08:06.447275Z",
     "iopub.status.busy": "2024-02-04T05:08:06.446965Z",
     "iopub.status.idle": "2024-02-04T05:08:12.738973Z",
     "shell.execute_reply": "2024-02-04T05:08:12.737722Z"
    },
    "papermill": {
     "duration": 6.305824,
     "end_time": "2024-02-04T05:08:12.742908",
     "exception": false,
     "start_time": "2024-02-04T05:08:06.437084",
     "status": "completed"
    },
    "tags": []
   },
   "outputs": [
    {
     "name": "stdout",
     "output_type": "stream",
     "text": [
      "              precision    recall  f1-score   support\n",
      "\n",
      "           0       1.00      0.97      0.99     11894\n",
      "           1       0.94      0.76      0.84       338\n",
      "           2       0.84      1.00      0.92      1920\n",
      "\n",
      "    accuracy                           0.97     14152\n",
      "   macro avg       0.93      0.91      0.91     14152\n",
      "weighted avg       0.98      0.97      0.97     14152\n",
      "\n"
     ]
    }
   ],
   "source": [
    "count_vectorizer = CountVectorizer()\n",
    "\n",
    "# Fit and transform the clean_text to create BoW representation\n",
    "bow_matrix = count_vectorizer.fit_transform(df[\"clean_text\"])\n",
    "\n",
    "# Split the data into training and testing sets\n",
    "X_train_bow, X_test_bow, y_train_bow, y_test_bow = train_test_split(\n",
    "    bow_matrix, df[\"NPS_category\"], test_size=0.25, random_state=42, stratify=df[\"NPS_category\"])\n",
    "\n",
    "# Train the pipeline on the training data\n",
    "\n",
    "# Initialize the classifier\n",
    "clf_bow_res = LogisticRegression(class_weight='balanced')\n",
    "# clf_bow_res = ComplementNB()\n",
    "\n",
    "# Fit the classifier on the resampled training data\n",
    "clf_bow_res.fit(X_train_delta_tfidf, y_train)\n",
    "\n",
    "# Predict on the test set using the trained pipeline\n",
    "y_pred = clf_bow_res.predict(X_test_delta_tfidf)\n",
    "\n",
    "# Print the classification report\n",
    "print(classification_report(y_test, y_pred))"
   ]
  },
  {
   "cell_type": "markdown",
   "id": "2af149e2",
   "metadata": {
    "papermill": {
     "duration": 0.020458,
     "end_time": "2024-02-04T05:08:12.782983",
     "exception": false,
     "start_time": "2024-02-04T05:08:12.762525",
     "status": "completed"
    },
    "tags": []
   },
   "source": [
    "### Delta Tfidf + random oversampling (Balancing Technique)"
   ]
  },
  {
   "cell_type": "code",
   "execution_count": 13,
   "id": "5b256c13",
   "metadata": {
    "execution": {
     "iopub.execute_input": "2024-02-04T05:08:12.804217Z",
     "iopub.status.busy": "2024-02-04T05:08:12.803407Z",
     "iopub.status.idle": "2024-02-04T05:08:24.549364Z",
     "shell.execute_reply": "2024-02-04T05:08:24.548211Z"
    },
    "papermill": {
     "duration": 11.759209,
     "end_time": "2024-02-04T05:08:24.552651",
     "exception": false,
     "start_time": "2024-02-04T05:08:12.793442",
     "status": "completed"
    },
    "tags": []
   },
   "outputs": [
    {
     "name": "stdout",
     "output_type": "stream",
     "text": [
      "Class distribution after Random OverSampling: Counter({0: 35651, 2: 35651, 1: 35651})\n",
      "BoW Classification Report after Random OverSampling:\n",
      "               precision    recall  f1-score   support\n",
      "\n",
      "           0       1.00      0.98      0.99     11894\n",
      "           1       0.95      0.76      0.84       338\n",
      "           2       0.87      1.00      0.93      1920\n",
      "\n",
      "    accuracy                           0.98     14152\n",
      "   macro avg       0.94      0.91      0.92     14152\n",
      "weighted avg       0.98      0.98      0.98     14152\n",
      "\n"
     ]
    },
    {
     "name": "stderr",
     "output_type": "stream",
     "text": [
      "/opt/conda/lib/python3.10/site-packages/sklearn/linear_model/_logistic.py:458: ConvergenceWarning: lbfgs failed to converge (status=1):\n",
      "STOP: TOTAL NO. of ITERATIONS REACHED LIMIT.\n",
      "\n",
      "Increase the number of iterations (max_iter) or scale the data as shown in:\n",
      "    https://scikit-learn.org/stable/modules/preprocessing.html\n",
      "Please also refer to the documentation for alternative solver options:\n",
      "    https://scikit-learn.org/stable/modules/linear_model.html#logistic-regression\n",
      "  n_iter_i = _check_optimize_result(\n"
     ]
    }
   ],
   "source": [
    "# Assuming df[\"clean_text\"] and df[\"NPS_category\"] are already defined\n",
    "\n",
    "# Initialize CountVectorizer\n",
    "count_vectorizer = CountVectorizer()\n",
    "\n",
    "# Fit and transform the clean_text to create BoW representation\n",
    "bow_matrix = count_vectorizer.fit_transform(df[\"clean_text\"])\n",
    "\n",
    "# Split the data into training and testing sets\n",
    "X_train_bow, X_test_bow, y_train_bow, y_test_bow = train_test_split(\n",
    "    bow_matrix, df[\"NPS_category\"], test_size=0.25, random_state=42)\n",
    "\n",
    "# Initialize RandomOverSampler\n",
    "ros = RandomOverSampler(random_state=42)\n",
    "\n",
    "# Apply RandomOverSampler to training data only\n",
    "X_train_bow_res, y_train_bow_res = ros.fit_resample(X_train_delta_tfidf, y_train)\n",
    "\n",
    "# Check the class distribution after resampling\n",
    "print(\"Class distribution after Random OverSampling:\", Counter(y_train_bow_res))\n",
    "\n",
    "# Initialize the classifier\n",
    "# clf_bow_res = ComplementNB()\n",
    "clf_bow_res = LogisticRegression()\n",
    "\n",
    "# Fit the classifier on the resampled training data\n",
    "clf_bow_res.fit(X_train_bow_res, y_train_bow_res)\n",
    "\n",
    "# Predict on the original (non-resampled) testing data\n",
    "y_pred_bow_res = clf_bow_res.predict(X_test_delta_tfidf)\n",
    "\n",
    "# Print the classification report\n",
    "print(\"BoW Classification Report after Random OverSampling:\\n\", classification_report(y_test, y_pred_bow_res))"
   ]
  },
  {
   "cell_type": "markdown",
   "id": "8405b5a4",
   "metadata": {
    "papermill": {
     "duration": 0.009215,
     "end_time": "2024-02-04T05:08:24.575068",
     "exception": false,
     "start_time": "2024-02-04T05:08:24.565853",
     "status": "completed"
    },
    "tags": []
   },
   "source": [
    "### Delta Tfidf + SMOTE (Balancing Technique)"
   ]
  },
  {
   "cell_type": "code",
   "execution_count": 14,
   "id": "d042ee73",
   "metadata": {
    "execution": {
     "iopub.execute_input": "2024-02-04T05:08:24.595137Z",
     "iopub.status.busy": "2024-02-04T05:08:24.594765Z",
     "iopub.status.idle": "2024-02-04T05:08:39.834850Z",
     "shell.execute_reply": "2024-02-04T05:08:39.833538Z"
    },
    "papermill": {
     "duration": 15.254658,
     "end_time": "2024-02-04T05:08:39.839099",
     "exception": false,
     "start_time": "2024-02-04T05:08:24.584441",
     "status": "completed"
    },
    "tags": []
   },
   "outputs": [
    {
     "name": "stdout",
     "output_type": "stream",
     "text": [
      "BoW Classification Report after SMOTE:\n",
      "               precision    recall  f1-score   support\n",
      "\n",
      "           0       1.00      0.96      0.98     11894\n",
      "           1       0.54      0.93      0.68       338\n",
      "           2       0.88      0.99      0.93      1920\n",
      "\n",
      "    accuracy                           0.96     14152\n",
      "   macro avg       0.81      0.96      0.87     14152\n",
      "weighted avg       0.97      0.96      0.97     14152\n",
      "\n"
     ]
    },
    {
     "name": "stderr",
     "output_type": "stream",
     "text": [
      "/opt/conda/lib/python3.10/site-packages/sklearn/linear_model/_logistic.py:458: ConvergenceWarning: lbfgs failed to converge (status=1):\n",
      "STOP: TOTAL NO. of ITERATIONS REACHED LIMIT.\n",
      "\n",
      "Increase the number of iterations (max_iter) or scale the data as shown in:\n",
      "    https://scikit-learn.org/stable/modules/preprocessing.html\n",
      "Please also refer to the documentation for alternative solver options:\n",
      "    https://scikit-learn.org/stable/modules/linear_model.html#logistic-regression\n",
      "  n_iter_i = _check_optimize_result(\n"
     ]
    }
   ],
   "source": [
    "# Assuming df[\"clean_text\"] and df[\"NPS_category\"] are already defined\n",
    "\n",
    "# Initialize CountVectorizer\n",
    "count_vectorizer = CountVectorizer()\n",
    "\n",
    "# Fit and transform the clean_text to create BoW representation\n",
    "bow_matrix = count_vectorizer.fit_transform(df[\"clean_text\"])\n",
    "\n",
    "# Split the data into training and testing sets\n",
    "X_train_bow, X_test_bow, y_train_bow, y_test_bow = train_test_split(\n",
    "    bow_matrix, df[\"NPS_category\"], test_size=0.25, random_state=42)\n",
    "\n",
    "# Initialize SMOTE\n",
    "smote = SMOTE(random_state=42)\n",
    "\n",
    "# Apply SMOTE to training data only\n",
    "X_train_bow_smote, y_train_bow_smote = smote.fit_resample(X_train_delta_tfidf, y_train)\n",
    "\n",
    "# Initialize the classifier\n",
    "# clf_bow_smote = ComplementNB()\n",
    "clf_bow_smote = LogisticRegression()\n",
    "\n",
    "# Fit the classifier on the resampled training data\n",
    "clf_bow_smote.fit(X_train_bow_smote, y_train_bow_smote)\n",
    "\n",
    "# Predict on the original (non-resampled) testing data\n",
    "y_pred_bow_smote = clf_bow_smote.predict(X_test_delta_tfidf)\n",
    "\n",
    "# Print the classification report\n",
    "print(\"BoW Classification Report after SMOTE:\\n\", classification_report(y_test, y_pred_bow_smote))"
   ]
  },
  {
   "cell_type": "markdown",
   "id": "5f070c25",
   "metadata": {
    "papermill": {
     "duration": 0.013982,
     "end_time": "2024-02-04T05:08:39.877550",
     "exception": false,
     "start_time": "2024-02-04T05:08:39.863568",
     "status": "completed"
    },
    "tags": []
   },
   "source": [
    "### Delta Tfidf + Adasyn (Balancing Technique)"
   ]
  },
  {
   "cell_type": "code",
   "execution_count": 15,
   "id": "df29167f",
   "metadata": {
    "execution": {
     "iopub.execute_input": "2024-02-04T05:08:39.898186Z",
     "iopub.status.busy": "2024-02-04T05:08:39.897813Z",
     "iopub.status.idle": "2024-02-04T05:09:37.982957Z",
     "shell.execute_reply": "2024-02-04T05:09:37.981881Z"
    },
    "papermill": {
     "duration": 58.125191,
     "end_time": "2024-02-04T05:09:38.012141",
     "exception": false,
     "start_time": "2024-02-04T05:08:39.886950",
     "status": "completed"
    },
    "tags": []
   },
   "outputs": [
    {
     "name": "stdout",
     "output_type": "stream",
     "text": [
      "BoW Classification Report after ADASYN:\n",
      "               precision    recall  f1-score   support\n",
      "\n",
      "           0       1.00      0.95      0.98     11894\n",
      "           1       0.60      0.91      0.72       338\n",
      "           2       0.84      1.00      0.91      1920\n",
      "\n",
      "    accuracy                           0.96     14152\n",
      "   macro avg       0.81      0.95      0.87     14152\n",
      "weighted avg       0.97      0.96      0.96     14152\n",
      "\n"
     ]
    },
    {
     "name": "stderr",
     "output_type": "stream",
     "text": [
      "/opt/conda/lib/python3.10/site-packages/sklearn/linear_model/_logistic.py:458: ConvergenceWarning: lbfgs failed to converge (status=1):\n",
      "STOP: TOTAL NO. of ITERATIONS REACHED LIMIT.\n",
      "\n",
      "Increase the number of iterations (max_iter) or scale the data as shown in:\n",
      "    https://scikit-learn.org/stable/modules/preprocessing.html\n",
      "Please also refer to the documentation for alternative solver options:\n",
      "    https://scikit-learn.org/stable/modules/linear_model.html#logistic-regression\n",
      "  n_iter_i = _check_optimize_result(\n"
     ]
    }
   ],
   "source": [
    "# Assuming df[\"clean_text\"] and df[\"NPS_category\"] are already defined\n",
    "\n",
    "# Initialize CountVectorizer\n",
    "count_vectorizer = CountVectorizer()\n",
    "\n",
    "# Fit and transform the clean_text to create BoW representation\n",
    "bow_matrix = count_vectorizer.fit_transform(df[\"clean_text\"])\n",
    "\n",
    "# Split the data into training and testing sets\n",
    "X_train_bow, X_test_bow, y_train_bow, y_test_bow = train_test_split(\n",
    "    bow_matrix, df[\"NPS_category\"], test_size=0.25, random_state=42)\n",
    "\n",
    "# Initialize ADASYN\n",
    "adasyn = ADASYN(random_state=42)\n",
    "\n",
    "# Apply ADASYN to training data only\n",
    "X_train_bow_adasyn, y_train_bow_adasyn = adasyn.fit_resample(X_train_delta_tfidf, y_train)\n",
    "\n",
    "# Initialize the classifier\n",
    "# clf_bow_adasyn = ComplementNB()\n",
    "clf_bow_adasyn = LogisticRegression()\n",
    "\n",
    "# Fit the classifier on the resampled training data\n",
    "clf_bow_adasyn.fit(X_train_bow_adasyn, y_train_bow_adasyn)\n",
    "\n",
    "# Predict on the original (non-resampled) testing data\n",
    "y_pred_bow_adasyn = clf_bow_adasyn.predict(X_test_delta_tfidf)\n",
    "\n",
    "# Print the classification report\n",
    "print(\"BoW Classification Report after ADASYN:\\n\", classification_report(y_test, y_pred_bow_adasyn))"
   ]
  },
  {
   "cell_type": "markdown",
   "id": "79ee63f0",
   "metadata": {
    "papermill": {
     "duration": 0.009971,
     "end_time": "2024-02-04T05:09:38.037054",
     "exception": false,
     "start_time": "2024-02-04T05:09:38.027083",
     "status": "completed"
    },
    "tags": []
   },
   "source": [
    "## Modelling\n",
    "\n",
    "\n",
    "SGD instead of SVM: https://stackoverflow.com/questions/29704231/in-sklearn-what-is-the-difference-between-a-svm-model-with-linear-kernel-and-a-s <br>\n",
    "Adaboost: https://www.mygreatlearning.com/blog/adaboost-algorithm/ <br>\n",
    "Catboost: https://www.geeksforgeeks.org/catboost-ml/ <br>\n",
    "LightGBM: https://www.kdnuggets.com/2022/01/data-scientists-reasons-lightgbm.html <br>\n",
    "XGBoost: https://medium.com/sfu-cspmp/xgboost-a-deep-dive-into-boosting-f06c9c41349 <br>\n",
    "Boosting Comparison: https://towardsdatascience.com/how-to-select-between-boosting-algorithm-e8d1b15924f7"
   ]
  },
  {
   "cell_type": "code",
   "execution_count": 16,
   "id": "326957ac",
   "metadata": {
    "execution": {
     "iopub.execute_input": "2024-02-04T05:09:38.059249Z",
     "iopub.status.busy": "2024-02-04T05:09:38.058888Z",
     "iopub.status.idle": "2024-02-04T05:09:38.259652Z",
     "shell.execute_reply": "2024-02-04T05:09:38.258616Z"
    },
    "papermill": {
     "duration": 0.214346,
     "end_time": "2024-02-04T05:09:38.262072",
     "exception": false,
     "start_time": "2024-02-04T05:09:38.047726",
     "status": "completed"
    },
    "tags": []
   },
   "outputs": [],
   "source": [
    "from sklearn.linear_model import SGDClassifier\n",
    "from catboost import Pool, CatBoostClassifier\n",
    "from sklearn.ensemble import AdaBoostClassifier\n",
    "from sklearn.tree import DecisionTreeClassifier\n",
    "import lightgbm as lgb\n",
    "\n",
    "models = {\n",
    "    \"Logistic Regression\": LogisticRegression(multi_class='multinomial', solver='lbfgs', class_weight='balanced', max_iter=2000),\n",
    "    \"Decision Tree\": DecisionTreeClassifier(class_weight='balanced'),\n",
    "    \"SVM (SGD)\": SGDClassifier(loss='hinge', class_weight='balanced', max_iter=1000, tol=1e-3),\n",
    "    \"Random Forest\": RandomForestClassifier(class_weight='balanced'),\n",
    "    \"XGBoost\": XGBClassifier(enable_categorical=True, eval_metric='mlogloss'),\n",
    "    \"AdaBoost+DT\": AdaBoostClassifier(base_estimator=DecisionTreeClassifier(max_depth=1), n_estimators=100),\n",
    "    \"AdaBoost+LR\": AdaBoostClassifier(base_estimator=LogisticRegression(multi_class='multinomial',class_weight='balanced',max_iter=1000),n_estimators=100),\n",
    "    \"Catboost\": CatBoostClassifier(iterations=500,learning_rate=0.1,depth=6,l2_leaf_reg=3,cat_features=[], auto_class_weights='Balanced',verbose=200, task_type='GPU',devices='0:1'),\n",
    "    \"LightGBM\": LGBMClassifier(boosting_type='gbdt', objective='multiclass',  learning_rate=0.09, max_depth=-1, random_state=42, n_estimators=100, device='gpu', gpu_platform_id=0, gpu_device_id=0)\n",
    "}\n",
    "\n",
    "def evaluate_model(name, model, X_train, y_train, X_test, y_test):\n",
    "    model.fit(X_train, y_train)\n",
    "    y_pred = model.predict(X_test)\n",
    "    accuracy = accuracy_score(y_test, y_pred)\n",
    "    precision = precision_score(y_test, y_pred, average='weighted')\n",
    "    recall = recall_score(y_test, y_pred, average='weighted')\n",
    "    f1 = f1_score(y_test, y_pred, average='weighted')\n",
    "    return {\"Model\": name, \"Accuracy\": accuracy, \"Precision\": precision, \"Recall\": recall, \"F1 Score\": f1}"
   ]
  },
  {
   "cell_type": "code",
   "execution_count": 17,
   "id": "2f2c83af",
   "metadata": {
    "execution": {
     "iopub.execute_input": "2024-02-04T05:09:38.283752Z",
     "iopub.status.busy": "2024-02-04T05:09:38.283435Z",
     "iopub.status.idle": "2024-02-04T05:12:44.460748Z",
     "shell.execute_reply": "2024-02-04T05:12:44.459767Z"
    },
    "papermill": {
     "duration": 186.190643,
     "end_time": "2024-02-04T05:12:44.462897",
     "exception": false,
     "start_time": "2024-02-04T05:09:38.272254",
     "status": "completed"
    },
    "tags": []
   },
   "outputs": [
    {
     "name": "stderr",
     "output_type": "stream",
     "text": [
      "Evaluating Models:   0%|          | 0/9 [00:00<?, ?it/s]"
     ]
    },
    {
     "data": {
      "text/html": [
       "<div>\n",
       "<style scoped>\n",
       "    .dataframe tbody tr th:only-of-type {\n",
       "        vertical-align: middle;\n",
       "    }\n",
       "\n",
       "    .dataframe tbody tr th {\n",
       "        vertical-align: top;\n",
       "    }\n",
       "\n",
       "    .dataframe thead th {\n",
       "        text-align: right;\n",
       "    }\n",
       "</style>\n",
       "<table border=\"1\" class=\"dataframe\">\n",
       "  <thead>\n",
       "    <tr style=\"text-align: right;\">\n",
       "      <th></th>\n",
       "      <th>Model</th>\n",
       "      <th>Accuracy</th>\n",
       "      <th>Precision</th>\n",
       "      <th>Recall</th>\n",
       "      <th>F1 Score</th>\n",
       "    </tr>\n",
       "  </thead>\n",
       "  <tbody>\n",
       "    <tr>\n",
       "      <th>0</th>\n",
       "      <td>Logistic Regression</td>\n",
       "      <td>0.972583</td>\n",
       "      <td>0.976182</td>\n",
       "      <td>0.972583</td>\n",
       "      <td>0.973122</td>\n",
       "    </tr>\n",
       "  </tbody>\n",
       "</table>\n",
       "</div>"
      ],
      "text/plain": [
       "                 Model  Accuracy  Precision    Recall  F1 Score\n",
       "0  Logistic Regression  0.972583   0.976182  0.972583  0.973122"
      ]
     },
     "metadata": {},
     "output_type": "display_data"
    },
    {
     "name": "stderr",
     "output_type": "stream",
     "text": [
      "Evaluating Models:  11%|█         | 1/9 [00:04<00:38,  4.87s/it]"
     ]
    },
    {
     "data": {
      "text/html": [
       "<div>\n",
       "<style scoped>\n",
       "    .dataframe tbody tr th:only-of-type {\n",
       "        vertical-align: middle;\n",
       "    }\n",
       "\n",
       "    .dataframe tbody tr th {\n",
       "        vertical-align: top;\n",
       "    }\n",
       "\n",
       "    .dataframe thead th {\n",
       "        text-align: right;\n",
       "    }\n",
       "</style>\n",
       "<table border=\"1\" class=\"dataframe\">\n",
       "  <thead>\n",
       "    <tr style=\"text-align: right;\">\n",
       "      <th></th>\n",
       "      <th>Model</th>\n",
       "      <th>Accuracy</th>\n",
       "      <th>Precision</th>\n",
       "      <th>Recall</th>\n",
       "      <th>F1 Score</th>\n",
       "    </tr>\n",
       "  </thead>\n",
       "  <tbody>\n",
       "    <tr>\n",
       "      <th>0</th>\n",
       "      <td>Logistic Regression</td>\n",
       "      <td>0.972583</td>\n",
       "      <td>0.976182</td>\n",
       "      <td>0.972583</td>\n",
       "      <td>0.973122</td>\n",
       "    </tr>\n",
       "    <tr>\n",
       "      <th>1</th>\n",
       "      <td>Decision Tree</td>\n",
       "      <td>0.954777</td>\n",
       "      <td>0.974620</td>\n",
       "      <td>0.954777</td>\n",
       "      <td>0.962509</td>\n",
       "    </tr>\n",
       "  </tbody>\n",
       "</table>\n",
       "</div>"
      ],
      "text/plain": [
       "                 Model  Accuracy  Precision    Recall  F1 Score\n",
       "0  Logistic Regression  0.972583   0.976182  0.972583  0.973122\n",
       "1        Decision Tree  0.954777   0.974620  0.954777  0.962509"
      ]
     },
     "metadata": {},
     "output_type": "display_data"
    },
    {
     "name": "stderr",
     "output_type": "stream",
     "text": [
      "Evaluating Models:  22%|██▏       | 2/9 [00:12<00:43,  6.22s/it]"
     ]
    },
    {
     "data": {
      "text/html": [
       "<div>\n",
       "<style scoped>\n",
       "    .dataframe tbody tr th:only-of-type {\n",
       "        vertical-align: middle;\n",
       "    }\n",
       "\n",
       "    .dataframe tbody tr th {\n",
       "        vertical-align: top;\n",
       "    }\n",
       "\n",
       "    .dataframe thead th {\n",
       "        text-align: right;\n",
       "    }\n",
       "</style>\n",
       "<table border=\"1\" class=\"dataframe\">\n",
       "  <thead>\n",
       "    <tr style=\"text-align: right;\">\n",
       "      <th></th>\n",
       "      <th>Model</th>\n",
       "      <th>Accuracy</th>\n",
       "      <th>Precision</th>\n",
       "      <th>Recall</th>\n",
       "      <th>F1 Score</th>\n",
       "    </tr>\n",
       "  </thead>\n",
       "  <tbody>\n",
       "    <tr>\n",
       "      <th>0</th>\n",
       "      <td>Logistic Regression</td>\n",
       "      <td>0.972583</td>\n",
       "      <td>0.976182</td>\n",
       "      <td>0.972583</td>\n",
       "      <td>0.973122</td>\n",
       "    </tr>\n",
       "    <tr>\n",
       "      <th>1</th>\n",
       "      <td>Decision Tree</td>\n",
       "      <td>0.954777</td>\n",
       "      <td>0.974620</td>\n",
       "      <td>0.954777</td>\n",
       "      <td>0.962509</td>\n",
       "    </tr>\n",
       "    <tr>\n",
       "      <th>2</th>\n",
       "      <td>SVM (SGD)</td>\n",
       "      <td>0.982193</td>\n",
       "      <td>0.982382</td>\n",
       "      <td>0.982193</td>\n",
       "      <td>0.980512</td>\n",
       "    </tr>\n",
       "  </tbody>\n",
       "</table>\n",
       "</div>"
      ],
      "text/plain": [
       "                 Model  Accuracy  Precision    Recall  F1 Score\n",
       "0  Logistic Regression  0.972583   0.976182  0.972583  0.973122\n",
       "1        Decision Tree  0.954777   0.974620  0.954777  0.962509\n",
       "2            SVM (SGD)  0.982193   0.982382  0.982193  0.980512"
      ]
     },
     "metadata": {},
     "output_type": "display_data"
    },
    {
     "name": "stderr",
     "output_type": "stream",
     "text": [
      "Evaluating Models:  33%|███▎      | 3/9 [00:12<00:21,  3.57s/it]"
     ]
    },
    {
     "data": {
      "text/html": [
       "<div>\n",
       "<style scoped>\n",
       "    .dataframe tbody tr th:only-of-type {\n",
       "        vertical-align: middle;\n",
       "    }\n",
       "\n",
       "    .dataframe tbody tr th {\n",
       "        vertical-align: top;\n",
       "    }\n",
       "\n",
       "    .dataframe thead th {\n",
       "        text-align: right;\n",
       "    }\n",
       "</style>\n",
       "<table border=\"1\" class=\"dataframe\">\n",
       "  <thead>\n",
       "    <tr style=\"text-align: right;\">\n",
       "      <th></th>\n",
       "      <th>Model</th>\n",
       "      <th>Accuracy</th>\n",
       "      <th>Precision</th>\n",
       "      <th>Recall</th>\n",
       "      <th>F1 Score</th>\n",
       "    </tr>\n",
       "  </thead>\n",
       "  <tbody>\n",
       "    <tr>\n",
       "      <th>0</th>\n",
       "      <td>Logistic Regression</td>\n",
       "      <td>0.972583</td>\n",
       "      <td>0.976182</td>\n",
       "      <td>0.972583</td>\n",
       "      <td>0.973122</td>\n",
       "    </tr>\n",
       "    <tr>\n",
       "      <th>1</th>\n",
       "      <td>Decision Tree</td>\n",
       "      <td>0.954777</td>\n",
       "      <td>0.974620</td>\n",
       "      <td>0.954777</td>\n",
       "      <td>0.962509</td>\n",
       "    </tr>\n",
       "    <tr>\n",
       "      <th>2</th>\n",
       "      <td>SVM (SGD)</td>\n",
       "      <td>0.982193</td>\n",
       "      <td>0.982382</td>\n",
       "      <td>0.982193</td>\n",
       "      <td>0.980512</td>\n",
       "    </tr>\n",
       "    <tr>\n",
       "      <th>3</th>\n",
       "      <td>Random Forest</td>\n",
       "      <td>0.980073</td>\n",
       "      <td>0.980090</td>\n",
       "      <td>0.980073</td>\n",
       "      <td>0.978542</td>\n",
       "    </tr>\n",
       "  </tbody>\n",
       "</table>\n",
       "</div>"
      ],
      "text/plain": [
       "                 Model  Accuracy  Precision    Recall  F1 Score\n",
       "0  Logistic Regression  0.972583   0.976182  0.972583  0.973122\n",
       "1        Decision Tree  0.954777   0.974620  0.954777  0.962509\n",
       "2            SVM (SGD)  0.982193   0.982382  0.982193  0.980512\n",
       "3        Random Forest  0.980073   0.980090  0.980073  0.978542"
      ]
     },
     "metadata": {},
     "output_type": "display_data"
    },
    {
     "name": "stderr",
     "output_type": "stream",
     "text": [
      "Evaluating Models:  44%|████▍     | 4/9 [00:39<01:03, 12.76s/it]"
     ]
    },
    {
     "data": {
      "text/html": [
       "<div>\n",
       "<style scoped>\n",
       "    .dataframe tbody tr th:only-of-type {\n",
       "        vertical-align: middle;\n",
       "    }\n",
       "\n",
       "    .dataframe tbody tr th {\n",
       "        vertical-align: top;\n",
       "    }\n",
       "\n",
       "    .dataframe thead th {\n",
       "        text-align: right;\n",
       "    }\n",
       "</style>\n",
       "<table border=\"1\" class=\"dataframe\">\n",
       "  <thead>\n",
       "    <tr style=\"text-align: right;\">\n",
       "      <th></th>\n",
       "      <th>Model</th>\n",
       "      <th>Accuracy</th>\n",
       "      <th>Precision</th>\n",
       "      <th>Recall</th>\n",
       "      <th>F1 Score</th>\n",
       "    </tr>\n",
       "  </thead>\n",
       "  <tbody>\n",
       "    <tr>\n",
       "      <th>0</th>\n",
       "      <td>Logistic Regression</td>\n",
       "      <td>0.972583</td>\n",
       "      <td>0.976182</td>\n",
       "      <td>0.972583</td>\n",
       "      <td>0.973122</td>\n",
       "    </tr>\n",
       "    <tr>\n",
       "      <th>1</th>\n",
       "      <td>Decision Tree</td>\n",
       "      <td>0.954777</td>\n",
       "      <td>0.974620</td>\n",
       "      <td>0.954777</td>\n",
       "      <td>0.962509</td>\n",
       "    </tr>\n",
       "    <tr>\n",
       "      <th>2</th>\n",
       "      <td>SVM (SGD)</td>\n",
       "      <td>0.982193</td>\n",
       "      <td>0.982382</td>\n",
       "      <td>0.982193</td>\n",
       "      <td>0.980512</td>\n",
       "    </tr>\n",
       "    <tr>\n",
       "      <th>3</th>\n",
       "      <td>Random Forest</td>\n",
       "      <td>0.980073</td>\n",
       "      <td>0.980090</td>\n",
       "      <td>0.980073</td>\n",
       "      <td>0.978542</td>\n",
       "    </tr>\n",
       "    <tr>\n",
       "      <th>4</th>\n",
       "      <td>XGBoost</td>\n",
       "      <td>0.970322</td>\n",
       "      <td>0.970821</td>\n",
       "      <td>0.970322</td>\n",
       "      <td>0.968711</td>\n",
       "    </tr>\n",
       "  </tbody>\n",
       "</table>\n",
       "</div>"
      ],
      "text/plain": [
       "                 Model  Accuracy  Precision    Recall  F1 Score\n",
       "0  Logistic Regression  0.972583   0.976182  0.972583  0.973122\n",
       "1        Decision Tree  0.954777   0.974620  0.954777  0.962509\n",
       "2            SVM (SGD)  0.982193   0.982382  0.982193  0.980512\n",
       "3        Random Forest  0.980073   0.980090  0.980073  0.978542\n",
       "4              XGBoost  0.970322   0.970821  0.970322  0.968711"
      ]
     },
     "metadata": {},
     "output_type": "display_data"
    },
    {
     "name": "stderr",
     "output_type": "stream",
     "text": [
      "Evaluating Models:  56%|█████▌    | 5/9 [01:16<01:27, 21.75s/it]"
     ]
    },
    {
     "data": {
      "text/html": [
       "<div>\n",
       "<style scoped>\n",
       "    .dataframe tbody tr th:only-of-type {\n",
       "        vertical-align: middle;\n",
       "    }\n",
       "\n",
       "    .dataframe tbody tr th {\n",
       "        vertical-align: top;\n",
       "    }\n",
       "\n",
       "    .dataframe thead th {\n",
       "        text-align: right;\n",
       "    }\n",
       "</style>\n",
       "<table border=\"1\" class=\"dataframe\">\n",
       "  <thead>\n",
       "    <tr style=\"text-align: right;\">\n",
       "      <th></th>\n",
       "      <th>Model</th>\n",
       "      <th>Accuracy</th>\n",
       "      <th>Precision</th>\n",
       "      <th>Recall</th>\n",
       "      <th>F1 Score</th>\n",
       "    </tr>\n",
       "  </thead>\n",
       "  <tbody>\n",
       "    <tr>\n",
       "      <th>0</th>\n",
       "      <td>Logistic Regression</td>\n",
       "      <td>0.972583</td>\n",
       "      <td>0.976182</td>\n",
       "      <td>0.972583</td>\n",
       "      <td>0.973122</td>\n",
       "    </tr>\n",
       "    <tr>\n",
       "      <th>1</th>\n",
       "      <td>Decision Tree</td>\n",
       "      <td>0.954777</td>\n",
       "      <td>0.974620</td>\n",
       "      <td>0.954777</td>\n",
       "      <td>0.962509</td>\n",
       "    </tr>\n",
       "    <tr>\n",
       "      <th>2</th>\n",
       "      <td>SVM (SGD)</td>\n",
       "      <td>0.982193</td>\n",
       "      <td>0.982382</td>\n",
       "      <td>0.982193</td>\n",
       "      <td>0.980512</td>\n",
       "    </tr>\n",
       "    <tr>\n",
       "      <th>3</th>\n",
       "      <td>Random Forest</td>\n",
       "      <td>0.980073</td>\n",
       "      <td>0.980090</td>\n",
       "      <td>0.980073</td>\n",
       "      <td>0.978542</td>\n",
       "    </tr>\n",
       "    <tr>\n",
       "      <th>4</th>\n",
       "      <td>XGBoost</td>\n",
       "      <td>0.970322</td>\n",
       "      <td>0.970821</td>\n",
       "      <td>0.970322</td>\n",
       "      <td>0.968711</td>\n",
       "    </tr>\n",
       "    <tr>\n",
       "      <th>5</th>\n",
       "      <td>AdaBoost+DT</td>\n",
       "      <td>0.953010</td>\n",
       "      <td>0.953768</td>\n",
       "      <td>0.953010</td>\n",
       "      <td>0.949724</td>\n",
       "    </tr>\n",
       "  </tbody>\n",
       "</table>\n",
       "</div>"
      ],
      "text/plain": [
       "                 Model  Accuracy  Precision    Recall  F1 Score\n",
       "0  Logistic Regression  0.972583   0.976182  0.972583  0.973122\n",
       "1        Decision Tree  0.954777   0.974620  0.954777  0.962509\n",
       "2            SVM (SGD)  0.982193   0.982382  0.982193  0.980512\n",
       "3        Random Forest  0.980073   0.980090  0.980073  0.978542\n",
       "4              XGBoost  0.970322   0.970821  0.970322  0.968711\n",
       "5          AdaBoost+DT  0.953010   0.953768  0.953010  0.949724"
      ]
     },
     "metadata": {},
     "output_type": "display_data"
    },
    {
     "name": "stderr",
     "output_type": "stream",
     "text": [
      "Evaluating Models:  67%|██████▋   | 6/9 [01:32<00:58, 19.59s/it]"
     ]
    },
    {
     "data": {
      "text/html": [
       "<div>\n",
       "<style scoped>\n",
       "    .dataframe tbody tr th:only-of-type {\n",
       "        vertical-align: middle;\n",
       "    }\n",
       "\n",
       "    .dataframe tbody tr th {\n",
       "        vertical-align: top;\n",
       "    }\n",
       "\n",
       "    .dataframe thead th {\n",
       "        text-align: right;\n",
       "    }\n",
       "</style>\n",
       "<table border=\"1\" class=\"dataframe\">\n",
       "  <thead>\n",
       "    <tr style=\"text-align: right;\">\n",
       "      <th></th>\n",
       "      <th>Model</th>\n",
       "      <th>Accuracy</th>\n",
       "      <th>Precision</th>\n",
       "      <th>Recall</th>\n",
       "      <th>F1 Score</th>\n",
       "    </tr>\n",
       "  </thead>\n",
       "  <tbody>\n",
       "    <tr>\n",
       "      <th>0</th>\n",
       "      <td>Logistic Regression</td>\n",
       "      <td>0.972583</td>\n",
       "      <td>0.976182</td>\n",
       "      <td>0.972583</td>\n",
       "      <td>0.973122</td>\n",
       "    </tr>\n",
       "    <tr>\n",
       "      <th>1</th>\n",
       "      <td>Decision Tree</td>\n",
       "      <td>0.954777</td>\n",
       "      <td>0.974620</td>\n",
       "      <td>0.954777</td>\n",
       "      <td>0.962509</td>\n",
       "    </tr>\n",
       "    <tr>\n",
       "      <th>2</th>\n",
       "      <td>SVM (SGD)</td>\n",
       "      <td>0.982193</td>\n",
       "      <td>0.982382</td>\n",
       "      <td>0.982193</td>\n",
       "      <td>0.980512</td>\n",
       "    </tr>\n",
       "    <tr>\n",
       "      <th>3</th>\n",
       "      <td>Random Forest</td>\n",
       "      <td>0.980073</td>\n",
       "      <td>0.980090</td>\n",
       "      <td>0.980073</td>\n",
       "      <td>0.978542</td>\n",
       "    </tr>\n",
       "    <tr>\n",
       "      <th>4</th>\n",
       "      <td>XGBoost</td>\n",
       "      <td>0.970322</td>\n",
       "      <td>0.970821</td>\n",
       "      <td>0.970322</td>\n",
       "      <td>0.968711</td>\n",
       "    </tr>\n",
       "    <tr>\n",
       "      <th>5</th>\n",
       "      <td>AdaBoost+DT</td>\n",
       "      <td>0.953010</td>\n",
       "      <td>0.953768</td>\n",
       "      <td>0.953010</td>\n",
       "      <td>0.949724</td>\n",
       "    </tr>\n",
       "    <tr>\n",
       "      <th>6</th>\n",
       "      <td>AdaBoost+LR</td>\n",
       "      <td>0.898954</td>\n",
       "      <td>0.955261</td>\n",
       "      <td>0.898954</td>\n",
       "      <td>0.917976</td>\n",
       "    </tr>\n",
       "  </tbody>\n",
       "</table>\n",
       "</div>"
      ],
      "text/plain": [
       "                 Model  Accuracy  Precision    Recall  F1 Score\n",
       "0  Logistic Regression  0.972583   0.976182  0.972583  0.973122\n",
       "1        Decision Tree  0.954777   0.974620  0.954777  0.962509\n",
       "2            SVM (SGD)  0.982193   0.982382  0.982193  0.980512\n",
       "3        Random Forest  0.980073   0.980090  0.980073  0.978542\n",
       "4              XGBoost  0.970322   0.970821  0.970322  0.968711\n",
       "5          AdaBoost+DT  0.953010   0.953768  0.953010  0.949724\n",
       "6          AdaBoost+LR  0.898954   0.955261  0.898954  0.917976"
      ]
     },
     "metadata": {},
     "output_type": "display_data"
    },
    {
     "name": "stderr",
     "output_type": "stream",
     "text": [
      "Evaluating Models:  78%|███████▊  | 7/9 [01:56<00:41, 20.95s/it]"
     ]
    },
    {
     "name": "stdout",
     "output_type": "stream",
     "text": [
      "0:\tlearn: 1.0366557\ttotal: 20.6s\tremaining: 2h 51m 12s\n",
      "200:\tlearn: 0.3268331\ttotal: 30.1s\tremaining: 44.7s\n",
      "400:\tlearn: 0.2540758\ttotal: 38.5s\tremaining: 9.5s\n",
      "499:\tlearn: 0.2297061\ttotal: 42.7s\tremaining: 0us\n"
     ]
    },
    {
     "data": {
      "text/html": [
       "<div>\n",
       "<style scoped>\n",
       "    .dataframe tbody tr th:only-of-type {\n",
       "        vertical-align: middle;\n",
       "    }\n",
       "\n",
       "    .dataframe tbody tr th {\n",
       "        vertical-align: top;\n",
       "    }\n",
       "\n",
       "    .dataframe thead th {\n",
       "        text-align: right;\n",
       "    }\n",
       "</style>\n",
       "<table border=\"1\" class=\"dataframe\">\n",
       "  <thead>\n",
       "    <tr style=\"text-align: right;\">\n",
       "      <th></th>\n",
       "      <th>Model</th>\n",
       "      <th>Accuracy</th>\n",
       "      <th>Precision</th>\n",
       "      <th>Recall</th>\n",
       "      <th>F1 Score</th>\n",
       "    </tr>\n",
       "  </thead>\n",
       "  <tbody>\n",
       "    <tr>\n",
       "      <th>0</th>\n",
       "      <td>Logistic Regression</td>\n",
       "      <td>0.972583</td>\n",
       "      <td>0.976182</td>\n",
       "      <td>0.972583</td>\n",
       "      <td>0.973122</td>\n",
       "    </tr>\n",
       "    <tr>\n",
       "      <th>1</th>\n",
       "      <td>Decision Tree</td>\n",
       "      <td>0.954777</td>\n",
       "      <td>0.974620</td>\n",
       "      <td>0.954777</td>\n",
       "      <td>0.962509</td>\n",
       "    </tr>\n",
       "    <tr>\n",
       "      <th>2</th>\n",
       "      <td>SVM (SGD)</td>\n",
       "      <td>0.982193</td>\n",
       "      <td>0.982382</td>\n",
       "      <td>0.982193</td>\n",
       "      <td>0.980512</td>\n",
       "    </tr>\n",
       "    <tr>\n",
       "      <th>3</th>\n",
       "      <td>Random Forest</td>\n",
       "      <td>0.980073</td>\n",
       "      <td>0.980090</td>\n",
       "      <td>0.980073</td>\n",
       "      <td>0.978542</td>\n",
       "    </tr>\n",
       "    <tr>\n",
       "      <th>4</th>\n",
       "      <td>XGBoost</td>\n",
       "      <td>0.970322</td>\n",
       "      <td>0.970821</td>\n",
       "      <td>0.970322</td>\n",
       "      <td>0.968711</td>\n",
       "    </tr>\n",
       "    <tr>\n",
       "      <th>5</th>\n",
       "      <td>AdaBoost+DT</td>\n",
       "      <td>0.953010</td>\n",
       "      <td>0.953768</td>\n",
       "      <td>0.953010</td>\n",
       "      <td>0.949724</td>\n",
       "    </tr>\n",
       "    <tr>\n",
       "      <th>6</th>\n",
       "      <td>AdaBoost+LR</td>\n",
       "      <td>0.898954</td>\n",
       "      <td>0.955261</td>\n",
       "      <td>0.898954</td>\n",
       "      <td>0.917976</td>\n",
       "    </tr>\n",
       "    <tr>\n",
       "      <th>7</th>\n",
       "      <td>Catboost</td>\n",
       "      <td>0.900650</td>\n",
       "      <td>0.936764</td>\n",
       "      <td>0.900650</td>\n",
       "      <td>0.909386</td>\n",
       "    </tr>\n",
       "  </tbody>\n",
       "</table>\n",
       "</div>"
      ],
      "text/plain": [
       "                 Model  Accuracy  Precision    Recall  F1 Score\n",
       "0  Logistic Regression  0.972583   0.976182  0.972583  0.973122\n",
       "1        Decision Tree  0.954777   0.974620  0.954777  0.962509\n",
       "2            SVM (SGD)  0.982193   0.982382  0.982193  0.980512\n",
       "3        Random Forest  0.980073   0.980090  0.980073  0.978542\n",
       "4              XGBoost  0.970322   0.970821  0.970322  0.968711\n",
       "5          AdaBoost+DT  0.953010   0.953768  0.953010  0.949724\n",
       "6          AdaBoost+LR  0.898954   0.955261  0.898954  0.917976\n",
       "7             Catboost  0.900650   0.936764  0.900650  0.909386"
      ]
     },
     "metadata": {},
     "output_type": "display_data"
    },
    {
     "name": "stderr",
     "output_type": "stream",
     "text": [
      "Evaluating Models:  89%|████████▉ | 8/9 [02:45<00:29, 29.84s/it]"
     ]
    },
    {
     "name": "stdout",
     "output_type": "stream",
     "text": [
      "[LightGBM] [Info] This is the GPU trainer!!\n",
      "[LightGBM] [Info] Total Bins 192306\n",
      "[LightGBM] [Info] Number of data points in the train set: 42454, number of used features: 4410\n",
      "[LightGBM] [Info] Using requested OpenCL platform 0 device 0\n",
      "[LightGBM] [Info] Using GPU Device: Tesla P100-PCIE-16GB, Vendor: NVIDIA Corporation\n",
      "[LightGBM] [Info] Compiling OpenCL Kernel with 16 bins...\n"
     ]
    },
    {
     "name": "stderr",
     "output_type": "stream",
     "text": [
      "1 warning generated.\n",
      "1 warning generated.\n",
      "1 warning generated.\n",
      "1 warning generated.\n",
      "1 warning generated.\n",
      "1 warning generated.\n",
      "1 warning generated.\n",
      "1 warning generated.\n",
      "1 warning generated.\n",
      "1 warning generated.\n",
      "1 warning generated.\n",
      "1 warning generated.\n",
      "1 warning generated.\n",
      "1 warning generated.\n",
      "1 warning generated.\n",
      "1 warning generated.\n",
      "1 warning generated.\n",
      "1 warning generated.\n",
      "1 warning generated.\n",
      "1 warning generated.\n",
      "1 warning generated.\n",
      "1 warning generated.\n",
      "1 warning generated.\n",
      "1 warning generated.\n",
      "1 warning generated.\n",
      "1 warning generated.\n",
      "1 warning generated.\n",
      "1 warning generated.\n",
      "1 warning generated.\n",
      "1 warning generated.\n",
      "1 warning generated.\n",
      "1 warning generated.\n",
      "1 warning generated.\n"
     ]
    },
    {
     "name": "stdout",
     "output_type": "stream",
     "text": [
      "[LightGBM] [Info] GPU programs have been built\n",
      "[LightGBM] [Warning] GPU acceleration is disabled because no non-trivial dense features can be found\n",
      "[LightGBM] [Info] Start training from score -0.174644\n",
      "[LightGBM] [Info] Start training from score -3.699631\n",
      "[LightGBM] [Info] Start training from score -1.998700\n"
     ]
    },
    {
     "name": "stderr",
     "output_type": "stream",
     "text": [
      "/opt/conda/lib/python3.10/site-packages/lightgbm/basic.py:1192: UserWarning: Converting data to scipy sparse matrix.\n",
      "  _log_warning('Converting data to scipy sparse matrix.')\n"
     ]
    },
    {
     "data": {
      "text/html": [
       "<div>\n",
       "<style scoped>\n",
       "    .dataframe tbody tr th:only-of-type {\n",
       "        vertical-align: middle;\n",
       "    }\n",
       "\n",
       "    .dataframe tbody tr th {\n",
       "        vertical-align: top;\n",
       "    }\n",
       "\n",
       "    .dataframe thead th {\n",
       "        text-align: right;\n",
       "    }\n",
       "</style>\n",
       "<table border=\"1\" class=\"dataframe\">\n",
       "  <thead>\n",
       "    <tr style=\"text-align: right;\">\n",
       "      <th></th>\n",
       "      <th>Model</th>\n",
       "      <th>Accuracy</th>\n",
       "      <th>Precision</th>\n",
       "      <th>Recall</th>\n",
       "      <th>F1 Score</th>\n",
       "    </tr>\n",
       "  </thead>\n",
       "  <tbody>\n",
       "    <tr>\n",
       "      <th>0</th>\n",
       "      <td>Logistic Regression</td>\n",
       "      <td>0.972583</td>\n",
       "      <td>0.976182</td>\n",
       "      <td>0.972583</td>\n",
       "      <td>0.973122</td>\n",
       "    </tr>\n",
       "    <tr>\n",
       "      <th>1</th>\n",
       "      <td>Decision Tree</td>\n",
       "      <td>0.954777</td>\n",
       "      <td>0.974620</td>\n",
       "      <td>0.954777</td>\n",
       "      <td>0.962509</td>\n",
       "    </tr>\n",
       "    <tr>\n",
       "      <th>2</th>\n",
       "      <td>SVM (SGD)</td>\n",
       "      <td>0.982193</td>\n",
       "      <td>0.982382</td>\n",
       "      <td>0.982193</td>\n",
       "      <td>0.980512</td>\n",
       "    </tr>\n",
       "    <tr>\n",
       "      <th>3</th>\n",
       "      <td>Random Forest</td>\n",
       "      <td>0.980073</td>\n",
       "      <td>0.980090</td>\n",
       "      <td>0.980073</td>\n",
       "      <td>0.978542</td>\n",
       "    </tr>\n",
       "    <tr>\n",
       "      <th>4</th>\n",
       "      <td>XGBoost</td>\n",
       "      <td>0.970322</td>\n",
       "      <td>0.970821</td>\n",
       "      <td>0.970322</td>\n",
       "      <td>0.968711</td>\n",
       "    </tr>\n",
       "    <tr>\n",
       "      <th>5</th>\n",
       "      <td>AdaBoost+DT</td>\n",
       "      <td>0.953010</td>\n",
       "      <td>0.953768</td>\n",
       "      <td>0.953010</td>\n",
       "      <td>0.949724</td>\n",
       "    </tr>\n",
       "    <tr>\n",
       "      <th>6</th>\n",
       "      <td>AdaBoost+LR</td>\n",
       "      <td>0.898954</td>\n",
       "      <td>0.955261</td>\n",
       "      <td>0.898954</td>\n",
       "      <td>0.917976</td>\n",
       "    </tr>\n",
       "    <tr>\n",
       "      <th>7</th>\n",
       "      <td>Catboost</td>\n",
       "      <td>0.900650</td>\n",
       "      <td>0.936764</td>\n",
       "      <td>0.900650</td>\n",
       "      <td>0.909386</td>\n",
       "    </tr>\n",
       "    <tr>\n",
       "      <th>8</th>\n",
       "      <td>LightGBM</td>\n",
       "      <td>0.978166</td>\n",
       "      <td>0.978414</td>\n",
       "      <td>0.978166</td>\n",
       "      <td>0.977243</td>\n",
       "    </tr>\n",
       "  </tbody>\n",
       "</table>\n",
       "</div>"
      ],
      "text/plain": [
       "                 Model  Accuracy  Precision    Recall  F1 Score\n",
       "0  Logistic Regression  0.972583   0.976182  0.972583  0.973122\n",
       "1        Decision Tree  0.954777   0.974620  0.954777  0.962509\n",
       "2            SVM (SGD)  0.982193   0.982382  0.982193  0.980512\n",
       "3        Random Forest  0.980073   0.980090  0.980073  0.978542\n",
       "4              XGBoost  0.970322   0.970821  0.970322  0.968711\n",
       "5          AdaBoost+DT  0.953010   0.953768  0.953010  0.949724\n",
       "6          AdaBoost+LR  0.898954   0.955261  0.898954  0.917976\n",
       "7             Catboost  0.900650   0.936764  0.900650  0.909386\n",
       "8             LightGBM  0.978166   0.978414  0.978166  0.977243"
      ]
     },
     "metadata": {},
     "output_type": "display_data"
    },
    {
     "name": "stderr",
     "output_type": "stream",
     "text": [
      "Evaluating Models: 100%|██████████| 9/9 [03:06<00:00, 20.68s/it]\n"
     ]
    },
    {
     "data": {
      "text/html": [
       "<div>\n",
       "<style scoped>\n",
       "    .dataframe tbody tr th:only-of-type {\n",
       "        vertical-align: middle;\n",
       "    }\n",
       "\n",
       "    .dataframe tbody tr th {\n",
       "        vertical-align: top;\n",
       "    }\n",
       "\n",
       "    .dataframe thead th {\n",
       "        text-align: right;\n",
       "    }\n",
       "</style>\n",
       "<table border=\"1\" class=\"dataframe\">\n",
       "  <thead>\n",
       "    <tr style=\"text-align: right;\">\n",
       "      <th></th>\n",
       "      <th>Model</th>\n",
       "      <th>Accuracy</th>\n",
       "      <th>Precision</th>\n",
       "      <th>Recall</th>\n",
       "      <th>F1 Score</th>\n",
       "    </tr>\n",
       "  </thead>\n",
       "  <tbody>\n",
       "    <tr>\n",
       "      <th>0</th>\n",
       "      <td>Logistic Regression</td>\n",
       "      <td>0.972583</td>\n",
       "      <td>0.976182</td>\n",
       "      <td>0.972583</td>\n",
       "      <td>0.973122</td>\n",
       "    </tr>\n",
       "    <tr>\n",
       "      <th>1</th>\n",
       "      <td>Decision Tree</td>\n",
       "      <td>0.954777</td>\n",
       "      <td>0.974620</td>\n",
       "      <td>0.954777</td>\n",
       "      <td>0.962509</td>\n",
       "    </tr>\n",
       "    <tr>\n",
       "      <th>2</th>\n",
       "      <td>SVM (SGD)</td>\n",
       "      <td>0.982193</td>\n",
       "      <td>0.982382</td>\n",
       "      <td>0.982193</td>\n",
       "      <td>0.980512</td>\n",
       "    </tr>\n",
       "    <tr>\n",
       "      <th>3</th>\n",
       "      <td>Random Forest</td>\n",
       "      <td>0.980073</td>\n",
       "      <td>0.980090</td>\n",
       "      <td>0.980073</td>\n",
       "      <td>0.978542</td>\n",
       "    </tr>\n",
       "    <tr>\n",
       "      <th>4</th>\n",
       "      <td>XGBoost</td>\n",
       "      <td>0.970322</td>\n",
       "      <td>0.970821</td>\n",
       "      <td>0.970322</td>\n",
       "      <td>0.968711</td>\n",
       "    </tr>\n",
       "    <tr>\n",
       "      <th>5</th>\n",
       "      <td>AdaBoost+DT</td>\n",
       "      <td>0.953010</td>\n",
       "      <td>0.953768</td>\n",
       "      <td>0.953010</td>\n",
       "      <td>0.949724</td>\n",
       "    </tr>\n",
       "    <tr>\n",
       "      <th>6</th>\n",
       "      <td>AdaBoost+LR</td>\n",
       "      <td>0.898954</td>\n",
       "      <td>0.955261</td>\n",
       "      <td>0.898954</td>\n",
       "      <td>0.917976</td>\n",
       "    </tr>\n",
       "    <tr>\n",
       "      <th>7</th>\n",
       "      <td>Catboost</td>\n",
       "      <td>0.900650</td>\n",
       "      <td>0.936764</td>\n",
       "      <td>0.900650</td>\n",
       "      <td>0.909386</td>\n",
       "    </tr>\n",
       "    <tr>\n",
       "      <th>8</th>\n",
       "      <td>LightGBM</td>\n",
       "      <td>0.978166</td>\n",
       "      <td>0.978414</td>\n",
       "      <td>0.978166</td>\n",
       "      <td>0.977243</td>\n",
       "    </tr>\n",
       "  </tbody>\n",
       "</table>\n",
       "</div>"
      ],
      "text/plain": [
       "                 Model  Accuracy  Precision    Recall  F1 Score\n",
       "0  Logistic Regression  0.972583   0.976182  0.972583  0.973122\n",
       "1        Decision Tree  0.954777   0.974620  0.954777  0.962509\n",
       "2            SVM (SGD)  0.982193   0.982382  0.982193  0.980512\n",
       "3        Random Forest  0.980073   0.980090  0.980073  0.978542\n",
       "4              XGBoost  0.970322   0.970821  0.970322  0.968711\n",
       "5          AdaBoost+DT  0.953010   0.953768  0.953010  0.949724\n",
       "6          AdaBoost+LR  0.898954   0.955261  0.898954  0.917976\n",
       "7             Catboost  0.900650   0.936764  0.900650  0.909386\n",
       "8             LightGBM  0.978166   0.978414  0.978166  0.977243"
      ]
     },
     "execution_count": 17,
     "metadata": {},
     "output_type": "execute_result"
    }
   ],
   "source": [
    "results = pd.DataFrame()\n",
    "\n",
    "for name, model in tqdm(models.items(), desc=\"Evaluating Models\"):\n",
    "    results_row = evaluate_model(name, model, X_train_delta_tfidf, y_train, X_test_delta_tfidf, y_test)\n",
    "    results = results._append(results_row, ignore_index=True)\n",
    "    display(results)\n",
    "    \n",
    "results"
   ]
  },
  {
   "cell_type": "markdown",
   "id": "34bf84ad",
   "metadata": {
    "papermill": {
     "duration": 0.014265,
     "end_time": "2024-02-04T05:12:44.491883",
     "exception": false,
     "start_time": "2024-02-04T05:12:44.477618",
     "status": "completed"
    },
    "tags": []
   },
   "source": [
    "## Evaluation"
   ]
  },
  {
   "cell_type": "code",
   "execution_count": 18,
   "id": "5f49df9d",
   "metadata": {
    "execution": {
     "iopub.execute_input": "2024-02-04T05:12:44.521766Z",
     "iopub.status.busy": "2024-02-04T05:12:44.521456Z",
     "iopub.status.idle": "2024-02-04T05:12:44.525324Z",
     "shell.execute_reply": "2024-02-04T05:12:44.524454Z"
    },
    "papermill": {
     "duration": 0.020975,
     "end_time": "2024-02-04T05:12:44.527118",
     "exception": false,
     "start_time": "2024-02-04T05:12:44.506143",
     "status": "completed"
    },
    "tags": []
   },
   "outputs": [],
   "source": [
    "# %pip install pandas==2.0.3"
   ]
  },
  {
   "cell_type": "code",
   "execution_count": 19,
   "id": "8e0fc85e",
   "metadata": {
    "execution": {
     "iopub.execute_input": "2024-02-04T05:12:44.557478Z",
     "iopub.status.busy": "2024-02-04T05:12:44.556774Z",
     "iopub.status.idle": "2024-02-04T05:13:22.462806Z",
     "shell.execute_reply": "2024-02-04T05:13:22.461864Z"
    },
    "papermill": {
     "duration": 37.923381,
     "end_time": "2024-02-04T05:13:22.464939",
     "exception": false,
     "start_time": "2024-02-04T05:12:44.541558",
     "status": "completed"
    },
    "tags": []
   },
   "outputs": [
    {
     "name": "stdout",
     "output_type": "stream",
     "text": [
      "SVD init\n",
      "SVD finished\n",
      "logreg init\n",
      "logreg fit\n",
      "logreg predict\n",
      "Accuracy: 0.8194601469756925\n",
      "              precision    recall  f1-score   support\n",
      "\n",
      "           0       1.00      0.83      0.91     11894\n",
      "           1       0.11      0.90      0.19       338\n",
      "           2       0.98      0.74      0.84      1920\n",
      "\n",
      "    accuracy                           0.82     14152\n",
      "   macro avg       0.70      0.82      0.65     14152\n",
      "weighted avg       0.98      0.82      0.88     14152\n",
      "\n"
     ]
    },
    {
     "data": {
      "image/png": "[encoded data removed]",
      "text/plain": [
       "<Figure size 640x480 with 2 Axes>"
      ]
     },
     "metadata": {},
     "output_type": "display_data"
    },
    {
     "data": {
      "image/png": "[encoded data removed]",
      "text/plain": [
       "<Figure size 640x480 with 2 Axes>"
      ]
     },
     "metadata": {},
     "output_type": "display_data"
    }
   ],
   "source": [
    "import matplotlib.pyplot as plt\n",
    "from sklearn.metrics import accuracy_score, classification_report\n",
    "from sklearn.decomposition import TruncatedSVD\n",
    "from sklearn.linear_model import LogisticRegression\n",
    "from sklearn.model_selection import train_test_split\n",
    "\n",
    "# Assuming you have X_train, X_test, y_train, and y_test defined earlier\n",
    "\n",
    "# Step 1: Apply Truncated SVD for feature reduction on CPU\n",
    "n_components = 3  # You can adjust this value as needed\n",
    "svd = TruncatedSVD(n_components=n_components, random_state=42)\n",
    "print(\"SVD init\")\n",
    "\n",
    "# Fit and transform on training data\n",
    "X_train_svd = svd.fit_transform(X_train_delta_tfidf.toarray())\n",
    "\n",
    "# Transform on test data\n",
    "X_test_svd = svd.transform(X_test_delta_tfidf.toarray())\n",
    "print(\"SVD finished\")\n",
    "\n",
    "# Step 2: Logistic Regression with class weights for evaluation\n",
    "logistic_regression = LogisticRegression(class_weight='balanced')\n",
    "print(\"logreg init\")\n",
    "\n",
    "# Fit the model\n",
    "logistic_regression.fit(X_train_svd, y_train)\n",
    "print(\"logreg fit\")\n",
    "\n",
    "# Predictions\n",
    "y_pred = logistic_regression.predict(X_test_svd)\n",
    "print(\"logreg predict\")\n",
    "\n",
    "# Step 3: Evaluation\n",
    "print(\"Accuracy:\", accuracy_score(y_test, y_pred))\n",
    "print(classification_report(y_test, y_pred))\n",
    "\n",
    "# Step 4: Visualize SVD results\n",
    "plt.scatter(X_train_svd[:, 0], X_train_svd[:, 1], c=y_train, cmap=plt.cm.Paired)\n",
    "plt.colorbar()\n",
    "plt.title(\"SVD Visualization of Training Data\")\n",
    "plt.show()\n",
    "\n",
    "plt.scatter(X_test_svd[:, 0], X_test_svd[:, 1], c=y_test, cmap=plt.cm.Paired)\n",
    "plt.colorbar()\n",
    "plt.title(\"SVD Visualization of Test Data\")\n",
    "plt.show()"
   ]
  },
  {
   "cell_type": "code",
   "execution_count": 20,
   "id": "2d919696",
   "metadata": {
    "execution": {
     "iopub.execute_input": "2024-02-04T05:13:22.498611Z",
     "iopub.status.busy": "2024-02-04T05:13:22.498332Z",
     "iopub.status.idle": "2024-02-04T05:13:22.502102Z",
     "shell.execute_reply": "2024-02-04T05:13:22.501214Z"
    },
    "papermill": {
     "duration": 0.022666,
     "end_time": "2024-02-04T05:13:22.504066",
     "exception": false,
     "start_time": "2024-02-04T05:13:22.481400",
     "status": "completed"
    },
    "tags": []
   },
   "outputs": [],
   "source": [
    "# %conda update pandas\n",
    "# %conda update dask\n",
    "# %conda update dask-cudf"
   ]
  },
  {
   "cell_type": "code",
   "execution_count": null,
   "id": "6513ea5d",
   "metadata": {
    "papermill": {
     "duration": 0.015876,
     "end_time": "2024-02-04T05:13:22.536984",
     "exception": false,
     "start_time": "2024-02-04T05:13:22.521108",
     "status": "completed"
    },
    "tags": []
   },
   "outputs": [],
   "source": []
  },
  {
   "cell_type": "code",
   "execution_count": null,
   "id": "7a19a583",
   "metadata": {
    "papermill": {
     "duration": 0.015924,
     "end_time": "2024-02-04T05:13:22.569066",
     "exception": false,
     "start_time": "2024-02-04T05:13:22.553142",
     "status": "completed"
    },
    "tags": []
   },
   "outputs": [],
   "source": []
  }
 ],
 "metadata": {
  "kaggle": {
   "accelerator": "gpu",
   "dataSources": [
    {
     "datasetId": 4396626,
     "sourceId": 7549185,
     "sourceType": "datasetVersion"
    }
   ],
   "dockerImageVersionId": 30648,
   "isGpuEnabled": true,
   "isInternetEnabled": true,
   "language": "python",
   "sourceType": "notebook"
  },
  "kernelspec": {
   "display_name": "Python 3",
   "language": "python",
   "name": "python3"
  },
  "language_info": {
   "codemirror_mode": {
    "name": "ipython",
    "version": 3
   },
   "file_extension": ".py",
   "mimetype": "text/x-python",
   "name": "python",
   "nbconvert_exporter": "python",
   "pygments_lexer": "ipython3",
   "version": "3.10.13"
  },
  "papermill": {
   "default_parameters": {},
   "duration": 354.828735,
   "end_time": "2024-02-04T05:13:23.505191",
   "environment_variables": {},
   "exception": null,
   "input_path": "__notebook__.ipynb",
   "output_path": "__notebook__.ipynb",
   "parameters": {},
   "start_time": "2024-02-04T05:07:28.676456",
   "version": "2.5.0"
  }
 },
 "nbformat": 4,
 "nbformat_minor": 5
}
