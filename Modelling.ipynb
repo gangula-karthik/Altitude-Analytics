{
 "cells": [
  {
   "cell_type": "markdown",
   "id": "779e9dda",
   "metadata": {
    "tags": []
   },
   "source": [
    "## Installing and Importing Packages"
   ]
  },
  {
   "cell_type": "code",
   "execution_count": 1,
   "id": "4caf31e3",
   "metadata": {
    "papermill": {
     "duration": 1.079056,
     "end_time": "2024-02-04T08:12:56.002806",
     "exception": false,
     "start_time": "2024-02-04T08:12:54.923750",
     "status": "completed"
    },
    "tags": []
   },
   "outputs": [
    {
     "name": "stdout",
     "output_type": "stream",
     "text": [
      "zsh:1: command not found: nvidia-smi\n"
     ]
    }
   ],
   "source": [
    "!nvidia-smi # checking for GPU ver."
   ]
  },
  {
   "cell_type": "code",
   "execution_count": 2,
   "id": "2c5869d6",
   "metadata": {
    "papermill": {
     "duration": 0.01614,
     "end_time": "2024-02-04T08:12:56.027779",
     "exception": false,
     "start_time": "2024-02-04T08:12:56.011639",
     "status": "completed"
    },
    "tags": []
   },
   "outputs": [],
   "source": [
    "# %pip install imbalanced-learn\n",
    "# %pip install lightgbm\n",
    "# %pip install cuml\n",
    "# %pip install contractions\n",
    "# %pip install symspellpy\n",
    "# %pip install textstat\n",
    "# %pip install -U kaleido\n",
    "# %pip show cuml\n",
    "# export LDFLAGS=\"-L/opt/homebrew/opt/libomp/lib\"\n",
    "# export CPPFLAGS=\"-I/opt/homebrew/opt/libomp/include\"\n",
    "\n",
    "# nltk.download('wordnet', '/usr/share/nltk_data')\n",
    "# nltk.download()\n",
    "# !unzip /usr/share/nltk_data/corpora/wordnet.zip -d /usr/share/nltk_data/corpora/\n"
   ]
  },
  {
   "cell_type": "code",
   "execution_count": 59,
   "id": "8c7664cf",
   "metadata": {
    "papermill": {
     "duration": 10.570325,
     "end_time": "2024-02-04T08:13:06.606813",
     "exception": false,
     "start_time": "2024-02-04T08:12:56.036488",
     "status": "completed"
    },
    "tags": []
   },
   "outputs": [],
   "source": [
    "import string\n",
    "import warnings\n",
    "import re\n",
    "import sys\n",
    "\n",
    "import numpy as np\n",
    "import pandas as pd\n",
    "import seaborn as sns\n",
    "import matplotlib.pyplot as plt\n",
    "import spacy\n",
    "from bs4 import BeautifulSoup\n",
    "from symspellpy import SymSpell\n",
    "from textstat import textstat\n",
    "from collections import Counter\n",
    "from imblearn.over_sampling import RandomOverSampler, SMOTE, ADASYN\n",
    "import nltk\n",
    "from nltk import word_tokenize, pos_tag, sent_tokenize\n",
    "from nltk.corpus import stopwords, wordnet\n",
    "from nltk.stem import WordNetLemmatizer\n",
    "from nltk import word_tokenize, pos_tag, pos_tag_sents\n",
    "from sklearn.compose import ColumnTransformer\n",
    "from sklearn.ensemble import AdaBoostClassifier, RandomForestClassifier\n",
    "from sklearn.feature_extraction.text import CountVectorizer, TfidfVectorizer\n",
    "from sklearn.linear_model import LogisticRegression, SGDClassifier\n",
    "from sklearn.metrics import (accuracy_score, classification_report,\n",
    "                             confusion_matrix, f1_score,\n",
    "                             precision_recall_fscore_support,\n",
    "                             precision_score, recall_score)\n",
    "from sklearn.model_selection import train_test_split\n",
    "from sklearn.naive_bayes import ComplementNB, MultinomialNB\n",
    "from sklearn.utils.class_weight import compute_sample_weight\n",
    "from sklearn.pipeline import Pipeline\n",
    "from sklearn.preprocessing import FunctionTransformer, LabelEncoder\n",
    "from sklearn.svm import SVC\n",
    "from sklearn.tree import DecisionTreeClassifier\n",
    "from sklearn.model_selection import RandomizedSearchCV\n",
    "from scipy.stats import loguniform\n",
    "from tqdm import tqdm\n",
    "from wordcloud import WordCloud\n",
    "from xgboost import XGBClassifier\n",
    "from catboost import CatBoostClassifier\n",
    "from lightgbm import LGBMClassifier\n",
    "import contractions\n",
    "from scipy.sparse import hstack, vstack\n",
    "from sklearn.base import BaseEstimator, TransformerMixin\n",
    "import numpy as np\n",
    "\n",
    "# from emojii_and_emoticon_map import EMOTICONS_EMO, EMOJI_UNICODE\n",
    "from DataScraping_and_processing.emojii_and_emoticon_map import EMOTICONS_EMO, EMOJI_UNICODE\n",
    "\n",
    "import langid"
   ]
  },
  {
   "cell_type": "code",
   "execution_count": 51,
   "id": "8273b7ed",
   "metadata": {
    "papermill": {
     "duration": 0.015465,
     "end_time": "2024-02-04T08:13:06.631026",
     "exception": false,
     "start_time": "2024-02-04T08:13:06.615561",
     "status": "completed"
    },
    "tags": []
   },
   "outputs": [],
   "source": [
    "# sys.path.append('/kaggle/input/dataprocessing/')\n",
    "# nltk.download()\n",
    "\n",
    "warnings.filterwarnings(\"ignore\", category=DeprecationWarning)\n",
    "warnings.filterwarnings(\"ignore\", category=FutureWarning)\n",
    "warnings.filterwarnings(\"ignore\", category=UserWarning)"
   ]
  },
  {
   "cell_type": "markdown",
   "id": "32ce94d0",
   "metadata": {
    "papermill": {
     "duration": 0.008154,
     "end_time": "2024-02-04T08:13:06.647525",
     "exception": false,
     "start_time": "2024-02-04T08:13:06.639371",
     "status": "completed"
    },
    "tags": []
   },
   "source": [
    "## Data Preparation + Feature Engineering"
   ]
  },
  {
   "cell_type": "markdown",
   "id": "06bb2ed5-7e39-4246-a0e9-84c13fb917ba",
   "metadata": {
    "jp-MarkdownHeadingCollapsed": true,
    "tags": []
   },
   "source": [
    "### Simple Data Cleaning\n",
    "- reading the csv file\n",
    "- removing null values (appears after data cleaning)\n",
    "- Label encoding on NPS_category `[mapping: {\"Detractor\": 0, \"Neutral\": 1, \"Promoter\": 2}]`"
   ]
  },
  {
   "cell_type": "code",
   "execution_count": 5,
   "id": "66527669",
   "metadata": {
    "papermill": {
     "duration": 1.592066,
     "end_time": "2024-02-04T08:13:08.247683",
     "exception": false,
     "start_time": "2024-02-04T08:13:06.655617",
     "status": "completed"
    },
    "tags": []
   },
   "outputs": [
    {
     "data": {
      "text/html": [
       "<div>\n",
       "<style scoped>\n",
       "    .dataframe tbody tr th:only-of-type {\n",
       "        vertical-align: middle;\n",
       "    }\n",
       "\n",
       "    .dataframe tbody tr th {\n",
       "        vertical-align: top;\n",
       "    }\n",
       "\n",
       "    .dataframe thead th {\n",
       "        text-align: right;\n",
       "    }\n",
       "</style>\n",
       "<table border=\"1\" class=\"dataframe\">\n",
       "  <thead>\n",
       "    <tr style=\"text-align: right;\">\n",
       "      <th></th>\n",
       "      <th>overall_rating</th>\n",
       "      <th>review_date</th>\n",
       "      <th>review_text</th>\n",
       "      <th>airline_name</th>\n",
       "      <th>NPS_category</th>\n",
       "      <th>NPS</th>\n",
       "      <th>language_info</th>\n",
       "      <th>clean_text</th>\n",
       "      <th>text_length</th>\n",
       "      <th>word_count</th>\n",
       "      <th>unique_word_count</th>\n",
       "      <th>word_density</th>\n",
       "      <th>uppercase_words</th>\n",
       "      <th>comma_count</th>\n",
       "      <th>exclamation_count</th>\n",
       "      <th>question_mark_count</th>\n",
       "      <th>avg_sentence_length</th>\n",
       "      <th>flesch_reading_score</th>\n",
       "      <th>gunning_fog_index</th>\n",
       "    </tr>\n",
       "  </thead>\n",
       "  <tbody>\n",
       "    <tr>\n",
       "      <th>0</th>\n",
       "      <td>Rated 1 out of 5 stars</td>\n",
       "      <td>2023-09-18 03:29:15</td>\n",
       "      <td>EasyJet sent text at 4.00 am day of flight hom...</td>\n",
       "      <td>easyjet</td>\n",
       "      <td>Detractor</td>\n",
       "      <td>-1</td>\n",
       "      <td>en</td>\n",
       "      <td>text rush organise transport effort implicatio...</td>\n",
       "      <td>194</td>\n",
       "      <td>32</td>\n",
       "      <td>29</td>\n",
       "      <td>5.878788</td>\n",
       "      <td>0</td>\n",
       "      <td>1</td>\n",
       "      <td>0</td>\n",
       "      <td>0</td>\n",
       "      <td>6.600000</td>\n",
       "      <td>81.90</td>\n",
       "      <td>5.06</td>\n",
       "    </tr>\n",
       "    <tr>\n",
       "      <th>1</th>\n",
       "      <td>9</td>\n",
       "      <td>2023-12-01 00:00:00</td>\n",
       "      <td>Its been a few years when I flew a lot in A...</td>\n",
       "      <td>Vistara</td>\n",
       "      <td>Promoter</td>\n",
       "      <td>1</td>\n",
       "      <td>en</td>\n",
       "      <td>asia vistara surprise swift immaculate steward...</td>\n",
       "      <td>608</td>\n",
       "      <td>109</td>\n",
       "      <td>74</td>\n",
       "      <td>5.527273</td>\n",
       "      <td>3</td>\n",
       "      <td>7</td>\n",
       "      <td>0</td>\n",
       "      <td>0</td>\n",
       "      <td>27.250000</td>\n",
       "      <td>61.19</td>\n",
       "      <td>14.08</td>\n",
       "    </tr>\n",
       "    <tr>\n",
       "      <th>3</th>\n",
       "      <td>Rated 1 out of 5 stars</td>\n",
       "      <td>2018-09-09 20:37:11</td>\n",
       "      <td>one of the worst experiences with Air France e...</td>\n",
       "      <td>air france</td>\n",
       "      <td>Detractor</td>\n",
       "      <td>-1</td>\n",
       "      <td>en</td>\n",
       "      <td>ever bore carry duty inbound</td>\n",
       "      <td>204</td>\n",
       "      <td>30</td>\n",
       "      <td>30</td>\n",
       "      <td>6.580645</td>\n",
       "      <td>0</td>\n",
       "      <td>2</td>\n",
       "      <td>0</td>\n",
       "      <td>0</td>\n",
       "      <td>10.000000</td>\n",
       "      <td>61.33</td>\n",
       "      <td>8.00</td>\n",
       "    </tr>\n",
       "    <tr>\n",
       "      <th>4</th>\n",
       "      <td>Rated 1 out of 5 stars</td>\n",
       "      <td>2019-12-23 14:00:19</td>\n",
       "      <td>Not a single star this airlines deserves .I lo...</td>\n",
       "      <td>egyptair</td>\n",
       "      <td>Detractor</td>\n",
       "      <td>-1</td>\n",
       "      <td>en</td>\n",
       "      <td>deserves last block respond mail operator harr...</td>\n",
       "      <td>464</td>\n",
       "      <td>87</td>\n",
       "      <td>64</td>\n",
       "      <td>5.272727</td>\n",
       "      <td>4</td>\n",
       "      <td>2</td>\n",
       "      <td>0</td>\n",
       "      <td>0</td>\n",
       "      <td>14.833333</td>\n",
       "      <td>74.39</td>\n",
       "      <td>7.45</td>\n",
       "    </tr>\n",
       "    <tr>\n",
       "      <th>5</th>\n",
       "      <td>Rated 1 out of 5 stars</td>\n",
       "      <td>2023-12-29 06:42:56</td>\n",
       "      <td>I was forced to pay 150-euro worth penalty for...</td>\n",
       "      <td>ryanair</td>\n",
       "      <td>Detractor</td>\n",
       "      <td>-1</td>\n",
       "      <td>en</td>\n",
       "      <td>penalty fail earth would dare season arrogant ...</td>\n",
       "      <td>240</td>\n",
       "      <td>38</td>\n",
       "      <td>35</td>\n",
       "      <td>6.153846</td>\n",
       "      <td>1</td>\n",
       "      <td>1</td>\n",
       "      <td>0</td>\n",
       "      <td>1</td>\n",
       "      <td>12.666667</td>\n",
       "      <td>58.58</td>\n",
       "      <td>10.34</td>\n",
       "    </tr>\n",
       "  </tbody>\n",
       "</table>\n",
       "</div>"
      ],
      "text/plain": [
       "           overall_rating          review_date  \\\n",
       "0  Rated 1 out of 5 stars  2023-09-18 03:29:15   \n",
       "1                       9  2023-12-01 00:00:00   \n",
       "3  Rated 1 out of 5 stars  2018-09-09 20:37:11   \n",
       "4  Rated 1 out of 5 stars  2019-12-23 14:00:19   \n",
       "5  Rated 1 out of 5 stars  2023-12-29 06:42:56   \n",
       "\n",
       "                                         review_text airline_name  \\\n",
       "0  EasyJet sent text at 4.00 am day of flight hom...      easyjet   \n",
       "1     Its been a few years when I flew a lot in A...      Vistara   \n",
       "3  one of the worst experiences with Air France e...   air france   \n",
       "4  Not a single star this airlines deserves .I lo...     egyptair   \n",
       "5  I was forced to pay 150-euro worth penalty for...      ryanair   \n",
       "\n",
       "  NPS_category  NPS language_info  \\\n",
       "0    Detractor   -1            en   \n",
       "1     Promoter    1            en   \n",
       "3    Detractor   -1            en   \n",
       "4    Detractor   -1            en   \n",
       "5    Detractor   -1            en   \n",
       "\n",
       "                                          clean_text  text_length  word_count  \\\n",
       "0  text rush organise transport effort implicatio...          194          32   \n",
       "1  asia vistara surprise swift immaculate steward...          608         109   \n",
       "3                       ever bore carry duty inbound          204          30   \n",
       "4  deserves last block respond mail operator harr...          464          87   \n",
       "5  penalty fail earth would dare season arrogant ...          240          38   \n",
       "\n",
       "   unique_word_count  word_density  uppercase_words  comma_count  \\\n",
       "0                 29      5.878788                0            1   \n",
       "1                 74      5.527273                3            7   \n",
       "3                 30      6.580645                0            2   \n",
       "4                 64      5.272727                4            2   \n",
       "5                 35      6.153846                1            1   \n",
       "\n",
       "   exclamation_count  question_mark_count  avg_sentence_length  \\\n",
       "0                  0                    0             6.600000   \n",
       "1                  0                    0            27.250000   \n",
       "3                  0                    0            10.000000   \n",
       "4                  0                    0            14.833333   \n",
       "5                  0                    1            12.666667   \n",
       "\n",
       "   flesch_reading_score  gunning_fog_index  \n",
       "0                 81.90               5.06  \n",
       "1                 61.19              14.08  \n",
       "3                 61.33               8.00  \n",
       "4                 74.39               7.45  \n",
       "5                 58.58              10.34  "
      ]
     },
     "execution_count": 5,
     "metadata": {},
     "output_type": "execute_result"
    }
   ],
   "source": [
    "# df = pd.read_csv(\"/kaggle/input/training-data/karthik_cleaned_data.csv\", index_col=[0])\n",
    "df = pd.read_csv(\"./DataScraping_and_processing/karthik_cleaned_data.csv\", index_col=[0])\n",
    "df.head()"
   ]
  },
  {
   "cell_type": "code",
   "execution_count": 6,
   "id": "6b85aa5c",
   "metadata": {
    "papermill": {
     "duration": 0.057465,
     "end_time": "2024-02-04T08:13:08.315091",
     "exception": false,
     "start_time": "2024-02-04T08:13:08.257626",
     "status": "completed"
    },
    "tags": []
   },
   "outputs": [
    {
     "data": {
      "text/plain": [
       "overall_rating            0\n",
       "review_date               0\n",
       "review_text               0\n",
       "airline_name              0\n",
       "NPS_category              0\n",
       "NPS                       0\n",
       "language_info             0\n",
       "clean_text              719\n",
       "text_length               0\n",
       "word_count                0\n",
       "unique_word_count         0\n",
       "word_density              0\n",
       "uppercase_words           0\n",
       "comma_count               0\n",
       "exclamation_count         0\n",
       "question_mark_count       0\n",
       "avg_sentence_length       0\n",
       "flesch_reading_score      0\n",
       "gunning_fog_index         0\n",
       "dtype: int64"
      ]
     },
     "execution_count": 6,
     "metadata": {},
     "output_type": "execute_result"
    }
   ],
   "source": [
    "df.isna().sum()"
   ]
  },
  {
   "cell_type": "code",
   "execution_count": 7,
   "id": "2796b5a0",
   "metadata": {
    "papermill": {
     "duration": 0.067582,
     "end_time": "2024-02-04T08:13:08.392307",
     "exception": false,
     "start_time": "2024-02-04T08:13:08.324725",
     "status": "completed"
    },
    "tags": []
   },
   "outputs": [],
   "source": [
    "df.dropna(inplace=True)"
   ]
  },
  {
   "cell_type": "code",
   "execution_count": 8,
   "id": "b0d1ece7",
   "metadata": {
    "papermill": {
     "duration": 0.025143,
     "end_time": "2024-02-04T08:13:08.426728",
     "exception": false,
     "start_time": "2024-02-04T08:13:08.401585",
     "status": "completed"
    },
    "tags": []
   },
   "outputs": [],
   "source": [
    "df[\"NPS_category\"] = df[\"NPS_category\"].map({\"Detractor\": 0, \"Neutral\": 1, \"Promoter\": 2})"
   ]
  },
  {
   "cell_type": "code",
   "execution_count": 9,
   "id": "cd8ed171-4cb2-477c-b26f-3116bddc83db",
   "metadata": {
    "tags": []
   },
   "outputs": [
    {
     "data": {
      "text/html": [
       "<div>\n",
       "<style scoped>\n",
       "    .dataframe tbody tr th:only-of-type {\n",
       "        vertical-align: middle;\n",
       "    }\n",
       "\n",
       "    .dataframe tbody tr th {\n",
       "        vertical-align: top;\n",
       "    }\n",
       "\n",
       "    .dataframe thead th {\n",
       "        text-align: right;\n",
       "    }\n",
       "</style>\n",
       "<table border=\"1\" class=\"dataframe\">\n",
       "  <thead>\n",
       "    <tr style=\"text-align: right;\">\n",
       "      <th></th>\n",
       "      <th>count</th>\n",
       "      <th>mean</th>\n",
       "      <th>std</th>\n",
       "      <th>min</th>\n",
       "      <th>25%</th>\n",
       "      <th>50%</th>\n",
       "      <th>75%</th>\n",
       "      <th>max</th>\n",
       "    </tr>\n",
       "  </thead>\n",
       "  <tbody>\n",
       "    <tr>\n",
       "      <th>NPS_category</th>\n",
       "      <td>56606.0</td>\n",
       "      <td>0.295622</td>\n",
       "      <td>0.692344</td>\n",
       "      <td>0.000000</td>\n",
       "      <td>0.00</td>\n",
       "      <td>0.000000</td>\n",
       "      <td>0.000000</td>\n",
       "      <td>2.000000</td>\n",
       "    </tr>\n",
       "    <tr>\n",
       "      <th>NPS</th>\n",
       "      <td>56606.0</td>\n",
       "      <td>-0.704378</td>\n",
       "      <td>0.692344</td>\n",
       "      <td>-1.000000</td>\n",
       "      <td>-1.00</td>\n",
       "      <td>-1.000000</td>\n",
       "      <td>-1.000000</td>\n",
       "      <td>1.000000</td>\n",
       "    </tr>\n",
       "    <tr>\n",
       "      <th>text_length</th>\n",
       "      <td>56606.0</td>\n",
       "      <td>646.425432</td>\n",
       "      <td>660.495115</td>\n",
       "      <td>13.000000</td>\n",
       "      <td>247.00</td>\n",
       "      <td>449.000000</td>\n",
       "      <td>804.000000</td>\n",
       "      <td>13632.000000</td>\n",
       "    </tr>\n",
       "    <tr>\n",
       "      <th>word_count</th>\n",
       "      <td>56606.0</td>\n",
       "      <td>118.128379</td>\n",
       "      <td>121.809039</td>\n",
       "      <td>3.000000</td>\n",
       "      <td>44.00</td>\n",
       "      <td>82.000000</td>\n",
       "      <td>147.000000</td>\n",
       "      <td>2479.000000</td>\n",
       "    </tr>\n",
       "    <tr>\n",
       "      <th>unique_word_count</th>\n",
       "      <td>56606.0</td>\n",
       "      <td>75.306293</td>\n",
       "      <td>54.883098</td>\n",
       "      <td>1.000000</td>\n",
       "      <td>38.00</td>\n",
       "      <td>62.000000</td>\n",
       "      <td>98.000000</td>\n",
       "      <td>748.000000</td>\n",
       "    </tr>\n",
       "    <tr>\n",
       "      <th>word_density</th>\n",
       "      <td>56606.0</td>\n",
       "      <td>5.448509</td>\n",
       "      <td>0.406201</td>\n",
       "      <td>2.950000</td>\n",
       "      <td>5.20</td>\n",
       "      <td>5.416250</td>\n",
       "      <td>5.657534</td>\n",
       "      <td>10.333333</td>\n",
       "    </tr>\n",
       "    <tr>\n",
       "      <th>uppercase_words</th>\n",
       "      <td>56606.0</td>\n",
       "      <td>4.941119</td>\n",
       "      <td>9.322284</td>\n",
       "      <td>0.000000</td>\n",
       "      <td>1.00</td>\n",
       "      <td>2.000000</td>\n",
       "      <td>6.000000</td>\n",
       "      <td>456.000000</td>\n",
       "    </tr>\n",
       "    <tr>\n",
       "      <th>comma_count</th>\n",
       "      <td>56606.0</td>\n",
       "      <td>3.309631</td>\n",
       "      <td>5.111847</td>\n",
       "      <td>0.000000</td>\n",
       "      <td>0.00</td>\n",
       "      <td>2.000000</td>\n",
       "      <td>4.000000</td>\n",
       "      <td>104.000000</td>\n",
       "    </tr>\n",
       "    <tr>\n",
       "      <th>exclamation_count</th>\n",
       "      <td>56606.0</td>\n",
       "      <td>1.047309</td>\n",
       "      <td>2.705813</td>\n",
       "      <td>0.000000</td>\n",
       "      <td>0.00</td>\n",
       "      <td>0.000000</td>\n",
       "      <td>1.000000</td>\n",
       "      <td>113.000000</td>\n",
       "    </tr>\n",
       "    <tr>\n",
       "      <th>question_mark_count</th>\n",
       "      <td>56606.0</td>\n",
       "      <td>0.236282</td>\n",
       "      <td>0.923892</td>\n",
       "      <td>0.000000</td>\n",
       "      <td>0.00</td>\n",
       "      <td>0.000000</td>\n",
       "      <td>0.000000</td>\n",
       "      <td>49.000000</td>\n",
       "    </tr>\n",
       "    <tr>\n",
       "      <th>avg_sentence_length</th>\n",
       "      <td>56606.0</td>\n",
       "      <td>17.129324</td>\n",
       "      <td>14.384257</td>\n",
       "      <td>1.333333</td>\n",
       "      <td>11.00</td>\n",
       "      <td>14.666667</td>\n",
       "      <td>19.370238</td>\n",
       "      <td>714.000000</td>\n",
       "    </tr>\n",
       "    <tr>\n",
       "      <th>flesch_reading_score</th>\n",
       "      <td>56606.0</td>\n",
       "      <td>72.123386</td>\n",
       "      <td>17.295538</td>\n",
       "      <td>-627.860000</td>\n",
       "      <td>66.13</td>\n",
       "      <td>74.320000</td>\n",
       "      <td>81.460000</td>\n",
       "      <td>119.700000</td>\n",
       "    </tr>\n",
       "    <tr>\n",
       "      <th>gunning_fog_index</th>\n",
       "      <td>56606.0</td>\n",
       "      <td>9.417755</td>\n",
       "      <td>5.826638</td>\n",
       "      <td>1.000000</td>\n",
       "      <td>6.82</td>\n",
       "      <td>8.510000</td>\n",
       "      <td>10.620000</td>\n",
       "      <td>286.660000</td>\n",
       "    </tr>\n",
       "  </tbody>\n",
       "</table>\n",
       "</div>"
      ],
      "text/plain": [
       "                        count        mean         std         min     25%  \\\n",
       "NPS_category          56606.0    0.295622    0.692344    0.000000    0.00   \n",
       "NPS                   56606.0   -0.704378    0.692344   -1.000000   -1.00   \n",
       "text_length           56606.0  646.425432  660.495115   13.000000  247.00   \n",
       "word_count            56606.0  118.128379  121.809039    3.000000   44.00   \n",
       "unique_word_count     56606.0   75.306293   54.883098    1.000000   38.00   \n",
       "word_density          56606.0    5.448509    0.406201    2.950000    5.20   \n",
       "uppercase_words       56606.0    4.941119    9.322284    0.000000    1.00   \n",
       "comma_count           56606.0    3.309631    5.111847    0.000000    0.00   \n",
       "exclamation_count     56606.0    1.047309    2.705813    0.000000    0.00   \n",
       "question_mark_count   56606.0    0.236282    0.923892    0.000000    0.00   \n",
       "avg_sentence_length   56606.0   17.129324   14.384257    1.333333   11.00   \n",
       "flesch_reading_score  56606.0   72.123386   17.295538 -627.860000   66.13   \n",
       "gunning_fog_index     56606.0    9.417755    5.826638    1.000000    6.82   \n",
       "\n",
       "                             50%         75%           max  \n",
       "NPS_category            0.000000    0.000000      2.000000  \n",
       "NPS                    -1.000000   -1.000000      1.000000  \n",
       "text_length           449.000000  804.000000  13632.000000  \n",
       "word_count             82.000000  147.000000   2479.000000  \n",
       "unique_word_count      62.000000   98.000000    748.000000  \n",
       "word_density            5.416250    5.657534     10.333333  \n",
       "uppercase_words         2.000000    6.000000    456.000000  \n",
       "comma_count             2.000000    4.000000    104.000000  \n",
       "exclamation_count       0.000000    1.000000    113.000000  \n",
       "question_mark_count     0.000000    0.000000     49.000000  \n",
       "avg_sentence_length    14.666667   19.370238    714.000000  \n",
       "flesch_reading_score   74.320000   81.460000    119.700000  \n",
       "gunning_fog_index       8.510000   10.620000    286.660000  "
      ]
     },
     "execution_count": 9,
     "metadata": {},
     "output_type": "execute_result"
    }
   ],
   "source": [
    "df.describe().T"
   ]
  },
  {
   "cell_type": "markdown",
   "id": "43354123-3c9a-4e33-9476-f6328a52c2fb",
   "metadata": {
    "tags": []
   },
   "source": [
    "### Adding Meta text features\n",
    "- meta text features are those additional features about the text that can be used to give more information about it. These can include things like word count, count of nouns and verbs, text readability score, etc"
   ]
  },
  {
   "cell_type": "code",
   "execution_count": 10,
   "id": "8a3479b1-c0df-4ce0-bf64-5a07ca918c02",
   "metadata": {
    "tags": []
   },
   "outputs": [
    {
     "name": "stdout",
     "output_type": "stream",
     "text": [
      "Accuracy: 0.840375918598078\n",
      "Precision (Weighted): 0.7841960760169152\n",
      "Recall (Weighted): 0.840375918598078\n",
      "F1-score (Weighted): 0.7857551649089417\n"
     ]
    },
    {
     "data": {
      "image/png": "[encoded data removed]",
      "text/plain": [
       "<Figure size 1000x600 with 1 Axes>"
      ]
     },
     "metadata": {},
     "output_type": "display_data"
    }
   ],
   "source": [
    "X = df[['text_length', 'word_count', 'unique_word_count', 'word_density', 'uppercase_words', 'comma_count', 'exclamation_count', 'question_mark_count', 'avg_sentence_length', 'flesch_reading_score', 'gunning_fog_index']]\n",
    "y = df['NPS_category']\n",
    "\n",
    "X_train, X_valid, y_train, y_valid = train_test_split(X, y, test_size=0.25, random_state=42)\n",
    "\n",
    "rf_classifier = RandomForestClassifier(class_weight='balanced', n_estimators=100, random_state=42)\n",
    "rf_classifier.fit(X_train, y_train)\n",
    "\n",
    "y_pred = rf_classifier.predict(X_valid)\n",
    "accuracy = accuracy_score(y_valid, y_pred)\n",
    "precision = precision_score(y_valid, y_pred, average='weighted')\n",
    "recall = recall_score(y_valid, y_pred, average='weighted')\n",
    "f1 = f1_score(y_valid, y_pred, average='weighted')\n",
    "print(\"Accuracy:\", accuracy)\n",
    "print(\"Precision (Weighted):\", precision)\n",
    "print(\"Recall (Weighted):\", recall)\n",
    "print(\"F1-score (Weighted):\", f1)\n",
    "\n",
    "# Get feature importance\n",
    "feature_importance = rf_classifier.feature_importances_\n",
    "feature_importance_df = pd.DataFrame({'Features': X.columns, 'Importance': feature_importance})\n",
    "feature_importance_df = feature_importance_df.sort_values(by='Importance', ascending=False)\n",
    "\n",
    "# Plot the feature importance\n",
    "plt.figure(figsize=(10, 6))\n",
    "sns.barplot(data=feature_importance_df, x='Importance', y='Features', orient=\"h\")\n",
    "plt.xlabel(\"Importance\")\n",
    "plt.ylabel(\"Features\")\n",
    "plt.title(\"Feature Importance\")\n",
    "plt.show()"
   ]
  },
  {
   "cell_type": "markdown",
   "id": "d8493511-6ee4-4701-a44c-9a1b0f87dfa3",
   "metadata": {},
   "source": [
    "<div class=\"alert alert-info\" role=\"alert\">\n",
    "    The features created are not very strong at predicting the target. Upon further research some more stronger features included the noun count and the verb count.\n",
    "</div>"
   ]
  },
  {
   "cell_type": "code",
   "execution_count": 11,
   "id": "41ce4046-521c-4eef-ab0f-8409364e3f0f",
   "metadata": {
    "tags": []
   },
   "outputs": [
    {
     "name": "stderr",
     "output_type": "stream",
     "text": [
      "Counting the nouns: 100%|████████████████| 56606/56606 [02:52<00:00, 328.62it/s]\n",
      "Counting the verbs: 100%|████████████████| 56606/56606 [03:03<00:00, 309.10it/s]\n"
     ]
    },
    {
     "data": {
      "text/html": [
       "<div>\n",
       "<style scoped>\n",
       "    .dataframe tbody tr th:only-of-type {\n",
       "        vertical-align: middle;\n",
       "    }\n",
       "\n",
       "    .dataframe tbody tr th {\n",
       "        vertical-align: top;\n",
       "    }\n",
       "\n",
       "    .dataframe thead th {\n",
       "        text-align: right;\n",
       "    }\n",
       "</style>\n",
       "<table border=\"1\" class=\"dataframe\">\n",
       "  <thead>\n",
       "    <tr style=\"text-align: right;\">\n",
       "      <th></th>\n",
       "      <th>clean_text</th>\n",
       "      <th>noun_proportions</th>\n",
       "      <th>verb_proportions</th>\n",
       "    </tr>\n",
       "  </thead>\n",
       "  <tbody>\n",
       "    <tr>\n",
       "      <th>0</th>\n",
       "      <td>text rush organise transport effort implicatio...</td>\n",
       "      <td>0.483871</td>\n",
       "      <td>0.193548</td>\n",
       "    </tr>\n",
       "    <tr>\n",
       "      <th>1</th>\n",
       "      <td>asia vistara surprise swift immaculate steward...</td>\n",
       "      <td>0.242718</td>\n",
       "      <td>0.165049</td>\n",
       "    </tr>\n",
       "    <tr>\n",
       "      <th>3</th>\n",
       "      <td>ever bore carry duty inbound</td>\n",
       "      <td>0.437500</td>\n",
       "      <td>0.062500</td>\n",
       "    </tr>\n",
       "    <tr>\n",
       "      <th>4</th>\n",
       "      <td>deserves last block respond mail operator harr...</td>\n",
       "      <td>0.240506</td>\n",
       "      <td>0.253165</td>\n",
       "    </tr>\n",
       "    <tr>\n",
       "      <th>5</th>\n",
       "      <td>penalty fail earth would dare season arrogant ...</td>\n",
       "      <td>0.342857</td>\n",
       "      <td>0.200000</td>\n",
       "    </tr>\n",
       "    <tr>\n",
       "      <th>...</th>\n",
       "      <td>...</td>\n",
       "      <td>...</td>\n",
       "      <td>...</td>\n",
       "    </tr>\n",
       "    <tr>\n",
       "      <th>65737</th>\n",
       "      <td>still due outbreak uncertain get refund client</td>\n",
       "      <td>0.222222</td>\n",
       "      <td>0.111111</td>\n",
       "    </tr>\n",
       "    <tr>\n",
       "      <th>65738</th>\n",
       "      <td>h hot still</td>\n",
       "      <td>0.263158</td>\n",
       "      <td>0.131579</td>\n",
       "    </tr>\n",
       "    <tr>\n",
       "      <th>65739</th>\n",
       "      <td>first via twitter informative find alex get so...</td>\n",
       "      <td>0.265625</td>\n",
       "      <td>0.156250</td>\n",
       "    </tr>\n",
       "    <tr>\n",
       "      <th>65740</th>\n",
       "      <td>faro nd send u lose phone</td>\n",
       "      <td>0.333333</td>\n",
       "      <td>0.177778</td>\n",
       "    </tr>\n",
       "    <tr>\n",
       "      <th>65741</th>\n",
       "      <td>specific seat specific decide downgrade reallo...</td>\n",
       "      <td>0.313725</td>\n",
       "      <td>0.156863</td>\n",
       "    </tr>\n",
       "  </tbody>\n",
       "</table>\n",
       "<p>56606 rows × 3 columns</p>\n",
       "</div>"
      ],
      "text/plain": [
       "                                              clean_text  noun_proportions  \\\n",
       "0      text rush organise transport effort implicatio...          0.483871   \n",
       "1      asia vistara surprise swift immaculate steward...          0.242718   \n",
       "3                           ever bore carry duty inbound          0.437500   \n",
       "4      deserves last block respond mail operator harr...          0.240506   \n",
       "5      penalty fail earth would dare season arrogant ...          0.342857   \n",
       "...                                                  ...               ...   \n",
       "65737     still due outbreak uncertain get refund client          0.222222   \n",
       "65738                                        h hot still          0.263158   \n",
       "65739  first via twitter informative find alex get so...          0.265625   \n",
       "65740                          faro nd send u lose phone          0.333333   \n",
       "65741  specific seat specific decide downgrade reallo...          0.313725   \n",
       "\n",
       "       verb_proportions  \n",
       "0              0.193548  \n",
       "1              0.165049  \n",
       "3              0.062500  \n",
       "4              0.253165  \n",
       "5              0.200000  \n",
       "...                 ...  \n",
       "65737          0.111111  \n",
       "65738          0.131579  \n",
       "65739          0.156250  \n",
       "65740          0.177778  \n",
       "65741          0.156863  \n",
       "\n",
       "[56606 rows x 3 columns]"
      ]
     },
     "execution_count": 11,
     "metadata": {},
     "output_type": "execute_result"
    }
   ],
   "source": [
    "# calculating the nouns and verbs\n",
    "\n",
    "def pos_proportions(text, pos_tag):\n",
    "    sentences = sent_tokenize(text)\n",
    "    tokenized_sentences = [word_tokenize(sentence) for sentence in sentences]\n",
    "    tagged_sentences = pos_tag_sents(tokenized_sentences)\n",
    "    \n",
    "    pos_counts = 0\n",
    "    total_words = 0\n",
    "    \n",
    "    for sentence in tagged_sentences:\n",
    "        for word, tag in sentence:\n",
    "            if word.isalpha():\n",
    "                total_words += 1\n",
    "                if tag.startswith(pos_tag):\n",
    "                    pos_counts += 1\n",
    "    \n",
    "    return pos_counts / total_words if total_words > 0 else 0\n",
    "\n",
    "tqdm.pandas(desc=\"Counting the nouns\")\n",
    "df[\"noun_proportions\"] = df['review_text'].progress_apply(lambda x: pos_proportions(x, \"NN\"))\n",
    "tqdm.pandas(desc=\"Counting the verbs\")\n",
    "df[\"verb_proportions\"] = df['review_text'].progress_apply(lambda x: pos_proportions(x, \"VB\"))\n",
    "df[[\"clean_text\", \"noun_proportions\", \"verb_proportions\"]]"
   ]
  },
  {
   "cell_type": "code",
   "execution_count": 12,
   "id": "1dc27f23-0a30-4c20-9b64-ab8029f5eeda",
   "metadata": {
    "tags": []
   },
   "outputs": [
    {
     "name": "stdout",
     "output_type": "stream",
     "text": [
      "Accuracy: 0.842495760316563\n",
      "Precision (Weighted): 0.7969681233670317\n",
      "Recall (Weighted): 0.842495760316563\n",
      "F1-score (Weighted): 0.7843331533315334\n"
     ]
    },
    {
     "data": {
      "image/png": "[encoded data removed]",
      "text/plain": [
       "<Figure size 1000x600 with 1 Axes>"
      ]
     },
     "metadata": {},
     "output_type": "display_data"
    }
   ],
   "source": [
    "X = X.assign(noun_proportions=df['noun_proportions'], verb_proportions=df['verb_proportions'])\n",
    "y = df['NPS_category']\n",
    "\n",
    "X_train, X_test, y_train, y_test = train_test_split(X, y, test_size=0.25, random_state=42)\n",
    "\n",
    "rf_classifier = RandomForestClassifier(class_weight='balanced', n_estimators=100, random_state=42)\n",
    "rf_classifier.fit(X_train, y_train)\n",
    "\n",
    "y_pred = rf_classifier.predict(X_test)\n",
    "accuracy = accuracy_score(y_test, y_pred)\n",
    "precision = precision_score(y_test, y_pred, average='weighted')\n",
    "recall = recall_score(y_test, y_pred, average='weighted')\n",
    "f1 = f1_score(y_test, y_pred, average='weighted')\n",
    "\n",
    "print(\"Accuracy:\", accuracy)\n",
    "print(\"Precision (Weighted):\", precision)\n",
    "print(\"Recall (Weighted):\", recall)\n",
    "print(\"F1-score (Weighted):\", f1)\n",
    "\n",
    "feature_importance = rf_classifier.feature_importances_\n",
    "feature_importance_df = pd.DataFrame({'Features': X.columns, 'Importance': feature_importance})\n",
    "feature_importance_df = feature_importance_df.sort_values(by='Importance', ascending=False)\n",
    "\n",
    "plt.figure(figsize=(10, 6))\n",
    "sns.barplot(data=feature_importance_df, x='Importance', y='Features', orient=\"h\")\n",
    "plt.xlabel(\"Importance\")\n",
    "plt.ylabel(\"Features\")\n",
    "plt.title(\"Feature Importance\")\n",
    "plt.show()"
   ]
  },
  {
   "cell_type": "code",
   "execution_count": 13,
   "id": "45d70c99-4ad4-4ba5-8ea0-6fbbb166de7a",
   "metadata": {
    "tags": []
   },
   "outputs": [
    {
     "data": {
      "text/html": [
       "<div>\n",
       "<style scoped>\n",
       "    .dataframe tbody tr th:only-of-type {\n",
       "        vertical-align: middle;\n",
       "    }\n",
       "\n",
       "    .dataframe tbody tr th {\n",
       "        vertical-align: top;\n",
       "    }\n",
       "\n",
       "    .dataframe thead th {\n",
       "        text-align: right;\n",
       "    }\n",
       "</style>\n",
       "<table border=\"1\" class=\"dataframe\">\n",
       "  <thead>\n",
       "    <tr style=\"text-align: right;\">\n",
       "      <th></th>\n",
       "      <th>text_length</th>\n",
       "      <th>word_count</th>\n",
       "      <th>unique_word_count</th>\n",
       "      <th>word_density</th>\n",
       "      <th>avg_sentence_length</th>\n",
       "      <th>flesch_reading_score</th>\n",
       "      <th>gunning_fog_index</th>\n",
       "      <th>noun_proportions</th>\n",
       "      <th>verb_proportions</th>\n",
       "    </tr>\n",
       "  </thead>\n",
       "  <tbody>\n",
       "    <tr>\n",
       "      <th>0</th>\n",
       "      <td>194</td>\n",
       "      <td>32</td>\n",
       "      <td>29</td>\n",
       "      <td>5.878788</td>\n",
       "      <td>6.600000</td>\n",
       "      <td>81.90</td>\n",
       "      <td>5.06</td>\n",
       "      <td>0.483871</td>\n",
       "      <td>0.193548</td>\n",
       "    </tr>\n",
       "    <tr>\n",
       "      <th>1</th>\n",
       "      <td>608</td>\n",
       "      <td>109</td>\n",
       "      <td>74</td>\n",
       "      <td>5.527273</td>\n",
       "      <td>27.250000</td>\n",
       "      <td>61.19</td>\n",
       "      <td>14.08</td>\n",
       "      <td>0.242718</td>\n",
       "      <td>0.165049</td>\n",
       "    </tr>\n",
       "    <tr>\n",
       "      <th>3</th>\n",
       "      <td>204</td>\n",
       "      <td>30</td>\n",
       "      <td>30</td>\n",
       "      <td>6.580645</td>\n",
       "      <td>10.000000</td>\n",
       "      <td>61.33</td>\n",
       "      <td>8.00</td>\n",
       "      <td>0.437500</td>\n",
       "      <td>0.062500</td>\n",
       "    </tr>\n",
       "    <tr>\n",
       "      <th>4</th>\n",
       "      <td>464</td>\n",
       "      <td>87</td>\n",
       "      <td>64</td>\n",
       "      <td>5.272727</td>\n",
       "      <td>14.833333</td>\n",
       "      <td>74.39</td>\n",
       "      <td>7.45</td>\n",
       "      <td>0.240506</td>\n",
       "      <td>0.253165</td>\n",
       "    </tr>\n",
       "    <tr>\n",
       "      <th>5</th>\n",
       "      <td>240</td>\n",
       "      <td>38</td>\n",
       "      <td>35</td>\n",
       "      <td>6.153846</td>\n",
       "      <td>12.666667</td>\n",
       "      <td>58.58</td>\n",
       "      <td>10.34</td>\n",
       "      <td>0.342857</td>\n",
       "      <td>0.200000</td>\n",
       "    </tr>\n",
       "    <tr>\n",
       "      <th>...</th>\n",
       "      <td>...</td>\n",
       "      <td>...</td>\n",
       "      <td>...</td>\n",
       "      <td>...</td>\n",
       "      <td>...</td>\n",
       "      <td>...</td>\n",
       "      <td>...</td>\n",
       "      <td>...</td>\n",
       "      <td>...</td>\n",
       "    </tr>\n",
       "    <tr>\n",
       "      <th>65737</th>\n",
       "      <td>188</td>\n",
       "      <td>30</td>\n",
       "      <td>31</td>\n",
       "      <td>6.064516</td>\n",
       "      <td>10.666667</td>\n",
       "      <td>69.79</td>\n",
       "      <td>8.00</td>\n",
       "      <td>0.222222</td>\n",
       "      <td>0.111111</td>\n",
       "    </tr>\n",
       "    <tr>\n",
       "      <th>65738</th>\n",
       "      <td>202</td>\n",
       "      <td>39</td>\n",
       "      <td>36</td>\n",
       "      <td>5.050000</td>\n",
       "      <td>8.000000</td>\n",
       "      <td>83.66</td>\n",
       "      <td>7.25</td>\n",
       "      <td>0.263158</td>\n",
       "      <td>0.131579</td>\n",
       "    </tr>\n",
       "    <tr>\n",
       "      <th>65739</th>\n",
       "      <td>371</td>\n",
       "      <td>65</td>\n",
       "      <td>48</td>\n",
       "      <td>5.621212</td>\n",
       "      <td>10.833333</td>\n",
       "      <td>66.74</td>\n",
       "      <td>8.28</td>\n",
       "      <td>0.265625</td>\n",
       "      <td>0.156250</td>\n",
       "    </tr>\n",
       "    <tr>\n",
       "      <th>65740</th>\n",
       "      <td>240</td>\n",
       "      <td>50</td>\n",
       "      <td>44</td>\n",
       "      <td>4.705882</td>\n",
       "      <td>16.000000</td>\n",
       "      <td>80.62</td>\n",
       "      <td>7.23</td>\n",
       "      <td>0.333333</td>\n",
       "      <td>0.177778</td>\n",
       "    </tr>\n",
       "    <tr>\n",
       "      <th>65741</th>\n",
       "      <td>304</td>\n",
       "      <td>51</td>\n",
       "      <td>42</td>\n",
       "      <td>5.846154</td>\n",
       "      <td>17.000000</td>\n",
       "      <td>62.68</td>\n",
       "      <td>9.94</td>\n",
       "      <td>0.313725</td>\n",
       "      <td>0.156863</td>\n",
       "    </tr>\n",
       "  </tbody>\n",
       "</table>\n",
       "<p>56606 rows × 9 columns</p>\n",
       "</div>"
      ],
      "text/plain": [
       "       text_length  word_count  unique_word_count  word_density  \\\n",
       "0              194          32                 29      5.878788   \n",
       "1              608         109                 74      5.527273   \n",
       "3              204          30                 30      6.580645   \n",
       "4              464          87                 64      5.272727   \n",
       "5              240          38                 35      6.153846   \n",
       "...            ...         ...                ...           ...   \n",
       "65737          188          30                 31      6.064516   \n",
       "65738          202          39                 36      5.050000   \n",
       "65739          371          65                 48      5.621212   \n",
       "65740          240          50                 44      4.705882   \n",
       "65741          304          51                 42      5.846154   \n",
       "\n",
       "       avg_sentence_length  flesch_reading_score  gunning_fog_index  \\\n",
       "0                 6.600000                 81.90               5.06   \n",
       "1                27.250000                 61.19              14.08   \n",
       "3                10.000000                 61.33               8.00   \n",
       "4                14.833333                 74.39               7.45   \n",
       "5                12.666667                 58.58              10.34   \n",
       "...                    ...                   ...                ...   \n",
       "65737            10.666667                 69.79               8.00   \n",
       "65738             8.000000                 83.66               7.25   \n",
       "65739            10.833333                 66.74               8.28   \n",
       "65740            16.000000                 80.62               7.23   \n",
       "65741            17.000000                 62.68               9.94   \n",
       "\n",
       "       noun_proportions  verb_proportions  \n",
       "0              0.483871          0.193548  \n",
       "1              0.242718          0.165049  \n",
       "3              0.437500          0.062500  \n",
       "4              0.240506          0.253165  \n",
       "5              0.342857          0.200000  \n",
       "...                 ...               ...  \n",
       "65737          0.222222          0.111111  \n",
       "65738          0.263158          0.131579  \n",
       "65739          0.265625          0.156250  \n",
       "65740          0.333333          0.177778  \n",
       "65741          0.313725          0.156863  \n",
       "\n",
       "[56606 rows x 9 columns]"
      ]
     },
     "execution_count": 13,
     "metadata": {},
     "output_type": "execute_result"
    }
   ],
   "source": [
    "threshold = 0.06 # threshold for removing features\n",
    "\n",
    "feature_importance_df = pd.DataFrame({'Features': X.columns, 'Importance': feature_importance})\n",
    "\n",
    "feature_importance_df = feature_importance_df.sort_values(by='Importance', ascending=False)\n",
    "\n",
    "# Identify features with importance below the threshold\n",
    "low_importance_features = feature_importance_df[feature_importance_df['Importance'] < threshold]['Features']\n",
    "\n",
    "X_reduced = X.drop(columns=low_importance_features)\n",
    "X_reduced"
   ]
  },
  {
   "cell_type": "code",
   "execution_count": 14,
   "id": "a252107c-e45b-4b6e-9850-0733e20b62d6",
   "metadata": {
    "tags": []
   },
   "outputs": [
    {
     "data": {
      "text/html": [
       "<div>\n",
       "<style scoped>\n",
       "    .dataframe tbody tr th:only-of-type {\n",
       "        vertical-align: middle;\n",
       "    }\n",
       "\n",
       "    .dataframe tbody tr th {\n",
       "        vertical-align: top;\n",
       "    }\n",
       "\n",
       "    .dataframe thead th {\n",
       "        text-align: right;\n",
       "    }\n",
       "</style>\n",
       "<table border=\"1\" class=\"dataframe\">\n",
       "  <thead>\n",
       "    <tr style=\"text-align: right;\">\n",
       "      <th></th>\n",
       "      <th>text_length</th>\n",
       "      <th>unique_word_count</th>\n",
       "      <th>word_density</th>\n",
       "      <th>avg_sentence_length</th>\n",
       "      <th>gunning_fog_index</th>\n",
       "      <th>noun_proportions</th>\n",
       "      <th>verb_proportions</th>\n",
       "    </tr>\n",
       "  </thead>\n",
       "  <tbody>\n",
       "    <tr>\n",
       "      <th>0</th>\n",
       "      <td>194</td>\n",
       "      <td>29</td>\n",
       "      <td>5.878788</td>\n",
       "      <td>6.600000</td>\n",
       "      <td>5.06</td>\n",
       "      <td>0.483871</td>\n",
       "      <td>0.193548</td>\n",
       "    </tr>\n",
       "    <tr>\n",
       "      <th>1</th>\n",
       "      <td>608</td>\n",
       "      <td>74</td>\n",
       "      <td>5.527273</td>\n",
       "      <td>27.250000</td>\n",
       "      <td>14.08</td>\n",
       "      <td>0.242718</td>\n",
       "      <td>0.165049</td>\n",
       "    </tr>\n",
       "    <tr>\n",
       "      <th>3</th>\n",
       "      <td>204</td>\n",
       "      <td>30</td>\n",
       "      <td>6.580645</td>\n",
       "      <td>10.000000</td>\n",
       "      <td>8.00</td>\n",
       "      <td>0.437500</td>\n",
       "      <td>0.062500</td>\n",
       "    </tr>\n",
       "    <tr>\n",
       "      <th>4</th>\n",
       "      <td>464</td>\n",
       "      <td>64</td>\n",
       "      <td>5.272727</td>\n",
       "      <td>14.833333</td>\n",
       "      <td>7.45</td>\n",
       "      <td>0.240506</td>\n",
       "      <td>0.253165</td>\n",
       "    </tr>\n",
       "    <tr>\n",
       "      <th>5</th>\n",
       "      <td>240</td>\n",
       "      <td>35</td>\n",
       "      <td>6.153846</td>\n",
       "      <td>12.666667</td>\n",
       "      <td>10.34</td>\n",
       "      <td>0.342857</td>\n",
       "      <td>0.200000</td>\n",
       "    </tr>\n",
       "    <tr>\n",
       "      <th>...</th>\n",
       "      <td>...</td>\n",
       "      <td>...</td>\n",
       "      <td>...</td>\n",
       "      <td>...</td>\n",
       "      <td>...</td>\n",
       "      <td>...</td>\n",
       "      <td>...</td>\n",
       "    </tr>\n",
       "    <tr>\n",
       "      <th>65737</th>\n",
       "      <td>188</td>\n",
       "      <td>31</td>\n",
       "      <td>6.064516</td>\n",
       "      <td>10.666667</td>\n",
       "      <td>8.00</td>\n",
       "      <td>0.222222</td>\n",
       "      <td>0.111111</td>\n",
       "    </tr>\n",
       "    <tr>\n",
       "      <th>65738</th>\n",
       "      <td>202</td>\n",
       "      <td>36</td>\n",
       "      <td>5.050000</td>\n",
       "      <td>8.000000</td>\n",
       "      <td>7.25</td>\n",
       "      <td>0.263158</td>\n",
       "      <td>0.131579</td>\n",
       "    </tr>\n",
       "    <tr>\n",
       "      <th>65739</th>\n",
       "      <td>371</td>\n",
       "      <td>48</td>\n",
       "      <td>5.621212</td>\n",
       "      <td>10.833333</td>\n",
       "      <td>8.28</td>\n",
       "      <td>0.265625</td>\n",
       "      <td>0.156250</td>\n",
       "    </tr>\n",
       "    <tr>\n",
       "      <th>65740</th>\n",
       "      <td>240</td>\n",
       "      <td>44</td>\n",
       "      <td>4.705882</td>\n",
       "      <td>16.000000</td>\n",
       "      <td>7.23</td>\n",
       "      <td>0.333333</td>\n",
       "      <td>0.177778</td>\n",
       "    </tr>\n",
       "    <tr>\n",
       "      <th>65741</th>\n",
       "      <td>304</td>\n",
       "      <td>42</td>\n",
       "      <td>5.846154</td>\n",
       "      <td>17.000000</td>\n",
       "      <td>9.94</td>\n",
       "      <td>0.313725</td>\n",
       "      <td>0.156863</td>\n",
       "    </tr>\n",
       "  </tbody>\n",
       "</table>\n",
       "<p>56606 rows × 7 columns</p>\n",
       "</div>"
      ],
      "text/plain": [
       "       text_length  unique_word_count  word_density  avg_sentence_length  \\\n",
       "0              194                 29      5.878788             6.600000   \n",
       "1              608                 74      5.527273            27.250000   \n",
       "3              204                 30      6.580645            10.000000   \n",
       "4              464                 64      5.272727            14.833333   \n",
       "5              240                 35      6.153846            12.666667   \n",
       "...            ...                ...           ...                  ...   \n",
       "65737          188                 31      6.064516            10.666667   \n",
       "65738          202                 36      5.050000             8.000000   \n",
       "65739          371                 48      5.621212            10.833333   \n",
       "65740          240                 44      4.705882            16.000000   \n",
       "65741          304                 42      5.846154            17.000000   \n",
       "\n",
       "       gunning_fog_index  noun_proportions  verb_proportions  \n",
       "0                   5.06          0.483871          0.193548  \n",
       "1                  14.08          0.242718          0.165049  \n",
       "3                   8.00          0.437500          0.062500  \n",
       "4                   7.45          0.240506          0.253165  \n",
       "5                  10.34          0.342857          0.200000  \n",
       "...                  ...               ...               ...  \n",
       "65737               8.00          0.222222          0.111111  \n",
       "65738               7.25          0.263158          0.131579  \n",
       "65739               8.28          0.265625          0.156250  \n",
       "65740               7.23          0.333333          0.177778  \n",
       "65741               9.94          0.313725          0.156863  \n",
       "\n",
       "[56606 rows x 7 columns]"
      ]
     },
     "execution_count": 14,
     "metadata": {},
     "output_type": "execute_result"
    }
   ],
   "source": [
    "# removing the redudandant columns\n",
    "columns_to_remove = ['word_count', 'comma_count', 'flesch_reading_score']\n",
    "\n",
    "# Remove the specified columns\n",
    "X_reduced = X_reduced.drop(columns=columns_to_remove, errors='ignore')\n",
    "X_reduced"
   ]
  },
  {
   "cell_type": "code",
   "execution_count": 15,
   "id": "49008bea-0063-4279-be36-f814601ad5d3",
   "metadata": {
    "tags": []
   },
   "outputs": [
    {
     "data": {
      "text/plain": [
       "array([[-0.68498528, -0.84373337,  1.05928346, ..., -0.74790872,\n",
       "         2.48064115,  0.09142622],\n",
       "       [-0.05817722, -0.02380157,  0.19390427, ...,  0.80016744,\n",
       "        -0.33726833, -0.46221973],\n",
       "       [-0.66984498, -0.82551267,  2.78715402, ..., -0.24332514,\n",
       "         1.93878826, -2.45435649],\n",
       "       ...,\n",
       "       [-0.41700212, -0.49753995,  0.4251694 , ..., -0.19526956,\n",
       "        -0.06960123, -0.6331427 ],\n",
       "       [-0.61533994, -0.57042277, -1.82823938, ..., -0.37547798,\n",
       "         0.72158251, -0.21493806],\n",
       "       [-0.51844207, -0.60686419,  0.97894322, ...,  0.08963138,\n",
       "         0.49246142, -0.62123935]])"
      ]
     },
     "execution_count": 15,
     "metadata": {},
     "output_type": "execute_result"
    }
   ],
   "source": [
    "from sklearn.preprocessing import StandardScaler\n",
    "scaler = StandardScaler()\n",
    "X_reduced = scaler.fit_transform(X_reduced)\n",
    "X_reduced"
   ]
  },
  {
   "cell_type": "code",
   "execution_count": 16,
   "id": "80ebd4e4-80e4-4dc7-b12b-563f91510f98",
   "metadata": {
    "tags": []
   },
   "outputs": [],
   "source": [
    "X_reduced_train, X_reduced_valid = train_test_split(X_reduced, test_size=0.25, random_state=42)"
   ]
  },
  {
   "cell_type": "markdown",
   "id": "49a368c8",
   "metadata": {
    "jp-MarkdownHeadingCollapsed": true,
    "papermill": {
     "duration": 0.008629,
     "end_time": "2024-02-04T08:13:08.445067",
     "exception": false,
     "start_time": "2024-02-04T08:13:08.436438",
     "status": "completed"
    },
    "tags": []
   },
   "source": [
    "### Bag of words ❌\n",
    "\n",
    "- Bag of words was used for its simplicity and ease of use\n",
    "- Effective for short to medium texts with a mean word count of 121\n",
    "- Serves as a good baseline\n",
    "- Experimented with: \n",
    "    - Adding meta text features\n",
    "    - Bigrams"
   ]
  },
  {
   "cell_type": "code",
   "execution_count": 17,
   "id": "94d5898e",
   "metadata": {
    "papermill": {
     "duration": 1.754329,
     "end_time": "2024-02-04T08:13:10.208166",
     "exception": false,
     "start_time": "2024-02-04T08:13:08.453837",
     "status": "completed"
    },
    "tags": []
   },
   "outputs": [
    {
     "name": "stdout",
     "output_type": "stream",
     "text": [
      "BoW Classification Report:\n",
      "               precision    recall  f1-score   support\n",
      "\n",
      "           0       0.96      0.87      0.91     11894\n",
      "           1       0.08      0.19      0.11       338\n",
      "           2       0.56      0.75      0.64      1920\n",
      "\n",
      "    accuracy                           0.84     14152\n",
      "   macro avg       0.53      0.60      0.55     14152\n",
      "weighted avg       0.88      0.84      0.86     14152\n",
      "\n"
     ]
    }
   ],
   "source": [
    "# creating bag of words representation\n",
    "\n",
    "count_vectorizer = CountVectorizer()\n",
    "bow_matrix = count_vectorizer.fit_transform(df[\"clean_text\"])\n",
    "\n",
    "X_train_bow, X_valid_bow, y_train_bow, y_valid_bow = train_test_split(\n",
    "    bow_matrix, df[\"NPS_category\"], test_size=0.25, random_state=42)\n",
    "\n",
    "clf_bow = LogisticRegression(class_weight='balanced', max_iter=1500)\n",
    "clf_bow.fit(X_train_bow, y_train_bow)\n",
    "y_pred_bow = clf_bow.predict(X_valid_bow)\n",
    "print(\"BoW Classification Report:\\n\", classification_report(y_valid_bow, y_pred_bow))"
   ]
  },
  {
   "cell_type": "code",
   "execution_count": 18,
   "id": "cd15b976-63ac-436d-88d7-4076c760e3e7",
   "metadata": {
    "tags": []
   },
   "outputs": [
    {
     "name": "stdout",
     "output_type": "stream",
     "text": [
      "              precision    recall  f1-score   support\n",
      "\n",
      "           0       0.96      0.88      0.92     11894\n",
      "           1       0.08      0.19      0.12       338\n",
      "           2       0.58      0.74      0.65      1920\n",
      "\n",
      "    accuracy                           0.84     14152\n",
      "   macro avg       0.54      0.60      0.56     14152\n",
      "weighted avg       0.89      0.84      0.86     14152\n",
      "\n"
     ]
    }
   ],
   "source": [
    "# X_reduced_train, X_reduced_valid\n",
    "\n",
    "X_train_combined = hstack([X_train_bow, X_reduced_train])\n",
    "X_valid_combined = hstack([X_valid_bow, X_reduced_valid])\n",
    "\n",
    "clf_combined = LogisticRegression(class_weight='balanced', max_iter=1500)\n",
    "clf_combined.fit(X_train_combined, y_train)\n",
    "\n",
    "y_pred_combined = clf_combined.predict(X_valid_combined)\n",
    "print(classification_report(y_valid_bow, y_pred_combined))"
   ]
  },
  {
   "cell_type": "markdown",
   "id": "125a80d4-19f2-485d-926d-367e38012303",
   "metadata": {},
   "source": [
    "<div class=\"alert alert-info\" role=\"alert\">\n",
    "--> Relatively stable performance with a very slight increase in precision (for class 2), recall (for class 0), and f1-score (for all classes). <br>\n",
    "--> Indicates that combing bag of words with meta features shows no performance boost. <br>\n",
    "Lets see if ngrams is effective in observing performance gains.\n",
    "</div>"
   ]
  },
  {
   "cell_type": "code",
   "execution_count": 19,
   "id": "feed14c9-876a-47f2-add9-141ff202d98b",
   "metadata": {
    "tags": []
   },
   "outputs": [
    {
     "name": "stdout",
     "output_type": "stream",
     "text": [
      "BoW Classification Report:\n",
      "               precision    recall  f1-score   support\n",
      "\n",
      "           0       0.95      0.93      0.94     11894\n",
      "           1       0.12      0.09      0.10       338\n",
      "           2       0.62      0.75      0.68      1920\n",
      "\n",
      "    accuracy                           0.88     14152\n",
      "   macro avg       0.56      0.59      0.57     14152\n",
      "weighted avg       0.89      0.88      0.88     14152\n",
      "\n"
     ]
    }
   ],
   "source": [
    "# creating bag of words representation with unigrams + bigrams\n",
    "count_vectorizer = CountVectorizer(ngram_range=(1, 2))\n",
    "bow_matrix = count_vectorizer.fit_transform(df[\"clean_text\"])\n",
    "\n",
    "X_train_bow, X_valid_bow, y_train_bow, y_valid_bow = train_test_split(\n",
    "    bow_matrix, df[\"NPS_category\"], test_size=0.25, random_state=42)\n",
    "\n",
    "clf_bow = LogisticRegression(class_weight='balanced', max_iter=1500)\n",
    "clf_bow.fit(X_train_bow, y_train_bow)\n",
    "y_pred_bow = clf_bow.predict(X_valid_bow)\n",
    "print(\"BoW Classification Report:\\n\", classification_report(y_valid_bow, y_pred_bow))"
   ]
  },
  {
   "cell_type": "markdown",
   "id": "f1e4b1cd-278c-4939-8cd7-3e6c38bf47f1",
   "metadata": {},
   "source": [
    "<div class=\"alert alert-info\" role=\"alert\">\n",
    "    --> For Class 0, the inclusion of bigrams led to an improvement in both precision (from 0.96 to 0.95) and recall (from 0.87 to 0.93) for Class 0 which suggests that the bigrams were slightly effective in capturing the contextual information for this class <br><br>\n",
    "    --> For Class 1, there was a slight increase in precision (from 0.08 to 0.12) but a decrease in recall (from 0.19 to 0.09). This indicates that while the model became slightly more precise in its predictions for Class 1 with bigrams, it also became less sensitive to detecting true instances of this class. This could be due to the very large class imbalance and the fact that the class weights are not effective enough at handling it.<br><br>\n",
    "    --> For Class 2, the addition of bigrams resulted in an increase in both precision (from 0.56 to 0.62) and recall (from 0.75 to 0.75) for Class 2. This improvement suggests that bigrams provided valuable context that enhanced the model's ability to accurately classify instances of Class 2.\n",
    "<br><br>\n",
    "We will not try trigrams since the similar performance is to be expected and also because of the long runtime.\n",
    "</div>"
   ]
  },
  {
   "cell_type": "markdown",
   "id": "1a8a6a8e",
   "metadata": {
    "jp-MarkdownHeadingCollapsed": true,
    "papermill": {
     "duration": 0.008839,
     "end_time": "2024-02-04T08:13:10.226805",
     "exception": false,
     "start_time": "2024-02-04T08:13:10.217966",
     "status": "completed"
    },
    "tags": []
   },
   "source": [
    "### TFIDF ❌\n",
    "- TF-IDF improves upon the basic Bag of Words model by not just counting words, but by assigning weights to words based on their importance. Common words across all documents receive lower weights, while unique words in specific documents are emphasized (reduction in noise)\n",
    "- Can better capture the relevance of terms within specific reviews. This is crucial in understanding the sentiment and specifics of airline service, where certain terms might be particularly indicative of positive or negative experiences.\n",
    "- Experimented with: \n",
    "    - Adding meta text features\n",
    "    - Bigrams"
   ]
  },
  {
   "cell_type": "code",
   "execution_count": 20,
   "id": "86442fab",
   "metadata": {
    "papermill": {
     "duration": 1.824246,
     "end_time": "2024-02-04T08:13:12.059814",
     "exception": false,
     "start_time": "2024-02-04T08:13:10.235568",
     "status": "completed"
    },
    "tags": []
   },
   "outputs": [
    {
     "name": "stdout",
     "output_type": "stream",
     "text": [
      "TF-IDF Classification Report:\n",
      "               precision    recall  f1-score   support\n",
      "\n",
      "           0       0.96      0.86      0.91     11894\n",
      "           1       0.09      0.25      0.13       338\n",
      "           2       0.58      0.75      0.65      1920\n",
      "\n",
      "    accuracy                           0.84     14152\n",
      "   macro avg       0.54      0.62      0.57     14152\n",
      "weighted avg       0.89      0.84      0.86     14152\n",
      "\n"
     ]
    }
   ],
   "source": [
    "# creating a TF-IDF text representation\n",
    "\n",
    "tfidf_vectorizer = TfidfVectorizer()\n",
    "\n",
    "tfidf_matrix = tfidf_vectorizer.fit_transform(df[\"clean_text\"])\n",
    "\n",
    "X_train_tfidf, X_valid_tfidf, y_train_tfidf, y_valid_tfidf = train_test_split(\n",
    "    tfidf_matrix, df[\"NPS_category\"], test_size=0.25, random_state=42)\n",
    "\n",
    "clf_tfidf = LogisticRegression(class_weight='balanced', max_iter=2000)\n",
    "clf_tfidf.fit(X_train_tfidf, y_train_tfidf)\n",
    "y_pred_tfidf = clf_tfidf.predict(X_valid_tfidf)\n",
    "print(\"TF-IDF Classification Report:\\n\", classification_report(y_valid_tfidf, y_pred_tfidf))"
   ]
  },
  {
   "cell_type": "markdown",
   "id": "ba6907d6-c046-4f45-a651-a96ea51ab95f",
   "metadata": {},
   "source": [
    "<div class=\"alert alert-info\" role=\"alert\">\n",
    "--> Performance wise is already much higher than the bag of words embeddings, especially for the passives/neutral/class 1 in terms of recall. There is a slight dip in precision (by 0.03 to 0.04) for class 1 and 2\n",
    "</div>"
   ]
  },
  {
   "cell_type": "code",
   "execution_count": 21,
   "id": "fb9aefc6-e4d7-4665-8529-89c673612c21",
   "metadata": {
    "tags": []
   },
   "outputs": [
    {
     "name": "stdout",
     "output_type": "stream",
     "text": [
      "              precision    recall  f1-score   support\n",
      "\n",
      "           0       0.96      0.87      0.91     11894\n",
      "           1       0.09      0.25      0.13       338\n",
      "           2       0.58      0.75      0.66      1920\n",
      "\n",
      "    accuracy                           0.84     14152\n",
      "   macro avg       0.54      0.62      0.57     14152\n",
      "weighted avg       0.89      0.84      0.86     14152\n",
      "\n"
     ]
    }
   ],
   "source": [
    "# X_reduced_train, X_reduced_valid\n",
    "\n",
    "X_train_combined = hstack([X_train_tfidf, X_reduced_train])\n",
    "X_valid_combined = hstack([X_valid_tfidf, X_reduced_valid])\n",
    "\n",
    "clf_combined = LogisticRegression(class_weight='balanced', max_iter=2000)\n",
    "clf_combined.fit(X_train_combined, y_train_tfidf)\n",
    "\n",
    "y_pred_combined = clf_combined.predict(X_valid_combined)\n",
    "print(classification_report(y_valid_tfidf, y_pred_combined))"
   ]
  },
  {
   "cell_type": "markdown",
   "id": "cbb20154-d068-4a88-8b6e-42ae609de9b6",
   "metadata": {},
   "source": [
    "<div class=\"alert alert-info\" role=\"alert\">\n",
    "--> No performance gain can be seen in any class when adding the text meta features\n",
    "</div>"
   ]
  },
  {
   "cell_type": "code",
   "execution_count": 22,
   "id": "f56c0be5-9646-432f-9764-8c335823787e",
   "metadata": {
    "tags": []
   },
   "outputs": [
    {
     "name": "stdout",
     "output_type": "stream",
     "text": [
      "TF-IDF Classification Report:\n",
      "               precision    recall  f1-score   support\n",
      "\n",
      "           0       0.95      0.94      0.94     11894\n",
      "           1       0.18      0.09      0.12       338\n",
      "           2       0.65      0.76      0.70      1920\n",
      "\n",
      "    accuracy                           0.89     14152\n",
      "   macro avg       0.59      0.60      0.59     14152\n",
      "weighted avg       0.89      0.89      0.89     14152\n",
      "\n"
     ]
    }
   ],
   "source": [
    "# creating tfidf representation with unigrams + bigrams\n",
    "tfidf_vectorizer = TfidfVectorizer(ngram_range=(1, 2))\n",
    "tfidf_matrix = tfidf_vectorizer.fit_transform(df[\"clean_text\"])\n",
    "\n",
    "X_train_tfidf, X_valid_tfidf, y_train_tfidf, y_valid_tfidf = train_test_split(\n",
    "    tfidf_matrix, df[\"NPS_category\"], test_size=0.25, random_state=42)\n",
    "\n",
    "\n",
    "clf_tfidf = LogisticRegression(class_weight='balanced', max_iter=2000)\n",
    "clf_tfidf.fit(X_train_tfidf, y_train_tfidf)\n",
    "y_pred_tfidf = clf_tfidf.predict(X_valid_tfidf)\n",
    "print(\"TF-IDF Classification Report:\\n\", classification_report(y_valid_tfidf, y_pred_tfidf))"
   ]
  },
  {
   "cell_type": "markdown",
   "id": "a1928a73-5ab7-4e8b-becb-06f0fb8b74e8",
   "metadata": {},
   "source": [
    "<div class=\"alert alert-info\" role=\"alert\">\n",
    "--> After adding in bigrams the model is able to predict class 2 better than before, however there is a significant drop in recall for class 1 which is of concern. <br>\n",
    "--> Since all the classes are equally important, tfidf on its own is not very suitable. A new technique has been research and found called delta tfidf which will be explore below. \n",
    "</div>"
   ]
  },
  {
   "cell_type": "markdown",
   "id": "4462c675",
   "metadata": {
    "jp-MarkdownHeadingCollapsed": true,
    "papermill": {
     "duration": 0.010003,
     "end_time": "2024-02-04T08:13:12.080169",
     "exception": false,
     "start_time": "2024-02-04T08:13:12.070166",
     "status": "completed"
    },
    "tags": []
   },
   "source": [
    "### Delta Tfidf ✅\n",
    "\n",
    "- Enhanced Feature Discrimination: Delta TF-IDF amplifies the features (words) that are more discriminative for each class by adjusting their TF-IDF values based on their deviation from a mean IDF calculated across all classes leading to better separation of classes.\n",
    "- However, one thing to note is that delta TF-IDF has negative values which means it cannot be used with naive bayes models. An alternative is to use Gaussian Bayes, however it doesnt support class weights, which makes it unsuitable to use."
   ]
  },
  {
   "cell_type": "code",
   "execution_count": 23,
   "id": "91243ce5",
   "metadata": {
    "papermill": {
     "duration": 22.571828,
     "end_time": "2024-02-04T08:13:34.661600",
     "exception": false,
     "start_time": "2024-02-04T08:13:12.089772",
     "status": "completed"
    },
    "tags": []
   },
   "outputs": [
    {
     "name": "stdout",
     "output_type": "stream",
     "text": [
      "              precision    recall  f1-score   support\n",
      "\n",
      "           0       1.00      0.97      0.99     11894\n",
      "           1       0.94      0.76      0.84       338\n",
      "           2       0.84      1.00      0.92      1920\n",
      "\n",
      "    accuracy                           0.97     14152\n",
      "   macro avg       0.93      0.91      0.91     14152\n",
      "weighted avg       0.98      0.97      0.97     14152\n",
      "\n"
     ]
    }
   ],
   "source": [
    "X_train, X_valid, y_train, y_valid = train_test_split(df['clean_text'], df['NPS_category'], test_size=0.25, random_state=42)\n",
    "\n",
    "tfidf_vectorizer = TfidfVectorizer()\n",
    "X_train_tfidf = tfidf_vectorizer.fit_transform(X_train)\n",
    "\n",
    "class_idfs = []\n",
    "unique_classes = np.unique(y_train)\n",
    "for class_idx in unique_classes:\n",
    "    class_mask = (y_train == class_idx)\n",
    "    class_docs = X_train[class_mask]\n",
    "    class_vectorizer = TfidfVectorizer(vocabulary=tfidf_vectorizer.vocabulary_)\n",
    "    class_tfidf = class_vectorizer.fit_transform(class_docs)\n",
    "    class_idf = class_vectorizer.idf_\n",
    "    class_idfs.append(class_idf)\n",
    "\n",
    "mean_idf = np.mean(class_idfs, axis=0)\n",
    "\n",
    "delta_idfs = [class_idf - mean_idf for class_idf in class_idfs]\n",
    "\n",
    "class_to_index = {label: index for index, label in enumerate(unique_classes)}\n",
    "\n",
    "X_train_delta_tfidf = []\n",
    "for i, doc in enumerate(X_train_tfidf):\n",
    "    class_idx = class_to_index[y_train.iloc[i]]\n",
    "    delta_idf = delta_idfs[class_idx]\n",
    "    X_train_delta_tfidf.append(doc.multiply(delta_idf))\n",
    "\n",
    "X_train_delta_tfidf = vstack(X_train_delta_tfidf)\n",
    "\n",
    "X_valid_tfidf = tfidf_vectorizer.transform(X_valid)\n",
    "X_valid_delta_tfidf = []\n",
    "for i, doc in enumerate(X_valid_tfidf):\n",
    "    class_idx = class_to_index[y_valid.iloc[i]]\n",
    "    delta_idf = delta_idfs[class_idx]\n",
    "    X_valid_delta_tfidf.append(doc.multiply(delta_idf))\n",
    "\n",
    "X_valid_delta_tfidf = vstack(X_valid_delta_tfidf)\n",
    "\n",
    "clf = LogisticRegression(class_weight='balanced')\n",
    "clf.fit(X_train_delta_tfidf, y_train)\n",
    "\n",
    "y_pred = clf.predict(X_valid_delta_tfidf)\n",
    "print(classification_report(y_valid, y_pred))"
   ]
  },
  {
   "cell_type": "markdown",
   "id": "5c8359b6-5a6b-4e26-86a1-97342c7ca4b6",
   "metadata": {},
   "source": [
    "<div class=\"alert alert-info\" role=\"alert\">\n",
    "--> A much signficant performance upgrade can be seen across all the classes. Since adding meta features and bigrams didnt make much of a difference for tfidf, it is very likely that it will not make much difference for delta tfidf as well.\n",
    "</div>"
   ]
  },
  {
   "cell_type": "markdown",
   "id": "e54a4ccf-2a9f-4cc5-b72d-40e3bbf7b241",
   "metadata": {
    "jp-MarkdownHeadingCollapsed": true,
    "tags": []
   },
   "source": [
    "## Data Balancing Techniques\n",
    "Dataset is highly imbalanced which means that the predictions will be highly biased towards the majority class. To fix this it is important to balance the dataset through: \n",
    "\n",
    "- using class weights\n",
    "- using SMOTE\n",
    "- using adasyn\n",
    "\n",
    "*note: random oversampling was not used since it works by duplicating the samples in the minority class, even if it has better performance, it is most likely overfitting.*"
   ]
  },
  {
   "cell_type": "markdown",
   "id": "3048fafe",
   "metadata": {
    "papermill": {
     "duration": 0.017221,
     "end_time": "2024-02-04T08:13:34.705378",
     "exception": false,
     "start_time": "2024-02-04T08:13:34.688157",
     "status": "completed"
    },
    "tags": []
   },
   "source": [
    "### Delta Tfidf + class weights (Balancing Technique) ✅"
   ]
  },
  {
   "cell_type": "code",
   "execution_count": 25,
   "id": "d5872c58",
   "metadata": {
    "papermill": {
     "duration": 6.743267,
     "end_time": "2024-02-04T08:13:41.465593",
     "exception": false,
     "start_time": "2024-02-04T08:13:34.722326",
     "status": "completed"
    },
    "tags": []
   },
   "outputs": [
    {
     "name": "stdout",
     "output_type": "stream",
     "text": [
      "              precision    recall  f1-score   support\n",
      "\n",
      "           0       1.00      0.97      0.99     11894\n",
      "           1       0.94      0.76      0.84       338\n",
      "           2       0.84      1.00      0.92      1920\n",
      "\n",
      "    accuracy                           0.97     14152\n",
      "   macro avg       0.93      0.91      0.91     14152\n",
      "weighted avg       0.98      0.97      0.97     14152\n",
      "\n"
     ]
    }
   ],
   "source": [
    "clf = LogisticRegression(class_weight='balanced')\n",
    "\n",
    "clf.fit(X_train_delta_tfidf, y_train)\n",
    "y_pred = clf.predict(X_valid_delta_tfidf)\n",
    "\n",
    "print(classification_report(y_valid, y_pred))"
   ]
  },
  {
   "cell_type": "markdown",
   "id": "159327c7",
   "metadata": {
    "jp-MarkdownHeadingCollapsed": true,
    "papermill": {
     "duration": 0.010394,
     "end_time": "2024-02-04T08:13:54.185053",
     "exception": false,
     "start_time": "2024-02-04T08:13:54.174659",
     "status": "completed"
    },
    "tags": []
   },
   "source": [
    "### Delta Tfidf + SMOTE (Balancing Technique) ❌\n",
    "- should not be applied on the test data to preserve the original distribution."
   ]
  },
  {
   "cell_type": "code",
   "execution_count": 27,
   "id": "72491cf8",
   "metadata": {
    "papermill": {
     "duration": 15.574854,
     "end_time": "2024-02-04T08:14:09.769864",
     "exception": false,
     "start_time": "2024-02-04T08:13:54.195010",
     "status": "completed"
    },
    "tags": []
   },
   "outputs": [
    {
     "name": "stdout",
     "output_type": "stream",
     "text": [
      "Classification Report after SMOTE:\n",
      "               precision    recall  f1-score   support\n",
      "\n",
      "           0       1.00      0.96      0.98     11894\n",
      "           1       0.54      0.93      0.68       338\n",
      "           2       0.88      0.99      0.93      1920\n",
      "\n",
      "    accuracy                           0.96     14152\n",
      "   macro avg       0.81      0.96      0.87     14152\n",
      "weighted avg       0.97      0.96      0.97     14152\n",
      "\n"
     ]
    }
   ],
   "source": [
    "smote = SMOTE(random_state=42)\n",
    "X_train_smote, y_train_smote = smote.fit_resample(X_train_delta_tfidf, y_train)\n",
    "\n",
    "clf_smote = LogisticRegression()\n",
    "clf_smote.fit(X_train_smote, y_train_smote)\n",
    "y_pred = clf_smote.predict(X_valid_delta_tfidf)\n",
    "\n",
    "print(\"Classification Report after SMOTE:\\n\", classification_report(y_valid, y_pred))"
   ]
  },
  {
   "cell_type": "markdown",
   "id": "6d3cd35e-1aa2-49fb-a314-17c46c019b73",
   "metadata": {},
   "source": [
    "<div class=\"alert alert-info\" role=\"alert\">\n",
    "--> A low precision (high false positives) is seen for class 1, this shows that SMOTE is not the best technique to apply.\n",
    "</div>\n",
    "</div>"
   ]
  },
  {
   "cell_type": "markdown",
   "id": "02de46e7",
   "metadata": {
    "papermill": {
     "duration": 0.016124,
     "end_time": "2024-02-04T08:14:09.807250",
     "exception": false,
     "start_time": "2024-02-04T08:14:09.791126",
     "status": "completed"
    },
    "tags": []
   },
   "source": [
    "### Delta Tfidf + Adasyn (Balancing Technique) ❌\n",
    "- should not be applied on the test data to preserve the original distribution."
   ]
  },
  {
   "cell_type": "code",
   "execution_count": 28,
   "id": "481f4aa5",
   "metadata": {
    "papermill": {
     "duration": 57.043174,
     "end_time": "2024-02-04T08:15:06.861416",
     "exception": false,
     "start_time": "2024-02-04T08:14:09.818242",
     "status": "completed"
    },
    "tags": []
   },
   "outputs": [
    {
     "name": "stdout",
     "output_type": "stream",
     "text": [
      "Classification Report after ADASYN:\n",
      "               precision    recall  f1-score   support\n",
      "\n",
      "           0       1.00      0.95      0.98     11894\n",
      "           1       0.60      0.91      0.72       338\n",
      "           2       0.84      1.00      0.91      1920\n",
      "\n",
      "    accuracy                           0.96     14152\n",
      "   macro avg       0.81      0.95      0.87     14152\n",
      "weighted avg       0.97      0.96      0.96     14152\n",
      "\n"
     ]
    }
   ],
   "source": [
    "adasyn = ADASYN(random_state=42)\n",
    "X_train_adasyn, y_train_adasyn = adasyn.fit_resample(X_train_delta_tfidf, y_train)\n",
    "\n",
    "clf_adasyn = LogisticRegression()\n",
    "clf_adasyn.fit(X_train_adasyn, y_train_adasyn)\n",
    "y_pred = clf_adasyn.predict(X_valid_delta_tfidf)\n",
    "\n",
    "print(\"Classification Report after ADASYN:\\n\", classification_report(y_valid, y_pred))"
   ]
  },
  {
   "cell_type": "markdown",
   "id": "16692435-5b61-4822-9a34-014416d5c613",
   "metadata": {},
   "source": [
    "<div class=\"alert alert-info\" role=\"alert\">\n",
    "--> A low precision (high false positives) is seen for class 1, this shows that ADASYN is not the best technique to apply. Class weighting will be the selected technique. This means that for modelling it is important to utilise models that support adding weights for the classes.\n",
    "</div>\n",
    "</div>"
   ]
  },
  {
   "cell_type": "markdown",
   "id": "ffb4b7a5",
   "metadata": {
    "papermill": {
     "duration": 0.009547,
     "end_time": "2024-02-04T08:15:06.882698",
     "exception": false,
     "start_time": "2024-02-04T08:15:06.873151",
     "status": "completed"
    },
    "tags": []
   },
   "source": [
    "## Modelling\n",
    "\n",
    "Some considerations when building models: \n",
    "\n",
    "- The SVM classifier can be built using LinearSVC and Stochastic gradient descent with hinge loss. LinearSVC uses the full data to solve the optimization problem which makes it suitable on small datasets however, on larger and more sparse data, SGD (with hinge loss) is more suitable as it handles data in batches assuming data points are independent and identically distributed.\n",
    "\n",
    "- Boosting algorithms comparison\n",
    "    - for Adaboost, 2 different stump learners was used which was decision tree (most commonly used) and logistic regression (better baseline performance than decision tree).\n",
    "    - LightGBM, Catboost and XGBoost is used due to its fast performance and large number of tunable parameters.\n",
    "    \n",
    "<div style=\"text-align: center;\">\n",
    "    <img src=\"https://miro.medium.com/v2/resize:fit:1100/format:webp/1*0xWny_DiMZxN3Ajpg6G5tg.png\" style=\"width: 800px; height: 400px;\">\n",
    "</div>"
   ]
  },
  {
   "cell_type": "code",
   "execution_count": 41,
   "id": "a44820ca",
   "metadata": {
    "papermill": {
     "duration": 0.4164,
     "end_time": "2024-02-04T08:15:07.309116",
     "exception": false,
     "start_time": "2024-02-04T08:15:06.892716",
     "status": "completed"
    },
    "tags": []
   },
   "outputs": [],
   "source": [
    "models = {\n",
    "    \"Logistic Regression\": LogisticRegression(multi_class='multinomial', solver='lbfgs', class_weight='balanced', max_iter=2000),\n",
    "    \"Decision Tree\": DecisionTreeClassifier(class_weight='balanced'),\n",
    "    \"SVM (SGD)\": SGDClassifier(loss='hinge', class_weight='balanced', max_iter=1000, tol=1e-3),\n",
    "    \"Random Forest\": RandomForestClassifier(class_weight='balanced'),\n",
    "    \"XGBoost\": XGBClassifier(enable_categorical=True, eval_metric='mlogloss'),\n",
    "    \"AdaBoost+DT\": AdaBoostClassifier(base_estimator=DecisionTreeClassifier(max_depth=1), n_estimators=100),\n",
    "    \"AdaBoost+LR\": AdaBoostClassifier(base_estimator=LogisticRegression(multi_class='multinomial',class_weight='balanced',max_iter=1000),n_estimators=100),\n",
    "    \"Catboost\": CatBoostClassifier(iterations=500,learning_rate=0.1,depth=6,l2_leaf_reg=3,cat_features=[], auto_class_weights='Balanced',verbose=200, task_type='GPU',devices='0:1'),\n",
    "    \"LightGBM\": LGBMClassifier(boosting_type='gbdt', objective='multiclass', class_weight='balanced', learning_rate=0.09, max_depth=-1, random_state=42, n_estimators=100, device='gpu', gpu_platform_id=0, gpu_device_id=0)\n",
    "}\n",
    "\n",
    "def evaluate_model(name, model, X_train, y_train, X_test, y_test):\n",
    "    if name == \"XGBoost\": \n",
    "        sample_weights_data = compute_sample_weight(\"balanced\", y_train)\n",
    "        model.fit(X_train, y_train, sample_weight=sample_weights_data)\n",
    "    else:\n",
    "        model.fit(X_train, y_train)\n",
    "    y_pred = model.predict(X_test)\n",
    "    accuracy = accuracy_score(y_test, y_pred)\n",
    "    precision = precision_score(y_test, y_pred, average='weighted')\n",
    "    recall = recall_score(y_test, y_pred, average='weighted')\n",
    "    f1 = f1_score(y_test, y_pred, average='weighted')\n",
    "    print(f\"CLASSIFICATION REPORT FOR {name.upper()}\")\n",
    "    print(classification_report(y_test, y_pred))\n",
    "    return {\"Model\": name, \"Accuracy\": accuracy, \"Precision\": precision, \"Recall\": recall, \"F1 Score\": f1}"
   ]
  },
  {
   "cell_type": "code",
   "execution_count": 42,
   "id": "a458a007",
   "metadata": {
    "papermill": {
     "duration": 216.137957,
     "end_time": "2024-02-04T08:18:43.457097",
     "exception": false,
     "start_time": "2024-02-04T08:15:07.319140",
     "status": "completed"
    },
    "tags": []
   },
   "outputs": [
    {
     "name": "stderr",
     "output_type": "stream",
     "text": [
      "Evaluating Models:  20%|█████▏                    | 1/5 [00:02<00:08,  2.00s/it]"
     ]
    },
    {
     "name": "stdout",
     "output_type": "stream",
     "text": [
      "CLASSIFICATION REPORT FOR LOGISTIC REGRESSION\n",
      "              precision    recall  f1-score   support\n",
      "\n",
      "           0       1.00      0.97      0.99     11894\n",
      "           1       0.94      0.76      0.84       338\n",
      "           2       0.84      1.00      0.92      1920\n",
      "\n",
      "    accuracy                           0.97     14152\n",
      "   macro avg       0.93      0.91      0.91     14152\n",
      "weighted avg       0.98      0.97      0.97     14152\n",
      "\n"
     ]
    },
    {
     "name": "stderr",
     "output_type": "stream",
     "text": [
      "Evaluating Models:  60%|███████████████▌          | 3/5 [00:05<00:03,  1.69s/it]"
     ]
    },
    {
     "name": "stdout",
     "output_type": "stream",
     "text": [
      "CLASSIFICATION REPORT FOR DECISION TREE\n",
      "              precision    recall  f1-score   support\n",
      "\n",
      "           0       0.99      0.97      0.98     11894\n",
      "           1       0.33      0.75      0.46       338\n",
      "           2       0.98      0.92      0.95      1920\n",
      "\n",
      "    accuracy                           0.95     14152\n",
      "   macro avg       0.77      0.88      0.79     14152\n",
      "weighted avg       0.97      0.95      0.96     14152\n",
      "\n",
      "CLASSIFICATION REPORT FOR SVM (SGD)\n",
      "              precision    recall  f1-score   support\n",
      "\n",
      "           0       0.98      1.00      0.99     11894\n",
      "           1       1.00      0.53      0.69       338\n",
      "           2       0.98      0.96      0.97      1920\n",
      "\n",
      "    accuracy                           0.98     14152\n",
      "   macro avg       0.99      0.83      0.88     14152\n",
      "weighted avg       0.98      0.98      0.98     14152\n",
      "\n"
     ]
    },
    {
     "name": "stderr",
     "output_type": "stream",
     "text": [
      "Evaluating Models:  80%|████████████████████▊     | 4/5 [00:18<00:06,  6.07s/it]"
     ]
    },
    {
     "name": "stdout",
     "output_type": "stream",
     "text": [
      "CLASSIFICATION REPORT FOR RANDOM FOREST\n",
      "              precision    recall  f1-score   support\n",
      "\n",
      "           0       0.98      1.00      0.99     11894\n",
      "           1       0.87      0.60      0.71       338\n",
      "           2       0.98      0.94      0.96      1920\n",
      "\n",
      "    accuracy                           0.98     14152\n",
      "   macro avg       0.94      0.84      0.89     14152\n",
      "weighted avg       0.98      0.98      0.98     14152\n",
      "\n"
     ]
    },
    {
     "name": "stderr",
     "output_type": "stream",
     "text": [
      "Evaluating Models: 100%|██████████████████████████| 5/5 [00:29<00:00,  5.82s/it]"
     ]
    },
    {
     "name": "stdout",
     "output_type": "stream",
     "text": [
      "CLASSIFICATION REPORT FOR XGBOOST\n",
      "              precision    recall  f1-score   support\n",
      "\n",
      "           0       1.00      0.93      0.96     11894\n",
      "           1       0.63      0.79      0.70       338\n",
      "           2       0.71      1.00      0.83      1920\n",
      "\n",
      "    accuracy                           0.93     14152\n",
      "   macro avg       0.78      0.90      0.83     14152\n",
      "weighted avg       0.95      0.93      0.94     14152\n",
      "\n"
     ]
    },
    {
     "name": "stderr",
     "output_type": "stream",
     "text": [
      "\n"
     ]
    },
    {
     "data": {
      "text/html": [
       "<div>\n",
       "<style scoped>\n",
       "    .dataframe tbody tr th:only-of-type {\n",
       "        vertical-align: middle;\n",
       "    }\n",
       "\n",
       "    .dataframe tbody tr th {\n",
       "        vertical-align: top;\n",
       "    }\n",
       "\n",
       "    .dataframe thead th {\n",
       "        text-align: right;\n",
       "    }\n",
       "</style>\n",
       "<table border=\"1\" class=\"dataframe\">\n",
       "  <thead>\n",
       "    <tr style=\"text-align: right;\">\n",
       "      <th></th>\n",
       "      <th>Model</th>\n",
       "      <th>Accuracy</th>\n",
       "      <th>Precision</th>\n",
       "      <th>Recall</th>\n",
       "      <th>F1 Score</th>\n",
       "    </tr>\n",
       "  </thead>\n",
       "  <tbody>\n",
       "    <tr>\n",
       "      <th>0</th>\n",
       "      <td>Logistic Regression</td>\n",
       "      <td>0.972583</td>\n",
       "      <td>0.976182</td>\n",
       "      <td>0.972583</td>\n",
       "      <td>0.973122</td>\n",
       "    </tr>\n",
       "    <tr>\n",
       "      <th>1</th>\n",
       "      <td>Decision Tree</td>\n",
       "      <td>0.954777</td>\n",
       "      <td>0.974786</td>\n",
       "      <td>0.954777</td>\n",
       "      <td>0.962575</td>\n",
       "    </tr>\n",
       "    <tr>\n",
       "      <th>2</th>\n",
       "      <td>SVM (SGD)</td>\n",
       "      <td>0.982759</td>\n",
       "      <td>0.982934</td>\n",
       "      <td>0.982759</td>\n",
       "      <td>0.981041</td>\n",
       "    </tr>\n",
       "    <tr>\n",
       "      <th>3</th>\n",
       "      <td>Random Forest</td>\n",
       "      <td>0.980921</td>\n",
       "      <td>0.980073</td>\n",
       "      <td>0.980921</td>\n",
       "      <td>0.979776</td>\n",
       "    </tr>\n",
       "    <tr>\n",
       "      <th>4</th>\n",
       "      <td>XGBoost</td>\n",
       "      <td>0.931529</td>\n",
       "      <td>0.950121</td>\n",
       "      <td>0.931529</td>\n",
       "      <td>0.936049</td>\n",
       "    </tr>\n",
       "  </tbody>\n",
       "</table>\n",
       "</div>"
      ],
      "text/plain": [
       "                 Model  Accuracy  Precision    Recall  F1 Score\n",
       "0  Logistic Regression  0.972583   0.976182  0.972583  0.973122\n",
       "1        Decision Tree  0.954777   0.974786  0.954777  0.962575\n",
       "2            SVM (SGD)  0.982759   0.982934  0.982759  0.981041\n",
       "3        Random Forest  0.980921   0.980073  0.980921  0.979776\n",
       "4              XGBoost  0.931529   0.950121  0.931529  0.936049"
      ]
     },
     "execution_count": 42,
     "metadata": {},
     "output_type": "execute_result"
    }
   ],
   "source": [
    "results = pd.DataFrame()\n",
    "\n",
    "for name, model in tqdm(models.items(), desc=\"Evaluating Models\"):\n",
    "    results_row = evaluate_model(name, model, X_train_delta_tfidf, y_train, X_valid_delta_tfidf, y_valid)\n",
    "    results = results._append(results_row, ignore_index=True)\n",
    "    \n",
    "results"
   ]
  },
  {
   "cell_type": "markdown",
   "id": "95a6fffa-0b30-4585-8280-3457d97f6aa3",
   "metadata": {},
   "source": [
    "<div class=\"alert alert-info\" role=\"alert\">\n",
    "--> SGD (SVM) and Random Forest exhibit the highest F1-Score, making them top performers for precise classification. <br>\n",
    "--> Logistic Regression is close behind, with strong metrics, suggesting it's a reliable choice.<br>\n",
    "--> Decision Tree shows lower performance, which might indicate it's less suited for this task.<br>\n",
    "--> XGBoost underperforms in this comparison, hinting at the need for more optimization.<br>\n",
    "</div>"
   ]
  },
  {
   "cell_type": "markdown",
   "id": "f4c715f8",
   "metadata": {
    "papermill": {
     "duration": 0.016571,
     "end_time": "2024-02-04T08:18:43.490980",
     "exception": false,
     "start_time": "2024-02-04T08:18:43.474409",
     "status": "completed"
    },
    "tags": []
   },
   "source": [
    "### Dimensionality reduction techniques"
   ]
  },
  {
   "cell_type": "markdown",
   "id": "e98d136b",
   "metadata": {
    "papermill": {
     "duration": 0.01732,
     "end_time": "2024-02-04T08:18:43.525783",
     "exception": false,
     "start_time": "2024-02-04T08:18:43.508463",
     "status": "completed"
    },
    "tags": []
   },
   "source": [
    "#### SVD"
   ]
  },
  {
   "cell_type": "code",
   "execution_count": 105,
   "id": "4d726fb7",
   "metadata": {
    "execution": {
     "iopub.execute_input": "2024-02-05T13:48:00.466848Z",
     "iopub.status.busy": "2024-02-05T13:48:00.466536Z",
     "iopub.status.idle": "2024-02-05T13:49:33.471210Z",
     "shell.execute_reply": "2024-02-05T13:49:33.470195Z",
     "shell.execute_reply.started": "2024-02-05T13:48:00.466821Z"
    },
    "papermill": {
     "duration": 96.41485,
     "end_time": "2024-02-04T08:20:19.957990",
     "exception": false,
     "start_time": "2024-02-04T08:18:43.543140",
     "status": "completed"
    },
    "tags": []
   },
   "outputs": [
    {
     "name": "stdout",
     "output_type": "stream",
     "text": [
      "SVD finished\n",
      "logreg init\n"
     ]
    },
    {
     "name": "stderr",
     "output_type": "stream",
     "text": [
      "/opt/conda/lib/python3.10/site-packages/sklearn/linear_model/_logistic.py:458: ConvergenceWarning: lbfgs failed to converge (status=1):\n",
      "STOP: TOTAL NO. of ITERATIONS REACHED LIMIT.\n",
      "\n",
      "Increase the number of iterations (max_iter) or scale the data as shown in:\n",
      "    https://scikit-learn.org/stable/modules/preprocessing.html\n",
      "Please also refer to the documentation for alternative solver options:\n",
      "    https://scikit-learn.org/stable/modules/linear_model.html#logistic-regression\n",
      "  n_iter_i = _check_optimize_result(\n"
     ]
    },
    {
     "name": "stdout",
     "output_type": "stream",
     "text": [
      "logreg fit\n",
      "logreg predict\n",
      "Accuracy: 0.8529536461277558\n",
      "              precision    recall  f1-score   support\n",
      "\n",
      "           0       1.00      0.87      0.93     11894\n",
      "           1       0.13      0.95      0.24       338\n",
      "           2       0.99      0.75      0.85      1920\n",
      "\n",
      "    accuracy                           0.85     14152\n",
      "   macro avg       0.71      0.85      0.67     14152\n",
      "weighted avg       0.98      0.85      0.90     14152\n",
      "\n"
     ]
    },
    {
     "data": {
      "image/png": "[encoded data removed]",
      "text/plain": [
       "<Figure size 640x480 with 2 Axes>"
      ]
     },
     "metadata": {},
     "output_type": "display_data"
    },
    {
     "data": {
      "image/png": "[encoded data removed]",
      "text/plain": [
       "<Figure size 640x480 with 2 Axes>"
      ]
     },
     "metadata": {},
     "output_type": "display_data"
    }
   ],
   "source": [
    "import matplotlib.pyplot as plt\n",
    "from sklearn.metrics import accuracy_score, classification_report\n",
    "from sklearn.decomposition import TruncatedSVD\n",
    "from sklearn.linear_model import LogisticRegression\n",
    "from sklearn.model_selection import train_test_split\n",
    "\n",
    "\n",
    "# Step 1: Apply Truncated SVD for feature reduction on CPU\n",
    "n_components = 50  # Adjust the number of components\n",
    "n_iter = 10  # Adjust the number of iterations\n",
    "random_state = 42  # Set a fixed random state for reproducibility\n",
    "algorithm = 'randomized'  # Experiment with different algorithms\n",
    "\n",
    "svd = TruncatedSVD(\n",
    "    n_components=n_components,\n",
    "    n_iter=n_iter,\n",
    "    random_state=random_state,\n",
    "    algorithm=algorithm\n",
    ")\n",
    "\n",
    "# Fit and transform on training data\n",
    "X_train_svd = svd.fit_transform(X_train_delta_tfidf.toarray())\n",
    "\n",
    "# Transform on test data\n",
    "X_test_svd = svd.transform(X_test_delta_tfidf.toarray())\n",
    "print(\"SVD finished\")\n",
    "\n",
    "# Step 2: Logistic Regression with class weights for evaluation\n",
    "logistic_regression = LogisticRegression(class_weight='balanced')\n",
    "print(\"logreg init\")\n",
    "\n",
    "# Fit the model\n",
    "logistic_regression.fit(X_train_svd, y_train)\n",
    "print(\"logreg fit\")\n",
    "\n",
    "# Predictions\n",
    "y_pred = logistic_regression.predict(X_test_svd)\n",
    "print(\"logreg predict\")\n",
    "\n",
    "# Step 3: Evaluation\n",
    "print(\"Accuracy:\", accuracy_score(y_test, y_pred))\n",
    "print(classification_report(y_test, y_pred))\n",
    "\n",
    "# Step 4: Visualize SVD results\n",
    "plt.scatter(X_train_svd[:, 0], X_train_svd[:, 1], c=y_train, cmap=plt.cm.Paired)\n",
    "plt.colorbar()\n",
    "plt.title(\"SVD Visualization of Training Data\")\n",
    "plt.show()\n",
    "\n",
    "plt.scatter(X_test_svd[:, 0], X_test_svd[:, 1], c=y_test, cmap=plt.cm.Paired)\n",
    "plt.colorbar()\n",
    "plt.title(\"SVD Visualization of Test Data\")\n",
    "plt.show()"
   ]
  },
  {
   "cell_type": "markdown",
   "id": "bf76f884",
   "metadata": {
    "papermill": {
     "duration": 0.01745,
     "end_time": "2024-02-04T08:20:20.068761",
     "exception": false,
     "start_time": "2024-02-04T08:20:20.051311",
     "status": "completed"
    },
    "tags": []
   },
   "source": [
    "## Evaluation"
   ]
  },
  {
   "cell_type": "code",
   "execution_count": 43,
   "id": "8d542d4b",
   "metadata": {
    "papermill": {
     "duration": 0.016624,
     "end_time": "2024-02-04T08:20:20.102068",
     "exception": false,
     "start_time": "2024-02-04T08:20:20.085444",
     "status": "completed"
    },
    "tags": []
   },
   "outputs": [
    {
     "data": {
      "text/html": [
       "<div>\n",
       "<style scoped>\n",
       "    .dataframe tbody tr th:only-of-type {\n",
       "        vertical-align: middle;\n",
       "    }\n",
       "\n",
       "    .dataframe tbody tr th {\n",
       "        vertical-align: top;\n",
       "    }\n",
       "\n",
       "    .dataframe thead th {\n",
       "        text-align: right;\n",
       "    }\n",
       "</style>\n",
       "<table border=\"1\" class=\"dataframe\">\n",
       "  <thead>\n",
       "    <tr style=\"text-align: right;\">\n",
       "      <th></th>\n",
       "      <th>overall_rating</th>\n",
       "      <th>review_date</th>\n",
       "      <th>review_text</th>\n",
       "      <th>airline_name</th>\n",
       "    </tr>\n",
       "  </thead>\n",
       "  <tbody>\n",
       "    <tr>\n",
       "      <th>48188</th>\n",
       "      <td>Rated 1 out of 5 stars</td>\n",
       "      <td>Monday, March 21, 2022 at 03:17:13 AM</td>\n",
       "      <td>I wrote to Pegasus about the frustrating issue...</td>\n",
       "      <td>pegasus airlines</td>\n",
       "    </tr>\n",
       "    <tr>\n",
       "      <th>41101</th>\n",
       "      <td>Rated 1 out of 5 stars</td>\n",
       "      <td>Saturday, January 15, 2022 at 08:27:27 PM</td>\n",
       "      <td>DON'T I REPEAT DON'T TRAVEL WITH THIS SO CALLE...</td>\n",
       "      <td>icelandair</td>\n",
       "    </tr>\n",
       "    <tr>\n",
       "      <th>75409</th>\n",
       "      <td>Rated 5 out of 5 stars</td>\n",
       "      <td>Monday, September 11, 2023 at 09:13:10 PM</td>\n",
       "      <td>Useful</td>\n",
       "      <td>volotea</td>\n",
       "    </tr>\n",
       "    <tr>\n",
       "      <th>54218</th>\n",
       "      <td>Rated 1 out of 5 stars</td>\n",
       "      <td>Thursday, June 29, 2023 at 06:48:40 AM</td>\n",
       "      <td>Ryanair cancelled my flight less than 24hrs be...</td>\n",
       "      <td>ryanair</td>\n",
       "    </tr>\n",
       "    <tr>\n",
       "      <th>15113</th>\n",
       "      <td>Rated 1 out of 5 stars</td>\n",
       "      <td>Thursday, February 24, 2022 at 03:28:20 PM</td>\n",
       "      <td>It’s clear that BA are not even interested in ...</td>\n",
       "      <td>british airways</td>\n",
       "    </tr>\n",
       "  </tbody>\n",
       "</table>\n",
       "</div>"
      ],
      "text/plain": [
       "               overall_rating                                 review_date  \\\n",
       "48188  Rated 1 out of 5 stars       Monday, March 21, 2022 at 03:17:13 AM   \n",
       "41101  Rated 1 out of 5 stars   Saturday, January 15, 2022 at 08:27:27 PM   \n",
       "75409  Rated 5 out of 5 stars   Monday, September 11, 2023 at 09:13:10 PM   \n",
       "54218  Rated 1 out of 5 stars      Thursday, June 29, 2023 at 06:48:40 AM   \n",
       "15113  Rated 1 out of 5 stars  Thursday, February 24, 2022 at 03:28:20 PM   \n",
       "\n",
       "                                             review_text      airline_name  \n",
       "48188  I wrote to Pegasus about the frustrating issue...  pegasus airlines  \n",
       "41101  DON'T I REPEAT DON'T TRAVEL WITH THIS SO CALLE...        icelandair  \n",
       "75409                                             Useful           volotea  \n",
       "54218  Ryanair cancelled my flight less than 24hrs be...           ryanair  \n",
       "15113  It’s clear that BA are not even interested in ...   british airways  "
      ]
     },
     "execution_count": 43,
     "metadata": {},
     "output_type": "execute_result"
    }
   ],
   "source": [
    "# test_df = pd.read_csv(\"/kaggle/input/dataprocessing/testing_data.csv\", index_col=0)\n",
    "test_df = pd.read_csv(\"./DataScraping_and_processing/testing_data.csv\", index_col=0)\n",
    "test_df.head()"
   ]
  },
  {
   "cell_type": "code",
   "execution_count": 44,
   "id": "1c21ccb9",
   "metadata": {
    "tags": []
   },
   "outputs": [
    {
     "data": {
      "text/plain": [
       "(16436, 4)"
      ]
     },
     "execution_count": 44,
     "metadata": {},
     "output_type": "execute_result"
    }
   ],
   "source": [
    "test_df.shape"
   ]
  },
  {
   "cell_type": "code",
   "execution_count": 45,
   "id": "8106f8c1",
   "metadata": {
    "tags": []
   },
   "outputs": [
    {
     "data": {
      "text/plain": [
       "48188    I wrote to Pegasus about the frustrating issue...\n",
       "41101    DON'T I REPEAT DON'T TRAVEL WITH THIS SO CALLE...\n",
       "75409                                               Useful\n",
       "54218    Ryanair cancelled my flight less than 24hrs be...\n",
       "15113    It’s clear that BA are not even interested in ...\n",
       "                               ...                        \n",
       "61676    Worse than Ryanair. Enforces baggage weight re...\n",
       "75438                                               Useful\n",
       "79400    Just What You Expect From. A Budget Airline. N...\n",
       "71018    Baggage handling is a MESS! They keep losing l...\n",
       "37954    Never EVER again\\n\\nI wouldn't trust this comp...\n",
       "Name: review_text, Length: 16436, dtype: object"
      ]
     },
     "execution_count": 45,
     "metadata": {},
     "output_type": "execute_result"
    }
   ],
   "source": [
    "test_df[\"review_text\"].dropna()"
   ]
  },
  {
   "cell_type": "code",
   "execution_count": 46,
   "id": "e20fd194",
   "metadata": {
    "tags": []
   },
   "outputs": [
    {
     "name": "stdout",
     "output_type": "stream",
     "text": [
      "Frequent Words: ['deal', 'prior', 'terrible', 'let', 'value']\n",
      "\n",
      "Rare Words: ['bypassed', 'slides', 'slighly', 'dory', 'driveway']\n"
     ]
    },
    {
     "name": "stderr",
     "output_type": "stream",
     "text": [
      "Detecting languages: 100%|███████████████| 16436/16436 [00:30<00:00, 540.89it/s]\n",
      "2024-02-09 11:05:35,194: E symspellpy.symspellpy] Dictionary file not found at /kaggle/input/dataprocessing/my_frequency_dictionary.txt.\n"
     ]
    }
   ],
   "source": [
    "slang_dict = {}\n",
    "word_freq = Counter()\n",
    "\n",
    "# with open('/kaggle/input/dataprocessing/slang.txt', 'r') as file:\n",
    "#     slang_dict = {key.lower(): value.lower() for line in file if '=' in line for key, value in [line.strip().split('=', 1)]}\n",
    "\n",
    "with open('DataScraping_and_processing/slang.txt', 'r') as file:\n",
    "    slang_dict = {key.lower(): value.lower() for line in file if '=' in line for key, value in [line.strip().split('=', 1)]}\n",
    "    \n",
    "tfidf_vectorizer = TfidfVectorizer(stop_words='english', min_df=2)\n",
    "tfidf_matrix = tfidf_vectorizer.fit_transform(df['review_text'])\n",
    "\n",
    "feature_names = np.array(tfidf_vectorizer.get_feature_names_out())\n",
    "\n",
    "tfidf_sum = np.sum(tfidf_matrix, axis=0)\n",
    "tfidf_scores = np.squeeze(np.asarray(tfidf_sum))\n",
    "\n",
    "sorted_indices = np.argsort(tfidf_scores)\n",
    "\n",
    "freq_word_threshold = np.quantile(tfidf_scores, 0.97) \n",
    "rare_word_threshold = np.quantile(tfidf_scores, 0.03)\n",
    "\n",
    "FREQWORDS = set(feature_names[tfidf_scores > freq_word_threshold])\n",
    "RAREWORDS = set(feature_names[tfidf_scores < rare_word_threshold])\n",
    "\n",
    "print(\"Frequent Words:\", list(FREQWORDS)[:5])\n",
    "print(\"\\nRare Words:\", list(RAREWORDS)[:5])\n",
    "\n",
    "def detect_language(text):\n",
    "    lang, _ = langid.classify(text)\n",
    "    return lang\n",
    "\n",
    "tqdm.pandas(desc=\"Detecting languages\")\n",
    "test_df['language_info'] = test_df['review_text'].progress_apply(detect_language)\n",
    "test_df.loc[test_df[\"language_info\"] != \"en\"]\n",
    "\n",
    "def remove_rows(dataframe):\n",
    "    print(\"rows removed\")\n",
    "    return (dataframe.dropna()\n",
    "            .drop_duplicates()\n",
    "            .query(\"language_info == 'en'\")\n",
    "            .loc[dataframe['review_text'].str.split().str.len() > 2])\n",
    "\n",
    "data_cleaning_pipeline = Pipeline([\n",
    "    ('remove_rows', FunctionTransformer(remove_rows)),\n",
    "])\n",
    "\n",
    "# text cleaning functions\n",
    "\n",
    "def remove_excess_space(text):\n",
    "    text = \" \".join(text.split()) \n",
    "    text = re.sub(r'\\s([?.!\"](?:\\s|$))', r'\\1', text)\n",
    "    return text\n",
    "\n",
    "def remove_url(text):\n",
    "    regex = r\"(?i)\\b((?:https?://|www\\d{0,3}[.]|[a-z0-9.\\-]+[.][a-z]{2,4}/)(?:[^\\s()<>]+|\\(([^\\s()<>]+|(\\([^\\s()<>]+\\)))*\\))+(?:\\(([^\\s()<>]+|(\\([^\\s()<>]+\\)))*\\)|[^\\s`!()\\[\\]{};:'\\\".,<>?«»“”‘’]))\"\n",
    "    return re.sub(regex, '', text)\n",
    "\n",
    "def html_tag_remover(text):\n",
    "    soup = BeautifulSoup(text, \"html.parser\")\n",
    "    text = soup.get_text()\n",
    "    return text\n",
    "\n",
    "def remove_punctuation(text):\n",
    "    return text.translate(str.maketrans('', '', string.punctuation))\n",
    "\n",
    "def normalize_exaggerated_text(text):\n",
    "    normalized_text = re.sub(r'(.)\\1{2,}', r'\\1', text)\n",
    "    return normalized_text\n",
    "\n",
    "def replace_slang(text):\n",
    "    pattern = re.compile(r'\\b(' + '|'.join(re.escape(key) for key in slang_dict.keys()) + r')\\b')\n",
    "    return pattern.sub(lambda x: slang_dict[x.group().lower()], text)\n",
    "\n",
    "def convert_emoticons_and_emojis(text, emoticons_emo=EMOTICONS_EMO, emoji_unicode=EMOJI_UNICODE):\n",
    "    emoticon_patterns = {re.escape(k): \"_\".join(v.replace(\",\", \"\").split()) for k, v in emoticons_emo.items()}\n",
    "    emoji_patterns = {re.escape(v): k.strip(\":\") for k, v in emoji_unicode.items()}\n",
    "    combined_patterns = {**emoticon_patterns, **emoji_patterns}\n",
    "\n",
    "    pattern = re.compile('|'.join(combined_patterns.keys()))\n",
    "\n",
    "    def replace(match):\n",
    "        return combined_patterns[re.escape(match.group(0))]\n",
    "\n",
    "    return pattern.sub(replace, text)\n",
    "\n",
    "def remove_username(text): \n",
    "    return re.sub('@[^\\s]+','',text)\n",
    "\n",
    "symsp = SymSpell()\n",
    "symsp.load_dictionary('/kaggle/input/dataprocessing/my_frequency_dictionary.txt', term_index=0, count_index=1, separator=' ')\n",
    "\n",
    "def correct_spelling(text):\n",
    "    corrected = symsp.lookup_compound(text, max_edit_distance=2)\n",
    "    return corrected[0].term if corrected else text\n",
    "\n",
    "def remove_money(text):\n",
    "    pattern = r'(?:\\$|\\£|\\€|\\₹)?\\d+(?:\\.\\d{1,2})?'\n",
    "    return re.sub(pattern, '', text)\n",
    "\n",
    "def fix_negation(sentence):\n",
    "    for i in range(1, len(sentence)):\n",
    "        if sentence[i-1] in ['not', \"n't\"]:\n",
    "            synsets = wordnet.synsets(sentence[i])\n",
    "            if synsets:\n",
    "                w1 = synsets[0]\n",
    "                antonyms = [l.antonyms()[0].name() for l in w1.lemmas() if l.antonyms()]\n",
    "                if antonyms:\n",
    "                    max_dissimilarity = 0\n",
    "                    for ant in antonyms:\n",
    "                        ant_synsets = wordnet.synsets(ant)\n",
    "                        if ant_synsets:\n",
    "                            similarity = w1.wup_similarity(ant_synsets[0])\n",
    "                            # Check if similarity is None and handle it\n",
    "                            if similarity is None:\n",
    "                                continue  # Skip this comparison\n",
    "                            dissimilarity = 1 - similarity\n",
    "                            if dissimilarity > max_dissimilarity:\n",
    "                                max_dissimilarity = dissimilarity\n",
    "                                sentence[i] = ant\n",
    "                    sentence[i-1] = ''\n",
    "\n",
    "    sentence = [word for word in sentence if word]\n",
    "    return ' '.join(sentence)  # Return a string instead of a list\n",
    "\n",
    "\n",
    "STOPWORDS = stopwords.words(\"english\")\n",
    "STOPWORDS += ['u', 'back', 'one']\n",
    "\n",
    "def remove_stopwords(text):\n",
    "    return \" \".join([word for word in str(text).split() if word not in STOPWORDS])\n",
    "\n",
    "def remove_freqwords(text):\n",
    "    return \" \".join([word for word in str(text).split() if word not in FREQWORDS])\n",
    "\n",
    "def remove_rarewords(text):\n",
    "    return \" \".join([word for word in str(text).split() if word not in RAREWORDS])\n",
    "\n",
    "def lemmatize_words(text):\n",
    "    lemmatizer = WordNetLemmatizer()\n",
    "    wordnet_map = {\"N\":wordnet.NOUN, \"V\":wordnet.VERB, \"J\":wordnet.ADJ, \"R\":wordnet.ADV}\n",
    "    pos_tagged_text = nltk.pos_tag(text.split())\n",
    "    return \" \".join([lemmatizer.lemmatize(word, wordnet_map.get(pos[0], wordnet.NOUN)) for word, pos in pos_tagged_text])\n",
    "\n",
    "\n",
    "tqdm.pandas()\n",
    "\n",
    "text_preprocessing_pipeline = Pipeline(steps=[\n",
    "    ('lowercase', FunctionTransformer(lambda x: x.progress_apply(str.lower))),\n",
    "    ('remove excess whitespace', FunctionTransformer(lambda x: x.progress_apply(remove_excess_space))),\n",
    "    ('remove_url', FunctionTransformer(lambda x: x.progress_apply(remove_url))),\n",
    "    ('html_tag_remover', FunctionTransformer(lambda x: x.progress_apply(html_tag_remover))),\n",
    "    ('money_remover', FunctionTransformer(lambda x: x.progress_apply(remove_money))),\n",
    "    ('convert_emoticons_and_emojii', FunctionTransformer(lambda x: x.progress_apply(convert_emoticons_and_emojis))),\n",
    "    ('remove_username', FunctionTransformer(lambda x: x.progress_apply(remove_username))),\n",
    "    ('replace_slang', FunctionTransformer(lambda x: x.progress_apply(replace_slang))),\n",
    "    ('correct_spelling', FunctionTransformer(lambda x: x.progress_apply(correct_spelling))),\n",
    "    ('expand_contractions', FunctionTransformer(lambda x: x.progress_apply(lambda text: contractions.fix(text)))),\n",
    "    ('fix_negation', FunctionTransformer(lambda x: x.progress_apply(lambda text: \"\".join(fix_negation(word_tokenize(text)))))),\n",
    "    ('remove_punctuation', FunctionTransformer(lambda x: x.progress_apply(remove_punctuation))),\n",
    "    ('normalize_exaggerated_text', FunctionTransformer(lambda x: x.progress_apply(normalize_exaggerated_text))),\n",
    "    ('remove_stopwords', FunctionTransformer(lambda x: x.progress_apply(remove_stopwords))),\n",
    "    ('remove_freqwords', FunctionTransformer(lambda x: x.progress_apply(remove_freqwords))),\n",
    "    ('remove_rarewords', FunctionTransformer(lambda x: x.progress_apply(remove_rarewords))),\n",
    "    ('lemmatize_words', FunctionTransformer(lambda x: x.progress_apply(lemmatize_words)))\n",
    "])"
   ]
  },
  {
   "cell_type": "code",
   "execution_count": 52,
   "id": "4a61c969",
   "metadata": {
    "tags": []
   },
   "outputs": [
    {
     "name": "stdout",
     "output_type": "stream",
     "text": [
      "rows removed\n"
     ]
    },
    {
     "name": "stderr",
     "output_type": "stream",
     "text": [
      "100%|█████████████████████████████████| 15361/15361 [00:00<00:00, 572358.72it/s]\n",
      "100%|██████████████████████████████████| 15361/15361 [00:00<00:00, 67225.70it/s]\n",
      "100%|██████████████████████████████████| 15361/15361 [00:00<00:00, 36745.72it/s]\n",
      "100%|██████████████████████████████████| 15361/15361 [00:00<00:00, 48398.02it/s]\n",
      "100%|██████████████████████████████████| 15361/15361 [00:00<00:00, 61466.39it/s]\n",
      "100%|████████████████████████████████████| 15361/15361 [01:03<00:00, 240.65it/s]\n",
      "100%|█████████████████████████████████| 15361/15361 [00:00<00:00, 731612.28it/s]\n",
      "100%|██████████████████████████████████| 15361/15361 [00:01<00:00, 12388.20it/s]\n",
      "100%|████████████████████████████████████| 15361/15361 [00:56<00:00, 271.52it/s]\n",
      "100%|██████████████████████████████████| 15361/15361 [00:00<00:00, 39836.12it/s]\n",
      "100%|███████████████████████████████████| 15361/15361 [00:04<00:00, 3543.04it/s]\n",
      "100%|█████████████████████████████████| 15361/15361 [00:00<00:00, 156680.78it/s]\n",
      "100%|██████████████████████████████████| 15361/15361 [00:00<00:00, 48544.69it/s]\n",
      "100%|███████████████████████████████████| 15361/15361 [00:01<00:00, 9913.06it/s]\n",
      "100%|█████████████████████████████████| 15361/15361 [00:00<00:00, 126842.64it/s]\n",
      "100%|█████████████████████████████████| 15361/15361 [00:00<00:00, 261606.47it/s]\n",
      "100%|███████████████████████████████████| 15361/15361 [00:12<00:00, 1276.53it/s]\n"
     ]
    },
    {
     "data": {
      "text/html": [
       "<div>\n",
       "<style scoped>\n",
       "    .dataframe tbody tr th:only-of-type {\n",
       "        vertical-align: middle;\n",
       "    }\n",
       "\n",
       "    .dataframe tbody tr th {\n",
       "        vertical-align: top;\n",
       "    }\n",
       "\n",
       "    .dataframe thead th {\n",
       "        text-align: right;\n",
       "    }\n",
       "</style>\n",
       "<table border=\"1\" class=\"dataframe\">\n",
       "  <thead>\n",
       "    <tr style=\"text-align: right;\">\n",
       "      <th></th>\n",
       "      <th>overall_rating</th>\n",
       "      <th>review_date</th>\n",
       "      <th>review_text</th>\n",
       "      <th>airline_name</th>\n",
       "      <th>language_info</th>\n",
       "      <th>clean_text</th>\n",
       "    </tr>\n",
       "  </thead>\n",
       "  <tbody>\n",
       "    <tr>\n",
       "      <th>48188</th>\n",
       "      <td>Rated 1 out of 5 stars</td>\n",
       "      <td>Monday, March 21, 2022 at 03:17:13 AM</td>\n",
       "      <td>I wrote to Pegasus about the frustrating issue...</td>\n",
       "      <td>pegasus airlines</td>\n",
       "      <td>en</td>\n",
       "      <td>write pegasus frustrate even</td>\n",
       "    </tr>\n",
       "    <tr>\n",
       "      <th>41101</th>\n",
       "      <td>Rated 1 out of 5 stars</td>\n",
       "      <td>Saturday, January 15, 2022 at 08:27:27 PM</td>\n",
       "      <td>DON'T I REPEAT DON'T TRAVEL WITH THIS SO CALLE...</td>\n",
       "      <td>icelandair</td>\n",
       "      <td>en</td>\n",
       "      <td>repeat phone take restriction could normal cir...</td>\n",
       "    </tr>\n",
       "    <tr>\n",
       "      <th>54218</th>\n",
       "      <td>Rated 1 out of 5 stars</td>\n",
       "      <td>Thursday, June 29, 2023 at 06:48:40 AM</td>\n",
       "      <td>Ryanair cancelled my flight less than 24hrs be...</td>\n",
       "      <td>ryanair</td>\n",
       "      <td>en</td>\n",
       "      <td>less departs answer keep bot fight get full ev...</td>\n",
       "    </tr>\n",
       "    <tr>\n",
       "      <th>15113</th>\n",
       "      <td>Rated 1 out of 5 stars</td>\n",
       "      <td>Thursday, February 24, 2022 at 03:28:20 PM</td>\n",
       "      <td>It’s clear that BA are not even interested in ...</td>\n",
       "      <td>british airways</td>\n",
       "      <td>en</td>\n",
       "      <td>even interested rant effort part needless airp...</td>\n",
       "    </tr>\n",
       "    <tr>\n",
       "      <th>16266</th>\n",
       "      <td>Rated 1 out of 5 stars</td>\n",
       "      <td>Thursday, August 5, 2021 at 04:58:50 PM</td>\n",
       "      <td>Waited for 2 hours for customer service to res...</td>\n",
       "      <td>british airways</td>\n",
       "      <td>en</td>\n",
       "      <td>call urgent call respond</td>\n",
       "    </tr>\n",
       "  </tbody>\n",
       "</table>\n",
       "</div>"
      ],
      "text/plain": [
       "               overall_rating                                 review_date  \\\n",
       "48188  Rated 1 out of 5 stars       Monday, March 21, 2022 at 03:17:13 AM   \n",
       "41101  Rated 1 out of 5 stars   Saturday, January 15, 2022 at 08:27:27 PM   \n",
       "54218  Rated 1 out of 5 stars      Thursday, June 29, 2023 at 06:48:40 AM   \n",
       "15113  Rated 1 out of 5 stars  Thursday, February 24, 2022 at 03:28:20 PM   \n",
       "16266  Rated 1 out of 5 stars     Thursday, August 5, 2021 at 04:58:50 PM   \n",
       "\n",
       "                                             review_text      airline_name  \\\n",
       "48188  I wrote to Pegasus about the frustrating issue...  pegasus airlines   \n",
       "41101  DON'T I REPEAT DON'T TRAVEL WITH THIS SO CALLE...        icelandair   \n",
       "54218  Ryanair cancelled my flight less than 24hrs be...           ryanair   \n",
       "15113  It’s clear that BA are not even interested in ...   british airways   \n",
       "16266  Waited for 2 hours for customer service to res...   british airways   \n",
       "\n",
       "      language_info                                         clean_text  \n",
       "48188            en                       write pegasus frustrate even  \n",
       "41101            en  repeat phone take restriction could normal cir...  \n",
       "54218            en  less departs answer keep bot fight get full ev...  \n",
       "15113            en  even interested rant effort part needless airp...  \n",
       "16266            en                           call urgent call respond  "
      ]
     },
     "execution_count": 52,
     "metadata": {},
     "output_type": "execute_result"
    }
   ],
   "source": [
    "test_df = data_cleaning_pipeline.fit_transform(test_df)\n",
    "test_df['clean_text'] = text_preprocessing_pipeline.fit_transform(test_df['review_text'])\n",
    "test_df.head()"
   ]
  },
  {
   "cell_type": "code",
   "execution_count": 57,
   "id": "92e1a9e1",
   "metadata": {
    "tags": []
   },
   "outputs": [
    {
     "data": {
      "text/html": [
       "<div>\n",
       "<style scoped>\n",
       "    .dataframe tbody tr th:only-of-type {\n",
       "        vertical-align: middle;\n",
       "    }\n",
       "\n",
       "    .dataframe tbody tr th {\n",
       "        vertical-align: top;\n",
       "    }\n",
       "\n",
       "    .dataframe thead th {\n",
       "        text-align: right;\n",
       "    }\n",
       "</style>\n",
       "<table border=\"1\" class=\"dataframe\">\n",
       "  <thead>\n",
       "    <tr style=\"text-align: right;\">\n",
       "      <th></th>\n",
       "      <th>overall_rating</th>\n",
       "      <th>review_date</th>\n",
       "      <th>review_text</th>\n",
       "      <th>airline_name</th>\n",
       "      <th>language_info</th>\n",
       "      <th>clean_text</th>\n",
       "      <th>NPS_category</th>\n",
       "    </tr>\n",
       "  </thead>\n",
       "  <tbody>\n",
       "    <tr>\n",
       "      <th>48188</th>\n",
       "      <td>Rated 1 out of 5 stars</td>\n",
       "      <td>Monday, March 21, 2022 at 03:17:13 AM</td>\n",
       "      <td>I wrote to Pegasus about the frustrating issue...</td>\n",
       "      <td>pegasus airlines</td>\n",
       "      <td>en</td>\n",
       "      <td>write pegasus frustrate even</td>\n",
       "      <td>0</td>\n",
       "    </tr>\n",
       "    <tr>\n",
       "      <th>41101</th>\n",
       "      <td>Rated 1 out of 5 stars</td>\n",
       "      <td>Saturday, January 15, 2022 at 08:27:27 PM</td>\n",
       "      <td>DON'T I REPEAT DON'T TRAVEL WITH THIS SO CALLE...</td>\n",
       "      <td>icelandair</td>\n",
       "      <td>en</td>\n",
       "      <td>repeat phone take restriction could normal cir...</td>\n",
       "      <td>0</td>\n",
       "    </tr>\n",
       "    <tr>\n",
       "      <th>54218</th>\n",
       "      <td>Rated 1 out of 5 stars</td>\n",
       "      <td>Thursday, June 29, 2023 at 06:48:40 AM</td>\n",
       "      <td>Ryanair cancelled my flight less than 24hrs be...</td>\n",
       "      <td>ryanair</td>\n",
       "      <td>en</td>\n",
       "      <td>less departs answer keep bot fight get full ev...</td>\n",
       "      <td>0</td>\n",
       "    </tr>\n",
       "    <tr>\n",
       "      <th>15113</th>\n",
       "      <td>Rated 1 out of 5 stars</td>\n",
       "      <td>Thursday, February 24, 2022 at 03:28:20 PM</td>\n",
       "      <td>It’s clear that BA are not even interested in ...</td>\n",
       "      <td>british airways</td>\n",
       "      <td>en</td>\n",
       "      <td>even interested rant effort part needless airp...</td>\n",
       "      <td>0</td>\n",
       "    </tr>\n",
       "    <tr>\n",
       "      <th>16266</th>\n",
       "      <td>Rated 1 out of 5 stars</td>\n",
       "      <td>Thursday, August 5, 2021 at 04:58:50 PM</td>\n",
       "      <td>Waited for 2 hours for customer service to res...</td>\n",
       "      <td>british airways</td>\n",
       "      <td>en</td>\n",
       "      <td>call urgent call respond</td>\n",
       "      <td>0</td>\n",
       "    </tr>\n",
       "  </tbody>\n",
       "</table>\n",
       "</div>"
      ],
      "text/plain": [
       "               overall_rating                                 review_date  \\\n",
       "48188  Rated 1 out of 5 stars       Monday, March 21, 2022 at 03:17:13 AM   \n",
       "41101  Rated 1 out of 5 stars   Saturday, January 15, 2022 at 08:27:27 PM   \n",
       "54218  Rated 1 out of 5 stars      Thursday, June 29, 2023 at 06:48:40 AM   \n",
       "15113  Rated 1 out of 5 stars  Thursday, February 24, 2022 at 03:28:20 PM   \n",
       "16266  Rated 1 out of 5 stars     Thursday, August 5, 2021 at 04:58:50 PM   \n",
       "\n",
       "                                             review_text      airline_name  \\\n",
       "48188  I wrote to Pegasus about the frustrating issue...  pegasus airlines   \n",
       "41101  DON'T I REPEAT DON'T TRAVEL WITH THIS SO CALLE...        icelandair   \n",
       "54218  Ryanair cancelled my flight less than 24hrs be...           ryanair   \n",
       "15113  It’s clear that BA are not even interested in ...   british airways   \n",
       "16266  Waited for 2 hours for customer service to res...   british airways   \n",
       "\n",
       "      language_info                                         clean_text  \\\n",
       "48188            en                       write pegasus frustrate even   \n",
       "41101            en  repeat phone take restriction could normal cir...   \n",
       "54218            en  less departs answer keep bot fight get full ev...   \n",
       "15113            en  even interested rant effort part needless airp...   \n",
       "16266            en                           call urgent call respond   \n",
       "\n",
       "       NPS_category  \n",
       "48188             0  \n",
       "41101             0  \n",
       "54218             0  \n",
       "15113             0  \n",
       "16266             0  "
      ]
     },
     "execution_count": 57,
     "metadata": {},
     "output_type": "execute_result"
    }
   ],
   "source": [
    "def classify_nps(rating_text):\n",
    "    rating_text = rating_text.strip()\n",
    "    if \"Rated\" in rating_text:\n",
    "        rating = int(rating_text.split(' ')[1])\n",
    "        return \"Detractor\" if rating <= 2 else (\"Neutral\" if rating == 3 else \"Promoter\")\n",
    "    else:\n",
    "        rating = int(float(rating_text))\n",
    "        return \"Detractor\" if rating <= 6 else (\"Neutral\" if rating <= 8 else \"Promoter\")\n",
    "        \n",
    "        \n",
    "        \n",
    "test_df[\"NPS_category\"] = test_df[\"overall_rating\"].apply(classify_nps)\n",
    "test_df[\"NPS_category\"] = test_df[\"NPS_category\"].map({\"Detractor\": 0, \"Neutral\": 1, \"Promoter\": 2})\n",
    "test_df.head()"
   ]
  },
  {
   "cell_type": "code",
   "execution_count": 60,
   "id": "18ad2c92",
   "metadata": {
    "tags": []
   },
   "outputs": [
    {
     "name": "stdout",
     "output_type": "stream",
     "text": [
      "Validation Classification Report:\n",
      "               precision    recall  f1-score   support\n",
      "\n",
      "           0       0.98      1.00      0.99     11894\n",
      "           1       1.00      0.54      0.70       338\n",
      "           2       0.98      0.95      0.96      1920\n",
      "\n",
      "    accuracy                           0.98     14152\n",
      "   macro avg       0.99      0.83      0.89     14152\n",
      "weighted avg       0.98      0.98      0.98     14152\n",
      "\n"
     ]
    }
   ],
   "source": [
    "X_train, X_valid, y_train, y_valid = train_test_split(df['clean_text'], df['NPS_category'], test_size=0.25, random_state=42)\n",
    "\n",
    "tfidf_vectorizer = TfidfVectorizer(lowercase=True)\n",
    "X_train_tfidf = tfidf_vectorizer.fit_transform(X_train)\n",
    "\n",
    "class_idfs = []\n",
    "unique_classes = np.unique(y_train)\n",
    "for class_idx in unique_classes:\n",
    "    class_mask = (y_train == class_idx)\n",
    "    class_docs = X_train[class_mask]\n",
    "    class_vectorizer = TfidfVectorizer(vocabulary=tfidf_vectorizer.vocabulary_, lowercase=True)\n",
    "    class_tfidf = class_vectorizer.fit_transform(class_docs)\n",
    "    class_idf = class_vectorizer.idf_\n",
    "    class_idfs.append(class_idf)\n",
    "\n",
    "mean_idf = np.mean(class_idfs, axis=0)\n",
    "\n",
    "delta_idfs = [class_idf - mean_idf for class_idf in class_idfs]\n",
    "\n",
    "class_to_index = {label: index for index, label in enumerate(unique_classes)}\n",
    "X_train_delta_tfidf = []\n",
    "for i, doc in enumerate(X_train_tfidf):\n",
    "    class_idx = class_to_index[y_train.iloc[i]]\n",
    "    delta_idf = delta_idfs[class_idx]\n",
    "    X_train_delta_tfidf.append(doc.multiply(delta_idf))\n",
    "\n",
    "X_train_delta_tfidf = vstack(X_train_delta_tfidf)\n",
    "\n",
    "clf = SGDClassifier(loss='hinge', class_weight='balanced', max_iter=1000, tol=1e-3)\n",
    "clf.fit(X_train_delta_tfidf, y_train)\n",
    "\n",
    "X_valid_tfidf = tfidf_vectorizer.transform(X_valid)\n",
    "\n",
    "X_valid_delta_tfidf = []\n",
    "for i, doc in enumerate(X_valid_tfidf):\n",
    "    class_idx = class_to_index[y_valid.iloc[i]]\n",
    "    delta_idf = delta_idfs[class_idx]\n",
    "    X_valid_delta_tfidf.append(doc.multiply(delta_idf))\n",
    "\n",
    "X_valid_delta_tfidf = vstack(X_valid_delta_tfidf)\n",
    "\n",
    "y_pred_valid = clf.predict(X_valid_delta_tfidf)\n",
    "print(\"Validation Classification Report:\\n\", classification_report(y_valid, y_pred_valid))"
   ]
  },
  {
   "cell_type": "code",
   "execution_count": 65,
   "id": "00580e22-d419-4aa3-9d9a-a8a5ea70010e",
   "metadata": {
    "tags": []
   },
   "outputs": [
    {
     "name": "stdout",
     "output_type": "stream",
     "text": [
      "              precision    recall  f1-score   support\n",
      "\n",
      "           0       0.99      1.00      0.99     12888\n",
      "           1       1.00      0.71      0.83       361\n",
      "           2       0.98      0.96      0.97      2112\n",
      "\n",
      "    accuracy                           0.99     15361\n",
      "   macro avg       0.99      0.89      0.93     15361\n",
      "weighted avg       0.99      0.99      0.99     15361\n",
      "\n"
     ]
    }
   ],
   "source": [
    "X_test_tfidf = tfidf_vectorizer.transform(test_df['review_text'])\n",
    "y_test = test_df['NPS_category']\n",
    "\n",
    "\n",
    "X_test_delta_tfidf = []\n",
    "for i, doc in enumerate(X_test_tfidf):\n",
    "    class_idx = class_to_index[y_test.iloc[i]]\n",
    "    delta_idf = delta_idfs[class_idx]\n",
    "    X_test_delta_tfidf.append(doc.multiply(delta_idf))\n",
    "\n",
    "X_test_delta_tfidf = vstack(X_test_delta_tfidf)\n",
    "\n",
    "\n",
    "y_pred = clf.predict(X_test_delta_tfidf)\n",
    "print(classification_report(y_test, y_pred))"
   ]
  },
  {
   "cell_type": "code",
   "execution_count": 66,
   "id": "278b10e7",
   "metadata": {
    "tags": []
   },
   "outputs": [
    {
     "name": "stdout",
     "output_type": "stream",
     "text": [
      "Best Parameters: {'alpha': 1.5512259126484753e-06, 'eta0': 0.00017535949529764417, 'learning_rate': 'optimal', 'penalty': 'elasticnet'}\n",
      "              precision    recall  f1-score   support\n",
      "\n",
      "           0       1.00      0.99      0.99     11894\n",
      "           1       0.98      0.75      0.85       338\n",
      "           2       0.92      0.99      0.96      1920\n",
      "\n",
      "    accuracy                           0.99     14152\n",
      "   macro avg       0.97      0.91      0.93     14152\n",
      "weighted avg       0.99      0.99      0.98     14152\n",
      "\n"
     ]
    }
   ],
   "source": [
    "# hyperparameter tuning\n",
    "sgd_clf = SGDClassifier(loss='hinge', class_weight='balanced', max_iter=1000, tol=1e-3)\n",
    "\n",
    "param_dist = {\n",
    "    'alpha': loguniform(1e-6, 1e-3),\n",
    "    'learning_rate': ['optimal', 'invscaling', 'adaptive'],\n",
    "    'eta0': loguniform(1e-5, 1e-1),  \n",
    "    'penalty': ['l2', 'l1', 'elasticnet']  \n",
    "}\n",
    "\n",
    "\n",
    "random_search = RandomizedSearchCV(sgd_clf, param_distributions=param_dist, n_iter=50, \n",
    "                                   scoring='f1_weighted', n_jobs=-1, cv=5, random_state=42)\n",
    "\n",
    "\n",
    "random_search.fit(X_train_delta_tfidf, y_train)\n",
    "\n",
    "best_params = random_search.best_params_\n",
    "best_model = random_search.best_estimator_\n",
    "\n",
    "print(\"Best Parameters:\", best_params)\n",
    "\n",
    "y_pred = best_model.predict(X_valid_delta_tfidf) \n",
    "print(classification_report(y_valid, y_pred))"
   ]
  },
  {
   "cell_type": "code",
   "execution_count": 92,
   "id": "172b68e7-43dc-47dd-825f-3ef5d9633ead",
   "metadata": {
    "tags": []
   },
   "outputs": [
    {
     "name": "stdout",
     "output_type": "stream",
     "text": [
      "100%|████████| 100/100 [00:24<00:00,  4.16trial/s, best loss: 5.750888167935736]\n",
      "Total tuning time: 24.058917999267578\n",
      "The best hyperparameters are:  {'alpha': 1.0302117980218097, 'eta0': 1.0078318706083353, 'penalty': 'elasticnet'}\n"
     ]
    }
   ],
   "source": [
    "import time\n",
    "from hyperopt import hp, fmin, tpe, Trials, space_eval, STATUS_OK\n",
    "from sklearn.linear_model import SGDClassifier\n",
    "from sklearn.metrics import log_loss\n",
    "from sklearn.preprocessing import label_binarize\n",
    "\n",
    "def objective(space):\n",
    "    clf = SGDClassifier(loss='hinge',\n",
    "                        alpha=space['alpha'],\n",
    "                        learning_rate='optimal', \n",
    "                        eta0=space['eta0'],\n",
    "                        penalty=space['penalty'],\n",
    "                        random_state=42)\n",
    "    \n",
    "    clf.fit(X_train_delta_tfidf, y_train)\n",
    "    y_pred_proba = clf.decision_function(X_valid_delta_tfidf)\n",
    "    \n",
    "    # Binarize the output\n",
    "    y_valid_binarized = label_binarize(y_valid, classes=np.unique(y_train))\n",
    "    y_pred_binarized = label_binarize(y_pred_proba.argmax(axis=1), classes=np.unique(y_train))\n",
    "    \n",
    "    loss = log_loss(y_valid_binarized, y_pred_binarized)\n",
    "    \n",
    "    return {'loss': loss, 'status': STATUS_OK}\n",
    "\n",
    "space = {\n",
    "    'alpha': hp.loguniform('alpha', 1e-9, 1e-1),\n",
    "    'eta0': hp.loguniform('eta0', 1e-7, 1e-2),\n",
    "    'penalty': hp.choice('penalty', ['l1', 'l2', 'elasticnet'])\n",
    "}\n",
    "\n",
    "trials = Trials()\n",
    "\n",
    "start_time = time.time()\n",
    "best_hyperparams = fmin(fn=objective,\n",
    "                        space=space,\n",
    "                        algo=tpe.suggest,\n",
    "                        max_evals=100,\n",
    "                        trials=trials)\n",
    "end_time = time.time()\n",
    "\n",
    "print(\"Total tuning time:\", end_time - start_time)\n",
    "\n",
    "# Retrieve the best parameters\n",
    "best_params = space_eval(space, best_hyperparams)\n",
    "print(\"The best hyperparameters are: \", best_params)"
   ]
  },
  {
   "cell_type": "code",
   "execution_count": 106,
   "id": "19ed43bd-f9b9-483d-ae45-e60f97170f66",
   "metadata": {
    "tags": []
   },
   "outputs": [
    {
     "name": "stdout",
     "output_type": "stream",
     "text": [
      "              precision    recall  f1-score   support\n",
      "\n",
      "           0       0.99      1.00      1.00     12888\n",
      "           1       1.00      0.70      0.82       361\n",
      "           2       0.98      0.97      0.97      2112\n",
      "\n",
      "    accuracy                           0.99     15361\n",
      "   macro avg       0.99      0.89      0.93     15361\n",
      "weighted avg       0.99      0.99      0.99     15361\n",
      "\n"
     ]
    }
   ],
   "source": [
    "clf_best = SGDClassifier(loss='hinge',\n",
    "                         # alpha=best_params['alpha'],\n",
    "                         learning_rate='optimal',\n",
    "                         eta0=best_params['eta0'],\n",
    "                         # penalty=best_params['penalty'],\n",
    "                         random_state=42,\n",
    "                        class_weight='balanced')\n",
    "\n",
    "clf_best.fit(X_train_delta_tfidf, y_train)\n",
    "y_pred = clf_best.predict(X_test_delta_tfidf)\n",
    "print(classification_report(y_test, y_pred_test))"
   ]
  },
  {
   "cell_type": "code",
   "execution_count": 107,
   "id": "ebfa0eac",
   "metadata": {
    "tags": []
   },
   "outputs": [
    {
     "data": {
      "image/png": "[encoded data removed]",
      "text/plain": [
       "<Figure size 1000x700 with 2 Axes>"
      ]
     },
     "metadata": {},
     "output_type": "display_data"
    }
   ],
   "source": [
    "from sklearn.metrics import confusion_matrix\n",
    "import matplotlib.pyplot as plt\n",
    "import seaborn as sns \n",
    "\n",
    "cm = confusion_matrix(y_test, y_pred)\n",
    "\n",
    "plt.figure(figsize=(10, 7))\n",
    "sns.heatmap(cm, annot=True, fmt=\"d\", cmap=\"viridis\", xticklabels=unique_classes, yticklabels=unique_classes)\n",
    "plt.title('Confusion Matrix')\n",
    "plt.ylabel('Actual Labels')\n",
    "plt.xlabel('Predicted Labels')\n",
    "plt.show()"
   ]
  },
  {
   "cell_type": "code",
   "execution_count": 108,
   "id": "9c05bd74",
   "metadata": {
    "tags": []
   },
   "outputs": [
    {
     "data": {
      "image/png": "[encoded data removed]",
      "text/plain": [
       "<Figure size 1200x800 with 1 Axes>"
      ]
     },
     "metadata": {},
     "output_type": "display_data"
    }
   ],
   "source": [
    "precision, recall, f1, _ = precision_recall_fscore_support(y_test, y_pred)\n",
    "\n",
    "fig, ax = plt.subplots(1, 1, figsize=(12, 8))\n",
    "index = np.arange(len(unique_classes))\n",
    "bar_width = 0.2\n",
    "\n",
    "p_bar = ax.bar(index, precision, bar_width, label='Precision')\n",
    "r_bar = ax.bar(index + bar_width, recall, bar_width, label='Recall')\n",
    "f1_bar = ax.bar(index + 2 * bar_width, f1, bar_width, label='F1-score')\n",
    "\n",
    "ax.set_xlabel('Classes')\n",
    "ax.set_ylabel('Scores')\n",
    "ax.set_title('Precision, Recall, and F1-Score per Class')\n",
    "ax.set_xticks(index + bar_width)\n",
    "ax.set_xticklabels(unique_classes, rotation=45)\n",
    "ax.legend()\n",
    "\n",
    "plt.tight_layout()\n",
    "plt.show()"
   ]
  },
  {
   "cell_type": "code",
   "execution_count": 109,
   "id": "2810943e",
   "metadata": {
    "tags": []
   },
   "outputs": [],
   "source": [
    "from sklearn.metrics import roc_curve, auc\n",
    "from sklearn.preprocessing import label_binarize\n",
    "import numpy as np\n",
    "\n",
    "# Binarize the output\n",
    "y_test_binarized = label_binarize(y_test, classes=np.unique(y_test))\n",
    "n_classes = y_test_binarized.shape[1]\n",
    "\n",
    "\n",
    "# Compute ROC curve and ROC area for each class\n",
    "fpr = dict()\n",
    "tpr = dict()\n",
    "roc_auc = dict()\n",
    "y_score = clf.decision_function(X_test_delta_tfidf)\n",
    "for i in range(n_classes):\n",
    "    fpr[i], tpr[i], _ = roc_curve(y_test_binarized[:, i], y_score[:, i])\n",
    "    roc_auc[i] = auc(fpr[i], tpr[i])\n",
    "\n",
    "# Assuming your classes are numbered from 0 to n-1\n",
    "unique_classes = np.arange(n_classes)"
   ]
  },
  {
   "cell_type": "code",
   "execution_count": 110,
   "id": "9c24a6cd",
   "metadata": {
    "tags": []
   },
   "outputs": [
    {
     "data": {
      "text/html": [
       "<iframe\n",
       "    scrolling=\"no\"\n",
       "    width=\"100%\"\n",
       "    height=\"545px\"\n",
       "    src=\"iframe_figures/figure_110.html\"\n",
       "    frameborder=\"0\"\n",
       "    allowfullscreen\n",
       "></iframe>\n"
      ]
     },
     "metadata": {},
     "output_type": "display_data"
    }
   ],
   "source": [
    "import plotly.graph_objs as go\n",
    "from plotly.subplots import make_subplots\n",
    "import plotly.io as pio\n",
    "\n",
    "# Set the default renderer to 'iframe' for Jupyter Notebooks or 'notebook' if using JupyterLab\n",
    "pio.renderers.default = 'iframe'  # or 'notebook' for JupyterLab\n",
    "\n",
    "# Initialize the plotly figure with a title and a single subplot for the ROC curves\n",
    "fig = make_subplots(rows=1, cols=1, subplot_titles=['Multiclass ROC Curve'])\n",
    "\n",
    "# Define a list of colors for the ROC curves\n",
    "color_palette = [\n",
    "    '#1f77b4',  # Muted blue\n",
    "    '#ff7f0e',  # Safety orange\n",
    "    '#2ca02c',  # Cooked asparagus green\n",
    "    '#d62728',  # Brick red\n",
    "    '#9467bd',  # Muted purple\n",
    "    '#8c564b',  # Chestnut brown\n",
    "    '#e377c2',  # Raspberry yogurt pink\n",
    "    '#7f7f7f',  # Middle gray\n",
    "    '#bcbd22',  # Curry yellow-green\n",
    "    '#17becf'   # Blue-teal\n",
    "]\n",
    "\n",
    "for i, color in enumerate(color_palette[:len(unique_classes)]):\n",
    "    fig.add_trace(go.Scatter(x=fpr[i], y=tpr[i], mode='lines',\n",
    "                             name=f'Class {unique_classes[i]} (AUC = {roc_auc[i]:.2f})',\n",
    "                             line=dict(color=color, width=2)))\n",
    "\n",
    "fig.add_trace(go.Scatter(x=[0, 1], y=[0, 1], mode='lines', name='Chance',\n",
    "                         line=dict(color='gray', width=1.5, dash='dot')))\n",
    "\n",
    "fig.update_layout(\n",
    "    title='Multiclass ROC Curve',\n",
    "    title_x=0.5,\n",
    "    xaxis_title='False Positive Rate',\n",
    "    yaxis_title='True Positive Rate',\n",
    "    legend_title='Class AUC',\n",
    "    legend=dict(y=0.5, traceorder='reversed', font_size=12),\n",
    "    margin=dict(l=40, r=40, t=85, b=40),\n",
    "    paper_bgcolor='white',\n",
    "    plot_bgcolor='white',\n",
    "    font=dict(size=12, color='black')\n",
    ")\n",
    "\n",
    "fig.update_xaxes(range=[0, 1], showgrid=True, gridwidth=1, gridcolor='lightgray')\n",
    "fig.update_yaxes(range=[0, 1.05], showgrid=True, gridwidth=1, gridcolor='lightgray')\n",
    "\n",
    "fig.show()"
   ]
  },
  {
   "cell_type": "code",
   "execution_count": 123,
   "id": "5e1a9004-ff3c-43a3-b86f-cfa8987c90b7",
   "metadata": {
    "tags": []
   },
   "outputs": [
    {
     "ename": "ValueError",
     "evalue": "\nImage export using the \"kaleido\" engine requires the kaleido package,\nwhich can be installed using pip:\n    $ pip install -U kaleido\n",
     "output_type": "error",
     "traceback": [
      "\u001b[0;31m---------------------------------------------------------------------------\u001b[0m",
      "\u001b[0;31mValueError\u001b[0m                                Traceback (most recent call last)",
      "Cell \u001b[0;32mIn[123], line 1\u001b[0m\n\u001b[0;32m----> 1\u001b[0m \u001b[43mfig\u001b[49m\u001b[38;5;241;43m.\u001b[39;49m\u001b[43mshow\u001b[49m\u001b[43m(\u001b[49m\u001b[38;5;124;43m\"\u001b[39;49m\u001b[38;5;124;43msvg\u001b[39;49m\u001b[38;5;124;43m\"\u001b[39;49m\u001b[43m)\u001b[49m\n",
      "File \u001b[0;32m~/opt/miniconda3/envs/torchenv/lib/python3.9/site-packages/plotly/basedatatypes.py:3410\u001b[0m, in \u001b[0;36mBaseFigure.show\u001b[0;34m(self, *args, **kwargs)\u001b[0m\n\u001b[1;32m   3377\u001b[0m \u001b[38;5;250m\u001b[39m\u001b[38;5;124;03m\"\"\"\u001b[39;00m\n\u001b[1;32m   3378\u001b[0m \u001b[38;5;124;03mShow a figure using either the default renderer(s) or the renderer(s)\u001b[39;00m\n\u001b[1;32m   3379\u001b[0m \u001b[38;5;124;03mspecified by the renderer argument\u001b[39;00m\n\u001b[0;32m   (...)\u001b[0m\n\u001b[1;32m   3406\u001b[0m \u001b[38;5;124;03mNone\u001b[39;00m\n\u001b[1;32m   3407\u001b[0m \u001b[38;5;124;03m\"\"\"\u001b[39;00m\n\u001b[1;32m   3408\u001b[0m \u001b[38;5;28;01mimport\u001b[39;00m \u001b[38;5;21;01mplotly\u001b[39;00m\u001b[38;5;21;01m.\u001b[39;00m\u001b[38;5;21;01mio\u001b[39;00m \u001b[38;5;28;01mas\u001b[39;00m \u001b[38;5;21;01mpio\u001b[39;00m\n\u001b[0;32m-> 3410\u001b[0m \u001b[38;5;28;01mreturn\u001b[39;00m \u001b[43mpio\u001b[49m\u001b[38;5;241;43m.\u001b[39;49m\u001b[43mshow\u001b[49m\u001b[43m(\u001b[49m\u001b[38;5;28;43mself\u001b[39;49m\u001b[43m,\u001b[49m\u001b[43m \u001b[49m\u001b[38;5;241;43m*\u001b[39;49m\u001b[43margs\u001b[49m\u001b[43m,\u001b[49m\u001b[43m \u001b[49m\u001b[38;5;241;43m*\u001b[39;49m\u001b[38;5;241;43m*\u001b[39;49m\u001b[43mkwargs\u001b[49m\u001b[43m)\u001b[49m\n",
      "File \u001b[0;32m~/opt/miniconda3/envs/torchenv/lib/python3.9/site-packages/plotly/io/_renderers.py:386\u001b[0m, in \u001b[0;36mshow\u001b[0;34m(fig, renderer, validate, **kwargs)\u001b[0m\n\u001b[1;32m    383\u001b[0m fig_dict \u001b[38;5;241m=\u001b[39m validate_coerce_fig_to_dict(fig, validate)\n\u001b[1;32m    385\u001b[0m \u001b[38;5;66;03m# Mimetype renderers\u001b[39;00m\n\u001b[0;32m--> 386\u001b[0m bundle \u001b[38;5;241m=\u001b[39m \u001b[43mrenderers\u001b[49m\u001b[38;5;241;43m.\u001b[39;49m\u001b[43m_build_mime_bundle\u001b[49m\u001b[43m(\u001b[49m\u001b[43mfig_dict\u001b[49m\u001b[43m,\u001b[49m\u001b[43m \u001b[49m\u001b[43mrenderers_string\u001b[49m\u001b[38;5;241;43m=\u001b[39;49m\u001b[43mrenderer\u001b[49m\u001b[43m,\u001b[49m\u001b[43m \u001b[49m\u001b[38;5;241;43m*\u001b[39;49m\u001b[38;5;241;43m*\u001b[39;49m\u001b[43mkwargs\u001b[49m\u001b[43m)\u001b[49m\n\u001b[1;32m    387\u001b[0m \u001b[38;5;28;01mif\u001b[39;00m bundle:\n\u001b[1;32m    388\u001b[0m     \u001b[38;5;28;01mif\u001b[39;00m \u001b[38;5;129;01mnot\u001b[39;00m ipython_display:\n",
      "File \u001b[0;32m~/opt/miniconda3/envs/torchenv/lib/python3.9/site-packages/plotly/io/_renderers.py:294\u001b[0m, in \u001b[0;36mRenderersConfig._build_mime_bundle\u001b[0;34m(self, fig_dict, renderers_string, **kwargs)\u001b[0m\n\u001b[1;32m    291\u001b[0m             \u001b[38;5;28;01mif\u001b[39;00m \u001b[38;5;28mhasattr\u001b[39m(renderer, k):\n\u001b[1;32m    292\u001b[0m                 \u001b[38;5;28msetattr\u001b[39m(renderer, k, v)\n\u001b[0;32m--> 294\u001b[0m         bundle\u001b[38;5;241m.\u001b[39mupdate(\u001b[43mrenderer\u001b[49m\u001b[38;5;241;43m.\u001b[39;49m\u001b[43mto_mimebundle\u001b[49m\u001b[43m(\u001b[49m\u001b[43mfig_dict\u001b[49m\u001b[43m)\u001b[49m)\n\u001b[1;32m    296\u001b[0m \u001b[38;5;28;01mreturn\u001b[39;00m bundle\n",
      "File \u001b[0;32m~/opt/miniconda3/envs/torchenv/lib/python3.9/site-packages/plotly/io/_base_renderers.py:126\u001b[0m, in \u001b[0;36mImageRenderer.to_mimebundle\u001b[0;34m(self, fig_dict)\u001b[0m\n\u001b[1;32m    125\u001b[0m \u001b[38;5;28;01mdef\u001b[39;00m \u001b[38;5;21mto_mimebundle\u001b[39m(\u001b[38;5;28mself\u001b[39m, fig_dict):\n\u001b[0;32m--> 126\u001b[0m     image_bytes \u001b[38;5;241m=\u001b[39m \u001b[43mto_image\u001b[49m\u001b[43m(\u001b[49m\n\u001b[1;32m    127\u001b[0m \u001b[43m        \u001b[49m\u001b[43mfig_dict\u001b[49m\u001b[43m,\u001b[49m\n\u001b[1;32m    128\u001b[0m \u001b[43m        \u001b[49m\u001b[38;5;28;43mformat\u001b[39;49m\u001b[38;5;241;43m=\u001b[39;49m\u001b[38;5;28;43mself\u001b[39;49m\u001b[38;5;241;43m.\u001b[39;49m\u001b[43mformat\u001b[49m\u001b[43m,\u001b[49m\n\u001b[1;32m    129\u001b[0m \u001b[43m        \u001b[49m\u001b[43mwidth\u001b[49m\u001b[38;5;241;43m=\u001b[39;49m\u001b[38;5;28;43mself\u001b[39;49m\u001b[38;5;241;43m.\u001b[39;49m\u001b[43mwidth\u001b[49m\u001b[43m,\u001b[49m\n\u001b[1;32m    130\u001b[0m \u001b[43m        \u001b[49m\u001b[43mheight\u001b[49m\u001b[38;5;241;43m=\u001b[39;49m\u001b[38;5;28;43mself\u001b[39;49m\u001b[38;5;241;43m.\u001b[39;49m\u001b[43mheight\u001b[49m\u001b[43m,\u001b[49m\n\u001b[1;32m    131\u001b[0m \u001b[43m        \u001b[49m\u001b[43mscale\u001b[49m\u001b[38;5;241;43m=\u001b[39;49m\u001b[38;5;28;43mself\u001b[39;49m\u001b[38;5;241;43m.\u001b[39;49m\u001b[43mscale\u001b[49m\u001b[43m,\u001b[49m\n\u001b[1;32m    132\u001b[0m \u001b[43m        \u001b[49m\u001b[43mvalidate\u001b[49m\u001b[38;5;241;43m=\u001b[39;49m\u001b[38;5;28;43;01mFalse\u001b[39;49;00m\u001b[43m,\u001b[49m\n\u001b[1;32m    133\u001b[0m \u001b[43m        \u001b[49m\u001b[43mengine\u001b[49m\u001b[38;5;241;43m=\u001b[39;49m\u001b[38;5;28;43mself\u001b[39;49m\u001b[38;5;241;43m.\u001b[39;49m\u001b[43mengine\u001b[49m\u001b[43m,\u001b[49m\n\u001b[1;32m    134\u001b[0m \u001b[43m    \u001b[49m\u001b[43m)\u001b[49m\n\u001b[1;32m    136\u001b[0m     \u001b[38;5;28;01mif\u001b[39;00m \u001b[38;5;28mself\u001b[39m\u001b[38;5;241m.\u001b[39mb64_encode:\n\u001b[1;32m    137\u001b[0m         image_str \u001b[38;5;241m=\u001b[39m base64\u001b[38;5;241m.\u001b[39mb64encode(image_bytes)\u001b[38;5;241m.\u001b[39mdecode(\u001b[38;5;124m\"\u001b[39m\u001b[38;5;124mutf8\u001b[39m\u001b[38;5;124m\"\u001b[39m)\n",
      "File \u001b[0;32m~/opt/miniconda3/envs/torchenv/lib/python3.9/site-packages/plotly/io/_kaleido.py:132\u001b[0m, in \u001b[0;36mto_image\u001b[0;34m(fig, format, width, height, scale, validate, engine)\u001b[0m\n\u001b[1;32m    130\u001b[0m     \u001b[38;5;66;03m# Raise informative error message if Kaleido is not installed\u001b[39;00m\n\u001b[1;32m    131\u001b[0m     \u001b[38;5;28;01mif\u001b[39;00m scope \u001b[38;5;129;01mis\u001b[39;00m \u001b[38;5;28;01mNone\u001b[39;00m:\n\u001b[0;32m--> 132\u001b[0m         \u001b[38;5;28;01mraise\u001b[39;00m \u001b[38;5;167;01mValueError\u001b[39;00m(\n\u001b[1;32m    133\u001b[0m \u001b[38;5;250m            \u001b[39m\u001b[38;5;124;03m\"\"\"\u001b[39;00m\n\u001b[1;32m    134\u001b[0m \u001b[38;5;124;03mImage export using the \"kaleido\" engine requires the kaleido package,\u001b[39;00m\n\u001b[1;32m    135\u001b[0m \u001b[38;5;124;03mwhich can be installed using pip:\u001b[39;00m\n\u001b[1;32m    136\u001b[0m \u001b[38;5;124;03m    $ pip install -U kaleido\u001b[39;00m\n\u001b[1;32m    137\u001b[0m \u001b[38;5;124;03m\"\"\"\u001b[39;00m\n\u001b[1;32m    138\u001b[0m         )\n\u001b[1;32m    140\u001b[0m     \u001b[38;5;66;03m# Validate figure\u001b[39;00m\n\u001b[1;32m    141\u001b[0m     \u001b[38;5;66;03m# ---------------\u001b[39;00m\n\u001b[1;32m    142\u001b[0m     fig_dict \u001b[38;5;241m=\u001b[39m validate_coerce_fig_to_dict(fig, validate)\n",
      "\u001b[0;31mValueError\u001b[0m: \nImage export using the \"kaleido\" engine requires the kaleido package,\nwhich can be installed using pip:\n    $ pip install -U kaleido\n"
     ]
    }
   ],
   "source": [
    "fig.show(\"svg\")"
   ]
  },
  {
   "cell_type": "code",
   "execution_count": 111,
   "id": "2eea402c",
   "metadata": {
    "tags": []
   },
   "outputs": [
    {
     "name": "stdout",
     "output_type": "stream",
     "text": [
      "Cohen's Kappa: 0.9578069035592017\n",
      "Matthew's Correlation Coefficient: 0.9583103619129153\n"
     ]
    }
   ],
   "source": [
    "from sklearn.metrics import cohen_kappa_score, matthews_corrcoef\n",
    "\n",
    "kappa = cohen_kappa_score(y_test, y_pred)\n",
    "print(f\"Cohen's Kappa: {kappa}\")\n",
    "\n",
    "matthews_corr = matthews_corrcoef(y_test, y_pred)\n",
    "print(f\"Matthew's Correlation Coefficient: {matthews_corr}\")"
   ]
  },
  {
   "cell_type": "code",
   "execution_count": 112,
   "id": "3400bd0c",
   "metadata": {
    "tags": []
   },
   "outputs": [
    {
     "data": {
      "image/png": "[encoded data removed]",
      "text/plain": [
       "<Figure size 1200x800 with 1 Axes>"
      ]
     },
     "metadata": {},
     "output_type": "display_data"
    }
   ],
   "source": [
    "from sklearn.model_selection import learning_curve\n",
    "\n",
    "train_sizes, train_scores, valid_scores = learning_curve(clf, X_train_delta_tfidf, y_train, train_sizes=np.linspace(0.1, 1.0, 5), cv=5)\n",
    "\n",
    "# Calculate mean and std\n",
    "train_scores_mean = np.mean(train_scores, axis=1)\n",
    "train_scores_std = np.std(train_scores, axis=1)\n",
    "valid_scores_mean = np.mean(valid_scores, axis=1)\n",
    "valid_scores_std = np.std(valid_scores, axis=1)\n",
    "\n",
    "# Plot learning curves\n",
    "plt.figure(figsize=(12, 8))\n",
    "plt.fill_between(train_sizes, train_scores_mean - train_scores_std, train_scores_mean + train_scores_std, alpha=0.1, color=\"r\")\n",
    "plt.fill_between(train_sizes, valid_scores_mean - valid_scores_std, valid_scores_mean + valid_scores_std, alpha=0.1, color=\"g\")\n",
    "plt.plot(train_sizes, train_scores_mean, 'o-', color=\"r\", label=\"Training score\")\n",
    "plt.plot(train_sizes, valid_scores_mean, 'o-', color=\"g\", label=\"Cross-validation score\")\n",
    "\n",
    "plt.title(\"Learning Curves\")\n",
    "plt.xlabel(\"Training examples\")\n",
    "plt.ylabel(\"Score\")\n",
    "plt.legend(loc=\"best\")\n",
    "plt.grid()\n",
    "plt.show()"
   ]
  },
  {
   "cell_type": "code",
   "execution_count": 119,
   "id": "c6de1465",
   "metadata": {
    "tags": []
   },
   "outputs": [
    {
     "name": "stdout",
     "output_type": "stream",
     "text": [
      "Review Text: This airline is too restrictive with carry on and checked luggage. They nickle and dime you for every little service. I wouldn't fly them again.\n",
      "\n",
      "Clean Text: restrictive nickle dime every would\n",
      "\n",
      "True class: 1, Predicted class: 2\n",
      "\n",
      "=====================================================================================================================\n",
      "Review Text: It's a budget airline. You get what you pay for. The flights are delayed more often than they are not, they may or may not lose your luggage and the seats are seemingly designed for underweight dwarves. That said it's pretty cheap, it has a ton of destinations and when my most recent flight was cancelled at 10pm, stranding me in Newcastle, they handled it surprisingly well. They put us all up in a decent hotel at their expense with breakfast, gave us a meal voucher , provided a coach there and back and laid on another plane to take us all to Southampton in the morning. While the plane breaking was a royal pain to say the least I simply can't fault them on how they managed the aftermath and trust me I wanted to.\n",
      "\n",
      "Clean Text: get often may may keep seemingly design underweight dwarf ton destination recent pm strand newcastle handle surprisingly well put u decent expense breakfast u coach laid another take u southampton break royal pain least aftermath\n",
      "\n",
      "True class: 1, Predicted class: 0\n",
      "\n",
      "=====================================================================================================================\n",
      "Review Text: Cancelled flight at last minute - no reason given - redirected long route and then we found earlier flight but was a mission to get assistance at airports to change but eventually did\n",
      "\n",
      "Clean Text: last redirect found mission get airport\n",
      "\n",
      "True class: 1, Predicted class: 0\n",
      "\n",
      "=====================================================================================================================\n",
      "Review Text: Flight on time. No probs\n",
      "\n",
      "Clean Text: probs\n",
      "\n",
      "True class: 2, Predicted class: 0\n",
      "\n",
      "=====================================================================================================================\n",
      "Review Text: Cancelled flights and got credit instead of refund 😩\n",
      "\n",
      "Clean Text: weary face\n",
      "\n",
      "True class: 1, Predicted class: 2\n",
      "\n",
      "=====================================================================================================================\n",
      "Review Text: I booked a flight for my son to come home to Spain last March 2020, flight got cancelled obviously due to Covid. I was offered the voucher but wanted a refund, after a long wait and various emails telling me to be patient, I will get me refund I got an email saying that I would be refunded and recieve it in the next 7 days. No luck!!! No refund!!! I went to my bank manager, he looked into it, no refund. After months waiting I finally got intouch with them on chat live and they told me that the money had been sent in June, but it hadn't so I'd to send a bank letter to the finance department stating that no refund has been refunded into my bank account. They replied saying that the refund was refunded in December, totally different date????? And that I've to go to the bank and speak to them, I've spoken to my bank several times and the money hasn't gone in and I'm still waiting but what do I do next???\n",
      "\n",
      "Clean Text: spain last due various patient get would recieve next luck intouch would letter finance state reply go spoken several stayinplace still next\n",
      "\n",
      "True class: 1, Predicted class: 0\n",
      "\n",
      "=====================================================================================================================\n",
      "Review Text: Thanks for stopping export of live primats!\n",
      "\n",
      "Clean Text: stop export primats\n",
      "\n",
      "True class: 2, Predicted class: 0\n",
      "\n",
      "=====================================================================================================================\n",
      "Review Text: This is really a great airline\n",
      "\n",
      "Clean Text: \n",
      "\n",
      "True class: 2, Predicted class: 0\n",
      "\n",
      "=====================================================================================================================\n",
      "Review Text: Very helpful stewardesses\n",
      "\n",
      "Clean Text: stewardess\n",
      "\n",
      "True class: 2, Predicted class: 0\n",
      "\n",
      "=====================================================================================================================\n",
      "Review Text: On arriving at our hotel in St Lucia there were no reps available at all during our stay, we could only contact by phone on a mobile via the UK at vast expense. The young man on the hotel's tour desk gave us information on local covid restrictions and about the hotel. We needed help with our covid tests and Passenger Locator Form but no help was available. Not good enough British Airways.\n",
      "\n",
      "Clean Text: arrive st lucia rep could mobile via vast expense young tour u local restriction test locator enough\n",
      "\n",
      "True class: 1, Predicted class: 0\n",
      "\n",
      "=====================================================================================================================\n"
     ]
    }
   ],
   "source": [
    "misclassified_idxs = np.where(y_test != y_pred)[0]\n",
    "for idx in misclassified_idxs[:10]:\n",
    "    print(\"Review Text:\", test_df[\"review_text\"].iloc[idx], end=\"\\n\\n\")\n",
    "    print(\"Clean Text:\", test_df[\"clean_text\"].iloc[idx], end=\"\\n\\n\")\n",
    "    print(f\"True class: {y_test.iloc[idx]}, Predicted class: {y_pred[idx]}\\n\")\n",
    "    print(\"=====================================================================================================================\")"
   ]
  }
 ],
 "metadata": {
  "kaggle": {
   "accelerator": "nvidiaTeslaT4",
   "dataSources": [
    {
     "datasetId": 4396626,
     "sourceId": 7549185,
     "sourceType": "datasetVersion"
    },
    {
     "datasetId": 4401450,
     "sourceId": 7558364,
     "sourceType": "datasetVersion"
    },
    {
     "datasetId": 4401471,
     "sourceId": 7558406,
     "sourceType": "datasetVersion"
    }
   ],
   "dockerImageVersionId": 30648,
   "isGpuEnabled": true,
   "isInternetEnabled": true,
   "language": "python",
   "sourceType": "notebook"
  },
  "kernelspec": {
   "display_name": "torchenv",
   "language": "python",
   "name": "torchenv"
  },
  "language_info": {
   "codemirror_mode": {
    "name": "ipython",
    "version": 3
   },
   "file_extension": ".py",
   "mimetype": "text/x-python",
   "name": "python",
   "nbconvert_exporter": "python",
   "pygments_lexer": "ipython3",
   "version": "3.9.18"
  },
  "papermill": {
   "default_parameters": {},
   "duration": 450.193299,
   "end_time": "2024-02-04T08:20:21.183620",
   "environment_variables": {},
   "exception": null,
   "input_path": "__notebook__.ipynb",
   "output_path": "__notebook__.ipynb",
   "parameters": {},
   "start_time": "2024-02-04T08:12:50.990321",
   "version": "2.5.0"
  }
 },
 "nbformat": 4,
 "nbformat_minor": 5
}
