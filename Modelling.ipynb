{
 "cells": [
  {
   "cell_type": "code",
   "execution_count": 1,
   "id": "e119476a",
   "metadata": {
    "execution": {
     "iopub.execute_input": "2024-02-04T08:12:54.935840Z",
     "iopub.status.busy": "2024-02-04T08:12:54.935450Z",
     "iopub.status.idle": "2024-02-04T08:12:56.000371Z",
     "shell.execute_reply": "2024-02-04T08:12:55.999251Z"
    },
    "papermill": {
     "duration": 1.079056,
     "end_time": "2024-02-04T08:12:56.002806",
     "exception": false,
     "start_time": "2024-02-04T08:12:54.923750",
     "status": "completed"
    },
    "tags": []
   },
   "outputs": [
    {
     "name": "stdout",
     "output_type": "stream",
     "text": [
      "Sun Feb  4 08:12:55 2024       \r\n",
      "+---------------------------------------------------------------------------------------+\r\n",
      "| NVIDIA-SMI 535.129.03             Driver Version: 535.129.03   CUDA Version: 12.2     |\r\n",
      "|-----------------------------------------+----------------------+----------------------+\r\n",
      "| GPU  Name                 Persistence-M | Bus-Id        Disp.A | Volatile Uncorr. ECC |\r\n",
      "| Fan  Temp   Perf          Pwr:Usage/Cap |         Memory-Usage | GPU-Util  Compute M. |\r\n",
      "|                                         |                      |               MIG M. |\r\n",
      "|=========================================+======================+======================|\r\n",
      "|   0  Tesla T4                       Off | 00000000:00:04.0 Off |                    0 |\r\n",
      "| N/A   40C    P8               9W /  70W |      0MiB / 15360MiB |      0%      Default |\r\n",
      "|                                         |                      |                  N/A |\r\n",
      "+-----------------------------------------+----------------------+----------------------+\r\n",
      "|   1  Tesla T4                       Off | 00000000:00:05.0 Off |                    0 |\r\n",
      "| N/A   37C    P8               9W /  70W |      0MiB / 15360MiB |      0%      Default |\r\n",
      "|                                         |                      |                  N/A |\r\n",
      "+-----------------------------------------+----------------------+----------------------+\r\n",
      "                                                                                         \r\n",
      "+---------------------------------------------------------------------------------------+\r\n",
      "| Processes:                                                                            |\r\n",
      "|  GPU   GI   CI        PID   Type   Process name                            GPU Memory |\r\n",
      "|        ID   ID                                                             Usage      |\r\n",
      "|=======================================================================================|\r\n",
      "|  No running processes found                                                           |\r\n",
      "+---------------------------------------------------------------------------------------+\r\n"
     ]
    }
   ],
   "source": [
    "!nvidia-smi # checking for GPU ver."
   ]
  },
  {
   "cell_type": "code",
   "execution_count": 2,
   "id": "f885d721",
   "metadata": {
    "execution": {
     "iopub.execute_input": "2024-02-04T08:12:56.021437Z",
     "iopub.status.busy": "2024-02-04T08:12:56.021089Z",
     "iopub.status.idle": "2024-02-04T08:12:56.025527Z",
     "shell.execute_reply": "2024-02-04T08:12:56.024625Z"
    },
    "papermill": {
     "duration": 0.01614,
     "end_time": "2024-02-04T08:12:56.027779",
     "exception": false,
     "start_time": "2024-02-04T08:12:56.011639",
     "status": "completed"
    },
    "tags": []
   },
   "outputs": [],
   "source": [
    "# %pip install imbalanced-learn\n",
    "# %pip install lightgbm\n",
    "# %pip install cuml\n",
    "# %pip show cuml\n",
    "# export LDFLAGS=\"-L/opt/homebrew/opt/libomp/lib\"\n",
    "# export CPPFLAGS=\"-I/opt/homebrew/opt/libomp/include\"\n"
   ]
  },
  {
   "cell_type": "code",
   "execution_count": 3,
   "id": "41a7cd5f",
   "metadata": {
    "execution": {
     "iopub.execute_input": "2024-02-04T08:12:56.046713Z",
     "iopub.status.busy": "2024-02-04T08:12:56.046418Z",
     "iopub.status.idle": "2024-02-04T08:13:06.604558Z",
     "shell.execute_reply": "2024-02-04T08:13:06.603733Z"
    },
    "papermill": {
     "duration": 10.570325,
     "end_time": "2024-02-04T08:13:06.606813",
     "exception": false,
     "start_time": "2024-02-04T08:12:56.036488",
     "status": "completed"
    },
    "tags": []
   },
   "outputs": [
    {
     "name": "stderr",
     "output_type": "stream",
     "text": [
      "/opt/conda/lib/python3.10/site-packages/dask/dataframe/_pyarrow_compat.py:23: UserWarning: You are using pyarrow version 11.0.0 which is known to be insecure. See https://www.cve.org/CVERecord?id=CVE-2023-47248 for further details. Please upgrade to pyarrow>=14.0.1 or install pyarrow-hotfix to patch your current version.\n",
      "  warnings.warn(\n"
     ]
    }
   ],
   "source": [
    "import pandas as pd\n",
    "import numpy as np\n",
    "import warnings\n",
    "from scipy.sparse import vstack\n",
    "from sklearn.model_selection import train_test_split\n",
    "from sklearn.naive_bayes import MultinomialNB\n",
    "from sklearn.metrics import classification_report\n",
    "from sklearn.feature_extraction.text import CountVectorizer\n",
    "from sklearn.feature_extraction.text import TfidfVectorizer\n",
    "from sklearn.model_selection import train_test_split\n",
    "from sklearn.linear_model import LogisticRegression\n",
    "from sklearn.metrics import classification_report\n",
    "from sklearn.model_selection import train_test_split\n",
    "from sklearn.feature_extraction.text import TfidfVectorizer\n",
    "from sklearn.ensemble import RandomForestClassifier\n",
    "from sklearn.metrics import classification_report\n",
    "from sklearn.pipeline import Pipeline\n",
    "from sklearn.naive_bayes import ComplementNB\n",
    "from sklearn.model_selection import train_test_split\n",
    "from sklearn.feature_extraction.text import CountVectorizer\n",
    "from sklearn.naive_bayes import MultinomialNB\n",
    "from imblearn.over_sampling import RandomOverSampler\n",
    "from imblearn.over_sampling import SMOTE\n",
    "from sklearn.model_selection import train_test_split\n",
    "from sklearn.feature_extraction.text import CountVectorizer\n",
    "from sklearn.naive_bayes import MultinomialNB\n",
    "from imblearn.over_sampling import ADASYN\n",
    "from sklearn.model_selection import train_test_split\n",
    "from sklearn.feature_extraction.text import CountVectorizer\n",
    "from sklearn.naive_bayes import MultinomialNB\n",
    "from sklearn.datasets import make_classification\n",
    "from sklearn.model_selection import train_test_split\n",
    "from sklearn.linear_model import LogisticRegression\n",
    "from sklearn.svm import SVC\n",
    "from sklearn.ensemble import RandomForestClassifier\n",
    "from xgboost import XGBClassifier\n",
    "from lightgbm import LGBMClassifier\n",
    "from sklearn.metrics import accuracy_score, precision_score, f1_score, recall_score\n",
    "from sklearn.preprocessing import LabelEncoder\n",
    "from tqdm import tqdm\n",
    "from collections import Counter"
   ]
  },
  {
   "cell_type": "code",
   "execution_count": 4,
   "id": "ae01dd9a",
   "metadata": {
    "execution": {
     "iopub.execute_input": "2024-02-04T08:13:06.625198Z",
     "iopub.status.busy": "2024-02-04T08:13:06.624874Z",
     "iopub.status.idle": "2024-02-04T08:13:06.629013Z",
     "shell.execute_reply": "2024-02-04T08:13:06.628213Z"
    },
    "papermill": {
     "duration": 0.015465,
     "end_time": "2024-02-04T08:13:06.631026",
     "exception": false,
     "start_time": "2024-02-04T08:13:06.615561",
     "status": "completed"
    },
    "tags": []
   },
   "outputs": [],
   "source": [
    "warnings.filterwarnings(\"ignore\", category=DeprecationWarning)\n",
    "warnings.filterwarnings(\"ignore\", category=FutureWarning)"
   ]
  },
  {
   "cell_type": "markdown",
   "id": "472a3f9e",
   "metadata": {
    "papermill": {
     "duration": 0.008154,
     "end_time": "2024-02-04T08:13:06.647525",
     "exception": false,
     "start_time": "2024-02-04T08:13:06.639371",
     "status": "completed"
    },
    "tags": []
   },
   "source": [
    "## Data Preparation"
   ]
  },
  {
   "cell_type": "code",
   "execution_count": 5,
   "id": "31eb6767",
   "metadata": {
    "execution": {
     "iopub.execute_input": "2024-02-04T08:13:06.664997Z",
     "iopub.status.busy": "2024-02-04T08:13:06.664726Z",
     "iopub.status.idle": "2024-02-04T08:13:08.245485Z",
     "shell.execute_reply": "2024-02-04T08:13:08.244508Z"
    },
    "papermill": {
     "duration": 1.592066,
     "end_time": "2024-02-04T08:13:08.247683",
     "exception": false,
     "start_time": "2024-02-04T08:13:06.655617",
     "status": "completed"
    },
    "tags": []
   },
   "outputs": [
    {
     "data": {
      "text/html": [
       "<div>\n",
       "<style scoped>\n",
       "    .dataframe tbody tr th:only-of-type {\n",
       "        vertical-align: middle;\n",
       "    }\n",
       "\n",
       "    .dataframe tbody tr th {\n",
       "        vertical-align: top;\n",
       "    }\n",
       "\n",
       "    .dataframe thead th {\n",
       "        text-align: right;\n",
       "    }\n",
       "</style>\n",
       "<table border=\"1\" class=\"dataframe\">\n",
       "  <thead>\n",
       "    <tr style=\"text-align: right;\">\n",
       "      <th></th>\n",
       "      <th>overall_rating</th>\n",
       "      <th>review_date</th>\n",
       "      <th>review_text</th>\n",
       "      <th>airline_name</th>\n",
       "      <th>NPS_category</th>\n",
       "      <th>NPS</th>\n",
       "      <th>language_info</th>\n",
       "      <th>clean_text</th>\n",
       "      <th>text_length</th>\n",
       "      <th>word_count</th>\n",
       "      <th>unique_word_count</th>\n",
       "      <th>word_density</th>\n",
       "      <th>uppercase_words</th>\n",
       "      <th>comma_count</th>\n",
       "      <th>exclamation_count</th>\n",
       "      <th>question_mark_count</th>\n",
       "      <th>avg_sentence_length</th>\n",
       "      <th>flesch_reading_score</th>\n",
       "      <th>gunning_fog_index</th>\n",
       "    </tr>\n",
       "  </thead>\n",
       "  <tbody>\n",
       "    <tr>\n",
       "      <th>0</th>\n",
       "      <td>Rated 1 out of 5 stars</td>\n",
       "      <td>2023-09-18 03:29:15</td>\n",
       "      <td>EasyJet sent text at 4.00 am day of flight hom...</td>\n",
       "      <td>easyjet</td>\n",
       "      <td>Detractor</td>\n",
       "      <td>-1</td>\n",
       "      <td>en</td>\n",
       "      <td>text rush organise transport effort implicatio...</td>\n",
       "      <td>194</td>\n",
       "      <td>32</td>\n",
       "      <td>29</td>\n",
       "      <td>5.878788</td>\n",
       "      <td>0</td>\n",
       "      <td>1</td>\n",
       "      <td>0</td>\n",
       "      <td>0</td>\n",
       "      <td>6.600000</td>\n",
       "      <td>81.90</td>\n",
       "      <td>5.06</td>\n",
       "    </tr>\n",
       "    <tr>\n",
       "      <th>1</th>\n",
       "      <td>9</td>\n",
       "      <td>2023-12-01 00:00:00</td>\n",
       "      <td>Its been a few years when I flew a lot in A...</td>\n",
       "      <td>Vistara</td>\n",
       "      <td>Promoter</td>\n",
       "      <td>1</td>\n",
       "      <td>en</td>\n",
       "      <td>asia vistara surprise swift immaculate steward...</td>\n",
       "      <td>608</td>\n",
       "      <td>109</td>\n",
       "      <td>74</td>\n",
       "      <td>5.527273</td>\n",
       "      <td>3</td>\n",
       "      <td>7</td>\n",
       "      <td>0</td>\n",
       "      <td>0</td>\n",
       "      <td>27.250000</td>\n",
       "      <td>61.19</td>\n",
       "      <td>14.08</td>\n",
       "    </tr>\n",
       "    <tr>\n",
       "      <th>3</th>\n",
       "      <td>Rated 1 out of 5 stars</td>\n",
       "      <td>2018-09-09 20:37:11</td>\n",
       "      <td>one of the worst experiences with Air France e...</td>\n",
       "      <td>air france</td>\n",
       "      <td>Detractor</td>\n",
       "      <td>-1</td>\n",
       "      <td>en</td>\n",
       "      <td>ever bore carry duty inbound</td>\n",
       "      <td>204</td>\n",
       "      <td>30</td>\n",
       "      <td>30</td>\n",
       "      <td>6.580645</td>\n",
       "      <td>0</td>\n",
       "      <td>2</td>\n",
       "      <td>0</td>\n",
       "      <td>0</td>\n",
       "      <td>10.000000</td>\n",
       "      <td>61.33</td>\n",
       "      <td>8.00</td>\n",
       "    </tr>\n",
       "    <tr>\n",
       "      <th>4</th>\n",
       "      <td>Rated 1 out of 5 stars</td>\n",
       "      <td>2019-12-23 14:00:19</td>\n",
       "      <td>Not a single star this airlines deserves .I lo...</td>\n",
       "      <td>egyptair</td>\n",
       "      <td>Detractor</td>\n",
       "      <td>-1</td>\n",
       "      <td>en</td>\n",
       "      <td>deserves last block respond mail operator harr...</td>\n",
       "      <td>464</td>\n",
       "      <td>87</td>\n",
       "      <td>64</td>\n",
       "      <td>5.272727</td>\n",
       "      <td>4</td>\n",
       "      <td>2</td>\n",
       "      <td>0</td>\n",
       "      <td>0</td>\n",
       "      <td>14.833333</td>\n",
       "      <td>74.39</td>\n",
       "      <td>7.45</td>\n",
       "    </tr>\n",
       "    <tr>\n",
       "      <th>5</th>\n",
       "      <td>Rated 1 out of 5 stars</td>\n",
       "      <td>2023-12-29 06:42:56</td>\n",
       "      <td>I was forced to pay 150-euro worth penalty for...</td>\n",
       "      <td>ryanair</td>\n",
       "      <td>Detractor</td>\n",
       "      <td>-1</td>\n",
       "      <td>en</td>\n",
       "      <td>penalty fail earth would dare season arrogant ...</td>\n",
       "      <td>240</td>\n",
       "      <td>38</td>\n",
       "      <td>35</td>\n",
       "      <td>6.153846</td>\n",
       "      <td>1</td>\n",
       "      <td>1</td>\n",
       "      <td>0</td>\n",
       "      <td>1</td>\n",
       "      <td>12.666667</td>\n",
       "      <td>58.58</td>\n",
       "      <td>10.34</td>\n",
       "    </tr>\n",
       "  </tbody>\n",
       "</table>\n",
       "</div>"
      ],
      "text/plain": [
       "           overall_rating          review_date  \\\n",
       "0  Rated 1 out of 5 stars  2023-09-18 03:29:15   \n",
       "1                       9  2023-12-01 00:00:00   \n",
       "3  Rated 1 out of 5 stars  2018-09-09 20:37:11   \n",
       "4  Rated 1 out of 5 stars  2019-12-23 14:00:19   \n",
       "5  Rated 1 out of 5 stars  2023-12-29 06:42:56   \n",
       "\n",
       "                                         review_text airline_name  \\\n",
       "0  EasyJet sent text at 4.00 am day of flight hom...      easyjet   \n",
       "1     Its been a few years when I flew a lot in A...      Vistara   \n",
       "3  one of the worst experiences with Air France e...   air france   \n",
       "4  Not a single star this airlines deserves .I lo...     egyptair   \n",
       "5  I was forced to pay 150-euro worth penalty for...      ryanair   \n",
       "\n",
       "  NPS_category  NPS language_info  \\\n",
       "0    Detractor   -1            en   \n",
       "1     Promoter    1            en   \n",
       "3    Detractor   -1            en   \n",
       "4    Detractor   -1            en   \n",
       "5    Detractor   -1            en   \n",
       "\n",
       "                                          clean_text  text_length  word_count  \\\n",
       "0  text rush organise transport effort implicatio...          194          32   \n",
       "1  asia vistara surprise swift immaculate steward...          608         109   \n",
       "3                       ever bore carry duty inbound          204          30   \n",
       "4  deserves last block respond mail operator harr...          464          87   \n",
       "5  penalty fail earth would dare season arrogant ...          240          38   \n",
       "\n",
       "   unique_word_count  word_density  uppercase_words  comma_count  \\\n",
       "0                 29      5.878788                0            1   \n",
       "1                 74      5.527273                3            7   \n",
       "3                 30      6.580645                0            2   \n",
       "4                 64      5.272727                4            2   \n",
       "5                 35      6.153846                1            1   \n",
       "\n",
       "   exclamation_count  question_mark_count  avg_sentence_length  \\\n",
       "0                  0                    0             6.600000   \n",
       "1                  0                    0            27.250000   \n",
       "3                  0                    0            10.000000   \n",
       "4                  0                    0            14.833333   \n",
       "5                  0                    1            12.666667   \n",
       "\n",
       "   flesch_reading_score  gunning_fog_index  \n",
       "0                 81.90               5.06  \n",
       "1                 61.19              14.08  \n",
       "3                 61.33               8.00  \n",
       "4                 74.39               7.45  \n",
       "5                 58.58              10.34  "
      ]
     },
     "execution_count": 5,
     "metadata": {},
     "output_type": "execute_result"
    }
   ],
   "source": [
    "df = pd.read_csv(\"/kaggle/input/training-data/karthik_cleaned_data.csv\", index_col=[0])\n",
    "df.head()"
   ]
  },
  {
   "cell_type": "code",
   "execution_count": 6,
   "id": "97241d83",
   "metadata": {
    "execution": {
     "iopub.execute_input": "2024-02-04T08:13:08.267566Z",
     "iopub.status.busy": "2024-02-04T08:13:08.267280Z",
     "iopub.status.idle": "2024-02-04T08:13:08.313068Z",
     "shell.execute_reply": "2024-02-04T08:13:08.312220Z"
    },
    "papermill": {
     "duration": 0.057465,
     "end_time": "2024-02-04T08:13:08.315091",
     "exception": false,
     "start_time": "2024-02-04T08:13:08.257626",
     "status": "completed"
    },
    "tags": []
   },
   "outputs": [
    {
     "data": {
      "text/plain": [
       "overall_rating            0\n",
       "review_date               0\n",
       "review_text               0\n",
       "airline_name              0\n",
       "NPS_category              0\n",
       "NPS                       0\n",
       "language_info             0\n",
       "clean_text              719\n",
       "text_length               0\n",
       "word_count                0\n",
       "unique_word_count         0\n",
       "word_density              0\n",
       "uppercase_words           0\n",
       "comma_count               0\n",
       "exclamation_count         0\n",
       "question_mark_count       0\n",
       "avg_sentence_length       0\n",
       "flesch_reading_score      0\n",
       "gunning_fog_index         0\n",
       "dtype: int64"
      ]
     },
     "execution_count": 6,
     "metadata": {},
     "output_type": "execute_result"
    }
   ],
   "source": [
    "df.isna().sum()"
   ]
  },
  {
   "cell_type": "code",
   "execution_count": 7,
   "id": "77848ed1",
   "metadata": {
    "execution": {
     "iopub.execute_input": "2024-02-04T08:13:08.334923Z",
     "iopub.status.busy": "2024-02-04T08:13:08.334658Z",
     "iopub.status.idle": "2024-02-04T08:13:08.390220Z",
     "shell.execute_reply": "2024-02-04T08:13:08.389303Z"
    },
    "papermill": {
     "duration": 0.067582,
     "end_time": "2024-02-04T08:13:08.392307",
     "exception": false,
     "start_time": "2024-02-04T08:13:08.324725",
     "status": "completed"
    },
    "tags": []
   },
   "outputs": [],
   "source": [
    "df.dropna(inplace=True)"
   ]
  },
  {
   "cell_type": "code",
   "execution_count": 8,
   "id": "85fb4112",
   "metadata": {
    "execution": {
     "iopub.execute_input": "2024-02-04T08:13:08.412131Z",
     "iopub.status.busy": "2024-02-04T08:13:08.411841Z",
     "iopub.status.idle": "2024-02-04T08:13:08.424627Z",
     "shell.execute_reply": "2024-02-04T08:13:08.423739Z"
    },
    "papermill": {
     "duration": 0.025143,
     "end_time": "2024-02-04T08:13:08.426728",
     "exception": false,
     "start_time": "2024-02-04T08:13:08.401585",
     "status": "completed"
    },
    "tags": []
   },
   "outputs": [],
   "source": [
    "df[\"NPS_category\"] = df[\"NPS_category\"].map({\"Detractor\": 0, \"Neutral\": 1, \"Promoter\": 2})"
   ]
  },
  {
   "cell_type": "markdown",
   "id": "310e3e44",
   "metadata": {
    "papermill": {
     "duration": 0.008629,
     "end_time": "2024-02-04T08:13:08.445067",
     "exception": false,
     "start_time": "2024-02-04T08:13:08.436438",
     "status": "completed"
    },
    "tags": []
   },
   "source": [
    "### Bag of words"
   ]
  },
  {
   "cell_type": "code",
   "execution_count": 9,
   "id": "d28ef190",
   "metadata": {
    "execution": {
     "iopub.execute_input": "2024-02-04T08:13:08.464856Z",
     "iopub.status.busy": "2024-02-04T08:13:08.463952Z",
     "iopub.status.idle": "2024-02-04T08:13:10.205948Z",
     "shell.execute_reply": "2024-02-04T08:13:10.204662Z"
    },
    "papermill": {
     "duration": 1.754329,
     "end_time": "2024-02-04T08:13:10.208166",
     "exception": false,
     "start_time": "2024-02-04T08:13:08.453837",
     "status": "completed"
    },
    "tags": []
   },
   "outputs": [
    {
     "name": "stdout",
     "output_type": "stream",
     "text": [
      "BoW Classification Report:\n",
      "               precision    recall  f1-score   support\n",
      "\n",
      "           0       0.90      0.98      0.94     11894\n",
      "           1       0.07      0.01      0.01       338\n",
      "           2       0.78      0.47      0.58      1920\n",
      "\n",
      "    accuracy                           0.89     14152\n",
      "   macro avg       0.58      0.48      0.51     14152\n",
      "weighted avg       0.86      0.89      0.87     14152\n",
      "\n"
     ]
    }
   ],
   "source": [
    "# creating bag of words representation\n",
    "\n",
    "count_vectorizer = CountVectorizer()\n",
    "bow_matrix = count_vectorizer.fit_transform(df[\"clean_text\"])\n",
    "\n",
    "X_train_bow, X_test_bow, y_train_bow, y_test_bow = train_test_split(\n",
    "    bow_matrix, df[\"NPS_category\"], test_size=0.25, random_state=42)\n",
    "\n",
    "clf_bow = MultinomialNB()\n",
    "clf_bow.fit(X_train_bow, y_train_bow)\n",
    "y_pred_bow = clf_bow.predict(X_test_bow)\n",
    "print(\"BoW Classification Report:\\n\", classification_report(y_test_bow, y_pred_bow))"
   ]
  },
  {
   "cell_type": "markdown",
   "id": "82189766",
   "metadata": {
    "papermill": {
     "duration": 0.008839,
     "end_time": "2024-02-04T08:13:10.226805",
     "exception": false,
     "start_time": "2024-02-04T08:13:10.217966",
     "status": "completed"
    },
    "tags": []
   },
   "source": [
    "### TFIDF\n"
   ]
  },
  {
   "cell_type": "code",
   "execution_count": 10,
   "id": "822d501b",
   "metadata": {
    "execution": {
     "iopub.execute_input": "2024-02-04T08:13:10.245710Z",
     "iopub.status.busy": "2024-02-04T08:13:10.245412Z",
     "iopub.status.idle": "2024-02-04T08:13:12.056340Z",
     "shell.execute_reply": "2024-02-04T08:13:12.055262Z"
    },
    "papermill": {
     "duration": 1.824246,
     "end_time": "2024-02-04T08:13:12.059814",
     "exception": false,
     "start_time": "2024-02-04T08:13:10.235568",
     "status": "completed"
    },
    "tags": []
   },
   "outputs": [
    {
     "name": "stdout",
     "output_type": "stream",
     "text": [
      "TF-IDF Classification Report:\n",
      "               precision    recall  f1-score   support\n",
      "\n",
      "           0       0.85      1.00      0.92     11894\n",
      "           1       0.00      0.00      0.00       338\n",
      "           2       0.91      0.08      0.14      1920\n",
      "\n",
      "    accuracy                           0.85     14152\n",
      "   macro avg       0.59      0.36      0.35     14152\n",
      "weighted avg       0.84      0.85      0.79     14152\n",
      "\n"
     ]
    },
    {
     "name": "stderr",
     "output_type": "stream",
     "text": [
      "/opt/conda/lib/python3.10/site-packages/sklearn/metrics/_classification.py:1344: UndefinedMetricWarning: Precision and F-score are ill-defined and being set to 0.0 in labels with no predicted samples. Use `zero_division` parameter to control this behavior.\n",
      "  _warn_prf(average, modifier, msg_start, len(result))\n",
      "/opt/conda/lib/python3.10/site-packages/sklearn/metrics/_classification.py:1344: UndefinedMetricWarning: Precision and F-score are ill-defined and being set to 0.0 in labels with no predicted samples. Use `zero_division` parameter to control this behavior.\n",
      "  _warn_prf(average, modifier, msg_start, len(result))\n",
      "/opt/conda/lib/python3.10/site-packages/sklearn/metrics/_classification.py:1344: UndefinedMetricWarning: Precision and F-score are ill-defined and being set to 0.0 in labels with no predicted samples. Use `zero_division` parameter to control this behavior.\n",
      "  _warn_prf(average, modifier, msg_start, len(result))\n"
     ]
    }
   ],
   "source": [
    "# creating a TF-IDF text representation\n",
    "\n",
    "tfidf_vectorizer = TfidfVectorizer()\n",
    "\n",
    "tfidf_matrix = tfidf_vectorizer.fit_transform(df[\"clean_text\"])\n",
    "\n",
    "X_train_tfidf, X_test_tfidf, y_train_tfidf, y_test_tfidf = train_test_split(\n",
    "    tfidf_matrix, df[\"NPS_category\"], test_size=0.25, random_state=42)\n",
    "\n",
    "clf_tfidf = MultinomialNB()\n",
    "clf_tfidf.fit(X_train_tfidf, y_train_tfidf)\n",
    "y_pred_tfidf = clf_tfidf.predict(X_test_tfidf)\n",
    "print(\"TF-IDF Classification Report:\\n\", classification_report(y_test_tfidf, y_pred_tfidf))"
   ]
  },
  {
   "cell_type": "markdown",
   "id": "8de7f0b0",
   "metadata": {
    "papermill": {
     "duration": 0.010003,
     "end_time": "2024-02-04T08:13:12.080169",
     "exception": false,
     "start_time": "2024-02-04T08:13:12.070166",
     "status": "completed"
    },
    "tags": []
   },
   "source": [
    "### Delta Tfidf"
   ]
  },
  {
   "cell_type": "code",
   "execution_count": 11,
   "id": "0b94f4c5",
   "metadata": {
    "execution": {
     "iopub.execute_input": "2024-02-04T08:13:12.099956Z",
     "iopub.status.busy": "2024-02-04T08:13:12.099652Z",
     "iopub.status.idle": "2024-02-04T08:13:34.650297Z",
     "shell.execute_reply": "2024-02-04T08:13:34.648824Z"
    },
    "papermill": {
     "duration": 22.571828,
     "end_time": "2024-02-04T08:13:34.661600",
     "exception": false,
     "start_time": "2024-02-04T08:13:12.089772",
     "status": "completed"
    },
    "tags": []
   },
   "outputs": [
    {
     "name": "stderr",
     "output_type": "stream",
     "text": [
      "/opt/conda/lib/python3.10/site-packages/sklearn/feature_extraction/text.py:1380: UserWarning: Upper case characters found in vocabulary while 'lowercase' is True. These entries will not be matched with any documents\n",
      "  warnings.warn(\n"
     ]
    },
    {
     "name": "stdout",
     "output_type": "stream",
     "text": [
      "              precision    recall  f1-score   support\n",
      "\n",
      "           0       0.96      1.00      0.98     11894\n",
      "           1       1.00      0.12      0.22       338\n",
      "           2       0.98      0.88      0.93      1920\n",
      "\n",
      "    accuracy                           0.96     14152\n",
      "   macro avg       0.98      0.67      0.71     14152\n",
      "weighted avg       0.96      0.96      0.95     14152\n",
      "\n"
     ]
    }
   ],
   "source": [
    "X_train, X_test, y_train, y_test = train_test_split(df['clean_text'], df['NPS_category'], test_size=0.25, random_state=42)\n",
    "\n",
    "tfidf_vectorizer = TfidfVectorizer()\n",
    "X_train_tfidf = tfidf_vectorizer.fit_transform(X_train)\n",
    "\n",
    "class_idfs = []\n",
    "unique_classes = np.unique(y_train)\n",
    "for class_idx in unique_classes:\n",
    "    class_mask = (y_train == class_idx)\n",
    "    class_docs = X_train[class_mask]\n",
    "    class_vectorizer = TfidfVectorizer(vocabulary=tfidf_vectorizer.vocabulary_)\n",
    "    class_tfidf = class_vectorizer.fit_transform(class_docs)\n",
    "    class_idf = class_vectorizer.idf_\n",
    "    class_idfs.append(class_idf)\n",
    "\n",
    "mean_idf = np.mean(class_idfs, axis=0)\n",
    "\n",
    "delta_idfs = [class_idf - mean_idf for class_idf in class_idfs]\n",
    "\n",
    "class_to_index = {label: index for index, label in enumerate(unique_classes)}\n",
    "\n",
    "X_train_delta_tfidf = []\n",
    "for i, doc in enumerate(X_train_tfidf):\n",
    "    class_idx = class_to_index[y_train.iloc[i]]\n",
    "    delta_idf = delta_idfs[class_idx]\n",
    "    X_train_delta_tfidf.append(doc.multiply(delta_idf))\n",
    "\n",
    "X_train_delta_tfidf = vstack(X_train_delta_tfidf)\n",
    "\n",
    "X_test_tfidf = tfidf_vectorizer.transform(X_test)\n",
    "X_test_delta_tfidf = []\n",
    "for i, doc in enumerate(X_test_tfidf):\n",
    "    class_idx = class_to_index[y_test.iloc[i]]\n",
    "    delta_idf = delta_idfs[class_idx]\n",
    "    X_test_delta_tfidf.append(doc.multiply(delta_idf))\n",
    "\n",
    "X_test_delta_tfidf = vstack(X_test_delta_tfidf)\n",
    "\n",
    "clf = LogisticRegression()\n",
    "clf.fit(X_train_delta_tfidf, y_train)\n",
    "\n",
    "y_pred = clf.predict(X_test_delta_tfidf)\n",
    "print(classification_report(y_test, y_pred))"
   ]
  },
  {
   "cell_type": "markdown",
   "id": "b1b82adc",
   "metadata": {
    "papermill": {
     "duration": 0.017221,
     "end_time": "2024-02-04T08:13:34.705378",
     "exception": false,
     "start_time": "2024-02-04T08:13:34.688157",
     "status": "completed"
    },
    "tags": []
   },
   "source": [
    "### Delta Tfidf + class weights (Balancing Technique)"
   ]
  },
  {
   "cell_type": "code",
   "execution_count": 12,
   "id": "c2fede7b",
   "metadata": {
    "execution": {
     "iopub.execute_input": "2024-02-04T08:13:34.739498Z",
     "iopub.status.busy": "2024-02-04T08:13:34.738964Z",
     "iopub.status.idle": "2024-02-04T08:13:41.461356Z",
     "shell.execute_reply": "2024-02-04T08:13:41.459894Z"
    },
    "papermill": {
     "duration": 6.743267,
     "end_time": "2024-02-04T08:13:41.465593",
     "exception": false,
     "start_time": "2024-02-04T08:13:34.722326",
     "status": "completed"
    },
    "tags": []
   },
   "outputs": [
    {
     "name": "stdout",
     "output_type": "stream",
     "text": [
      "              precision    recall  f1-score   support\n",
      "\n",
      "           0       1.00      0.97      0.99     11894\n",
      "           1       0.94      0.76      0.84       338\n",
      "           2       0.84      1.00      0.92      1920\n",
      "\n",
      "    accuracy                           0.97     14152\n",
      "   macro avg       0.93      0.91      0.91     14152\n",
      "weighted avg       0.98      0.97      0.97     14152\n",
      "\n"
     ]
    }
   ],
   "source": [
    "count_vectorizer = CountVectorizer()\n",
    "\n",
    "# Fit and transform the clean_text to create BoW representation\n",
    "bow_matrix = count_vectorizer.fit_transform(df[\"clean_text\"])\n",
    "\n",
    "# Split the data into training and testing sets\n",
    "X_train_bow, X_test_bow, y_train_bow, y_test_bow = train_test_split(\n",
    "    bow_matrix, df[\"NPS_category\"], test_size=0.25, random_state=42, stratify=df[\"NPS_category\"])\n",
    "\n",
    "# Train the pipeline on the training data\n",
    "\n",
    "# Initialize the classifier\n",
    "clf_bow_res = LogisticRegression(class_weight='balanced')\n",
    "# clf_bow_res = ComplementNB()\n",
    "\n",
    "# Fit the classifier on the resampled training data\n",
    "clf_bow_res.fit(X_train_delta_tfidf, y_train)\n",
    "\n",
    "# Predict on the test set using the trained pipeline\n",
    "y_pred = clf_bow_res.predict(X_test_delta_tfidf)\n",
    "\n",
    "# Print the classification report\n",
    "print(classification_report(y_test, y_pred))"
   ]
  },
  {
   "cell_type": "markdown",
   "id": "cc3c5822",
   "metadata": {
    "papermill": {
     "duration": 0.016242,
     "end_time": "2024-02-04T08:13:41.502701",
     "exception": false,
     "start_time": "2024-02-04T08:13:41.486459",
     "status": "completed"
    },
    "tags": []
   },
   "source": [
    "### Delta Tfidf + random oversampling (Balancing Technique)"
   ]
  },
  {
   "cell_type": "code",
   "execution_count": 13,
   "id": "33fc070b",
   "metadata": {
    "execution": {
     "iopub.execute_input": "2024-02-04T08:13:41.523876Z",
     "iopub.status.busy": "2024-02-04T08:13:41.523501Z",
     "iopub.status.idle": "2024-02-04T08:13:54.147267Z",
     "shell.execute_reply": "2024-02-04T08:13:54.145878Z"
    },
    "papermill": {
     "duration": 12.638817,
     "end_time": "2024-02-04T08:13:54.151395",
     "exception": false,
     "start_time": "2024-02-04T08:13:41.512578",
     "status": "completed"
    },
    "tags": []
   },
   "outputs": [
    {
     "name": "stdout",
     "output_type": "stream",
     "text": [
      "Class distribution after Random OverSampling: Counter({0: 35651, 2: 35651, 1: 35651})\n",
      "BoW Classification Report after Random OverSampling:\n",
      "               precision    recall  f1-score   support\n",
      "\n",
      "           0       1.00      0.98      0.99     11894\n",
      "           1       0.95      0.76      0.84       338\n",
      "           2       0.87      1.00      0.93      1920\n",
      "\n",
      "    accuracy                           0.98     14152\n",
      "   macro avg       0.94      0.91      0.92     14152\n",
      "weighted avg       0.98      0.98      0.98     14152\n",
      "\n"
     ]
    },
    {
     "name": "stderr",
     "output_type": "stream",
     "text": [
      "/opt/conda/lib/python3.10/site-packages/sklearn/linear_model/_logistic.py:458: ConvergenceWarning: lbfgs failed to converge (status=1):\n",
      "STOP: TOTAL NO. of ITERATIONS REACHED LIMIT.\n",
      "\n",
      "Increase the number of iterations (max_iter) or scale the data as shown in:\n",
      "    https://scikit-learn.org/stable/modules/preprocessing.html\n",
      "Please also refer to the documentation for alternative solver options:\n",
      "    https://scikit-learn.org/stable/modules/linear_model.html#logistic-regression\n",
      "  n_iter_i = _check_optimize_result(\n"
     ]
    }
   ],
   "source": [
    "# Assuming df[\"clean_text\"] and df[\"NPS_category\"] are already defined\n",
    "\n",
    "# Initialize CountVectorizer\n",
    "count_vectorizer = CountVectorizer()\n",
    "\n",
    "# Fit and transform the clean_text to create BoW representation\n",
    "bow_matrix = count_vectorizer.fit_transform(df[\"clean_text\"])\n",
    "\n",
    "# Split the data into training and testing sets\n",
    "X_train_bow, X_test_bow, y_train_bow, y_test_bow = train_test_split(\n",
    "    bow_matrix, df[\"NPS_category\"], test_size=0.25, random_state=42)\n",
    "\n",
    "# Initialize RandomOverSampler\n",
    "ros = RandomOverSampler(random_state=42)\n",
    "\n",
    "# Apply RandomOverSampler to training data only\n",
    "X_train_bow_res, y_train_bow_res = ros.fit_resample(X_train_delta_tfidf, y_train)\n",
    "\n",
    "# Check the class distribution after resampling\n",
    "print(\"Class distribution after Random OverSampling:\", Counter(y_train_bow_res))\n",
    "\n",
    "# Initialize the classifier\n",
    "# clf_bow_res = ComplementNB()\n",
    "clf_bow_res = LogisticRegression()\n",
    "\n",
    "# Fit the classifier on the resampled training data\n",
    "clf_bow_res.fit(X_train_bow_res, y_train_bow_res)\n",
    "\n",
    "# Predict on the original (non-resampled) testing data\n",
    "y_pred_bow_res = clf_bow_res.predict(X_test_delta_tfidf)\n",
    "\n",
    "# Print the classification report\n",
    "print(\"BoW Classification Report after Random OverSampling:\\n\", classification_report(y_test, y_pred_bow_res))"
   ]
  },
  {
   "cell_type": "markdown",
   "id": "a8b2b2c9",
   "metadata": {
    "papermill": {
     "duration": 0.010394,
     "end_time": "2024-02-04T08:13:54.185053",
     "exception": false,
     "start_time": "2024-02-04T08:13:54.174659",
     "status": "completed"
    },
    "tags": []
   },
   "source": [
    "### Delta Tfidf + SMOTE (Balancing Technique)"
   ]
  },
  {
   "cell_type": "code",
   "execution_count": 14,
   "id": "65edc201",
   "metadata": {
    "execution": {
     "iopub.execute_input": "2024-02-04T08:13:54.206318Z",
     "iopub.status.busy": "2024-02-04T08:13:54.206000Z",
     "iopub.status.idle": "2024-02-04T08:14:09.764129Z",
     "shell.execute_reply": "2024-02-04T08:14:09.762699Z"
    },
    "papermill": {
     "duration": 15.574854,
     "end_time": "2024-02-04T08:14:09.769864",
     "exception": false,
     "start_time": "2024-02-04T08:13:54.195010",
     "status": "completed"
    },
    "tags": []
   },
   "outputs": [
    {
     "name": "stdout",
     "output_type": "stream",
     "text": [
      "BoW Classification Report after SMOTE:\n",
      "               precision    recall  f1-score   support\n",
      "\n",
      "           0       1.00      0.96      0.98     11894\n",
      "           1       0.54      0.93      0.68       338\n",
      "           2       0.88      0.99      0.93      1920\n",
      "\n",
      "    accuracy                           0.96     14152\n",
      "   macro avg       0.81      0.96      0.87     14152\n",
      "weighted avg       0.97      0.96      0.97     14152\n",
      "\n"
     ]
    },
    {
     "name": "stderr",
     "output_type": "stream",
     "text": [
      "/opt/conda/lib/python3.10/site-packages/sklearn/linear_model/_logistic.py:458: ConvergenceWarning: lbfgs failed to converge (status=1):\n",
      "STOP: TOTAL NO. of ITERATIONS REACHED LIMIT.\n",
      "\n",
      "Increase the number of iterations (max_iter) or scale the data as shown in:\n",
      "    https://scikit-learn.org/stable/modules/preprocessing.html\n",
      "Please also refer to the documentation for alternative solver options:\n",
      "    https://scikit-learn.org/stable/modules/linear_model.html#logistic-regression\n",
      "  n_iter_i = _check_optimize_result(\n"
     ]
    }
   ],
   "source": [
    "# Assuming df[\"clean_text\"] and df[\"NPS_category\"] are already defined\n",
    "\n",
    "# Initialize CountVectorizer\n",
    "count_vectorizer = CountVectorizer()\n",
    "\n",
    "# Fit and transform the clean_text to create BoW representation\n",
    "bow_matrix = count_vectorizer.fit_transform(df[\"clean_text\"])\n",
    "\n",
    "# Split the data into training and testing sets\n",
    "X_train_bow, X_test_bow, y_train_bow, y_test_bow = train_test_split(\n",
    "    bow_matrix, df[\"NPS_category\"], test_size=0.25, random_state=42)\n",
    "\n",
    "# Initialize SMOTE\n",
    "smote = SMOTE(random_state=42)\n",
    "\n",
    "# Apply SMOTE to training data only\n",
    "X_train_bow_smote, y_train_bow_smote = smote.fit_resample(X_train_delta_tfidf, y_train)\n",
    "\n",
    "# Initialize the classifier\n",
    "# clf_bow_smote = ComplementNB()\n",
    "clf_bow_smote = LogisticRegression()\n",
    "\n",
    "# Fit the classifier on the resampled training data\n",
    "clf_bow_smote.fit(X_train_bow_smote, y_train_bow_smote)\n",
    "\n",
    "# Predict on the original (non-resampled) testing data\n",
    "y_pred_bow_smote = clf_bow_smote.predict(X_test_delta_tfidf)\n",
    "\n",
    "# Print the classification report\n",
    "print(\"BoW Classification Report after SMOTE:\\n\", classification_report(y_test, y_pred_bow_smote))"
   ]
  },
  {
   "cell_type": "markdown",
   "id": "ad5869d6",
   "metadata": {
    "papermill": {
     "duration": 0.016124,
     "end_time": "2024-02-04T08:14:09.807250",
     "exception": false,
     "start_time": "2024-02-04T08:14:09.791126",
     "status": "completed"
    },
    "tags": []
   },
   "source": [
    "### Delta Tfidf + Adasyn (Balancing Technique)"
   ]
  },
  {
   "cell_type": "code",
   "execution_count": 15,
   "id": "4d880af6",
   "metadata": {
    "execution": {
     "iopub.execute_input": "2024-02-04T08:14:09.829546Z",
     "iopub.status.busy": "2024-02-04T08:14:09.829241Z",
     "iopub.status.idle": "2024-02-04T08:15:06.846596Z",
     "shell.execute_reply": "2024-02-04T08:15:06.845249Z"
    },
    "papermill": {
     "duration": 57.043174,
     "end_time": "2024-02-04T08:15:06.861416",
     "exception": false,
     "start_time": "2024-02-04T08:14:09.818242",
     "status": "completed"
    },
    "tags": []
   },
   "outputs": [
    {
     "name": "stdout",
     "output_type": "stream",
     "text": [
      "BoW Classification Report after ADASYN:\n",
      "               precision    recall  f1-score   support\n",
      "\n",
      "           0       1.00      0.95      0.98     11894\n",
      "           1       0.60      0.91      0.72       338\n",
      "           2       0.84      1.00      0.91      1920\n",
      "\n",
      "    accuracy                           0.96     14152\n",
      "   macro avg       0.81      0.95      0.87     14152\n",
      "weighted avg       0.97      0.96      0.96     14152\n",
      "\n"
     ]
    },
    {
     "name": "stderr",
     "output_type": "stream",
     "text": [
      "/opt/conda/lib/python3.10/site-packages/sklearn/linear_model/_logistic.py:458: ConvergenceWarning: lbfgs failed to converge (status=1):\n",
      "STOP: TOTAL NO. of ITERATIONS REACHED LIMIT.\n",
      "\n",
      "Increase the number of iterations (max_iter) or scale the data as shown in:\n",
      "    https://scikit-learn.org/stable/modules/preprocessing.html\n",
      "Please also refer to the documentation for alternative solver options:\n",
      "    https://scikit-learn.org/stable/modules/linear_model.html#logistic-regression\n",
      "  n_iter_i = _check_optimize_result(\n"
     ]
    }
   ],
   "source": [
    "# Assuming df[\"clean_text\"] and df[\"NPS_category\"] are already defined\n",
    "\n",
    "# Initialize CountVectorizer\n",
    "count_vectorizer = CountVectorizer()\n",
    "\n",
    "# Fit and transform the clean_text to create BoW representation\n",
    "bow_matrix = count_vectorizer.fit_transform(df[\"clean_text\"])\n",
    "\n",
    "# Split the data into training and testing sets\n",
    "X_train_bow, X_test_bow, y_train_bow, y_test_bow = train_test_split(\n",
    "    bow_matrix, df[\"NPS_category\"], test_size=0.25, random_state=42)\n",
    "\n",
    "# Initialize ADASYN\n",
    "adasyn = ADASYN(random_state=42)\n",
    "\n",
    "# Apply ADASYN to training data only\n",
    "X_train_bow_adasyn, y_train_bow_adasyn = adasyn.fit_resample(X_train_delta_tfidf, y_train)\n",
    "\n",
    "# Initialize the classifier\n",
    "# clf_bow_adasyn = ComplementNB()\n",
    "clf_bow_adasyn = LogisticRegression()\n",
    "\n",
    "# Fit the classifier on the resampled training data\n",
    "clf_bow_adasyn.fit(X_train_bow_adasyn, y_train_bow_adasyn)\n",
    "\n",
    "# Predict on the original (non-resampled) testing data\n",
    "y_pred_bow_adasyn = clf_bow_adasyn.predict(X_test_delta_tfidf)\n",
    "\n",
    "# Print the classification report\n",
    "print(\"BoW Classification Report after ADASYN:\\n\", classification_report(y_test, y_pred_bow_adasyn))"
   ]
  },
  {
   "cell_type": "markdown",
   "id": "5a799560",
   "metadata": {
    "papermill": {
     "duration": 0.009547,
     "end_time": "2024-02-04T08:15:06.882698",
     "exception": false,
     "start_time": "2024-02-04T08:15:06.873151",
     "status": "completed"
    },
    "tags": []
   },
   "source": [
    "## Modelling\n",
    "\n",
    "\n",
    "SGD instead of SVM: https://stackoverflow.com/questions/29704231/in-sklearn-what-is-the-difference-between-a-svm-model-with-linear-kernel-and-a-s <br>\n",
    "Adaboost: https://www.mygreatlearning.com/blog/adaboost-algorithm/ <br>\n",
    "Catboost: https://www.geeksforgeeks.org/catboost-ml/ <br>\n",
    "LightGBM: https://www.kdnuggets.com/2022/01/data-scientists-reasons-lightgbm.html <br>\n",
    "XGBoost: https://medium.com/sfu-cspmp/xgboost-a-deep-dive-into-boosting-f06c9c41349 <br>\n",
    "Boosting Comparison: https://towardsdatascience.com/how-to-select-between-boosting-algorithm-e8d1b15924f7"
   ]
  },
  {
   "cell_type": "code",
   "execution_count": 16,
   "id": "ffb7fcbc",
   "metadata": {
    "execution": {
     "iopub.execute_input": "2024-02-04T08:15:06.904240Z",
     "iopub.status.busy": "2024-02-04T08:15:06.903307Z",
     "iopub.status.idle": "2024-02-04T08:15:07.306871Z",
     "shell.execute_reply": "2024-02-04T08:15:07.306059Z"
    },
    "papermill": {
     "duration": 0.4164,
     "end_time": "2024-02-04T08:15:07.309116",
     "exception": false,
     "start_time": "2024-02-04T08:15:06.892716",
     "status": "completed"
    },
    "tags": []
   },
   "outputs": [],
   "source": [
    "from sklearn.linear_model import SGDClassifier\n",
    "from catboost import Pool, CatBoostClassifier\n",
    "from sklearn.ensemble import AdaBoostClassifier\n",
    "from sklearn.tree import DecisionTreeClassifier\n",
    "import lightgbm as lgb\n",
    "\n",
    "models = {\n",
    "    \"Logistic Regression\": LogisticRegression(multi_class='multinomial', solver='lbfgs', class_weight='balanced', max_iter=2000),\n",
    "    \"Decision Tree\": DecisionTreeClassifier(class_weight='balanced'),\n",
    "    \"SVM (SGD)\": SGDClassifier(loss='hinge', class_weight='balanced', max_iter=1000, tol=1e-3),\n",
    "    \"Random Forest\": RandomForestClassifier(class_weight='balanced'),\n",
    "    \"XGBoost\": XGBClassifier(enable_categorical=True, eval_metric='mlogloss'),\n",
    "    \"AdaBoost+DT\": AdaBoostClassifier(base_estimator=DecisionTreeClassifier(max_depth=1), n_estimators=100),\n",
    "    \"AdaBoost+LR\": AdaBoostClassifier(base_estimator=LogisticRegression(multi_class='multinomial',class_weight='balanced',max_iter=1000),n_estimators=100),\n",
    "    \"Catboost\": CatBoostClassifier(iterations=500,learning_rate=0.1,depth=6,l2_leaf_reg=3,cat_features=[], auto_class_weights='Balanced',verbose=200, task_type='GPU',devices='0:1'),\n",
    "    \"LightGBM\": LGBMClassifier(boosting_type='gbdt', objective='multiclass',  learning_rate=0.09, max_depth=-1, random_state=42, n_estimators=100, device='gpu', gpu_platform_id=0, gpu_device_id=0)\n",
    "}\n",
    "\n",
    "def evaluate_model(name, model, X_train, y_train, X_test, y_test):\n",
    "    model.fit(X_train, y_train)\n",
    "    y_pred = model.predict(X_test)\n",
    "    accuracy = accuracy_score(y_test, y_pred)\n",
    "    precision = precision_score(y_test, y_pred, average='weighted')\n",
    "    recall = recall_score(y_test, y_pred, average='weighted')\n",
    "    f1 = f1_score(y_test, y_pred, average='weighted')\n",
    "    return {\"Model\": name, \"Accuracy\": accuracy, \"Precision\": precision, \"Recall\": recall, \"F1 Score\": f1}"
   ]
  },
  {
   "cell_type": "code",
   "execution_count": 17,
   "id": "8494b195",
   "metadata": {
    "execution": {
     "iopub.execute_input": "2024-02-04T08:15:07.330244Z",
     "iopub.status.busy": "2024-02-04T08:15:07.329932Z",
     "iopub.status.idle": "2024-02-04T08:18:43.454821Z",
     "shell.execute_reply": "2024-02-04T08:18:43.453759Z"
    },
    "papermill": {
     "duration": 216.137957,
     "end_time": "2024-02-04T08:18:43.457097",
     "exception": false,
     "start_time": "2024-02-04T08:15:07.319140",
     "status": "completed"
    },
    "tags": []
   },
   "outputs": [
    {
     "name": "stderr",
     "output_type": "stream",
     "text": [
      "Evaluating Models:   0%|          | 0/9 [00:00<?, ?it/s]"
     ]
    },
    {
     "data": {
      "text/html": [
       "<div>\n",
       "<style scoped>\n",
       "    .dataframe tbody tr th:only-of-type {\n",
       "        vertical-align: middle;\n",
       "    }\n",
       "\n",
       "    .dataframe tbody tr th {\n",
       "        vertical-align: top;\n",
       "    }\n",
       "\n",
       "    .dataframe thead th {\n",
       "        text-align: right;\n",
       "    }\n",
       "</style>\n",
       "<table border=\"1\" class=\"dataframe\">\n",
       "  <thead>\n",
       "    <tr style=\"text-align: right;\">\n",
       "      <th></th>\n",
       "      <th>Model</th>\n",
       "      <th>Accuracy</th>\n",
       "      <th>Precision</th>\n",
       "      <th>Recall</th>\n",
       "      <th>F1 Score</th>\n",
       "    </tr>\n",
       "  </thead>\n",
       "  <tbody>\n",
       "    <tr>\n",
       "      <th>0</th>\n",
       "      <td>Logistic Regression</td>\n",
       "      <td>0.972583</td>\n",
       "      <td>0.976182</td>\n",
       "      <td>0.972583</td>\n",
       "      <td>0.973122</td>\n",
       "    </tr>\n",
       "  </tbody>\n",
       "</table>\n",
       "</div>"
      ],
      "text/plain": [
       "                 Model  Accuracy  Precision    Recall  F1 Score\n",
       "0  Logistic Regression  0.972583   0.976182  0.972583  0.973122"
      ]
     },
     "metadata": {},
     "output_type": "display_data"
    },
    {
     "name": "stderr",
     "output_type": "stream",
     "text": [
      "Evaluating Models:  11%|█         | 1/9 [00:04<00:36,  4.55s/it]"
     ]
    },
    {
     "data": {
      "text/html": [
       "<div>\n",
       "<style scoped>\n",
       "    .dataframe tbody tr th:only-of-type {\n",
       "        vertical-align: middle;\n",
       "    }\n",
       "\n",
       "    .dataframe tbody tr th {\n",
       "        vertical-align: top;\n",
       "    }\n",
       "\n",
       "    .dataframe thead th {\n",
       "        text-align: right;\n",
       "    }\n",
       "</style>\n",
       "<table border=\"1\" class=\"dataframe\">\n",
       "  <thead>\n",
       "    <tr style=\"text-align: right;\">\n",
       "      <th></th>\n",
       "      <th>Model</th>\n",
       "      <th>Accuracy</th>\n",
       "      <th>Precision</th>\n",
       "      <th>Recall</th>\n",
       "      <th>F1 Score</th>\n",
       "    </tr>\n",
       "  </thead>\n",
       "  <tbody>\n",
       "    <tr>\n",
       "      <th>0</th>\n",
       "      <td>Logistic Regression</td>\n",
       "      <td>0.972583</td>\n",
       "      <td>0.976182</td>\n",
       "      <td>0.972583</td>\n",
       "      <td>0.973122</td>\n",
       "    </tr>\n",
       "    <tr>\n",
       "      <th>1</th>\n",
       "      <td>Decision Tree</td>\n",
       "      <td>0.955059</td>\n",
       "      <td>0.975233</td>\n",
       "      <td>0.955059</td>\n",
       "      <td>0.962839</td>\n",
       "    </tr>\n",
       "  </tbody>\n",
       "</table>\n",
       "</div>"
      ],
      "text/plain": [
       "                 Model  Accuracy  Precision    Recall  F1 Score\n",
       "0  Logistic Regression  0.972583   0.976182  0.972583  0.973122\n",
       "1        Decision Tree  0.955059   0.975233  0.955059  0.962839"
      ]
     },
     "metadata": {},
     "output_type": "display_data"
    },
    {
     "name": "stderr",
     "output_type": "stream",
     "text": [
      "Evaluating Models:  22%|██▏       | 2/9 [00:11<00:41,  5.99s/it]"
     ]
    },
    {
     "data": {
      "text/html": [
       "<div>\n",
       "<style scoped>\n",
       "    .dataframe tbody tr th:only-of-type {\n",
       "        vertical-align: middle;\n",
       "    }\n",
       "\n",
       "    .dataframe tbody tr th {\n",
       "        vertical-align: top;\n",
       "    }\n",
       "\n",
       "    .dataframe thead th {\n",
       "        text-align: right;\n",
       "    }\n",
       "</style>\n",
       "<table border=\"1\" class=\"dataframe\">\n",
       "  <thead>\n",
       "    <tr style=\"text-align: right;\">\n",
       "      <th></th>\n",
       "      <th>Model</th>\n",
       "      <th>Accuracy</th>\n",
       "      <th>Precision</th>\n",
       "      <th>Recall</th>\n",
       "      <th>F1 Score</th>\n",
       "    </tr>\n",
       "  </thead>\n",
       "  <tbody>\n",
       "    <tr>\n",
       "      <th>0</th>\n",
       "      <td>Logistic Regression</td>\n",
       "      <td>0.972583</td>\n",
       "      <td>0.976182</td>\n",
       "      <td>0.972583</td>\n",
       "      <td>0.973122</td>\n",
       "    </tr>\n",
       "    <tr>\n",
       "      <th>1</th>\n",
       "      <td>Decision Tree</td>\n",
       "      <td>0.955059</td>\n",
       "      <td>0.975233</td>\n",
       "      <td>0.955059</td>\n",
       "      <td>0.962839</td>\n",
       "    </tr>\n",
       "    <tr>\n",
       "      <th>2</th>\n",
       "      <td>SVM (SGD)</td>\n",
       "      <td>0.982829</td>\n",
       "      <td>0.983007</td>\n",
       "      <td>0.982829</td>\n",
       "      <td>0.981180</td>\n",
       "    </tr>\n",
       "  </tbody>\n",
       "</table>\n",
       "</div>"
      ],
      "text/plain": [
       "                 Model  Accuracy  Precision    Recall  F1 Score\n",
       "0  Logistic Regression  0.972583   0.976182  0.972583  0.973122\n",
       "1        Decision Tree  0.955059   0.975233  0.955059  0.962839\n",
       "2            SVM (SGD)  0.982829   0.983007  0.982829  0.981180"
      ]
     },
     "metadata": {},
     "output_type": "display_data"
    },
    {
     "name": "stderr",
     "output_type": "stream",
     "text": [
      "Evaluating Models:  33%|███▎      | 3/9 [00:11<00:20,  3.42s/it]"
     ]
    },
    {
     "data": {
      "text/html": [
       "<div>\n",
       "<style scoped>\n",
       "    .dataframe tbody tr th:only-of-type {\n",
       "        vertical-align: middle;\n",
       "    }\n",
       "\n",
       "    .dataframe tbody tr th {\n",
       "        vertical-align: top;\n",
       "    }\n",
       "\n",
       "    .dataframe thead th {\n",
       "        text-align: right;\n",
       "    }\n",
       "</style>\n",
       "<table border=\"1\" class=\"dataframe\">\n",
       "  <thead>\n",
       "    <tr style=\"text-align: right;\">\n",
       "      <th></th>\n",
       "      <th>Model</th>\n",
       "      <th>Accuracy</th>\n",
       "      <th>Precision</th>\n",
       "      <th>Recall</th>\n",
       "      <th>F1 Score</th>\n",
       "    </tr>\n",
       "  </thead>\n",
       "  <tbody>\n",
       "    <tr>\n",
       "      <th>0</th>\n",
       "      <td>Logistic Regression</td>\n",
       "      <td>0.972583</td>\n",
       "      <td>0.976182</td>\n",
       "      <td>0.972583</td>\n",
       "      <td>0.973122</td>\n",
       "    </tr>\n",
       "    <tr>\n",
       "      <th>1</th>\n",
       "      <td>Decision Tree</td>\n",
       "      <td>0.955059</td>\n",
       "      <td>0.975233</td>\n",
       "      <td>0.955059</td>\n",
       "      <td>0.962839</td>\n",
       "    </tr>\n",
       "    <tr>\n",
       "      <th>2</th>\n",
       "      <td>SVM (SGD)</td>\n",
       "      <td>0.982829</td>\n",
       "      <td>0.983007</td>\n",
       "      <td>0.982829</td>\n",
       "      <td>0.981180</td>\n",
       "    </tr>\n",
       "    <tr>\n",
       "      <th>3</th>\n",
       "      <td>Random Forest</td>\n",
       "      <td>0.980427</td>\n",
       "      <td>0.980246</td>\n",
       "      <td>0.980427</td>\n",
       "      <td>0.979131</td>\n",
       "    </tr>\n",
       "  </tbody>\n",
       "</table>\n",
       "</div>"
      ],
      "text/plain": [
       "                 Model  Accuracy  Precision    Recall  F1 Score\n",
       "0  Logistic Regression  0.972583   0.976182  0.972583  0.973122\n",
       "1        Decision Tree  0.955059   0.975233  0.955059  0.962839\n",
       "2            SVM (SGD)  0.982829   0.983007  0.982829  0.981180\n",
       "3        Random Forest  0.980427   0.980246  0.980427  0.979131"
      ]
     },
     "metadata": {},
     "output_type": "display_data"
    },
    {
     "name": "stderr",
     "output_type": "stream",
     "text": [
      "Evaluating Models:  44%|████▍     | 4/9 [00:39<01:04, 12.96s/it]"
     ]
    },
    {
     "data": {
      "text/html": [
       "<div>\n",
       "<style scoped>\n",
       "    .dataframe tbody tr th:only-of-type {\n",
       "        vertical-align: middle;\n",
       "    }\n",
       "\n",
       "    .dataframe tbody tr th {\n",
       "        vertical-align: top;\n",
       "    }\n",
       "\n",
       "    .dataframe thead th {\n",
       "        text-align: right;\n",
       "    }\n",
       "</style>\n",
       "<table border=\"1\" class=\"dataframe\">\n",
       "  <thead>\n",
       "    <tr style=\"text-align: right;\">\n",
       "      <th></th>\n",
       "      <th>Model</th>\n",
       "      <th>Accuracy</th>\n",
       "      <th>Precision</th>\n",
       "      <th>Recall</th>\n",
       "      <th>F1 Score</th>\n",
       "    </tr>\n",
       "  </thead>\n",
       "  <tbody>\n",
       "    <tr>\n",
       "      <th>0</th>\n",
       "      <td>Logistic Regression</td>\n",
       "      <td>0.972583</td>\n",
       "      <td>0.976182</td>\n",
       "      <td>0.972583</td>\n",
       "      <td>0.973122</td>\n",
       "    </tr>\n",
       "    <tr>\n",
       "      <th>1</th>\n",
       "      <td>Decision Tree</td>\n",
       "      <td>0.955059</td>\n",
       "      <td>0.975233</td>\n",
       "      <td>0.955059</td>\n",
       "      <td>0.962839</td>\n",
       "    </tr>\n",
       "    <tr>\n",
       "      <th>2</th>\n",
       "      <td>SVM (SGD)</td>\n",
       "      <td>0.982829</td>\n",
       "      <td>0.983007</td>\n",
       "      <td>0.982829</td>\n",
       "      <td>0.981180</td>\n",
       "    </tr>\n",
       "    <tr>\n",
       "      <th>3</th>\n",
       "      <td>Random Forest</td>\n",
       "      <td>0.980427</td>\n",
       "      <td>0.980246</td>\n",
       "      <td>0.980427</td>\n",
       "      <td>0.979131</td>\n",
       "    </tr>\n",
       "    <tr>\n",
       "      <th>4</th>\n",
       "      <td>XGBoost</td>\n",
       "      <td>0.970322</td>\n",
       "      <td>0.970821</td>\n",
       "      <td>0.970322</td>\n",
       "      <td>0.968711</td>\n",
       "    </tr>\n",
       "  </tbody>\n",
       "</table>\n",
       "</div>"
      ],
      "text/plain": [
       "                 Model  Accuracy  Precision    Recall  F1 Score\n",
       "0  Logistic Regression  0.972583   0.976182  0.972583  0.973122\n",
       "1        Decision Tree  0.955059   0.975233  0.955059  0.962839\n",
       "2            SVM (SGD)  0.982829   0.983007  0.982829  0.981180\n",
       "3        Random Forest  0.980427   0.980246  0.980427  0.979131\n",
       "4              XGBoost  0.970322   0.970821  0.970322  0.968711"
      ]
     },
     "metadata": {},
     "output_type": "display_data"
    },
    {
     "name": "stderr",
     "output_type": "stream",
     "text": [
      "Evaluating Models:  56%|█████▌    | 5/9 [01:20<01:32, 23.14s/it]"
     ]
    },
    {
     "data": {
      "text/html": [
       "<div>\n",
       "<style scoped>\n",
       "    .dataframe tbody tr th:only-of-type {\n",
       "        vertical-align: middle;\n",
       "    }\n",
       "\n",
       "    .dataframe tbody tr th {\n",
       "        vertical-align: top;\n",
       "    }\n",
       "\n",
       "    .dataframe thead th {\n",
       "        text-align: right;\n",
       "    }\n",
       "</style>\n",
       "<table border=\"1\" class=\"dataframe\">\n",
       "  <thead>\n",
       "    <tr style=\"text-align: right;\">\n",
       "      <th></th>\n",
       "      <th>Model</th>\n",
       "      <th>Accuracy</th>\n",
       "      <th>Precision</th>\n",
       "      <th>Recall</th>\n",
       "      <th>F1 Score</th>\n",
       "    </tr>\n",
       "  </thead>\n",
       "  <tbody>\n",
       "    <tr>\n",
       "      <th>0</th>\n",
       "      <td>Logistic Regression</td>\n",
       "      <td>0.972583</td>\n",
       "      <td>0.976182</td>\n",
       "      <td>0.972583</td>\n",
       "      <td>0.973122</td>\n",
       "    </tr>\n",
       "    <tr>\n",
       "      <th>1</th>\n",
       "      <td>Decision Tree</td>\n",
       "      <td>0.955059</td>\n",
       "      <td>0.975233</td>\n",
       "      <td>0.955059</td>\n",
       "      <td>0.962839</td>\n",
       "    </tr>\n",
       "    <tr>\n",
       "      <th>2</th>\n",
       "      <td>SVM (SGD)</td>\n",
       "      <td>0.982829</td>\n",
       "      <td>0.983007</td>\n",
       "      <td>0.982829</td>\n",
       "      <td>0.981180</td>\n",
       "    </tr>\n",
       "    <tr>\n",
       "      <th>3</th>\n",
       "      <td>Random Forest</td>\n",
       "      <td>0.980427</td>\n",
       "      <td>0.980246</td>\n",
       "      <td>0.980427</td>\n",
       "      <td>0.979131</td>\n",
       "    </tr>\n",
       "    <tr>\n",
       "      <th>4</th>\n",
       "      <td>XGBoost</td>\n",
       "      <td>0.970322</td>\n",
       "      <td>0.970821</td>\n",
       "      <td>0.970322</td>\n",
       "      <td>0.968711</td>\n",
       "    </tr>\n",
       "    <tr>\n",
       "      <th>5</th>\n",
       "      <td>AdaBoost+DT</td>\n",
       "      <td>0.953010</td>\n",
       "      <td>0.953768</td>\n",
       "      <td>0.953010</td>\n",
       "      <td>0.949724</td>\n",
       "    </tr>\n",
       "  </tbody>\n",
       "</table>\n",
       "</div>"
      ],
      "text/plain": [
       "                 Model  Accuracy  Precision    Recall  F1 Score\n",
       "0  Logistic Regression  0.972583   0.976182  0.972583  0.973122\n",
       "1        Decision Tree  0.955059   0.975233  0.955059  0.962839\n",
       "2            SVM (SGD)  0.982829   0.983007  0.982829  0.981180\n",
       "3        Random Forest  0.980427   0.980246  0.980427  0.979131\n",
       "4              XGBoost  0.970322   0.970821  0.970322  0.968711\n",
       "5          AdaBoost+DT  0.953010   0.953768  0.953010  0.949724"
      ]
     },
     "metadata": {},
     "output_type": "display_data"
    },
    {
     "name": "stderr",
     "output_type": "stream",
     "text": [
      "Evaluating Models:  67%|██████▋   | 6/9 [01:36<01:02, 20.80s/it]"
     ]
    },
    {
     "data": {
      "text/html": [
       "<div>\n",
       "<style scoped>\n",
       "    .dataframe tbody tr th:only-of-type {\n",
       "        vertical-align: middle;\n",
       "    }\n",
       "\n",
       "    .dataframe tbody tr th {\n",
       "        vertical-align: top;\n",
       "    }\n",
       "\n",
       "    .dataframe thead th {\n",
       "        text-align: right;\n",
       "    }\n",
       "</style>\n",
       "<table border=\"1\" class=\"dataframe\">\n",
       "  <thead>\n",
       "    <tr style=\"text-align: right;\">\n",
       "      <th></th>\n",
       "      <th>Model</th>\n",
       "      <th>Accuracy</th>\n",
       "      <th>Precision</th>\n",
       "      <th>Recall</th>\n",
       "      <th>F1 Score</th>\n",
       "    </tr>\n",
       "  </thead>\n",
       "  <tbody>\n",
       "    <tr>\n",
       "      <th>0</th>\n",
       "      <td>Logistic Regression</td>\n",
       "      <td>0.972583</td>\n",
       "      <td>0.976182</td>\n",
       "      <td>0.972583</td>\n",
       "      <td>0.973122</td>\n",
       "    </tr>\n",
       "    <tr>\n",
       "      <th>1</th>\n",
       "      <td>Decision Tree</td>\n",
       "      <td>0.955059</td>\n",
       "      <td>0.975233</td>\n",
       "      <td>0.955059</td>\n",
       "      <td>0.962839</td>\n",
       "    </tr>\n",
       "    <tr>\n",
       "      <th>2</th>\n",
       "      <td>SVM (SGD)</td>\n",
       "      <td>0.982829</td>\n",
       "      <td>0.983007</td>\n",
       "      <td>0.982829</td>\n",
       "      <td>0.981180</td>\n",
       "    </tr>\n",
       "    <tr>\n",
       "      <th>3</th>\n",
       "      <td>Random Forest</td>\n",
       "      <td>0.980427</td>\n",
       "      <td>0.980246</td>\n",
       "      <td>0.980427</td>\n",
       "      <td>0.979131</td>\n",
       "    </tr>\n",
       "    <tr>\n",
       "      <th>4</th>\n",
       "      <td>XGBoost</td>\n",
       "      <td>0.970322</td>\n",
       "      <td>0.970821</td>\n",
       "      <td>0.970322</td>\n",
       "      <td>0.968711</td>\n",
       "    </tr>\n",
       "    <tr>\n",
       "      <th>5</th>\n",
       "      <td>AdaBoost+DT</td>\n",
       "      <td>0.953010</td>\n",
       "      <td>0.953768</td>\n",
       "      <td>0.953010</td>\n",
       "      <td>0.949724</td>\n",
       "    </tr>\n",
       "    <tr>\n",
       "      <th>6</th>\n",
       "      <td>AdaBoost+LR</td>\n",
       "      <td>0.898954</td>\n",
       "      <td>0.955261</td>\n",
       "      <td>0.898954</td>\n",
       "      <td>0.917976</td>\n",
       "    </tr>\n",
       "  </tbody>\n",
       "</table>\n",
       "</div>"
      ],
      "text/plain": [
       "                 Model  Accuracy  Precision    Recall  F1 Score\n",
       "0  Logistic Regression  0.972583   0.976182  0.972583  0.973122\n",
       "1        Decision Tree  0.955059   0.975233  0.955059  0.962839\n",
       "2            SVM (SGD)  0.982829   0.983007  0.982829  0.981180\n",
       "3        Random Forest  0.980427   0.980246  0.980427  0.979131\n",
       "4              XGBoost  0.970322   0.970821  0.970322  0.968711\n",
       "5          AdaBoost+DT  0.953010   0.953768  0.953010  0.949724\n",
       "6          AdaBoost+LR  0.898954   0.955261  0.898954  0.917976"
      ]
     },
     "metadata": {},
     "output_type": "display_data"
    },
    {
     "name": "stderr",
     "output_type": "stream",
     "text": [
      "Evaluating Models:  78%|███████▊  | 7/9 [02:02<00:44, 22.42s/it]"
     ]
    },
    {
     "name": "stdout",
     "output_type": "stream",
     "text": [
      "0:\tlearn: 1.0357059\ttotal: 654ms\tremaining: 5m 26s\n",
      "200:\tlearn: 0.3256890\ttotal: 26.4s\tremaining: 39.2s\n",
      "400:\tlearn: 0.2541059\ttotal: 50s\tremaining: 12.3s\n",
      "499:\tlearn: 0.2263709\ttotal: 1m 2s\tremaining: 0us\n"
     ]
    },
    {
     "data": {
      "text/html": [
       "<div>\n",
       "<style scoped>\n",
       "    .dataframe tbody tr th:only-of-type {\n",
       "        vertical-align: middle;\n",
       "    }\n",
       "\n",
       "    .dataframe tbody tr th {\n",
       "        vertical-align: top;\n",
       "    }\n",
       "\n",
       "    .dataframe thead th {\n",
       "        text-align: right;\n",
       "    }\n",
       "</style>\n",
       "<table border=\"1\" class=\"dataframe\">\n",
       "  <thead>\n",
       "    <tr style=\"text-align: right;\">\n",
       "      <th></th>\n",
       "      <th>Model</th>\n",
       "      <th>Accuracy</th>\n",
       "      <th>Precision</th>\n",
       "      <th>Recall</th>\n",
       "      <th>F1 Score</th>\n",
       "    </tr>\n",
       "  </thead>\n",
       "  <tbody>\n",
       "    <tr>\n",
       "      <th>0</th>\n",
       "      <td>Logistic Regression</td>\n",
       "      <td>0.972583</td>\n",
       "      <td>0.976182</td>\n",
       "      <td>0.972583</td>\n",
       "      <td>0.973122</td>\n",
       "    </tr>\n",
       "    <tr>\n",
       "      <th>1</th>\n",
       "      <td>Decision Tree</td>\n",
       "      <td>0.955059</td>\n",
       "      <td>0.975233</td>\n",
       "      <td>0.955059</td>\n",
       "      <td>0.962839</td>\n",
       "    </tr>\n",
       "    <tr>\n",
       "      <th>2</th>\n",
       "      <td>SVM (SGD)</td>\n",
       "      <td>0.982829</td>\n",
       "      <td>0.983007</td>\n",
       "      <td>0.982829</td>\n",
       "      <td>0.981180</td>\n",
       "    </tr>\n",
       "    <tr>\n",
       "      <th>3</th>\n",
       "      <td>Random Forest</td>\n",
       "      <td>0.980427</td>\n",
       "      <td>0.980246</td>\n",
       "      <td>0.980427</td>\n",
       "      <td>0.979131</td>\n",
       "    </tr>\n",
       "    <tr>\n",
       "      <th>4</th>\n",
       "      <td>XGBoost</td>\n",
       "      <td>0.970322</td>\n",
       "      <td>0.970821</td>\n",
       "      <td>0.970322</td>\n",
       "      <td>0.968711</td>\n",
       "    </tr>\n",
       "    <tr>\n",
       "      <th>5</th>\n",
       "      <td>AdaBoost+DT</td>\n",
       "      <td>0.953010</td>\n",
       "      <td>0.953768</td>\n",
       "      <td>0.953010</td>\n",
       "      <td>0.949724</td>\n",
       "    </tr>\n",
       "    <tr>\n",
       "      <th>6</th>\n",
       "      <td>AdaBoost+LR</td>\n",
       "      <td>0.898954</td>\n",
       "      <td>0.955261</td>\n",
       "      <td>0.898954</td>\n",
       "      <td>0.917976</td>\n",
       "    </tr>\n",
       "    <tr>\n",
       "      <th>7</th>\n",
       "      <td>Catboost</td>\n",
       "      <td>0.901215</td>\n",
       "      <td>0.937190</td>\n",
       "      <td>0.901215</td>\n",
       "      <td>0.909922</td>\n",
       "    </tr>\n",
       "  </tbody>\n",
       "</table>\n",
       "</div>"
      ],
      "text/plain": [
       "                 Model  Accuracy  Precision    Recall  F1 Score\n",
       "0  Logistic Regression  0.972583   0.976182  0.972583  0.973122\n",
       "1        Decision Tree  0.955059   0.975233  0.955059  0.962839\n",
       "2            SVM (SGD)  0.982829   0.983007  0.982829  0.981180\n",
       "3        Random Forest  0.980427   0.980246  0.980427  0.979131\n",
       "4              XGBoost  0.970322   0.970821  0.970322  0.968711\n",
       "5          AdaBoost+DT  0.953010   0.953768  0.953010  0.949724\n",
       "6          AdaBoost+LR  0.898954   0.955261  0.898954  0.917976\n",
       "7             Catboost  0.901215   0.937190  0.901215  0.909922"
      ]
     },
     "metadata": {},
     "output_type": "display_data"
    },
    {
     "name": "stderr",
     "output_type": "stream",
     "text": [
      "Evaluating Models:  89%|████████▉ | 8/9 [03:13<00:37, 37.80s/it]"
     ]
    },
    {
     "name": "stdout",
     "output_type": "stream",
     "text": [
      "[LightGBM] [Info] This is the GPU trainer!!\n",
      "[LightGBM] [Info] Total Bins 192306\n",
      "[LightGBM] [Info] Number of data points in the train set: 42454, number of used features: 4410\n",
      "[LightGBM] [Info] Using requested OpenCL platform 0 device 0\n",
      "[LightGBM] [Info] Using GPU Device: Tesla T4, Vendor: NVIDIA Corporation\n",
      "[LightGBM] [Info] Compiling OpenCL Kernel with 16 bins...\n"
     ]
    },
    {
     "name": "stderr",
     "output_type": "stream",
     "text": [
      "1 warning generated.\n",
      "1 warning generated.\n",
      "1 warning generated.\n",
      "1 warning generated.\n",
      "1 warning generated.\n",
      "1 warning generated.\n",
      "1 warning generated.\n",
      "1 warning generated.\n",
      "1 warning generated.\n",
      "1 warning generated.\n",
      "1 warning generated.\n",
      "1 warning generated.\n",
      "1 warning generated.\n",
      "1 warning generated.\n",
      "1 warning generated.\n",
      "1 warning generated.\n",
      "1 warning generated.\n",
      "1 warning generated.\n",
      "1 warning generated.\n",
      "1 warning generated.\n",
      "1 warning generated.\n",
      "1 warning generated.\n",
      "1 warning generated.\n",
      "1 warning generated.\n",
      "1 warning generated.\n",
      "1 warning generated.\n",
      "1 warning generated.\n",
      "1 warning generated.\n",
      "1 warning generated.\n",
      "1 warning generated.\n",
      "1 warning generated.\n",
      "1 warning generated.\n",
      "1 warning generated.\n"
     ]
    },
    {
     "name": "stdout",
     "output_type": "stream",
     "text": [
      "[LightGBM] [Info] GPU programs have been built\n",
      "[LightGBM] [Warning] GPU acceleration is disabled because no non-trivial dense features can be found\n",
      "[LightGBM] [Info] Start training from score -0.174644\n",
      "[LightGBM] [Info] Start training from score -3.699631\n",
      "[LightGBM] [Info] Start training from score -1.998700\n"
     ]
    },
    {
     "name": "stderr",
     "output_type": "stream",
     "text": [
      "/opt/conda/lib/python3.10/site-packages/lightgbm/basic.py:1192: UserWarning: Converting data to scipy sparse matrix.\n",
      "  _log_warning('Converting data to scipy sparse matrix.')\n"
     ]
    },
    {
     "data": {
      "text/html": [
       "<div>\n",
       "<style scoped>\n",
       "    .dataframe tbody tr th:only-of-type {\n",
       "        vertical-align: middle;\n",
       "    }\n",
       "\n",
       "    .dataframe tbody tr th {\n",
       "        vertical-align: top;\n",
       "    }\n",
       "\n",
       "    .dataframe thead th {\n",
       "        text-align: right;\n",
       "    }\n",
       "</style>\n",
       "<table border=\"1\" class=\"dataframe\">\n",
       "  <thead>\n",
       "    <tr style=\"text-align: right;\">\n",
       "      <th></th>\n",
       "      <th>Model</th>\n",
       "      <th>Accuracy</th>\n",
       "      <th>Precision</th>\n",
       "      <th>Recall</th>\n",
       "      <th>F1 Score</th>\n",
       "    </tr>\n",
       "  </thead>\n",
       "  <tbody>\n",
       "    <tr>\n",
       "      <th>0</th>\n",
       "      <td>Logistic Regression</td>\n",
       "      <td>0.972583</td>\n",
       "      <td>0.976182</td>\n",
       "      <td>0.972583</td>\n",
       "      <td>0.973122</td>\n",
       "    </tr>\n",
       "    <tr>\n",
       "      <th>1</th>\n",
       "      <td>Decision Tree</td>\n",
       "      <td>0.955059</td>\n",
       "      <td>0.975233</td>\n",
       "      <td>0.955059</td>\n",
       "      <td>0.962839</td>\n",
       "    </tr>\n",
       "    <tr>\n",
       "      <th>2</th>\n",
       "      <td>SVM (SGD)</td>\n",
       "      <td>0.982829</td>\n",
       "      <td>0.983007</td>\n",
       "      <td>0.982829</td>\n",
       "      <td>0.981180</td>\n",
       "    </tr>\n",
       "    <tr>\n",
       "      <th>3</th>\n",
       "      <td>Random Forest</td>\n",
       "      <td>0.980427</td>\n",
       "      <td>0.980246</td>\n",
       "      <td>0.980427</td>\n",
       "      <td>0.979131</td>\n",
       "    </tr>\n",
       "    <tr>\n",
       "      <th>4</th>\n",
       "      <td>XGBoost</td>\n",
       "      <td>0.970322</td>\n",
       "      <td>0.970821</td>\n",
       "      <td>0.970322</td>\n",
       "      <td>0.968711</td>\n",
       "    </tr>\n",
       "    <tr>\n",
       "      <th>5</th>\n",
       "      <td>AdaBoost+DT</td>\n",
       "      <td>0.953010</td>\n",
       "      <td>0.953768</td>\n",
       "      <td>0.953010</td>\n",
       "      <td>0.949724</td>\n",
       "    </tr>\n",
       "    <tr>\n",
       "      <th>6</th>\n",
       "      <td>AdaBoost+LR</td>\n",
       "      <td>0.898954</td>\n",
       "      <td>0.955261</td>\n",
       "      <td>0.898954</td>\n",
       "      <td>0.917976</td>\n",
       "    </tr>\n",
       "    <tr>\n",
       "      <th>7</th>\n",
       "      <td>Catboost</td>\n",
       "      <td>0.901215</td>\n",
       "      <td>0.937190</td>\n",
       "      <td>0.901215</td>\n",
       "      <td>0.909922</td>\n",
       "    </tr>\n",
       "    <tr>\n",
       "      <th>8</th>\n",
       "      <td>LightGBM</td>\n",
       "      <td>0.978166</td>\n",
       "      <td>0.978414</td>\n",
       "      <td>0.978166</td>\n",
       "      <td>0.977243</td>\n",
       "    </tr>\n",
       "  </tbody>\n",
       "</table>\n",
       "</div>"
      ],
      "text/plain": [
       "                 Model  Accuracy  Precision    Recall  F1 Score\n",
       "0  Logistic Regression  0.972583   0.976182  0.972583  0.973122\n",
       "1        Decision Tree  0.955059   0.975233  0.955059  0.962839\n",
       "2            SVM (SGD)  0.982829   0.983007  0.982829  0.981180\n",
       "3        Random Forest  0.980427   0.980246  0.980427  0.979131\n",
       "4              XGBoost  0.970322   0.970821  0.970322  0.968711\n",
       "5          AdaBoost+DT  0.953010   0.953768  0.953010  0.949724\n",
       "6          AdaBoost+LR  0.898954   0.955261  0.898954  0.917976\n",
       "7             Catboost  0.901215   0.937190  0.901215  0.909922\n",
       "8             LightGBM  0.978166   0.978414  0.978166  0.977243"
      ]
     },
     "metadata": {},
     "output_type": "display_data"
    },
    {
     "name": "stderr",
     "output_type": "stream",
     "text": [
      "Evaluating Models: 100%|██████████| 9/9 [03:36<00:00, 24.01s/it]\n"
     ]
    },
    {
     "data": {
      "text/html": [
       "<div>\n",
       "<style scoped>\n",
       "    .dataframe tbody tr th:only-of-type {\n",
       "        vertical-align: middle;\n",
       "    }\n",
       "\n",
       "    .dataframe tbody tr th {\n",
       "        vertical-align: top;\n",
       "    }\n",
       "\n",
       "    .dataframe thead th {\n",
       "        text-align: right;\n",
       "    }\n",
       "</style>\n",
       "<table border=\"1\" class=\"dataframe\">\n",
       "  <thead>\n",
       "    <tr style=\"text-align: right;\">\n",
       "      <th></th>\n",
       "      <th>Model</th>\n",
       "      <th>Accuracy</th>\n",
       "      <th>Precision</th>\n",
       "      <th>Recall</th>\n",
       "      <th>F1 Score</th>\n",
       "    </tr>\n",
       "  </thead>\n",
       "  <tbody>\n",
       "    <tr>\n",
       "      <th>0</th>\n",
       "      <td>Logistic Regression</td>\n",
       "      <td>0.972583</td>\n",
       "      <td>0.976182</td>\n",
       "      <td>0.972583</td>\n",
       "      <td>0.973122</td>\n",
       "    </tr>\n",
       "    <tr>\n",
       "      <th>1</th>\n",
       "      <td>Decision Tree</td>\n",
       "      <td>0.955059</td>\n",
       "      <td>0.975233</td>\n",
       "      <td>0.955059</td>\n",
       "      <td>0.962839</td>\n",
       "    </tr>\n",
       "    <tr>\n",
       "      <th>2</th>\n",
       "      <td>SVM (SGD)</td>\n",
       "      <td>0.982829</td>\n",
       "      <td>0.983007</td>\n",
       "      <td>0.982829</td>\n",
       "      <td>0.981180</td>\n",
       "    </tr>\n",
       "    <tr>\n",
       "      <th>3</th>\n",
       "      <td>Random Forest</td>\n",
       "      <td>0.980427</td>\n",
       "      <td>0.980246</td>\n",
       "      <td>0.980427</td>\n",
       "      <td>0.979131</td>\n",
       "    </tr>\n",
       "    <tr>\n",
       "      <th>4</th>\n",
       "      <td>XGBoost</td>\n",
       "      <td>0.970322</td>\n",
       "      <td>0.970821</td>\n",
       "      <td>0.970322</td>\n",
       "      <td>0.968711</td>\n",
       "    </tr>\n",
       "    <tr>\n",
       "      <th>5</th>\n",
       "      <td>AdaBoost+DT</td>\n",
       "      <td>0.953010</td>\n",
       "      <td>0.953768</td>\n",
       "      <td>0.953010</td>\n",
       "      <td>0.949724</td>\n",
       "    </tr>\n",
       "    <tr>\n",
       "      <th>6</th>\n",
       "      <td>AdaBoost+LR</td>\n",
       "      <td>0.898954</td>\n",
       "      <td>0.955261</td>\n",
       "      <td>0.898954</td>\n",
       "      <td>0.917976</td>\n",
       "    </tr>\n",
       "    <tr>\n",
       "      <th>7</th>\n",
       "      <td>Catboost</td>\n",
       "      <td>0.901215</td>\n",
       "      <td>0.937190</td>\n",
       "      <td>0.901215</td>\n",
       "      <td>0.909922</td>\n",
       "    </tr>\n",
       "    <tr>\n",
       "      <th>8</th>\n",
       "      <td>LightGBM</td>\n",
       "      <td>0.978166</td>\n",
       "      <td>0.978414</td>\n",
       "      <td>0.978166</td>\n",
       "      <td>0.977243</td>\n",
       "    </tr>\n",
       "  </tbody>\n",
       "</table>\n",
       "</div>"
      ],
      "text/plain": [
       "                 Model  Accuracy  Precision    Recall  F1 Score\n",
       "0  Logistic Regression  0.972583   0.976182  0.972583  0.973122\n",
       "1        Decision Tree  0.955059   0.975233  0.955059  0.962839\n",
       "2            SVM (SGD)  0.982829   0.983007  0.982829  0.981180\n",
       "3        Random Forest  0.980427   0.980246  0.980427  0.979131\n",
       "4              XGBoost  0.970322   0.970821  0.970322  0.968711\n",
       "5          AdaBoost+DT  0.953010   0.953768  0.953010  0.949724\n",
       "6          AdaBoost+LR  0.898954   0.955261  0.898954  0.917976\n",
       "7             Catboost  0.901215   0.937190  0.901215  0.909922\n",
       "8             LightGBM  0.978166   0.978414  0.978166  0.977243"
      ]
     },
     "execution_count": 17,
     "metadata": {},
     "output_type": "execute_result"
    }
   ],
   "source": [
    "results = pd.DataFrame()\n",
    "\n",
    "for name, model in tqdm(models.items(), desc=\"Evaluating Models\"):\n",
    "    results_row = evaluate_model(name, model, X_train_delta_tfidf, y_train, X_test_delta_tfidf, y_test)\n",
    "    results = results._append(results_row, ignore_index=True)\n",
    "    display(results)\n",
    "    \n",
    "results"
   ]
  },
  {
   "cell_type": "markdown",
   "id": "ef69491a",
   "metadata": {
    "papermill": {
     "duration": 0.016571,
     "end_time": "2024-02-04T08:18:43.490980",
     "exception": false,
     "start_time": "2024-02-04T08:18:43.474409",
     "status": "completed"
    },
    "tags": []
   },
   "source": [
    "### Dimensionality reduction techniques"
   ]
  },
  {
   "cell_type": "markdown",
   "id": "85509f93",
   "metadata": {
    "papermill": {
     "duration": 0.01732,
     "end_time": "2024-02-04T08:18:43.525783",
     "exception": false,
     "start_time": "2024-02-04T08:18:43.508463",
     "status": "completed"
    },
    "tags": []
   },
   "source": [
    "#### SVD"
   ]
  },
  {
   "cell_type": "code",
   "execution_count": 18,
   "id": "4fcc4a1f",
   "metadata": {
    "execution": {
     "iopub.execute_input": "2024-02-04T08:18:43.561086Z",
     "iopub.status.busy": "2024-02-04T08:18:43.560708Z",
     "iopub.status.idle": "2024-02-04T08:20:19.955589Z",
     "shell.execute_reply": "2024-02-04T08:20:19.954580Z"
    },
    "papermill": {
     "duration": 96.41485,
     "end_time": "2024-02-04T08:20:19.957990",
     "exception": false,
     "start_time": "2024-02-04T08:18:43.543140",
     "status": "completed"
    },
    "tags": []
   },
   "outputs": [
    {
     "name": "stdout",
     "output_type": "stream",
     "text": [
      "SVD finished\n",
      "logreg init\n"
     ]
    },
    {
     "name": "stderr",
     "output_type": "stream",
     "text": [
      "/opt/conda/lib/python3.10/site-packages/sklearn/linear_model/_logistic.py:458: ConvergenceWarning: lbfgs failed to converge (status=1):\n",
      "STOP: TOTAL NO. of ITERATIONS REACHED LIMIT.\n",
      "\n",
      "Increase the number of iterations (max_iter) or scale the data as shown in:\n",
      "    https://scikit-learn.org/stable/modules/preprocessing.html\n",
      "Please also refer to the documentation for alternative solver options:\n",
      "    https://scikit-learn.org/stable/modules/linear_model.html#logistic-regression\n",
      "  n_iter_i = _check_optimize_result(\n"
     ]
    },
    {
     "name": "stdout",
     "output_type": "stream",
     "text": [
      "logreg fit\n",
      "logreg predict\n",
      "Accuracy: 0.8529536461277558\n",
      "              precision    recall  f1-score   support\n",
      "\n",
      "           0       1.00      0.87      0.93     11894\n",
      "           1       0.13      0.95      0.24       338\n",
      "           2       0.99      0.75      0.85      1920\n",
      "\n",
      "    accuracy                           0.85     14152\n",
      "   macro avg       0.71      0.85      0.67     14152\n",
      "weighted avg       0.98      0.85      0.90     14152\n",
      "\n"
     ]
    },
    {
     "data": {
      "image/png": "[encoded data removed]",
      "text/plain": [
       "<Figure size 640x480 with 2 Axes>"
      ]
     },
     "metadata": {},
     "output_type": "display_data"
    },
    {
     "data": {
      "image/png": "[encoded data removed]",
      "text/plain": [
       "<Figure size 640x480 with 2 Axes>"
      ]
     },
     "metadata": {},
     "output_type": "display_data"
    }
   ],
   "source": [
    "import matplotlib.pyplot as plt\n",
    "from sklearn.metrics import accuracy_score, classification_report\n",
    "from sklearn.decomposition import TruncatedSVD\n",
    "from sklearn.linear_model import LogisticRegression\n",
    "from sklearn.model_selection import train_test_split\n",
    "\n",
    "# Assuming you have X_train, X_test, y_train, and y_test defined earlier\n",
    "\n",
    "# Step 1: Apply Truncated SVD for feature reduction on CPU\n",
    "n_components = 50  # Adjust the number of components\n",
    "n_iter = 10  # Adjust the number of iterations\n",
    "random_state = 42  # Set a fixed random state for reproducibility\n",
    "algorithm = 'randomized'  # Experiment with different algorithms\n",
    "\n",
    "svd = TruncatedSVD(\n",
    "    n_components=n_components,\n",
    "    n_iter=n_iter,\n",
    "    random_state=random_state,\n",
    "    algorithm=algorithm\n",
    ")\n",
    "\n",
    "# Fit and transform on training data\n",
    "X_train_svd = svd.fit_transform(X_train_delta_tfidf.toarray())\n",
    "\n",
    "# Transform on test data\n",
    "X_test_svd = svd.transform(X_test_delta_tfidf.toarray())\n",
    "print(\"SVD finished\")\n",
    "\n",
    "# Step 2: Logistic Regression with class weights for evaluation\n",
    "logistic_regression = LogisticRegression(class_weight='balanced')\n",
    "print(\"logreg init\")\n",
    "\n",
    "# Fit the model\n",
    "logistic_regression.fit(X_train_svd, y_train)\n",
    "print(\"logreg fit\")\n",
    "\n",
    "# Predictions\n",
    "y_pred = logistic_regression.predict(X_test_svd)\n",
    "print(\"logreg predict\")\n",
    "\n",
    "# Step 3: Evaluation\n",
    "print(\"Accuracy:\", accuracy_score(y_test, y_pred))\n",
    "print(classification_report(y_test, y_pred))\n",
    "\n",
    "# Step 4: Visualize SVD results\n",
    "plt.scatter(X_train_svd[:, 0], X_train_svd[:, 1], c=y_train, cmap=plt.cm.Paired)\n",
    "plt.colorbar()\n",
    "plt.title(\"SVD Visualization of Training Data\")\n",
    "plt.show()\n",
    "\n",
    "plt.scatter(X_test_svd[:, 0], X_test_svd[:, 1], c=y_test, cmap=plt.cm.Paired)\n",
    "plt.colorbar()\n",
    "plt.title(\"SVD Visualization of Test Data\")\n",
    "plt.show()"
   ]
  },
  {
   "cell_type": "markdown",
   "id": "d0602bfe",
   "metadata": {
    "papermill": {
     "duration": 0.016741,
     "end_time": "2024-02-04T08:20:19.991772",
     "exception": false,
     "start_time": "2024-02-04T08:20:19.975031",
     "status": "completed"
    },
    "tags": []
   },
   "source": [
    "#### TSNE"
   ]
  },
  {
   "cell_type": "code",
   "execution_count": 19,
   "id": "9330061f",
   "metadata": {
    "execution": {
     "iopub.execute_input": "2024-02-04T08:20:20.027149Z",
     "iopub.status.busy": "2024-02-04T08:20:20.026269Z",
     "iopub.status.idle": "2024-02-04T08:20:20.032116Z",
     "shell.execute_reply": "2024-02-04T08:20:20.031223Z"
    },
    "papermill": {
     "duration": 0.025753,
     "end_time": "2024-02-04T08:20:20.034084",
     "exception": false,
     "start_time": "2024-02-04T08:20:20.008331",
     "status": "completed"
    },
    "tags": []
   },
   "outputs": [],
   "source": [
    "# import matplotlib.pyplot as plt\n",
    "# from sklearn.metrics import accuracy_score, classification_report\n",
    "# # from sklearn.manifold import TSNE\n",
    "# from sklearn.linear_model import LogisticRegression\n",
    "# from sklearn.model_selection import train_test_split\n",
    "# from cuml.manifold import TSNE\n",
    "\n",
    "# # Assuming you have X_train, X_test, y_train, and y_test defined earlier\n",
    "\n",
    "# n_components = 2  # You can adjust this value as needed\n",
    "# perplexity = 30  # Adjust perplexity based on your data and desired results\n",
    "# n_neighbors = 3 * perplexity  # Set the number of neighbors accordingly\n",
    "\n",
    "# tsne = TSNE(n_components=n_components, n_neighbors=n_neighbors, random_state=42, perplexity=perplexity)\n",
    "# print(\"TSNE init\")\n",
    "\n",
    "# # Fit and transform on training data\n",
    "# X_train_tsne = tsne.fit_transform(X_train_delta_tfidf.toarray())\n",
    "\n",
    "# # Transform on test data\n",
    "# X_test_tsne = tsne.fit_transform(X_test_delta_tfidf.toarray())\n",
    "# print(\"t-SNE finished\")\n",
    "\n",
    "# # Step 2: Logistic Regression with class weights for evaluation\n",
    "# logistic_regression = LogisticRegression(class_weight='balanced')\n",
    "# print(\"logreg init\")\n",
    "\n",
    "# # Fit the model\n",
    "# logistic_regression.fit(X_train_tsne, y_train)\n",
    "# print(\"logreg fit\")\n",
    "\n",
    "# # Predictions\n",
    "# y_pred = logistic_regression.predict(X_test_tsne)\n",
    "# print(\"logreg predict\")\n",
    "\n",
    "# # Step 3: Evaluation\n",
    "# print(\"Accuracy:\", accuracy_score(y_test, y_pred))\n",
    "# print(classification_report(y_test, y_pred))\n",
    "\n",
    "# # Step 4: Visualize t-SNE results\n",
    "# plt.scatter(X_train_tsne[:, 0], X_train_tsne[:, 1], c=y_train, cmap=plt.cm.Paired)\n",
    "# plt.colorbar()\n",
    "# plt.title(\"t-SNE Visualization of Training Data\")\n",
    "# plt.show()\n",
    "\n",
    "# plt.scatter(X_test_tsne[:, 0], X_test_tsne[:, 1], c=y_test, cmap=plt.cm.Paired)\n",
    "# plt.colorbar()\n",
    "# plt.title(\"t-SNE Visualization of Test Data\")\n",
    "# plt.show()"
   ]
  },
  {
   "cell_type": "markdown",
   "id": "bc29029a",
   "metadata": {
    "papermill": {
     "duration": 0.01745,
     "end_time": "2024-02-04T08:20:20.068761",
     "exception": false,
     "start_time": "2024-02-04T08:20:20.051311",
     "status": "completed"
    },
    "tags": []
   },
   "source": [
    "## Evaluation"
   ]
  },
  {
   "cell_type": "code",
   "execution_count": null,
   "id": "ff04505d",
   "metadata": {
    "papermill": {
     "duration": 0.016624,
     "end_time": "2024-02-04T08:20:20.102068",
     "exception": false,
     "start_time": "2024-02-04T08:20:20.085444",
     "status": "completed"
    },
    "tags": []
   },
   "outputs": [],
   "source": []
  }
 ],
 "metadata": {
  "kaggle": {
   "accelerator": "nvidiaTeslaT4",
   "dataSources": [
    {
     "datasetId": 4396626,
     "sourceId": 7549185,
     "sourceType": "datasetVersion"
    }
   ],
   "dockerImageVersionId": 30648,
   "isGpuEnabled": true,
   "isInternetEnabled": true,
   "language": "python",
   "sourceType": "notebook"
  },
  "kernelspec": {
   "display_name": "Python 3",
   "language": "python",
   "name": "python3"
  },
  "language_info": {
   "codemirror_mode": {
    "name": "ipython",
    "version": 3
   },
   "file_extension": ".py",
   "mimetype": "text/x-python",
   "name": "python",
   "nbconvert_exporter": "python",
   "pygments_lexer": "ipython3",
   "version": "3.10.13"
  },
  "papermill": {
   "default_parameters": {},
   "duration": 450.193299,
   "end_time": "2024-02-04T08:20:21.183620",
   "environment_variables": {},
   "exception": null,
   "input_path": "__notebook__.ipynb",
   "output_path": "__notebook__.ipynb",
   "parameters": {},
   "start_time": "2024-02-04T08:12:50.990321",
   "version": "2.5.0"
  }
 },
 "nbformat": 4,
 "nbformat_minor": 5
}
