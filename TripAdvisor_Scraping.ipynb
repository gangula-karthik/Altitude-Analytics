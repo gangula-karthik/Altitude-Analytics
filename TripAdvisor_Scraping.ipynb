{
 "cells": [
  {
   "cell_type": "markdown",
   "id": "966039bc-f952-4bb2-81e4-8d3c52216a78",
   "metadata": {
    "jp-MarkdownHeadingCollapsed": true,
    "tags": []
   },
   "source": [
    "## Installing and Loading Packages"
   ]
  },
  {
   "cell_type": "code",
   "execution_count": 49,
   "id": "bd6de36d-c9d3-4815-96cb-2cde9c0de86e",
   "metadata": {
    "tags": []
   },
   "outputs": [],
   "source": [
    "# %pip install selenium\n",
    "# %pip install webdriver-manager\n",
    "# %pip install selenium-stealth\n",
    "# %pip install undetected-chromedriver"
   ]
  },
  {
   "cell_type": "code",
   "execution_count": 57,
   "id": "d99200a0-8522-49e8-84ac-3ae17267ba77",
   "metadata": {
    "tags": []
   },
   "outputs": [],
   "source": [
    "import pickle\n",
    "from selenium import webdriver\n",
    "from selenium.webdriver.common.keys import Keys\n",
    "import pandas as pd\n",
    "import numpy as np\n",
    "import time\n",
    "from pprint import pprint\n",
    "import io\n",
    "from selenium import webdriver\n",
    "from webdriver_manager.chrome import ChromeDriverManager\n",
    "from selenium.webdriver.chrome.service import Service as ChromeService\n",
    "from selenium.webdriver.common.by import By\n",
    "from selenium.webdriver.support.ui import WebDriverWait\n",
    "from selenium.webdriver.support import expected_conditions as EC\n",
    "import csv\n",
    "import time\n",
    "from selenium import webdriver\n",
    "from webdriver_manager.chrome import ChromeDriverManager\n",
    "from selenium.webdriver.chrome.service import Service as ChromeService\n",
    "from selenium.webdriver.common.by import By\n",
    "from selenium.webdriver.support.ui import WebDriverWait\n",
    "from selenium.webdriver.support import expected_conditions as EC\n",
    "from selenium.common.exceptions import NoSuchElementException, TimeoutException\n",
    "import random\n",
    "from selenium_stealth import stealth\n",
    "import undetected_chromedriver as uc\n"
   ]
  },
  {
   "cell_type": "markdown",
   "id": "e87c9a42-072c-460c-93a9-e01c00e18455",
   "metadata": {
    "tags": []
   },
   "source": [
    "## Web Scraping Tripadvisor Reviews"
   ]
  },
  {
   "cell_type": "markdown",
   "id": "4061c880-7b09-480b-a503-e4bc14bc7301",
   "metadata": {
    "jp-MarkdownHeadingCollapsed": true,
    "tags": []
   },
   "source": [
    "### Setting up selenium + chrome drivers\n",
    "- prevent bot detection by: \n",
    "    1. cycling through list of user agents"
   ]
  },
  {
   "cell_type": "code",
   "execution_count": 11,
   "id": "ba634834-5935-455d-8263-b494583b9ebd",
   "metadata": {
    "tags": []
   },
   "outputs": [
    {
     "name": "stdout",
     "output_type": "stream",
     "text": [
      "Number of free proxies retrieved: 116\n",
      "5 sample proxy data:\n",
      "[{'Anonymity': 'elite proxy',\n",
      "  'Code': 'US',\n",
      "  'Country': 'United States',\n",
      "  'Google': 'no',\n",
      "  'Https': 'yes',\n",
      "  'IP Address': '13.56.209.6',\n",
      "  'Last Checked': '8 secs ago',\n",
      "  'Port': '8080'},\n",
      " {'Anonymity': 'elite proxy',\n",
      "  'Code': 'CA',\n",
      "  'Country': 'Canada',\n",
      "  'Google': 'no',\n",
      "  'Https': 'yes',\n",
      "  'IP Address': '67.43.227.230',\n",
      "  'Last Checked': '8 secs ago',\n",
      "  'Port': '23685'},\n",
      " {'Anonymity': 'elite proxy',\n",
      "  'Code': 'US',\n",
      "  'Country': 'United States',\n",
      "  'Google': 'no',\n",
      "  'Https': 'yes',\n",
      "  'IP Address': '165.22.36.164',\n",
      "  'Last Checked': '8 secs ago',\n",
      "  'Port': '10001'},\n",
      " {'Anonymity': 'elite proxy',\n",
      "  'Code': 'CA',\n",
      "  'Country': 'Canada',\n",
      "  'Google': 'yes',\n",
      "  'Https': 'yes',\n",
      "  'IP Address': '72.10.160.94',\n",
      "  'Last Checked': '8 secs ago',\n",
      "  'Port': '24271'},\n",
      " {'Anonymity': 'anonymous',\n",
      "  'Code': 'SG',\n",
      "  'Country': 'Singapore',\n",
      "  'Google': 'no',\n",
      "  'Https': 'yes',\n",
      "  'IP Address': '8.219.97.248',\n",
      "  'Last Checked': '8 secs ago',\n",
      "  'Port': '80'}]\n"
     ]
    }
   ],
   "source": [
    "from selenium import webdriver\n",
    "from selenium.webdriver.chrome.service import Service\n",
    "from webdriver_manager.chrome import ChromeDriverManager\n",
    "from selenium.webdriver.common.by import By\n",
    "\n",
    "def get_free_proxies(driver):\n",
    "    driver.get('https://sslproxies.org')\n",
    "    headers = [header.text.strip() for header in driver.find_elements(By.XPATH, '//table/thead/tr/th')]\n",
    "    rows = driver.find_elements(By.XPATH, '//table/tbody/tr')\n",
    "    \n",
    "    proxies = []\n",
    "    for row in rows:\n",
    "        proxy_data = dict(zip(headers, [td.text.strip() for td in row.find_elements(By.TAG_NAME, 'td')]))\n",
    "        proxies.append(proxy_data)\n",
    "        \n",
    "    driver.quit()\n",
    "    return proxies\n",
    "\n",
    "service = Service(ChromeDriverManager().install())\n",
    "driver = webdriver.Chrome(service=service)\n",
    "\n",
    "free_proxies = get_free_proxies(driver)\n",
    "print(\"Number of free proxies retrieved:\", len(free_proxies))\n",
    "print(\"5 sample proxy data:\")\n",
    "pprint(free_proxies[:5])"
   ]
  },
  {
   "cell_type": "code",
   "execution_count": 18,
   "id": "771a5a1d-2a5e-4a7a-b90c-ee07c2877ae1",
   "metadata": {
    "tags": []
   },
   "outputs": [],
   "source": [
    "user_agents = ['Mozilla/5.0 (Windows NT 10.0; Win64; x64) AppleWebKit/537.36 (KHTML, like Gecko) Chrome/110.0.0.0 Safari/537.36',\n",
    "'Mozilla/5.0 (Macintosh; Intel Mac OS X 10_15_7) AppleWebKit/537.36 (KHTML, like Gecko) Chrome/110.0.0.0 Safari/537.36',\n",
    "'Mozilla/5.0 (Windows NT 10.0; Win64; x64) AppleWebKit/537.36 (KHTML, like Gecko) Chrome/109.0.0.0 Edge/18.0.0.0',\n",
    "'Mozilla/5.0 (Macintosh; Intel Mac OS X 10_15_7) AppleWebKit/537.36 (KHTML, like Gecko) Chrome/109.0.0.0 Edge/18.0.0.0',\n",
    "'Mozilla/5.0 (Windows NT 10.0; Win64; x64) AppleWebKit/537.36 (KHTML, like Gecko) Firefox/98.0.0.0',\n",
    "'Mozilla/5.0 (Macintosh; Intel Mac OS X 10_15_7) AppleWebKit/537.36 (KHTML, like Gecko) Firefox/98.0.0.0',\n",
    "'Mozilla/5.0 (Windows NT 10.0; Win64; x64) AppleWebKit/537.36 (KHTML, like Gecko) Safari/609.1.15',\n",
    "'Mozilla/5.0 (Macintosh; Intel Mac OS X 10_15_7) AppleWebKit/537.36 (KHTML, like Gecko) Safari/609.1.15',\n",
    "'Mozilla/5.0 (X11; Linux x86_64) AppleWebKit/537.36 (KHTML, like Gecko) Firefox/98.0.0.0',\n",
    "'Mozilla/5.0 (X11; Linux x86_64) AppleWebKit/537.36 (KHTML, like Gecko) Chrome/110.0.0.0 Safari/537.36',\n",
    "'Mozilla/5.0 (Windows NT 10.0; Win64; x64) AppleWebKit/537.36 (KHTML, like Gecko) Chrome/110.0.0.0 Edge/18.0.0.0',\n",
    "'Mozilla/5.0 (Macintosh; Intel Mac OS X 10_15_7) AppleWebKit/537.36 (KHTML, like Gecko) Chrome/110.0.0.0 Edge/18.0.0.0',\n",
    "'Mozilla/5.0 (X11; Linux x86_64) AppleWebKit/537.36 (KHTML, like Gecko) Safari/609.1.15',\n",
    "'Mozilla/5.0 (X11; Linux x86_64) AppleWebKit/537.36 (KHTML, like Gecko) Chrome/109.0.0.0 Safari/537.36',\n",
    "'Mozilla/5.0 (Windows NT 10.0; Win64; x64) AppleWebKit/537.36 (KHTML, like Gecko) Firefox/97.0.0.0',\n",
    "'Mozilla/5.0 (Macintosh; Intel Mac OS X 10_15_7) AppleWebKit/537.36 (KHTML, like Gecko) Firefox/97.0.0.0',\n",
    "'Mozilla/5.0 (X11; Linux x86_64) AppleWebKit/537.36 (KHTML, like Gecko) Firefox/97.0.0.0',\n",
    "'Mozilla/5.0 (Windows NT 10.0; Win64; x64) AppleWebKit/537.36 (KHTML, like Gecko) Chrome/108.0.0.0 Safari/537.36',\n",
    "'Mozilla/5.0 (X11; Linux x86_64) AppleWebKit/537.36 (KHTML, like Gecko) Chrome/108.0.0.0 Safari/537.36',\n",
    "'Mozilla/5.0 (Windows NT 10.0; Win64; x64) AppleWebKit/537.36 (KHTML, like Gecko) Edge/17.0.0.0',\n",
    "'Mozilla/5.0 (Macintosh; Intel Mac OS X 10_15_7) AppleWebKit/537.36 (KHTML, like Gecko) Edge/17.0.0.0',\n",
    "'Mozilla/5.0 (X11; Linux x86_64) AppleWebKit/537.36 (KHTML, like Gecko) Edge/17.0.0.0',\n",
    "]"
   ]
  },
  {
   "cell_type": "code",
   "execution_count": 121,
   "id": "31302f9f-0142-4d05-9769-6e0d9d82de44",
   "metadata": {
    "tags": []
   },
   "outputs": [],
   "source": [
    "url = 'https://www.tripadvisor.com/Airlines'\n",
    "service = ChromeService(ChromeDriverManager().install())\n",
    "user_agent = random.choice(user_agents)\n",
    "chrome_options = webdriver.ChromeOptions()\n",
    "chrome_options.add_argument(f'user-agent={user_agent}')\n",
    "chrome_options.add_argument('--disable-blink-features=AutomationControlled')\n",
    "chrome_options.add_argument(\"start-maximized\")\n",
    "chrome_options.add_argument('--disable-dev-shm-usage')\n",
    "chrome_options.add_argument('--no-sandbox')\n",
    "chrome_options.add_experimental_option(\"excludeSwitches\", [\"enable-automation\"])\n",
    "chrome_options.add_experimental_option('useAutomationExtension', False)\n",
    "driver = webdriver.Chrome(service=service, options=chrome_options)\n",
    "driver.get(url)\n",
    "time.sleep(3)\n",
    "pickle.dump(driver.get_cookies(), open('cookies.pkl', 'wb'))"
   ]
  },
  {
   "cell_type": "code",
   "execution_count": 26,
   "id": "dac87815-dbf7-4040-81f9-c10c882a84b6",
   "metadata": {
    "tags": []
   },
   "outputs": [],
   "source": [
    "def setup_webdriver():\n",
    "    while True:\n",
    "        user_agent = random.choice(user_agents)\n",
    "        print(f\"Using user agent: {user_agent}\")\n",
    "        \n",
    "        proxy_choice = random.choice(free_proxies)\n",
    "        proxy_ip_port = f\"{proxy_choice['IP Address']}:{proxy_choice['Port']}\"\n",
    "        print(f\"Using proxy: {proxy_ip_port}\")\n",
    "\n",
    "        service = Service(ChromeDriverManager().install())\n",
    "        chrome_options = webdriver.ChromeOptions()\n",
    "        chrome_options.add_argument(f'user-agent={user_agent}')\n",
    "        chrome_options.add_argument('--disable-blink-features=AutomationControlled')\n",
    "        chrome_options.add_argument(\"start-maximized\")\n",
    "        chrome_options.add_argument('--disable-dev-shm-usage')\n",
    "        chrome_options.add_argument('--no-sandbox')\n",
    "        chrome_options.add_experimental_option(\"excludeSwitches\", [\"enable-automation\"])\n",
    "        chrome_options.add_experimental_option('useAutomationExtension', False)\n",
    "        chrome_options.add_argument(f'--proxy-server={proxy_ip_port}')\n",
    "\n",
    "        try:\n",
    "            driver = webdriver.Chrome(service=service, options=chrome_options)\n",
    "            time.sleep(1)\n",
    "            driver.quit()\n",
    "            return driver\n",
    "        except Exception as e:\n",
    "            print(f\"Error setting up WebDriver: {e}\")\n",
    "            continue"
   ]
  },
  {
   "cell_type": "markdown",
   "id": "08c491c2-e878-4ef8-ab56-6caf8063eadb",
   "metadata": {
    "jp-MarkdownHeadingCollapsed": true,
    "tags": []
   },
   "source": [
    "### List of airline reviews in tripadvisor"
   ]
  },
  {
   "cell_type": "code",
   "execution_count": 63,
   "id": "065f2d2c-97e1-4845-be1f-e72050d438d5",
   "metadata": {
    "tags": []
   },
   "outputs": [],
   "source": [
    "def scrape_page(driver, csv_writer):\n",
    "    try:\n",
    "        airlines = WebDriverWait(driver, 10).until(\n",
    "            EC.presence_of_all_elements_located((By.CSS_SELECTOR, \".prw_rup.prw_airlines_airline_lander_card\"))\n",
    "        )\n",
    "        for airline in airlines:\n",
    "            name = airline.find_element(By.CSS_SELECTOR, \".airlineName\").text\n",
    "            review_link_element = airline.find_element(By.CSS_SELECTOR, \"a.review_button.ui_button.secondary.small\")\n",
    "            review_link = review_link_element.get_attribute(\"href\")\n",
    "            num_reviews = airline.find_element(By.CSS_SELECTOR, \".airlineReviews\").text\n",
    "            csv_writer.writerow([name, review_link, num_reviews])\n",
    "\n",
    "    except (NoSuchElementException, TimeoutException):\n",
    "        print(\"Error occurred while scraping.\")"
   ]
  },
  {
   "cell_type": "code",
   "execution_count": 64,
   "id": "560d34f2-1580-45ba-81d4-9a5c7cadd2e0",
   "metadata": {
    "tags": []
   },
   "outputs": [],
   "source": [
    "def main1():\n",
    "    driver = setup_webdriver()\n",
    "    driver.get(\"https://www.tripadvisor.com/Airlines\")\n",
    "    \n",
    "    with open('scraped_data.csv', 'w', newline='', encoding='utf-8') as csv_file:\n",
    "        csv_writer = csv.writer(csv_file)\n",
    "        csv_writer.writerow(['Airline Name', 'Review Link', 'Number of Reviews'])\n",
    "\n",
    "        page_number = 1\n",
    "        while True:\n",
    "            print(f\"Scraping page {page_number}...\")\n",
    "            scrape_page(driver, csv_writer)\n",
    "\n",
    "            try:\n",
    "                next_button = WebDriverWait(driver, 10).until(\n",
    "                    EC.element_to_be_clickable((By.CSS_SELECTOR, \"span.nav.next.ui_button.primary\"))\n",
    "                )\n",
    "                if \"disabled\" in next_button.get_attribute(\"class\"):\n",
    "                    print(\"Reached the last page.\")\n",
    "                    break\n",
    "\n",
    "                next_button.click()\n",
    "                WebDriverWait(driver, 10).until(EC.staleness_of(next_button))\n",
    "                page_number += 1\n",
    "                time.sleep(3)\n",
    "\n",
    "            except (NoSuchElementException, TimeoutException):\n",
    "                print(\"Reached the end of the pages or encountered an error.\")\n",
    "                break\n",
    "\n",
    "    driver.quit()"
   ]
  },
  {
   "cell_type": "code",
   "execution_count": 47,
   "id": "862746fe-9e0a-4f37-9568-60e0cda42cb2",
   "metadata": {
    "tags": []
   },
   "outputs": [
    {
     "name": "stdout",
     "output_type": "stream",
     "text": [
      "Scraping page 1...\n",
      "Scraping page 2...\n",
      "Scraping page 3...\n",
      "Scraping page 4...\n",
      "Scraping page 5...\n",
      "Scraping page 6...\n",
      "Scraping page 7...\n",
      "Scraping page 8...\n",
      "Scraping page 9...\n",
      "Scraping page 10...\n",
      "Scraping page 11...\n",
      "Scraping page 12...\n",
      "Scraping page 13...\n",
      "Error occurred while scraping.\n",
      "Scraping page 14...\n",
      "Scraping page 15...\n",
      "Scraping page 16...\n",
      "Scraping page 17...\n",
      "Scraping page 18...\n",
      "Scraping page 19...\n",
      "Scraping page 20...\n",
      "Error occurred while scraping.\n",
      "Scraping page 21...\n",
      "Scraping page 22...\n",
      "Scraping page 23...\n",
      "Scraping page 24...\n",
      "Scraping page 25...\n",
      "Scraping page 26...\n",
      "Scraping page 27...\n",
      "Error occurred while scraping.\n",
      "Scraping page 28...\n",
      "Scraping page 29...\n",
      "Scraping page 30...\n",
      "Scraping page 31...\n",
      "Scraping page 32...\n",
      "Error occurred while scraping.\n",
      "Scraping page 33...\n",
      "Scraping page 34...\n",
      "Scraping page 35...\n",
      "Scraping page 36...\n",
      "Scraping page 37...\n",
      "Scraping page 38...\n",
      "Scraping page 39...\n",
      "Scraping page 40...\n",
      "Error occurred while scraping.\n",
      "Scraping page 41...\n",
      "Scraping page 42...\n",
      "Error occurred while scraping.\n",
      "Scraping page 43...\n",
      "Scraping page 44...\n",
      "Scraping page 45...\n",
      "Scraping page 46...\n",
      "Scraping page 47...\n",
      "Scraping page 48...\n",
      "Scraping page 49...\n",
      "Scraping page 50...\n",
      "Scraping page 51...\n",
      "Scraping page 52...\n",
      "Scraping page 53...\n",
      "Scraping page 54...\n",
      "Scraping page 55...\n",
      "Scraping page 56...\n",
      "Scraping page 57...\n",
      "Scraping page 58...\n",
      "Scraping page 59...\n",
      "Scraping page 60...\n",
      "Scraping page 61...\n",
      "Scraping page 62...\n",
      "Scraping page 63...\n",
      "Reached the last page.\n"
     ]
    }
   ],
   "source": [
    "main1()"
   ]
  },
  {
   "cell_type": "markdown",
   "id": "f2c22b0f-d0c5-479b-8707-934358db7119",
   "metadata": {
    "jp-MarkdownHeadingCollapsed": true,
    "tags": []
   },
   "source": [
    "### ⚠️ Gather reviews for each airline (deprecated)"
   ]
  },
  {
   "cell_type": "code",
   "execution_count": 79,
   "id": "7cd36ea6-bae4-4ac4-b828-932231f775d8",
   "metadata": {
    "tags": []
   },
   "outputs": [],
   "source": [
    "def setup_webdriver():\n",
    "    while True:\n",
    "        user_agent = random.choice(user_agents)\n",
    "        print(f\"Using user agent: {user_agent}\")\n",
    "\n",
    "        proxy_choice = random.choice(free_proxies)\n",
    "        proxy_ip_port = f\"{proxy_choice['IP Address']}:{proxy_choice['Port']}\"\n",
    "        print(f\"Using proxy: {proxy_ip_port}\")\n",
    "\n",
    "        try:\n",
    "            chrome_options = uc.ChromeOptions()\n",
    "            chrome_options.add_argument(f'user-agent={user_agent}')\n",
    "            chrome_options.add_argument('--disable-blink-features=AutomationControlled')\n",
    "            chrome_options.add_argument(\"start-maximized\")\n",
    "            chrome_options.add_argument('--disable-dev-shm-usage')\n",
    "            chrome_options.add_argument('--no-sandbox')\n",
    "            # chrome_options.add_experimental_option(\"excludeSwitches\", [\"enable-automation\"])\n",
    "            # chrome_options.add_experimental_option('useAutomationExtension', False)\n",
    "            chrome_options.add_argument(f'--proxy-server={proxy_ip_port}')\n",
    "\n",
    "            driver = uc.Chrome(options=chrome_options)\n",
    "            time.sleep(1)\n",
    "            # driver.quit()\n",
    "            return driver\n",
    "        except Exception as e:\n",
    "            print(f\"Error setting up WebDriver: {e}\")\n",
    "            continue"
   ]
  },
  {
   "cell_type": "code",
   "execution_count": 80,
   "id": "6a8a33bf-885d-4f0a-8d0a-43c55ce228ba",
   "metadata": {
    "tags": []
   },
   "outputs": [],
   "source": [
    "review_elem_selector = 'lgfjP.Gi.z.pBVnE.MD.bZHZM'\n",
    "rating_elem_selector = 'div.WAllg._T > div.IkECb.f.O > div.Hlmiy.F1 > span'\n",
    "name_elem_selector = 'div.cRVSd > span > a'\n",
    "review_title_selector = 'div.WAllg._T > div.KgQgP.MC._S.b.S6.H5._a > a > span > span'\n",
    "review_tags_1_selector = 'div.WAllg._T > div.IkECb.f.O > div.tNvbV.f.Ng > div:nth-child(1)'\n",
    "review_tags_2_selector = 'div.WAllg._T > div.IkECb.f.O > div.tNvbV.f.Ng > div:nth-child(2)'\n",
    "review_tags_3_selector = 'div.WAllg._T > div.IkECb.f.O > div.tNvbV.f.Ng > div:nth-child(3)'\n",
    "review_text_selector = 'div.WAllg._T > div.vTVDc > div._T.FKffI.bmUTE > div.fIrGe._T > span'\n",
    "review_travel_date_selector = 'div.WAllg._T > div.vTVDc > div.Pq > span'"
   ]
  },
  {
   "cell_type": "code",
   "execution_count": 86,
   "id": "9c39af5e-653b-40f0-b18f-bb35f8f6df4e",
   "metadata": {
    "tags": []
   },
   "outputs": [],
   "source": [
    "def scrape_reviews(driver, url):\n",
    "    driver.get(url)\n",
    "    print(\"the url has been opened\")\n",
    "    time.sleep(5)\n",
    "\n",
    "    reviews = []\n",
    "    \n",
    "    review_elements = driver.find_elements(By.CLASS_NAME, review_elem_selector)\n",
    "    print(\"review elements found\")\n",
    "    print(review_elements)\n",
    "    for review_element in review_elements:\n",
    "        try:\n",
    "            rating = review_element.find_element(By.CSS_SELECTOR, rating_elem_selector).text\n",
    "            name = review_element.find_element(By.CSS_SELECTOR, name_elem_selector).text\n",
    "            review_title = review_element.find_element(By.CSS_SELECTOR, review_title_selector).text\n",
    "            tags_1 = review_element.find_element(By.CSS_SELECTOR, review_tags_1_selector).text\n",
    "            tags_2 = review_element.find_element(By.CSS_SELECTOR, review_tags_2_selector).text\n",
    "            tags_3 = review_element.find_element(By.CSS_SELECTOR, review_tags_3_selector).text\n",
    "            review_text = review_element.find_element(By.CSS_SELECTOR, review_text_selector).text\n",
    "            travel_date = review_element.find_element(By.CSS_SELECTOR, review_travel_date_selector).text\n",
    "\n",
    "            reviews.append({\n",
    "                \"rating\": rating,\n",
    "                \"name\": name,\n",
    "                \"review_title\": review_title,\n",
    "                \"tags_1\": tags_1,\n",
    "                \"tags_2\": tags_2,\n",
    "                \"tags_3\": tags_3,\n",
    "                \"review_text\": review_text,\n",
    "                \"travel_date\": travel_date\n",
    "            })\n",
    "        except Exception as e:\n",
    "            print(f\"Error: {e}\")\n",
    "\n",
    "    return reviews"
   ]
  },
  {
   "cell_type": "code",
   "execution_count": 87,
   "id": "6ce411e5-e3ab-4d82-b497-29a5859d95ce",
   "metadata": {
    "tags": []
   },
   "outputs": [],
   "source": [
    "\n",
    "def main2(url):\n",
    "    driver = setup_webdriver()\n",
    "    print(url)\n",
    "    \n",
    "    try:\n",
    "        print(\"started scraping reviews\")\n",
    "        reviews = scrape_reviews(driver, url)\n",
    "        with open('reviews.csv', 'w', newline='', encoding='utf-8') as file:\n",
    "            writer = csv.DictWriter(file, fieldnames = [\"rating\", \"name\", \"review_title\", \"tags\", \"tags_1\", \"tags_2\", \"tags_3\", \"review_text\", \"travel_date\"]\n",
    ")\n",
    "            writer.writeheader()\n",
    "            writer.writerows(reviews)\n",
    "\n",
    "    finally:\n",
    "        print(\"failed to open\")\n",
    "        driver.quit()"
   ]
  },
  {
   "cell_type": "code",
   "execution_count": 88,
   "id": "4f3d68a3-18b4-43da-b5fc-c2773825136c",
   "metadata": {
    "tags": []
   },
   "outputs": [
    {
     "name": "stdout",
     "output_type": "stream",
     "text": [
      "Using user agent: Mozilla/5.0 (Windows NT 10.0; Win64; x64) AppleWebKit/537.36 (KHTML, like Gecko) Chrome/108.0.0.0 Safari/537.36\n",
      "Using proxy: 167.172.238.15:10004\n",
      "https://www.tripadvisor.com/Airline_Review-d17550095-Reviews-Advanced-Air\n",
      "started scraping reviews\n",
      "the url has been opened\n",
      "review elements found\n",
      "[]\n",
      "failed to open\n"
     ]
    }
   ],
   "source": [
    "test_url = \"https://www.tripadvisor.com/Airline_Review-d17550095-Reviews-Advanced-Air\"\n",
    "main2(test_url)"
   ]
  },
  {
   "cell_type": "code",
   "execution_count": 78,
   "id": "cadfdbfa-61bf-42c1-9070-f449b8f29a3c",
   "metadata": {
    "tags": []
   },
   "outputs": [],
   "source": [
    "# test_url = \"https://www.tripadvisor.com/Airline_Review-d17550095-Reviews-Advanced-Air\"\n",
    "# service = ChromeService(ChromeDriverManager().install())\n",
    "# user_agent = random.choice(user_agents)\n",
    "# chrome_options = webdriver.ChromeOptions()\n",
    "# proxy_choice = random.choice(free_proxies)\n",
    "# proxy_ip_port = f\"{proxy_choice['IP Address']}:{proxy_choice['Port']}\"\n",
    "# print(f\"Using proxy: {proxy_ip_port}\")\n",
    "# chrome_options.add_argument(f'--proxy-server={proxy_ip_port}')\n",
    "# chrome_options.add_argument(f'user-agent={user_agent}')\n",
    "# chrome_options.add_argument('--disable-blink-features=AutomationControlled')\n",
    "# chrome_options.add_argument(\"start-maximized\")\n",
    "# chrome_options.add_argument('--disable-dev-shm-usage')\n",
    "# # chrome_options.add_argument('--no-sandbox')\n",
    "# chrome_options.add_experimental_option(\"excludeSwitches\", [\"enable-automation\"])\n",
    "# chrome_options.add_experimental_option('useAutomationExtension', False)\n",
    "# driver = webdriver.Chrome(service=service, options=chrome_options)\n",
    "# driver.get(test_url)\n",
    "# time.sleep(3)\n",
    "# # main2(test_url)\n",
    "# driver.quit()"
   ]
  },
  {
   "cell_type": "markdown",
   "id": "6645989f-2eb7-4e3d-a133-14560461ae30",
   "metadata": {},
   "source": [
    "### Gather each airline reviews "
   ]
  },
  {
   "cell_type": "code",
   "execution_count": null,
   "id": "f7c3a003-54c2-44d1-866f-aa7fc9ff4c3f",
   "metadata": {},
   "outputs": [],
   "source": []
  }
 ],
 "metadata": {
  "kernelspec": {
   "display_name": "torchenv",
   "language": "python",
   "name": "torchenv"
  },
  "language_info": {
   "codemirror_mode": {
    "name": "ipython",
    "version": 3
   },
   "file_extension": ".py",
   "mimetype": "text/x-python",
   "name": "python",
   "nbconvert_exporter": "python",
   "pygments_lexer": "ipython3",
   "version": "3.9.18"
  }
 },
 "nbformat": 4,
 "nbformat_minor": 5
}
